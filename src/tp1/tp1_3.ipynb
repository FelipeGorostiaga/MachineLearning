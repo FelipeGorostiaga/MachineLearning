{
 "cells": [
  {
   "cell_type": "markdown",
   "metadata": {},
   "source": [
    "## Admisión en la universidad"
   ]
  },
  {
   "cell_type": "code",
   "execution_count": 5,
   "metadata": {},
   "outputs": [],
   "source": [
    "import pandas as pd\n",
    "import numpy as np\n",
    "\n",
    "# import file\n",
    "df = pd.read_csv('../../res/tp1/binary.csv', sep=',') # columns: admit, gre, gpa, rank; 399 rows\n",
    "row_count = df.shape[0]\n",
    "rank_count = df['rank'].value_counts().sort_values()\n",
    "ranks = np.sort(rank_count.index.values)\n",
    "first_level_fields = {'gre': ['>= 500', '<  500'], 'gpa': ['>= 3', '<  3']}"
   ]
  },
  {
   "cell_type": "code",
   "execution_count": 6,
   "metadata": {},
   "outputs": [
    {
     "name": "stdout",
     "output_type": "stream",
     "text": [
      "Probability for each rank:\n",
      "1    0.153465\n",
      "4    0.168317\n",
      "3    0.301980\n",
      "2    0.376238\n",
      "Name: rank, dtype: float64\n",
      "\n",
      "GRE:\n",
      "     >= 500    <  500\n",
      "1  0.809524  0.190476\n",
      "2  0.810458  0.189542\n",
      "3  0.788618  0.211382\n",
      "4  0.782609  0.217391\n",
      "\n",
      "GPA:\n",
      "       >= 3      <  3\n",
      "1  0.857143  0.142857\n",
      "2  0.823529  0.176471\n",
      "3  0.829268  0.170732\n",
      "4  0.797101  0.202899\n"
     ]
    }
   ],
   "source": [
    "rank_probabilities = rank_count.apply(lambda x: (x + 1) / (row_count + len(ranks)))  # P(rank_i)\n",
    "print(f'Probability for each rank:\\n{rank_probabilities}')\n",
    "fields_rank_probabilities = {key: {} for key in first_level_fields.keys()} # {'gre':{}, 'gpa':{}}\n",
    "for rank in ranks:\n",
    "    rank_rows = df.query(f'rank == {rank}')\n",
    "    for field, rng in first_level_fields.items():\n",
    "        fields_rank_probabilities[field][rank] = []\n",
    "        upper_matching = rank_rows.query(f'{field} {rng[0]}') # e.g. 'gre >= 500'\n",
    "        # Chequear si es necesario Laplace\n",
    "        fields_rank_probabilities[field][rank].append((len(upper_matching) + 1) / (len(rank_rows) + 2)) # len(gre >= 500 and rank) / len(rank)\n",
    "        fields_rank_probabilities[field][rank].append((len(rank_rows) - len(upper_matching) + 1) / (len(rank_rows) + 2)) # gre < 500\n",
    "\n",
    "# {'gre': {1: [upper, lower], 2: [upper, lower], ...}, 'gpa': {1: [upper, lower], 2: [upper, lower], ...}}\n",
    "gre_table = pd.DataFrame.from_dict(fields_rank_probabilities['gre'], orient='index', columns=first_level_fields['gre'])\n",
    "gpa_table = pd.DataFrame.from_dict(fields_rank_probabilities['gpa'], orient='index', columns=first_level_fields['gpa'])\n",
    "print(f'\\nGRE:\\n{gre_table}')\n",
    "print(f'\\nGPA:\\n{gpa_table}')"
   ]
  },
  {
   "cell_type": "code",
   "execution_count": 7,
   "metadata": {},
   "outputs": [
    {
     "name": "stdout",
     "output_type": "stream",
     "text": [
      "Rank: 1; GRE: >= 500; GPA: >= 3; rows: 047; admission probability: 0.5510204081632653\n",
      "Rank: 1; GRE: >= 500; GPA: <  3; rows: 003; admission probability: 0.8\n",
      "Rank: 1; GRE: <  500; GPA: >= 3; rows: 006; admission probability: 0.5\n",
      "Rank: 1; GRE: <  500; GPA: <  3; rows: 005; admission probability: 0.2857142857142857\n",
      "Rank: 2; GRE: >= 500; GPA: >= 3; rows: 104; admission probability: 0.42452830188679247\n",
      "Rank: 2; GRE: >= 500; GPA: <  3; rows: 019; admission probability: 0.19047619047619047\n",
      "Rank: 2; GRE: <  500; GPA: >= 3; rows: 021; admission probability: 0.21739130434782608\n",
      "Rank: 2; GRE: <  500; GPA: <  3; rows: 007; admission probability: 0.4444444444444444\n",
      "Rank: 3; GRE: >= 500; GPA: >= 3; rows: 085; admission probability: 0.25287356321839083\n",
      "Rank: 3; GRE: >= 500; GPA: <  3; rows: 011; admission probability: 0.38461538461538464\n",
      "Rank: 3; GRE: <  500; GPA: >= 3; rows: 016; admission probability: 0.2222222222222222\n",
      "Rank: 3; GRE: <  500; GPA: <  3; rows: 009; admission probability: 0.09090909090909091\n",
      "Rank: 4; GRE: >= 500; GPA: >= 3; rows: 044; admission probability: 0.21739130434782608\n",
      "Rank: 4; GRE: >= 500; GPA: <  3; rows: 009; admission probability: 0.18181818181818182\n",
      "Rank: 4; GRE: <  500; GPA: >= 3; rows: 010; admission probability: 0.25\n",
      "Rank: 4; GRE: <  500; GPA: <  3; rows: 004; admission probability: 0.16666666666666666\n",
      "\n",
      "Admissions:\n",
      "                                              1         0\n",
      "rank == 1 and gre >= 500 and gpa >= 3  0.551020  0.448980\n",
      "rank == 1 and gre >= 500 and gpa <  3  0.800000  0.200000\n",
      "rank == 1 and gre <  500 and gpa >= 3  0.500000  0.500000\n",
      "rank == 1 and gre <  500 and gpa <  3  0.285714  0.714286\n",
      "rank == 2 and gre >= 500 and gpa >= 3  0.424528  0.575472\n",
      "rank == 2 and gre >= 500 and gpa <  3  0.190476  0.809524\n",
      "rank == 2 and gre <  500 and gpa >= 3  0.217391  0.782609\n",
      "rank == 2 and gre <  500 and gpa <  3  0.444444  0.555556\n",
      "rank == 3 and gre >= 500 and gpa >= 3  0.252874  0.747126\n",
      "rank == 3 and gre >= 500 and gpa <  3  0.384615  0.615385\n",
      "rank == 3 and gre <  500 and gpa >= 3  0.222222  0.777778\n",
      "rank == 3 and gre <  500 and gpa <  3  0.090909  0.909091\n",
      "rank == 4 and gre >= 500 and gpa >= 3  0.217391  0.782609\n",
      "rank == 4 and gre >= 500 and gpa <  3  0.181818  0.818182\n",
      "rank == 4 and gre <  500 and gpa >= 3  0.250000  0.750000\n",
      "rank == 4 and gre <  500 and gpa <  3  0.166667  0.833333\n"
     ]
    }
   ],
   "source": [
    "# Necesitamos P(admit | rank, GRE, GPA) y probabilidad conjunta P(X1, X2, ..., Xn)\n",
    "\n",
    "admission_probabilities = {}\n",
    "for rank in ranks:\n",
    "    # gre_row = gre_table.loc[rank]\n",
    "    # gpa_row = gpa_table.loc[rank]\n",
    "    for gre_class in gre_table.columns:\n",
    "        # p_gre = gre_row[gre_class]\n",
    "        for gpa_class in gpa_table.columns:\n",
    "            row_criteria = f'rank == {rank} and gre {gre_class} and gpa {gpa_class}'\n",
    "            criteria_rows = df.query(row_criteria)\n",
    "            row_criteria_admissions = criteria_rows[criteria_rows.admit == 1]\n",
    "            admission_probabilities[row_criteria] = []\n",
    "            # Laplace!\n",
    "            admission_probabilities[row_criteria].append((len(row_criteria_admissions) + 1) / (len(criteria_rows) + 2))\n",
    "            admission_probabilities[row_criteria].append((len(criteria_rows) - len(row_criteria_admissions) + 1) / (len(criteria_rows) + 2))\n",
    "            # p_gpa = gpa_row[gpa_class]\n",
    "            # p = p_gre * p_gpa\n",
    "            # admission_probabilities[row_criteria].append(p)\n",
    "            print(f'Rank: {rank}; GRE: {gre_class}; GPA: {gpa_class}; rows: {len(criteria_rows):03}; admission probability: {admission_probabilities[row_criteria][0]}')\n",
    "\n",
    "admission_table = pd.DataFrame.from_dict(admission_probabilities, orient='index', columns=['1', '0'])\n",
    "print(f'\\nAdmissions:\\n{admission_table}')"
   ]
  },
  {
   "cell_type": "code",
   "execution_count": 10,
   "metadata": {},
   "outputs": [
    {
     "name": "stdout",
     "output_type": "stream",
     "text": [
      "La probabilidad de que una persona que fue a una escuela de rango 2, tenga GRE = 450 y GPA = 3.5 sea admitida en la universidad es de 21.739 %\n"
     ]
    }
   ],
   "source": [
    "def admission_probability(person):\n",
    "    # person['gre'] = '>= 500' if person['gre'] >= 500 else '<  500'\n",
    "    # person['gpa'] = '>= 3' if person['gpa'] >= 3 else '<  3'\n",
    "    # rank_prob = rank_probabilities.loc[person['rank']]\n",
    "    gre_index = 0 if person['gre'] >= 500 else 1\n",
    "    gpa_index = 0 if person['gpa'] >= 3 else 1\n",
    "    gre_prob = gre_table.loc[person['rank']].values[gre_index]\n",
    "    gpa_prob = gpa_table.loc[person['rank']].values[gpa_index]\n",
    "    cond = f'rank == {person[\"rank\"]} and gre {first_level_fields[\"gre\"][gre_index]} and gpa {first_level_fields[\"gpa\"][gpa_index]}'\n",
    "    admission_prob = admission_table.loc[cond]\n",
    "    # conj_prob = rank_prob * gre_prob * gpa_prob * admission_prob.values[0]\n",
    "    # print(conj_prob)\n",
    "    print(f'La probabilidad de que una persona que fue a una escuela de rango 2, tenga GRE = 450 y GPA = 3.5 sea admitida en la universidad es de {(admission_prob.values[0] * 100):.5} %')\n",
    "    # print(f'{rank_prob} {gre_prob} {gpa_prob}')\n",
    "\n",
    "person = {'rank': 2, 'gre': 450, 'gpa': 3.5}\n",
    "admission_probability(person)"
   ]
  },
  {
   "cell_type": "code",
   "execution_count": 15,
   "metadata": {},
   "outputs": [
    {
     "name": "stdout",
     "output_type": "stream",
     "text": [
      "La probabilidad de que una persona que proviene de una escuela con rango 1 no haya sido admitida en la universidad es de 43.574 %\n",
      "La probabilidad de que una persona que proviene de una escuela con rango 2 no haya sido admitida en la universidad es de 64.061 %\n",
      "La probabilidad de que una persona que proviene de una escuela con rango 3 no haya sido admitida en la universidad es de 74.061 %\n",
      "La probabilidad de que una persona que proviene de una escuela con rango 4 no haya sido admitida en la universidad es de 78.484 %\n"
     ]
    }
   ],
   "source": [
    "# P(admit = 0 | rank = 1)\n",
    "#   = P(admit, rank) / P(rank) \n",
    "#   = ∑_gre ∑_gpa P(admit, gre, gpa, rank) \n",
    "#   = ∑_gre ∑_gpa P(admit | gre, gpa, rank) * P(gre | rank) * P(gpa | rank) * P(rank)\n",
    "\n",
    "def non_admission_probability(rank):\n",
    "    suma = 0\n",
    "    for gre_rng in first_level_fields['gre']:\n",
    "        gre_prob = gre_table.loc[rank][gre_rng] # P('gre' = X | 'rank' = rank)\n",
    "        for gpa_rng in first_level_fields['gpa']:\n",
    "            gpa_prob = gpa_table.loc[rank][gpa_rng] # P('gpa' = Y | 'rank' = rank)\n",
    "            criteria = f'rank == {rank} and gre {gre_rng} and gpa {gpa_rng}'\n",
    "            non_admission_prob = admission_table.loc[criteria].values[1] # P(admit = 0 | 'gre' = X, 'gpa' = Y, 'rank' = rank)\n",
    "            # print(non_admission_prob)\n",
    "            suma += gre_prob * gpa_prob * non_admission_prob * rank_probabilities.loc[rank]\n",
    "    suma /= rank_probabilities.loc[rank]\n",
    "    print(f'La probabilidad de que una persona que proviene de una escuela con rango {rank} no haya sido admitida en la universidad es de {(suma * 100):.5} %')\n",
    "\n",
    "non_admission_probability(1)\n",
    "non_admission_probability(2)\n",
    "non_admission_probability(3)\n",
    "non_admission_probability(4)"
   ]
  },
  {
   "cell_type": "markdown",
   "metadata": {},
   "source": [
    "### ¿Dónde está el aprendizaje?\n",
    "En este ejercicio, el aprendizaje compre únicamente la etapa de aprendizaje paramétrico, ya que la estructura de la red nos es dada y por lo tanto no hace falta inferirla mediante algoritmos como K2. Dado un conjunto de entrenamiento (la \"experiencia\") se obtuvieron distintas probabilidades (a priori y condicionales) con el fin de evaluar el comportamiento y lo que infieren dichos datos. En base a lo que se quiera calcular, se implementaron distintas funciones o tareas con ese mismo fin. Si aumentaran la cantidad de registros, el programa se adaptaría a dichos cambios."
   ]
  }
 ],
 "metadata": {
  "kernelspec": {
   "display_name": "Python 3",
   "language": "python",
   "name": "python3"
  },
  "language_info": {
   "codemirror_mode": {
    "name": "ipython",
    "version": 3
   },
   "file_extension": ".py",
   "mimetype": "text/x-python",
   "name": "python",
   "nbconvert_exporter": "python",
   "pygments_lexer": "ipython3",
   "version": "3.8.3"
  }
 },
 "nbformat": 4,
 "nbformat_minor": 5
}
