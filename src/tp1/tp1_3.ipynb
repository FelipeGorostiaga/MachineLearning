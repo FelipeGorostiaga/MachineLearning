{
 "cells": [
  {
   "cell_type": "markdown",
   "id": "secure-divorce",
   "metadata": {},
   "source": [
    "## Admisión en la universidad"
   ]
  },
  {
   "cell_type": "code",
   "execution_count": 12,
   "id": "inside-salon",
   "metadata": {},
   "outputs": [],
   "source": [
    "import pandas as pd\n",
    "import numpy as np\n",
    "\n",
    "# import file\n",
    "df = pd.read_csv('../../res/tp1/binary.csv', sep=',') # columns: admit, gre, gpa, rank; 399 rows\n",
    "row_count = df.shape[0]\n",
    "rank_count = df['rank'].value_counts().sort_values()\n",
    "ranks = np.sort(rank_count.index.values)\n",
    "first_level_fields = {'gre': '>= 500', 'gpa': '>= 3'}"
   ]
  },
  {
   "cell_type": "code",
   "execution_count": 13,
   "id": "smart-convert",
   "metadata": {},
   "outputs": [
    {
     "name": "stdout",
     "output_type": "stream",
     "text": [
      "Probability for each rank:\n",
      "1    0.153465\n",
      "4    0.168317\n",
      "3    0.301980\n",
      "2    0.376238\n",
      "Name: rank, dtype: float64\n",
      "\n",
      "GRE:\n",
      "     >= 500     < 500\n",
      "1  0.819672  0.180328\n",
      "2  0.814570  0.185430\n",
      "3  0.793388  0.206612\n",
      "4  0.791045  0.208955\n",
      "\n",
      "GPA:\n",
      "       >= 3       < 3\n",
      "1  0.868852  0.131148\n",
      "2  0.827815  0.172185\n",
      "3  0.834711  0.165289\n",
      "4  0.805970  0.194030\n"
     ]
    }
   ],
   "source": [
    "rank_probabilities = rank_count.apply(lambda x: (x + 1) / (row_count + len(ranks)))\n",
    "print(f'Probability for each rank:\\n{rank_probabilities}')\n",
    "fields_rank_probabilities = {key: {} for key in first_level_fields.keys()} # {'gre':{}, 'gpa':{}}\n",
    "for rank in ranks:\n",
    "    rank_rows = df.query(f'rank == {rank}')\n",
    "    for field, rng in first_level_fields.items():\n",
    "        fields_rank_probabilities[field][rank] = []\n",
    "        upper_matching = rank_rows.query(f'{field} {rng}') # e.g. 'gre >= 500'\n",
    "        fields_rank_probabilities[field][rank].append(len(upper_matching) / len(rank_rows)) # len(gre >= 500 and rank) / len(rank)\n",
    "        fields_rank_probabilities[field][rank].append((len(rank_rows) - len(upper_matching)) / len(rank_rows)) # gre < 500\n",
    "\n",
    "gre_table = pd.DataFrame.from_dict(fields_rank_probabilities['gre'], orient='index', columns=['>= 500', '< 500'])\n",
    "gpa_table = pd.DataFrame.from_dict(fields_rank_probabilities['gpa'], orient='index', columns=['>= 3', '< 3'])\n",
    "print(f'\\nGRE:\\n{gre_table}')\n",
    "print(f'\\nGPA:\\n{gpa_table}')"
   ]
  }
 ],
 "metadata": {
  "kernelspec": {
   "display_name": "Python 3",
   "language": "python",
   "name": "python3"
  },
  "language_info": {
   "codemirror_mode": {
    "name": "ipython",
    "version": 3
   },
   "file_extension": ".py",
   "mimetype": "text/x-python",
   "name": "python",
   "nbconvert_exporter": "python",
   "pygments_lexer": "ipython3",
   "version": "3.8.6"
  }
 },
 "nbformat": 4,
 "nbformat_minor": 5
}
