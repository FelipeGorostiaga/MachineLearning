{
 "cells": [
  {
   "cell_type": "markdown",
   "id": "incorporated-stylus",
   "metadata": {},
   "source": [
    "## Admisión en la universidad"
   ]
  },
  {
   "cell_type": "code",
   "execution_count": 90,
   "id": "understood-debut",
   "metadata": {},
   "outputs": [],
   "source": [
    "import pandas as pd\n",
    "import numpy as np\n",
    "\n",
    "# import file\n",
    "df = pd.read_csv('../../res/tp1/binary.csv', sep=',') # columns: admit, gre, gpa, rank; 399 rows\n",
    "row_count = df.shape[0]\n",
    "rank_count = df['rank'].value_counts().sort_values()\n",
    "ranks = np.sort(rank_count.index.values)\n",
    "upper_gre_total = df[df.gre >= 500]\n",
    "lower_gre_total = df[df.gre < 500]\n",
    "upper_gpa_total = df[df.gpa >= 3]\n",
    "lower_gpa_total = df[df.gpa < 3]"
   ]
  },
  {
   "cell_type": "code",
   "execution_count": 91,
   "id": "random-myrtle",
   "metadata": {},
   "outputs": [
    {
     "name": "stdout",
     "output_type": "stream",
     "text": [
      "1    0.153465\n",
      "4    0.168317\n",
      "3    0.301980\n",
      "2    0.376238\n",
      "Name: rank, dtype: float64\n",
      "{1: [0.819672131147541, 0.18032786885245902], 2: [0.8145695364238411, 0.18543046357615894], 3: [0.7933884297520661, 0.2066115702479339], 4: [0.7910447761194029, 0.208955223880597]}\n",
      "{1: [0.8688524590163934, 0.13114754098360656], 2: [0.8278145695364238, 0.17218543046357615], 3: [0.8347107438016529, 0.1652892561983471], 4: [0.8059701492537313, 0.19402985074626866]}\n",
      "     >= 500     < 500\n",
      "1  0.819672  0.180328\n",
      "2  0.814570  0.185430\n",
      "3  0.793388  0.206612\n",
      "4  0.791045  0.208955\n",
      "       >= 3       < 3\n",
      "1  0.868852  0.131148\n",
      "2  0.827815  0.172185\n",
      "3  0.834711  0.165289\n",
      "4  0.805970  0.194030\n"
     ]
    }
   ],
   "source": [
    "rank_probabilities = rank_count.apply(lambda x: (x + 1) / (row_count + len(ranks)))\n",
    "print(rank_probabilities)\n",
    "gre_rank_probabilities = {}\n",
    "gpa_rank_probabilities = {}\n",
    "for rank in ranks:\n",
    "    rank_rows = df.query(f'rank == {rank}')\n",
    "    gre_rank_probabilities[rank] = []\n",
    "    gpa_rank_probabilities[rank] = []\n",
    "    upper_gre = rank_rows[rank_rows.gre >= 500]\n",
    "    # lower_gre = rank_rows[rank_rows.gre < 500]\n",
    "    gre_rank_probabilities[rank].append(len(upper_gre) / len(rank_rows))\n",
    "    gre_rank_probabilities[rank].append((len(rank_rows) - len(upper_gre)) / len(rank_rows))\n",
    "    upper_gpa = rank_rows[rank_rows.gpa >= 3]\n",
    "    # lower_gpa = rank_rows[rank_rows.gre < 3]\n",
    "    gpa_rank_probabilities[rank].append(len(upper_gpa) / len(rank_rows))\n",
    "    gpa_rank_probabilities[rank].append((len(rank_rows) - len(upper_gpa)) / len(rank_rows))\n",
    "\n",
    "print(gre_rank_probabilities)\n",
    "print(gpa_rank_probabilities)\n",
    "gre_table = pd.DataFrame.from_dict(gre_rank_probabilities, orient='index', columns=['>= 500', '< 500'])\n",
    "gpa_table = pd.DataFrame.from_dict(gpa_rank_probabilities, orient='index', columns=['>= 3', '< 3'])\n",
    "print(gre_table)\n",
    "print(gpa_table)"
   ]
  },
  {
   "cell_type": "code",
   "execution_count": null,
   "id": "linear-geography",
   "metadata": {},
   "outputs": [],
   "source": []
  }
 ],
 "metadata": {
  "kernelspec": {
   "display_name": "Python 3",
   "language": "python",
   "name": "python3"
  },
  "language_info": {
   "codemirror_mode": {
    "name": "ipython",
    "version": 3
   },
   "file_extension": ".py",
   "mimetype": "text/x-python",
   "name": "python",
   "nbconvert_exporter": "python",
   "pygments_lexer": "ipython3",
   "version": "3.8.6"
  }
 },
 "nbformat": 4,
 "nbformat_minor": 5
}
