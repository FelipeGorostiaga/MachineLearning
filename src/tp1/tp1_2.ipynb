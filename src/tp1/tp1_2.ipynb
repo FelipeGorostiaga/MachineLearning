{
 "cells": [
  {
   "cell_type": "markdown",
   "id": "parliamentary-generator",
   "metadata": {},
   "source": [
    "## Clasificador de Noticias Argentinas "
   ]
  },
  {
   "cell_type": "code",
   "execution_count": 23,
   "id": "interesting-dating",
   "metadata": {},
   "outputs": [],
   "source": [
    "import pandas as pd\n",
    "\n",
    "df = pd.read_excel('../../res/tp1/Noticias_argentinas.xlsx', sheet_name='aa_bayes')"
   ]
  },
  {
   "cell_type": "code",
   "execution_count": 24,
   "id": "reduced-talent",
   "metadata": {},
   "outputs": [
    {
     "data": {
      "text/html": [
       "<div>\n",
       "<style scoped>\n",
       "    .dataframe tbody tr th:only-of-type {\n",
       "        vertical-align: middle;\n",
       "    }\n",
       "\n",
       "    .dataframe tbody tr th {\n",
       "        vertical-align: top;\n",
       "    }\n",
       "\n",
       "    .dataframe thead th {\n",
       "        text-align: right;\n",
       "    }\n",
       "</style>\n",
       "<table border=\"1\" class=\"dataframe\">\n",
       "  <thead>\n",
       "    <tr style=\"text-align: right;\">\n",
       "      <th></th>\n",
       "      <th>titular</th>\n",
       "      <th>categoria</th>\n",
       "    </tr>\n",
       "  </thead>\n",
       "  <tbody>\n",
       "    <tr>\n",
       "      <th>0</th>\n",
       "      <td>Trabajadores del Buenos Aires Design cortan la...</td>\n",
       "      <td>Nacional</td>\n",
       "    </tr>\n",
       "    <tr>\n",
       "      <th>1</th>\n",
       "      <td>La boda del gobernador Gerardo Morales: tapas ...</td>\n",
       "      <td>Nacional</td>\n",
       "    </tr>\n",
       "    <tr>\n",
       "      <th>2</th>\n",
       "      <td>Cumbre del G20: qué calles estarán cortadas y ...</td>\n",
       "      <td>Nacional</td>\n",
       "    </tr>\n",
       "    <tr>\n",
       "      <th>3</th>\n",
       "      <td>Una fractura que confirma la candidatura de Cr...</td>\n",
       "      <td>Nacional</td>\n",
       "    </tr>\n",
       "    <tr>\n",
       "      <th>4</th>\n",
       "      <td>Infierno grande: ola de divorcios en un pueblo...</td>\n",
       "      <td>Nacional</td>\n",
       "    </tr>\n",
       "  </tbody>\n",
       "</table>\n",
       "</div>"
      ],
      "text/plain": [
       "                                             titular categoria\n",
       "0  Trabajadores del Buenos Aires Design cortan la...  Nacional\n",
       "1  La boda del gobernador Gerardo Morales: tapas ...  Nacional\n",
       "2  Cumbre del G20: qué calles estarán cortadas y ...  Nacional\n",
       "3  Una fractura que confirma la candidatura de Cr...  Nacional\n",
       "4  Infierno grande: ola de divorcios en un pueblo...  Nacional"
      ]
     },
     "execution_count": 24,
     "metadata": {},
     "output_type": "execute_result"
    }
   ],
   "source": [
    "# Nos quedamos con los atributos de interes\n",
    "\n",
    "df = df[[\"titular\", \"categoria\"]]\n",
    "\n",
    "# removemos las categorias que no necesitamos ('Destacadas', 'Noticias Destacadas')\n",
    "\n",
    "\n",
    "df.head()"
   ]
  },
  {
   "cell_type": "code",
   "execution_count": 25,
   "id": "funky-rebate",
   "metadata": {},
   "outputs": [
    {
     "name": "stdout",
     "output_type": "stream",
     "text": [
      "['Nacional' 'Deportes' 'Salud' 'Ciencia y Tecnologia' 'Entretenimiento'\n",
      " 'Economia' 'Internacional']\n"
     ]
    }
   ],
   "source": [
    "df = df.loc[df['categoria'].isin((\"Nacional\", \"Economia\", \"Internacional\", \"Deportes\", \"Salud\", \"Ciencia y Tecnologia\", \"Entretenimiento\"))]\n",
    "df.head()\n",
    "categories = df['categoria'].unique()\n",
    "print(categories)\n"
   ]
  },
  {
   "cell_type": "code",
   "execution_count": 26,
   "id": "aware-scoop",
   "metadata": {},
   "outputs": [
    {
     "data": {
      "text/plain": [
       "Nacional                3860\n",
       "Ciencia y Tecnologia    3856\n",
       "Deportes                3855\n",
       "Entretenimiento         3850\n",
       "Internacional           3850\n",
       "Economia                3850\n",
       "Salud                   3840\n",
       "Name: categoria, dtype: int64"
      ]
     },
     "execution_count": 26,
     "metadata": {},
     "output_type": "execute_result"
    }
   ],
   "source": [
    "df['categoria'].value_counts()"
   ]
  },
  {
   "cell_type": "code",
   "execution_count": 27,
   "id": "proof-addiction",
   "metadata": {},
   "outputs": [
    {
     "data": {
      "text/html": [
       "<div>\n",
       "<style scoped>\n",
       "    .dataframe tbody tr th:only-of-type {\n",
       "        vertical-align: middle;\n",
       "    }\n",
       "\n",
       "    .dataframe tbody tr th {\n",
       "        vertical-align: top;\n",
       "    }\n",
       "\n",
       "    .dataframe thead th {\n",
       "        text-align: right;\n",
       "    }\n",
       "</style>\n",
       "<table border=\"1\" class=\"dataframe\">\n",
       "  <thead>\n",
       "    <tr style=\"text-align: right;\">\n",
       "      <th></th>\n",
       "      <th>titular</th>\n",
       "      <th>categoria</th>\n",
       "    </tr>\n",
       "  </thead>\n",
       "  <tbody>\n",
       "    <tr>\n",
       "      <th>24408</th>\n",
       "      <td>La desgarradora historia detrás del femicidio ...</td>\n",
       "      <td>Nacional</td>\n",
       "    </tr>\n",
       "    <tr>\n",
       "      <th>2549</th>\n",
       "      <td>Habló la mejor amiga de Alicia Muñiz: 'Ella lo...</td>\n",
       "      <td>Entretenimiento</td>\n",
       "    </tr>\n",
       "    <tr>\n",
       "      <th>17244</th>\n",
       "      <td>Más de 600 mil niños todavía no se vacunaron c...</td>\n",
       "      <td>Salud</td>\n",
       "    </tr>\n",
       "    <tr>\n",
       "      <th>16289</th>\n",
       "      <td>Ahora podrá tener WhatsApp en dos dispositivos...</td>\n",
       "      <td>Ciencia y Tecnologia</td>\n",
       "    </tr>\n",
       "    <tr>\n",
       "      <th>16784</th>\n",
       "      <td>Matías Martin confirmó la desvinculación de Ca...</td>\n",
       "      <td>Entretenimiento</td>\n",
       "    </tr>\n",
       "  </tbody>\n",
       "</table>\n",
       "</div>"
      ],
      "text/plain": [
       "                                                 titular             categoria\n",
       "24408  La desgarradora historia detrás del femicidio ...              Nacional\n",
       "2549   Habló la mejor amiga de Alicia Muñiz: 'Ella lo...       Entretenimiento\n",
       "17244  Más de 600 mil niños todavía no se vacunaron c...                 Salud\n",
       "16289  Ahora podrá tener WhatsApp en dos dispositivos...  Ciencia y Tecnologia\n",
       "16784  Matías Martin confirmó la desvinculación de Ca...       Entretenimiento"
      ]
     },
     "execution_count": 27,
     "metadata": {},
     "output_type": "execute_result"
    }
   ],
   "source": [
    "from sklearn.model_selection import train_test_split\n",
    "\n",
    "# Separar los datos en datos de entrenamiento y testeo\n",
    "train, test = train_test_split(df, test_size=0.2)\n",
    "train.head()\n",
    "test.head()"
   ]
  },
  {
   "cell_type": "code",
   "execution_count": 28,
   "id": "known-hollywood",
   "metadata": {},
   "outputs": [],
   "source": [
    "import re # regular expressions\n",
    "\n",
    "def split_and_sanitize(title):\n",
    "    words = title.split()  # se separan las palabras según espacios (quita todos los espacios)\n",
    "    words = list(map(lambda x: re.sub(\"[^\\w\\s]\", '', x).lower(), words))  # reemplazo de símbolos por ningún caracter\n",
    "    words = list(filter(lambda x: len(x) > 1 and x not in ['en', 'la', 'el', 'los', 'lo', 'las', 'un', 'una', 'unos', 'unas', 'de', 'del', 'se', 'para', 'que'], words))\n",
    "    return words\n",
    "\n",
    "# Crear diccionario de categorias con diccionarios vacios para las palabras de los titulares\n",
    "categories_word_appearances = { cat : {} for cat in categories }\n",
    "\n",
    "# Contamos las apariciones de las palabras en las distintas categorías\n",
    "for i in range(len(train)):\n",
    "    row = train.iloc[i]\n",
    "    category = row['categoria']\n",
    "    title = row['titular']\n",
    "    words = split_and_sanitize(title)\n",
    "\n",
    "    for word in words:\n",
    "        if word in categories_word_appearances[category]:\n",
    "            categories_word_appearances[category][word] += 1\n",
    "        else:\n",
    "            categories_word_appearances[category][word] = 1"
   ]
  },
  {
   "cell_type": "code",
   "execution_count": 29,
   "id": "inner-astronomy",
   "metadata": {},
   "outputs": [
    {
     "name": "stdout",
     "output_type": "stream",
     "text": [
      "61\n",
      "['corrientes', 'logró', 'cobertura', 'total', 'campaña', 'sarampión', 'rubéola']\n"
     ]
    }
   ],
   "source": [
    "print(categories_word_appearances['Entretenimiento']['pampita'])\n",
    "print(words[0:10])"
   ]
  },
  {
   "cell_type": "code",
   "execution_count": 30,
   "id": "legendary-tamil",
   "metadata": {},
   "outputs": [
    {
     "name": "stdout",
     "output_type": "stream",
     "text": [
      "Economia                0.145261\n",
      "Ciencia y Tecnologia    0.143639\n",
      "Salud                   0.143314\n",
      "Deportes                0.142758\n",
      "Nacional                0.142155\n",
      "Internacional           0.141970\n",
      "Entretenimiento         0.140903\n",
      "Name: categoria, dtype: float64\n"
     ]
    }
   ],
   "source": [
    "# Calcular probabilidades de las clases P(category) para el conjunto de entrenamiento\n",
    "\n",
    "category_relative_freq = train['categoria'].value_counts() / len(train)  # P(category)\n",
    "print(category_relative_freq)\n",
    "\n",
    "# Calcular las probabilidades condicionales P(word | category)\n",
    "word_relative_frequencies = { cat : {} for cat in categories }\n",
    "zero_probabilities = { cat : 0 for cat in categories }\n",
    "for category in categories:\n",
    "    word_appearances_sum = sum(categories_word_appearances[category].values())  # suma de todas las apariciones de todas las palabras de la categoría\n",
    "    laplace_denominator = float(word_appearances_sum + len(categories_word_appearances[category].keys()))  # Por Laplace le sumo la cantidad de clases\n",
    "    for word, word_count in categories_word_appearances[category].items():\n",
    "        word_relative_frequencies[category][word] = (word_count + 1) / laplace_denominator\n",
    "    \n",
    "    zero_probabilities[category] = 1 / laplace_denominator  # Ajuste de Laplace cuando no existe la palabra en la categoría\n",
    "\n",
    "# Objetivo final:\n",
    "#   P (category | [word])\n",
    "# = P ([word] | category) * P (category)      ##  / P ([word])\n",
    "# = prod(P (word | category)) * P (category)"
   ]
  },
  {
   "cell_type": "code",
   "execution_count": 31,
   "id": "practical-houston",
   "metadata": {},
   "outputs": [
    {
     "name": "stdout",
     "output_type": "stream",
     "text": [
      "0.00187657011410757\n",
      "0.999999999999975\n"
     ]
    }
   ],
   "source": [
    "print(word_relative_frequencies['Entretenimiento']['pampita'])\n",
    "print(sum(word_relative_frequencies['Entretenimiento'].values()))"
   ]
  },
  {
   "cell_type": "code",
   "execution_count": 32,
   "id": "regular-howard",
   "metadata": {},
   "outputs": [
    {
     "name": "stdout",
     "output_type": "stream",
     "text": [
      "La noticia 'Pampita fue a la mesa de Mirtha' pertenece a Entretenimiento\n",
      "La noticia 'Messi metió un gol' pertenece a Deportes\n",
      "La noticia 'Apple lanzó un nuevo iPhone' pertenece a Ciencia y Tecnologia\n"
     ]
    }
   ],
   "source": [
    "def classify(title):\n",
    "    words = split_and_sanitize(title)\n",
    "    vs = {}\n",
    "    for category in categories:\n",
    "        v = category_relative_freq.loc[category]  # P(category)\n",
    "        for word in words:\n",
    "            if word in word_relative_frequencies[category]:\n",
    "                v *= word_relative_frequencies[category][word]  # P(word | category)\n",
    "            else:\n",
    "                v *= zero_probabilities[category]  # Laplace\n",
    "        vs[category] = v\n",
    "    mx = (None, 0)  # A partir de esta línea se elije el valor máximo. Más adelante se convierte a probabilidad\n",
    "    for category, v in vs.items():\n",
    "        if v > mx[1]:\n",
    "            mx = (category, v)\n",
    "    return mx[0]\n",
    "\n",
    "noticia = 'Pampita fue a la mesa de Mirtha'\n",
    "print(f\"La noticia '{noticia}' pertenece a {classify(noticia)}\")\n",
    "noticia = 'Messi metió un gol'\n",
    "print(f\"La noticia '{noticia}' pertenece a {classify(noticia)}\")\n",
    "noticia = 'Apple lanzó un nuevo iPhone'\n",
    "print(f\"La noticia '{noticia}' pertenece a {classify(noticia)}\")"
   ]
  },
  {
   "cell_type": "code",
   "execution_count": 33,
   "id": "engaging-papua",
   "metadata": {},
   "outputs": [
    {
     "data": {
      "text/plain": [
       "<AxesSubplot:>"
      ]
     },
     "execution_count": 33,
     "metadata": {},
     "output_type": "execute_result"
    },
    {
     "data": {
      "image/png": "[encoded data removed]",
      "text/plain": [
       "<Figure size 432x288 with 2 Axes>"
      ]
     },
     "metadata": {
      "needs_background": "light"
     },
     "output_type": "display_data"
    }
   ],
   "source": [
    "import seaborn as sns\n",
    "\n",
    "# Armado de matriz de confusión (filas: valores reales; columnas: valores predictivos)\n",
    "confusion_matrix = { cat : {} for cat in categories }\n",
    "columns = []\n",
    "for key in confusion_matrix.keys():\n",
    "    columns.append(key)\n",
    "    confusion_matrix[key] = { cat : 0 for cat in categories } # {'Deportes': {'Deportes': 700, 'Entretenimiento': 3, ...}, ...}\n",
    "\n",
    "for i in range(len(test)):\n",
    "    row = test.iloc[i]\n",
    "    category = row['categoria']\n",
    "    title = row['titular']\n",
    "    result = classify(title)\n",
    "    confusion_matrix[category][result] += 1\n",
    "\n",
    "confusion_df = { key : list(confusion_matrix[key].values()) for key in confusion_matrix.keys() }\n",
    "confusion_df = pd.DataFrame.from_dict(confusion_df, orient='index', columns=columns)\n",
    "\n",
    "sns.heatmap(confusion_df, annot=True, cmap='Blues', fmt='g')"
   ]
  },
  {
   "cell_type": "code",
   "execution_count": 34,
   "id": "general-strike",
   "metadata": {},
   "outputs": [
    {
     "data": {
      "text/html": [
       "<div>\n",
       "<style scoped>\n",
       "    .dataframe tbody tr th:only-of-type {\n",
       "        vertical-align: middle;\n",
       "    }\n",
       "\n",
       "    .dataframe tbody tr th {\n",
       "        vertical-align: top;\n",
       "    }\n",
       "\n",
       "    .dataframe thead th {\n",
       "        text-align: right;\n",
       "    }\n",
       "</style>\n",
       "<table border=\"1\" class=\"dataframe\">\n",
       "  <thead>\n",
       "    <tr style=\"text-align: right;\">\n",
       "      <th></th>\n",
       "      <th>tp</th>\n",
       "      <th>tn</th>\n",
       "      <th>fp</th>\n",
       "      <th>fn</th>\n",
       "      <th>accuracy</th>\n",
       "      <th>precision</th>\n",
       "      <th>recall</th>\n",
       "      <th>f1</th>\n",
       "    </tr>\n",
       "  </thead>\n",
       "  <tbody>\n",
       "    <tr>\n",
       "      <th>Nacional</th>\n",
       "      <td>729</td>\n",
       "      <td>4372</td>\n",
       "      <td>57</td>\n",
       "      <td>65</td>\n",
       "      <td>0.976642</td>\n",
       "      <td>0.927481</td>\n",
       "      <td>0.918136</td>\n",
       "      <td>0.922785</td>\n",
       "    </tr>\n",
       "    <tr>\n",
       "      <th>Deportes</th>\n",
       "      <td>743</td>\n",
       "      <td>4358</td>\n",
       "      <td>35</td>\n",
       "      <td>33</td>\n",
       "      <td>0.986845</td>\n",
       "      <td>0.955013</td>\n",
       "      <td>0.957474</td>\n",
       "      <td>0.956242</td>\n",
       "    </tr>\n",
       "    <tr>\n",
       "      <th>Salud</th>\n",
       "      <td>742</td>\n",
       "      <td>4359</td>\n",
       "      <td>45</td>\n",
       "      <td>7</td>\n",
       "      <td>0.989909</td>\n",
       "      <td>0.942821</td>\n",
       "      <td>0.990654</td>\n",
       "      <td>0.966146</td>\n",
       "    </tr>\n",
       "    <tr>\n",
       "      <th>Ciencia y Tecnologia</th>\n",
       "      <td>748</td>\n",
       "      <td>4353</td>\n",
       "      <td>36</td>\n",
       "      <td>10</td>\n",
       "      <td>0.991063</td>\n",
       "      <td>0.954082</td>\n",
       "      <td>0.986807</td>\n",
       "      <td>0.970169</td>\n",
       "    </tr>\n",
       "    <tr>\n",
       "      <th>Entretenimiento</th>\n",
       "      <td>763</td>\n",
       "      <td>4338</td>\n",
       "      <td>27</td>\n",
       "      <td>48</td>\n",
       "      <td>0.985510</td>\n",
       "      <td>0.965823</td>\n",
       "      <td>0.940814</td>\n",
       "      <td>0.953154</td>\n",
       "    </tr>\n",
       "    <tr>\n",
       "      <th>Economia</th>\n",
       "      <td>677</td>\n",
       "      <td>4424</td>\n",
       "      <td>35</td>\n",
       "      <td>40</td>\n",
       "      <td>0.985510</td>\n",
       "      <td>0.950843</td>\n",
       "      <td>0.944212</td>\n",
       "      <td>0.947516</td>\n",
       "    </tr>\n",
       "    <tr>\n",
       "      <th>Internacional</th>\n",
       "      <td>699</td>\n",
       "      <td>4402</td>\n",
       "      <td>57</td>\n",
       "      <td>89</td>\n",
       "      <td>0.972175</td>\n",
       "      <td>0.924603</td>\n",
       "      <td>0.887056</td>\n",
       "      <td>0.905440</td>\n",
       "    </tr>\n",
       "  </tbody>\n",
       "</table>\n",
       "</div>"
      ],
      "text/plain": [
       "                       tp    tn  fp  fn  accuracy  precision    recall  \\\n",
       "Nacional              729  4372  57  65  0.976642   0.927481  0.918136   \n",
       "Deportes              743  4358  35  33  0.986845   0.955013  0.957474   \n",
       "Salud                 742  4359  45   7  0.989909   0.942821  0.990654   \n",
       "Ciencia y Tecnologia  748  4353  36  10  0.991063   0.954082  0.986807   \n",
       "Entretenimiento       763  4338  27  48  0.985510   0.965823  0.940814   \n",
       "Economia              677  4424  35  40  0.985510   0.950843  0.944212   \n",
       "Internacional         699  4402  57  89  0.972175   0.924603  0.887056   \n",
       "\n",
       "                            f1  \n",
       "Nacional              0.922785  \n",
       "Deportes              0.956242  \n",
       "Salud                 0.966146  \n",
       "Ciencia y Tecnologia  0.970169  \n",
       "Entretenimiento       0.953154  \n",
       "Economia              0.947516  \n",
       "Internacional         0.905440  "
      ]
     },
     "execution_count": 34,
     "metadata": {},
     "output_type": "execute_result"
    }
   ],
   "source": [
    "import numpy as np\n",
    "   \n",
    "# Calculamos las metricas para cada categoria\n",
    "category_metrics = { cat : {'tp': 0, 'tn': 0, 'fp': 0, 'fn': 0, 'accuracy': 0, 'precision': 0, 'recall': 0, 'f1': 0} for cat in categories }\n",
    "\n",
    "for i, category in enumerate(categories):\n",
    "    \n",
    "    # Metricas simples\n",
    "    tp = confusion_df.iloc[i,i]\n",
    "    tn = sum(np.diag(confusion_df)) - tp\n",
    "    fn = sum(confusion_df.loc[category]) - tp\n",
    "    fp = sum(confusion_df[category]) - tp\n",
    "    \n",
    "    category_metrics[category]['tp'] = tp\n",
    "    category_metrics[category]['tn'] = tn\n",
    "    category_metrics[category]['fp'] = fp\n",
    "    category_metrics[category]['fn'] = fn\n",
    "    \n",
    "    # Metricas compuestas\n",
    "    category_metrics[category]['accuracy'] = (tp + tn) / (tp + tn + fn + fp)\n",
    "    category_metrics[category]['precision'] = tp / (tp + fp)\n",
    "    category_metrics[category]['recall'] = tp / (tp + fn)\n",
    "    category_metrics[category]['f1'] = (2 * category_metrics[category]['precision'] * category_metrics[category]['recall']) / (category_metrics[category]['precision'] + category_metrics[category]['recall'])\n",
    "\n",
    "metric_cols = ['tp', 'tn', 'fp', 'fn', 'accuracy', 'precision', 'recall', 'f1']\n",
    "metrics_df = { key : list(category_metrics[key].values()) for key in category_metrics.keys() }    \n",
    "metrics_df = pd.DataFrame.from_dict(category_metrics, orient='index', columns=metric_cols)\n",
    "\n",
    "metrics_df"
   ]
  },
  {
   "cell_type": "code",
   "execution_count": 35,
   "id": "adjacent-backing",
   "metadata": {},
   "outputs": [],
   "source": [
    "# Calcular probabilidades para la curva ROC\n",
    "def classify_with_prob(title):\n",
    "    words = split_and_sanitize(title)\n",
    "    \n",
    "    vs = {}\n",
    "    denom = 0  # P([word]) == P(word1, word2, ...)\n",
    "               # = P(word1, word2, ... | category1) * P(category1) + P(word1, word2, ... | category2) * P(category2) + ... \n",
    "               # = sum(P(word1 | category_i) * P(word2 | category_i) * ... * P(category_i))\n",
    "    for category in categories:\n",
    "        v = category_relative_freq.loc[category]\n",
    "        \n",
    "        for word in words:\n",
    "            if word in word_relative_frequencies[category]:\n",
    "                v *= word_relative_frequencies[category][word]  # prod(P(word_i | category)) * P(category)\n",
    "            else:\n",
    "                v *= zero_probabilities[category]\n",
    "                \n",
    "        vs[category] = v\n",
    "        denom += v\n",
    "        \n",
    "    for k in vs.keys():\n",
    "        vs[k] /= denom\n",
    "\n",
    "    return vs"
   ]
  },
  {
   "cell_type": "code",
   "execution_count": 36,
   "id": "known-pharmacology",
   "metadata": {},
   "outputs": [
    {
     "name": "stdout",
     "output_type": "stream",
     "text": [
      "{'Nacional': 0.0015324328736724595, 'Deportes': 0.9958389112249316, 'Salud': 5.887552152326251e-05, 'Ciencia y Tecnologia': 0.0004374367995542418, 'Entretenimiento': 0.0005573936202338033, 'Economia': 0.00032520179933310817, 'Internacional': 0.0012497481607515082}\n",
      "1.0\n"
     ]
    }
   ],
   "source": [
    "print(classify_with_prob(\"Messi metió ocho goles\"))\n",
    "print(sum(classify_with_prob(\"Messi metió ocho goles\").values()))"
   ]
  },
  {
   "cell_type": "code",
   "execution_count": 37,
   "id": "former-assignment",
   "metadata": {},
   "outputs": [],
   "source": [
    "import matplotlib.pyplot as plt\n",
    "\n",
    "#classification_probs = []\n",
    "u = [0.1 * x for x in range(1, 10)]\n",
    "\n",
    "category_metrics = { cat : { threshold : {'tp': 0, 'tn': 0, 'fp': 0, 'fn': 0} for threshold in u} for cat in categories }\n",
    "titular_classifications = {} # {'Messi metió un gol': {'categoria_real': 'Deportes', prob_Deportes: 0.99, prob_Salud: 0.001, ... }, ...}\n",
    "\n",
    "# Itero por el dataset de prueba y calculo las probabilidades para cada titular en cada categoría\n",
    "for i in range(len(test)):\n",
    "    row = test.iloc[i]\n",
    "    fmt = {'categoria_real': row['categoria']}\n",
    "    category = row['categoria']\n",
    "    title = row['titular']\n",
    "    vs = classify_with_prob(title)\n",
    "    \n",
    "    for cat, v in vs.items():\n",
    "        fmt[f\"prob_{cat}\"] = v\n",
    "    titular_classifications[row['titular']] = fmt\n",
    "\n",
    "for category in categories:\n",
    "    # Obtengo los titulares que coinciden con la categoría analizada y se compara la probabilidad de esa categoría con el umbral\n",
    "    records = test.query(f\"categoria == '{category}'\")\n",
    "    for index, record in records.iterrows():\n",
    "        prob = titular_classifications[record['titular']][f\"prob_{category}\"]\n",
    "        for threshold in u:\n",
    "            if prob >= threshold:\n",
    "                category_metrics[category][threshold]['tp'] += 1\n",
    "            else:\n",
    "                category_metrics[category][threshold]['fn'] += 1\n",
    "\n",
    "    # Obtengo los titulares que no coinciden con la categoría analizada y se compara la probabilidad de la categoría real con el umbral\n",
    "    records = test.query(f\"categoria != '{category}'\")\n",
    "    for index, record in records.iterrows():\n",
    "        real_category = titular_classifications[record['titular']]['categoria_real']\n",
    "        prob = titular_classifications[record['titular']][f\"prob_{real_category}\"]\n",
    "        for threshold in u:\n",
    "            if prob >= threshold:\n",
    "                category_metrics[category][threshold]['fp'] += 1\n",
    "            else:\n",
    "                category_metrics[category][threshold]['tn'] += 1\n",
    "    \n",
    "# print(category_metrics)"
   ]
  },
  {
   "cell_type": "code",
   "execution_count": 38,
   "id": "another-grade",
   "metadata": {},
   "outputs": [
    {
     "data": {
      "image/png": "[encoded data removed]",
      "text/plain": [
       "<Figure size 432x288 with 1 Axes>"
      ]
     },
     "metadata": {
      "needs_background": "light"
     },
     "output_type": "display_data"
    }
   ],
   "source": [
    "for c, thresholds in category_metrics.items():\n",
    "    x = []\n",
    "    y = []\n",
    "    for threshold, values in thresholds.items():\n",
    "        TPR = float(values['tp']) / (values['tp'] + values['fn'])  # Tasa de Verdaderos positivos\n",
    "        FPR = float(values['fp']) / (values['fp'] + values['tn'])  # Tasa de Falsos positivos\n",
    "        x.append(FPR)\n",
    "        y.append(TPR)\n",
    "    plt.plot(x,y, label=c)\n",
    "# plt.xlim([0, 1])\n",
    "# plt.ylim([0, 1])\n",
    "plt.xlabel('Tasa de Falsos Positivos')\n",
    "plt.ylabel('Tasa de Verdaderos Positivos')\n",
    "plt.legend(loc=\"best\", bbox_to_anchor=(1.05, 1))\n",
    "plt.show()"
   ]
  }
 ],
 "metadata": {
  "kernelspec": {
   "display_name": "Python 3",
   "language": "python",
   "name": "python3"
  },
  "language_info": {
   "codemirror_mode": {
    "name": "ipython",
    "version": 3
   },
   "file_extension": ".py",
   "mimetype": "text/x-python",
   "name": "python",
   "nbconvert_exporter": "python",
   "pygments_lexer": "ipython3",
   "version": "3.8.9"
  }
 },
 "nbformat": 4,
 "nbformat_minor": 5
}
