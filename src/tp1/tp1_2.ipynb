{
 "cells": [
  {
   "cell_type": "markdown",
   "id": "coastal-manner",
   "metadata": {},
   "source": [
    "## Clasificador de Noticias Argentinas "
   ]
  },
  {
   "cell_type": "code",
   "execution_count": 1,
   "id": "checked-handy",
   "metadata": {},
   "outputs": [],
   "source": [
    "import pandas as pd\n",
    "\n",
    "df = pd.read_excel('../../res/tp1/Noticias_argentinas.xlsx', sheet_name='aa_bayes')"
   ]
  },
  {
   "cell_type": "code",
   "execution_count": 2,
   "id": "directed-rally",
   "metadata": {},
   "outputs": [
    {
     "data": {
      "text/html": [
       "<div>\n",
       "<style scoped>\n",
       "    .dataframe tbody tr th:only-of-type {\n",
       "        vertical-align: middle;\n",
       "    }\n",
       "\n",
       "    .dataframe tbody tr th {\n",
       "        vertical-align: top;\n",
       "    }\n",
       "\n",
       "    .dataframe thead th {\n",
       "        text-align: right;\n",
       "    }\n",
       "</style>\n",
       "<table border=\"1\" class=\"dataframe\">\n",
       "  <thead>\n",
       "    <tr style=\"text-align: right;\">\n",
       "      <th></th>\n",
       "      <th>titular</th>\n",
       "      <th>categoria</th>\n",
       "    </tr>\n",
       "  </thead>\n",
       "  <tbody>\n",
       "    <tr>\n",
       "      <th>0</th>\n",
       "      <td>Trabajadores del Buenos Aires Design cortan la...</td>\n",
       "      <td>Nacional</td>\n",
       "    </tr>\n",
       "    <tr>\n",
       "      <th>1</th>\n",
       "      <td>La boda del gobernador Gerardo Morales: tapas ...</td>\n",
       "      <td>Nacional</td>\n",
       "    </tr>\n",
       "    <tr>\n",
       "      <th>2</th>\n",
       "      <td>Cumbre del G20: qué calles estarán cortadas y ...</td>\n",
       "      <td>Nacional</td>\n",
       "    </tr>\n",
       "    <tr>\n",
       "      <th>3</th>\n",
       "      <td>Una fractura que confirma la candidatura de Cr...</td>\n",
       "      <td>Nacional</td>\n",
       "    </tr>\n",
       "    <tr>\n",
       "      <th>4</th>\n",
       "      <td>Infierno grande: ola de divorcios en un pueblo...</td>\n",
       "      <td>Nacional</td>\n",
       "    </tr>\n",
       "  </tbody>\n",
       "</table>\n",
       "</div>"
      ],
      "text/plain": [
       "                                             titular categoria\n",
       "0  Trabajadores del Buenos Aires Design cortan la...  Nacional\n",
       "1  La boda del gobernador Gerardo Morales: tapas ...  Nacional\n",
       "2  Cumbre del G20: qué calles estarán cortadas y ...  Nacional\n",
       "3  Una fractura que confirma la candidatura de Cr...  Nacional\n",
       "4  Infierno grande: ola de divorcios en un pueblo...  Nacional"
      ]
     },
     "execution_count": 2,
     "metadata": {},
     "output_type": "execute_result"
    }
   ],
   "source": [
    "# Nos quedamos con los atributos de interes\n",
    "\n",
    "df = df[[\"titular\", \"categoria\"]]\n",
    "\n",
    "# removemos las categorias que no necesitamos ('Destacadas', 'Noticias Destacadas')\n",
    "\n",
    "\n",
    "df.head()"
   ]
  },
  {
   "cell_type": "code",
   "execution_count": 3,
   "id": "official-pulse",
   "metadata": {},
   "outputs": [
    {
     "name": "stdout",
     "output_type": "stream",
     "text": [
      "['Nacional' 'Deportes' 'Salud' 'Ciencia y Tecnologia' 'Entretenimiento'\n",
      " 'Economia' 'Internacional']\n"
     ]
    }
   ],
   "source": [
    "df = df.loc[df['categoria'].isin((\"Nacional\", \"Economia\", \"Internacional\", \"Deportes\", \"Salud\", \"Ciencia y Tecnologia\", \"Entretenimiento\"))]\n",
    "df.head()\n",
    "categories = df['categoria'].unique()\n",
    "print(categories)\n"
   ]
  },
  {
   "cell_type": "code",
   "execution_count": 4,
   "id": "compatible-taste",
   "metadata": {},
   "outputs": [
    {
     "data": {
      "text/plain": [
       "26961"
      ]
     },
     "execution_count": 4,
     "metadata": {},
     "output_type": "execute_result"
    }
   ],
   "source": [
    "len(df)"
   ]
  },
  {
   "cell_type": "code",
   "execution_count": 5,
   "id": "physical-reduction",
   "metadata": {},
   "outputs": [
    {
     "data": {
      "text/plain": [
       "Nacional                3860\n",
       "Ciencia y Tecnologia    3856\n",
       "Deportes                3855\n",
       "Entretenimiento         3850\n",
       "Internacional           3850\n",
       "Economia                3850\n",
       "Salud                   3840\n",
       "Name: categoria, dtype: int64"
      ]
     },
     "execution_count": 5,
     "metadata": {},
     "output_type": "execute_result"
    }
   ],
   "source": [
    "df['categoria'].value_counts()"
   ]
  },
  {
   "cell_type": "code",
   "execution_count": 6,
   "id": "spanish-strand",
   "metadata": {},
   "outputs": [
    {
     "data": {
      "text/html": [
       "<div>\n",
       "<style scoped>\n",
       "    .dataframe tbody tr th:only-of-type {\n",
       "        vertical-align: middle;\n",
       "    }\n",
       "\n",
       "    .dataframe tbody tr th {\n",
       "        vertical-align: top;\n",
       "    }\n",
       "\n",
       "    .dataframe thead th {\n",
       "        text-align: right;\n",
       "    }\n",
       "</style>\n",
       "<table border=\"1\" class=\"dataframe\">\n",
       "  <thead>\n",
       "    <tr style=\"text-align: right;\">\n",
       "      <th></th>\n",
       "      <th>titular</th>\n",
       "      <th>categoria</th>\n",
       "    </tr>\n",
       "  </thead>\n",
       "  <tbody>\n",
       "    <tr>\n",
       "      <th>25025</th>\n",
       "      <td>Las ventas minoristas cayeron 15,6% en noviemb...</td>\n",
       "      <td>Economia</td>\n",
       "    </tr>\n",
       "    <tr>\n",
       "      <th>13936</th>\n",
       "      <td>Cómo la fiscal que habló de \"empalamiento\" en ...</td>\n",
       "      <td>Nacional</td>\n",
       "    </tr>\n",
       "    <tr>\n",
       "      <th>5850</th>\n",
       "      <td>El Reino Unido y la UE acuerdan un proyecto so...</td>\n",
       "      <td>Internacional</td>\n",
       "    </tr>\n",
       "    <tr>\n",
       "      <th>22379</th>\n",
       "      <td>La reacción del Polaco al enterarse de que Cal...</td>\n",
       "      <td>Entretenimiento</td>\n",
       "    </tr>\n",
       "    <tr>\n",
       "      <th>13075</th>\n",
       "      <td>Tristeza, lamento y vergÃ¼enza ajena: qué opin...</td>\n",
       "      <td>Deportes</td>\n",
       "    </tr>\n",
       "  </tbody>\n",
       "</table>\n",
       "</div>"
      ],
      "text/plain": [
       "                                                 titular        categoria\n",
       "25025  Las ventas minoristas cayeron 15,6% en noviemb...         Economia\n",
       "13936  Cómo la fiscal que habló de \"empalamiento\" en ...         Nacional\n",
       "5850   El Reino Unido y la UE acuerdan un proyecto so...    Internacional\n",
       "22379  La reacción del Polaco al enterarse de que Cal...  Entretenimiento\n",
       "13075  Tristeza, lamento y vergÃ¼enza ajena: qué opin...         Deportes"
      ]
     },
     "execution_count": 6,
     "metadata": {},
     "output_type": "execute_result"
    }
   ],
   "source": [
    "from sklearn.model_selection import train_test_split\n",
    "\n",
    "# Separar los datos en datos de entrenamiento y testeo\n",
    "train, test = train_test_split(df, test_size=0.2)\n",
    "train.head()\n",
    "test.head()"
   ]
  },
  {
   "cell_type": "code",
   "execution_count": 7,
   "id": "magnetic-measurement",
   "metadata": {},
   "outputs": [],
   "source": [
    "textos = list(df['titular'])"
   ]
  },
  {
   "cell_type": "code",
   "execution_count": 8,
   "id": "returning-paradise",
   "metadata": {},
   "outputs": [],
   "source": [
    "# Crear diccionario de categorias con diccionarios vacios para las palabras de los titulares\n",
    "categories_word_appearances = { i : {} for i in categories }"
   ]
  },
  {
   "cell_type": "code",
   "execution_count": 9,
   "id": "correct-offering",
   "metadata": {},
   "outputs": [
    {
     "name": "stdout",
     "output_type": "stream",
     "text": [
      "{'Nacional': {}, 'Deportes': {}, 'Salud': {}, 'Ciencia y Tecnologia': {}, 'Entretenimiento': {}, 'Economia': {}, 'Internacional': {}}\n"
     ]
    }
   ],
   "source": [
    "print(categories_word_appearances)"
   ]
  },
  {
   "cell_type": "code",
   "execution_count": 10,
   "id": "cloudy-storage",
   "metadata": {},
   "outputs": [],
   "source": [
    "import re\n",
    "\n",
    "def split_and_sanitize(title):\n",
    "    words = title.split()  # se separan las palabras según espacios (quita todos los espacios)\n",
    "    words = list(map(lambda x: re.sub(\"[^\\w\\s]\", '', x), words))  # reemplazo de símbolos por ningún caracter\n",
    "    return words\n",
    "\n",
    "for i in range(len(train)):\n",
    "    row = train.iloc[i]\n",
    "    category = row['categoria']\n",
    "    title = row['titular']\n",
    "    words = split_and_sanitize(title)\n",
    "    \n",
    "    for word in words:\n",
    "            if word in categories_word_appearances[category]:\n",
    "                categories_word_appearances[category][word] += 1\n",
    "            else:\n",
    "                categories_word_appearances[category][word] = 1\n",
    "                \n",
    "    \n",
    "    \n",
    "    "
   ]
  },
  {
   "cell_type": "code",
   "execution_count": 11,
   "id": "difficult-reunion",
   "metadata": {},
   "outputs": [
    {
     "name": "stdout",
     "output_type": "stream",
     "text": [
      "65\n"
     ]
    }
   ],
   "source": [
    "print(categories_word_appearances['Entretenimiento']['Pampita'])"
   ]
  },
  {
   "cell_type": "code",
   "execution_count": 12,
   "id": "basic-south",
   "metadata": {},
   "outputs": [
    {
     "name": "stdout",
     "output_type": "stream",
     "text": [
      "Economia                0.144659\n",
      "Nacional                0.144010\n",
      "Entretenimiento         0.143082\n",
      "Salud                   0.142572\n",
      "Deportes                0.142526\n",
      "Ciencia y Tecnologia    0.142526\n",
      "Internacional           0.140625\n",
      "Name: categoria, dtype: float64\n",
      "0.0014044346086734478\n"
     ]
    }
   ],
   "source": [
    "# Calcular probabilidades de las clases P(category) para el conjunto de entrenamiento\n",
    "\n",
    "category_relative_freq = train['categoria'].value_counts() / len(train)  # P(category)\n",
    "print(category_relative_freq)\n",
    "\n",
    "# Calcular las probabilidades condicionales P(word | category)\n",
    "word_relative_frequencies = { i : {} for i in categories }\n",
    "zero_probabilities = { i : 0 for i in categories } # Laplace correction in case a word does not appear in a category\n",
    "for category in categories:\n",
    "    word_appearances_sum = sum(categories_word_appearances[category].values())\n",
    "    laplace_denominator = float(word_appearances_sum + len(categories_word_appearances[category].keys()))\n",
    "    zero_probabilities[category] = 1 / laplace_denominator\n",
    "    for word, word_count in categories_word_appearances[category].items():\n",
    "        word_relative_frequencies[category][word] = (word_count + 1) / laplace_denominator\n",
    "\n",
    "print(word_relative_frequencies['Entretenimiento']['Pampita'])\n",
    "# Objetivo final:\n",
    "#   P (category | [word])\n",
    "# = P ([word] | category) * P (category)      ##  / P ([word])\n",
    "# = prod(P (word | category)) * P (category)"
   ]
  },
  {
   "cell_type": "code",
   "execution_count": 13,
   "id": "exempt-cholesterol",
   "metadata": {},
   "outputs": [
    {
     "name": "stdout",
     "output_type": "stream",
     "text": [
      "La noticia 'Pampita fue a la mesa de Mirtha' pertenece a Entretenimiento\n",
      "La noticia 'Messi metió un gol' pertenece a Deportes\n",
      "La noticia 'Apple lanzó un nuevo iPhone' pertenece a Ciencia y Tecnologia\n"
     ]
    }
   ],
   "source": [
    "def classify(title):\n",
    "    words = split_and_sanitize(title)\n",
    "    vs = {}\n",
    "    for category in categories:\n",
    "        v = category_relative_freq.loc[category]\n",
    "        for word in words:\n",
    "            if word in word_relative_frequencies[category]:\n",
    "                v *= word_relative_frequencies[category][word]\n",
    "            else:\n",
    "                v *= zero_probabilities[category]\n",
    "        vs[category] = v\n",
    "    mx = (None, 0)\n",
    "    for category, v in vs.items():\n",
    "        if v > mx[1]:\n",
    "            mx = (category, v)\n",
    "    return mx[0]\n",
    "\n",
    "noticia = 'Pampita fue a la mesa de Mirtha'\n",
    "print(f\"La noticia '{noticia}' pertenece a {classify(noticia)}\")\n",
    "noticia = 'Messi metió un gol'\n",
    "print(f\"La noticia '{noticia}' pertenece a {classify(noticia)}\")\n",
    "noticia = 'Apple lanzó un nuevo iPhone'\n",
    "print(f\"La noticia '{noticia}' pertenece a {classify(noticia)}\")"
   ]
  },
  {
   "cell_type": "code",
   "execution_count": 14,
   "id": "functional-compilation",
   "metadata": {},
   "outputs": [
    {
     "name": "stdout",
     "output_type": "stream",
     "text": [
      "{'Nacional': {'Nacional': 689, 'Deportes': 13, 'Salud': 11, 'Ciencia y Tecnologia': 2, 'Entretenimiento': 6, 'Economia': 15, 'Internacional': 18}, 'Deportes': {'Nacional': 3, 'Deportes': 754, 'Salud': 7, 'Ciencia y Tecnologia': 1, 'Entretenimiento': 8, 'Economia': 3, 'Internacional': 5}, 'Salud': {'Nacional': 1, 'Deportes': 0, 'Salud': 753, 'Ciencia y Tecnologia': 2, 'Entretenimiento': 0, 'Economia': 2, 'Internacional': 7}, 'Ciencia y Tecnologia': {'Nacional': 0, 'Deportes': 1, 'Salud': 8, 'Ciencia y Tecnologia': 770, 'Entretenimiento': 0, 'Economia': 3, 'Internacional': 0}, 'Entretenimiento': {'Nacional': 5, 'Deportes': 8, 'Salud': 6, 'Ciencia y Tecnologia': 5, 'Entretenimiento': 728, 'Economia': 5, 'Internacional': 7}, 'Economia': {'Nacional': 4, 'Deportes': 2, 'Salud': 4, 'Ciencia y Tecnologia': 15, 'Entretenimiento': 1, 'Economia': 701, 'Internacional': 3}, 'Internacional': {'Nacional': 27, 'Deportes': 3, 'Salud': 22, 'Ciencia y Tecnologia': 12, 'Entretenimiento': 10, 'Economia': 11, 'Internacional': 732}}\n",
      "\n",
      "{'Nacional': [689, 13, 11, 2, 6, 15, 18], 'Deportes': [3, 754, 7, 1, 8, 3, 5], 'Salud': [1, 0, 753, 2, 0, 2, 7], 'Ciencia y Tecnologia': [0, 1, 8, 770, 0, 3, 0], 'Entretenimiento': [5, 8, 6, 5, 728, 5, 7], 'Economia': [4, 2, 4, 15, 1, 701, 3], 'Internacional': [27, 3, 22, 12, 10, 11, 732]}\n",
      "\n",
      "                      Nacional  Deportes  Salud  Ciencia y Tecnologia  \\\n",
      "Nacional                   689        13     11                     2   \n",
      "Deportes                     3       754      7                     1   \n",
      "Salud                        1         0    753                     2   \n",
      "Ciencia y Tecnologia         0         1      8                   770   \n",
      "Entretenimiento              5         8      6                     5   \n",
      "Economia                     4         2      4                    15   \n",
      "Internacional               27         3     22                    12   \n",
      "\n",
      "                      Entretenimiento  Economia  Internacional  \n",
      "Nacional                            6        15             18  \n",
      "Deportes                            8         3              5  \n",
      "Salud                               0         2              7  \n",
      "Ciencia y Tecnologia                0         3              0  \n",
      "Entretenimiento                   728         5              7  \n",
      "Economia                            1       701              3  \n",
      "Internacional                      10        11            732  \n"
     ]
    },
    {
     "data": {
      "text/plain": [
       "<AxesSubplot:>"
      ]
     },
     "execution_count": 14,
     "metadata": {},
     "output_type": "execute_result"
    },
    {
     "data": {
      "image/png": "[encoded data removed]",
      "text/plain": [
       "<Figure size 432x288 with 2 Axes>"
      ]
     },
     "metadata": {
      "needs_background": "light"
     },
     "output_type": "display_data"
    }
   ],
   "source": [
    "confusion_matrix = { i : {} for i in categories }\n",
    "columns = []\n",
    "for key in confusion_matrix.keys():\n",
    "    columns.append(key)\n",
    "    confusion_matrix[key] = { i : 0 for i in categories } # {'Deportes': {'Deportes': 700, 'Entretenimiento': 3, ...}, ...}\n",
    "\n",
    "for i in range(len(test)):\n",
    "    row = test.iloc[i]\n",
    "    category = row['categoria']\n",
    "    title = row['titular']\n",
    "    result = classify(title)\n",
    "    confusion_matrix[category][result] += 1\n",
    "\n",
    "print(confusion_matrix)\n",
    "confusion_df = { key : list(confusion_matrix[key].values()) for key in confusion_matrix.keys() }\n",
    "print('')\n",
    "print(confusion_df)\n",
    "confusion_df = pd.DataFrame.from_dict(confusion_df, orient='index', columns=columns)\n",
    "print('')\n",
    "print(confusion_df)\n",
    "\n",
    "import seaborn as sns\n",
    "sns.heatmap(confusion_df, annot=True, cmap='Blues', fmt='g')"
   ]
  },
  {
   "cell_type": "code",
   "execution_count": 15,
   "id": "younger-security",
   "metadata": {},
   "outputs": [
    {
     "data": {
      "text/html": [
       "<div>\n",
       "<style scoped>\n",
       "    .dataframe tbody tr th:only-of-type {\n",
       "        vertical-align: middle;\n",
       "    }\n",
       "\n",
       "    .dataframe tbody tr th {\n",
       "        vertical-align: top;\n",
       "    }\n",
       "\n",
       "    .dataframe thead th {\n",
       "        text-align: right;\n",
       "    }\n",
       "</style>\n",
       "<table border=\"1\" class=\"dataframe\">\n",
       "  <thead>\n",
       "    <tr style=\"text-align: right;\">\n",
       "      <th></th>\n",
       "      <th>tp</th>\n",
       "      <th>tn</th>\n",
       "      <th>fp</th>\n",
       "      <th>fn</th>\n",
       "      <th>accuracy</th>\n",
       "      <th>precision</th>\n",
       "      <th>recall</th>\n",
       "      <th>f1</th>\n",
       "    </tr>\n",
       "  </thead>\n",
       "  <tbody>\n",
       "    <tr>\n",
       "      <th>Nacional</th>\n",
       "      <td>689</td>\n",
       "      <td>4438</td>\n",
       "      <td>40</td>\n",
       "      <td>65</td>\n",
       "      <td>0.979931</td>\n",
       "      <td>0.945130</td>\n",
       "      <td>0.913793</td>\n",
       "      <td>0.929198</td>\n",
       "    </tr>\n",
       "    <tr>\n",
       "      <th>Deportes</th>\n",
       "      <td>754</td>\n",
       "      <td>4373</td>\n",
       "      <td>27</td>\n",
       "      <td>27</td>\n",
       "      <td>0.989577</td>\n",
       "      <td>0.965429</td>\n",
       "      <td>0.965429</td>\n",
       "      <td>0.965429</td>\n",
       "    </tr>\n",
       "    <tr>\n",
       "      <th>Salud</th>\n",
       "      <td>753</td>\n",
       "      <td>4374</td>\n",
       "      <td>58</td>\n",
       "      <td>12</td>\n",
       "      <td>0.986531</td>\n",
       "      <td>0.928483</td>\n",
       "      <td>0.984314</td>\n",
       "      <td>0.955584</td>\n",
       "    </tr>\n",
       "    <tr>\n",
       "      <th>Ciencia y Tecnologia</th>\n",
       "      <td>770</td>\n",
       "      <td>4357</td>\n",
       "      <td>37</td>\n",
       "      <td>12</td>\n",
       "      <td>0.990533</td>\n",
       "      <td>0.954151</td>\n",
       "      <td>0.984655</td>\n",
       "      <td>0.969163</td>\n",
       "    </tr>\n",
       "    <tr>\n",
       "      <th>Entretenimiento</th>\n",
       "      <td>728</td>\n",
       "      <td>4399</td>\n",
       "      <td>25</td>\n",
       "      <td>36</td>\n",
       "      <td>0.988242</td>\n",
       "      <td>0.966799</td>\n",
       "      <td>0.952880</td>\n",
       "      <td>0.959789</td>\n",
       "    </tr>\n",
       "  </tbody>\n",
       "</table>\n",
       "</div>"
      ],
      "text/plain": [
       "                       tp    tn  fp  fn  accuracy  precision    recall  \\\n",
       "Nacional              689  4438  40  65  0.979931   0.945130  0.913793   \n",
       "Deportes              754  4373  27  27  0.989577   0.965429  0.965429   \n",
       "Salud                 753  4374  58  12  0.986531   0.928483  0.984314   \n",
       "Ciencia y Tecnologia  770  4357  37  12  0.990533   0.954151  0.984655   \n",
       "Entretenimiento       728  4399  25  36  0.988242   0.966799  0.952880   \n",
       "\n",
       "                            f1  \n",
       "Nacional              0.929198  \n",
       "Deportes              0.965429  \n",
       "Salud                 0.955584  \n",
       "Ciencia y Tecnologia  0.969163  \n",
       "Entretenimiento       0.959789  "
      ]
     },
     "execution_count": 15,
     "metadata": {},
     "output_type": "execute_result"
    }
   ],
   "source": [
    "import numpy as np\n",
    "\n",
    "true = []\n",
    "predicted = []\n",
    "\n",
    "for i in range(len(test)):\n",
    "    row = test.iloc[i]\n",
    "    true.append(row['categoria'])\n",
    "    title = row['titular']\n",
    "    predicted.append(classify(title))\n",
    "\n",
    "    \n",
    "# Calculamos las metricas para cada categoria    \n",
    "    \n",
    "category_metrics = { i : {'tp': 0, 'tn': 0, 'fp': 0, 'fn': 0, 'accuracy': 0, 'precision': 0, 'recall': 0,  'f1': 0} for i in categories }\n",
    "\n",
    "for i, category in enumerate(categories):\n",
    "    \n",
    "    # Metricas simples\n",
    "    tp = confusion_df.iloc[i,i]\n",
    "    tn = sum(np.diag(confusion_df)) - tp\n",
    "    fn = sum(confusion_df.loc[category]) - tp\n",
    "    fp = sum(confusion_df[category]) - tp\n",
    "    \n",
    "    category_metrics[category]['tp'] = tp\n",
    "    category_metrics[category]['tn'] = tn\n",
    "    category_metrics[category]['fp'] = fp\n",
    "    category_metrics[category]['fn'] = fn\n",
    "    \n",
    "    # Metricas compuestas\n",
    "    category_metrics[category]['accuracy'] = (tp + tn) / (tp + tn + fn + fp)\n",
    "    category_metrics[category]['precision'] = tp / (tp + fp)\n",
    "    category_metrics[category]['recall'] = tp / (tp + fn)\n",
    "    category_metrics[category]['f1'] = (2 * category_metrics[category]['precision'] * category_metrics[category]['recall']) / (category_metrics[category]['precision'] + category_metrics[category]['recall'])\n",
    "\n",
    "metric_cols = ['tp', 'tn', 'fp', 'fn', 'accuracy', 'precision', 'recall', 'f1']\n",
    "metrics_df = { key : list(category_metrics[key].values()) for key in category_metrics.keys() }    \n",
    "metrics_df = pd.DataFrame.from_dict(category_metrics, orient='index', columns=metric_cols)\n",
    "metrics_df.head()\n",
    "\n",
    "# Calculamos las metricas para el classifier en general (checkear cual es la forma correcta)\n",
    "    \n",
    "tp, fp, fn = 0, 0, 0\n",
    "\n",
    "\n",
    "for i, category in enumerate(categories):\n",
    "    tp += confusion_df.iloc[i, i]\n",
    "    fp += sum(confusion_df.iloc[i, :i])\n",
    "    fn += sum(confusion_df.iloc[i, i+1:])\n",
    "    \n",
    "tn = confusion_df.to_numpy().sum() - (fp + fn + tp)\n",
    "\n",
    "accuracy = (tp + tn) / (tp + tn + fn + fp)\n",
    "precision = tp / (tp + fp)\n",
    "recall = tp / (tp + fn)\n",
    "f1_score = (2 * precision * recall) / (precision + recall)\n",
    "\n",
    "metrics_df.head()\n",
    "\n",
    "    \n",
    "\n"
   ]
  },
  {
   "cell_type": "code",
   "execution_count": 16,
   "id": "color-width",
   "metadata": {},
   "outputs": [
    {
     "name": "stdout",
     "output_type": "stream",
     "text": [
      "[{'Nacional': 1.1711616387089635e-18, 'Deportes': 1.6683970711347884e-22, 'Salud': 3.5213588788031577e-26, 'Ciencia y Tecnologia': 9.640219513821542e-23, 'Entretenimiento': 9.247575539311461e-32, 'Economia': 774036.5371540333, 'Internacional': 6.317695568383113e-22}, {'Nacional': 1.1711616387089635e-18, 'Deportes': 1.6683970711347884e-22, 'Salud': 3.5213588788031577e-26, 'Ciencia y Tecnologia': 9.640219513821542e-23, 'Entretenimiento': 9.247575539311461e-32, 'Economia': 774036.5371540333, 'Internacional': 6.317695568383113e-22}, {'Nacional': 1.1711616387089635e-18, 'Deportes': 1.6683970711347884e-22, 'Salud': 3.5213588788031577e-26, 'Ciencia y Tecnologia': 9.640219513821542e-23, 'Entretenimiento': 9.247575539311461e-32, 'Economia': 774036.5371540333, 'Internacional': 6.317695568383113e-22}, {'Nacional': 1.1711616387089635e-18, 'Deportes': 1.6683970711347884e-22, 'Salud': 3.5213588788031577e-26, 'Ciencia y Tecnologia': 9.640219513821542e-23, 'Entretenimiento': 9.247575539311461e-32, 'Economia': 774036.5371540333, 'Internacional': 6.317695568383113e-22}, {'Nacional': 1.1711616387089635e-18, 'Deportes': 1.6683970711347884e-22, 'Salud': 3.5213588788031577e-26, 'Ciencia y Tecnologia': 9.640219513821542e-23, 'Entretenimiento': 9.247575539311461e-32, 'Economia': 774036.5371540333, 'Internacional': 6.317695568383113e-22}, {'Nacional': 1.1711616387089635e-18, 'Deportes': 1.6683970711347884e-22, 'Salud': 3.5213588788031577e-26, 'Ciencia y Tecnologia': 9.640219513821542e-23, 'Entretenimiento': 9.247575539311461e-32, 'Economia': 774036.5371540333, 'Internacional': 6.317695568383113e-22}, {'Nacional': 1.1711616387089635e-18, 'Deportes': 1.6683970711347884e-22, 'Salud': 3.5213588788031577e-26, 'Ciencia y Tecnologia': 9.640219513821542e-23, 'Entretenimiento': 9.247575539311461e-32, 'Economia': 774036.5371540333, 'Internacional': 6.317695568383113e-22}, {'Nacional': 1.1711616387089635e-18, 'Deportes': 1.6683970711347884e-22, 'Salud': 3.5213588788031577e-26, 'Ciencia y Tecnologia': 9.640219513821542e-23, 'Entretenimiento': 9.247575539311461e-32, 'Economia': 774036.5371540333, 'Internacional': 6.317695568383113e-22}, {'Nacional': 1.1711616387089635e-18, 'Deportes': 1.6683970711347884e-22, 'Salud': 3.5213588788031577e-26, 'Ciencia y Tecnologia': 9.640219513821542e-23, 'Entretenimiento': 9.247575539311461e-32, 'Economia': 774036.5371540333, 'Internacional': 6.317695568383113e-22}, {'Nacional': 1.1711616387089635e-18, 'Deportes': 1.6683970711347884e-22, 'Salud': 3.5213588788031577e-26, 'Ciencia y Tecnologia': 9.640219513821542e-23, 'Entretenimiento': 9.247575539311461e-32, 'Economia': 774036.5371540333, 'Internacional': 6.317695568383113e-22}, {'Nacional': 1.1711616387089635e-18, 'Deportes': 1.6683970711347884e-22, 'Salud': 3.5213588788031577e-26, 'Ciencia y Tecnologia': 9.640219513821542e-23, 'Entretenimiento': 9.247575539311461e-32, 'Economia': 774036.5371540333, 'Internacional': 6.317695568383113e-22}, {'Nacional': 1.1711616387089635e-18, 'Deportes': 1.6683970711347884e-22, 'Salud': 3.5213588788031577e-26, 'Ciencia y Tecnologia': 9.640219513821542e-23, 'Entretenimiento': 9.247575539311461e-32, 'Economia': 774036.5371540333, 'Internacional': 6.317695568383113e-22}, {'Nacional': 1.1711616387089635e-18, 'Deportes': 1.6683970711347884e-22, 'Salud': 3.5213588788031577e-26, 'Ciencia y Tecnologia': 9.640219513821542e-23, 'Entretenimiento': 9.247575539311461e-32, 'Economia': 774036.5371540333, 'Internacional': 6.317695568383113e-22}, {'Nacional': 1.1711616387089635e-18, 'Deportes': 1.6683970711347884e-22, 'Salud': 3.5213588788031577e-26, 'Ciencia y Tecnologia': 9.640219513821542e-23, 'Entretenimiento': 9.247575539311461e-32, 'Economia': 774036.5371540333, 'Internacional': 6.317695568383113e-22}, {'Nacional': 1.1711616387089635e-18, 'Deportes': 1.6683970711347884e-22, 'Salud': 3.5213588788031577e-26, 'Ciencia y Tecnologia': 9.640219513821542e-23, 'Entretenimiento': 9.247575539311461e-32, 'Economia': 774036.5371540333, 'Internacional': 6.317695568383113e-22}, {'Nacional': 1.1711616387089635e-18, 'Deportes': 1.6683970711347884e-22, 'Salud': 3.5213588788031577e-26, 'Ciencia y Tecnologia': 9.640219513821542e-23, 'Entretenimiento': 9.247575539311461e-32, 'Economia': 774036.5371540333, 'Internacional': 6.317695568383113e-22}, {'Nacional': 1.1711616387089635e-18, 'Deportes': 1.6683970711347884e-22, 'Salud': 3.5213588788031577e-26, 'Ciencia y Tecnologia': 9.640219513821542e-23, 'Entretenimiento': 9.247575539311461e-32, 'Economia': 774036.5371540333, 'Internacional': 6.317695568383113e-22}, {'Nacional': 1.1711616387089635e-18, 'Deportes': 1.6683970711347884e-22, 'Salud': 3.5213588788031577e-26, 'Ciencia y Tecnologia': 9.640219513821542e-23, 'Entretenimiento': 9.247575539311461e-32, 'Economia': 774036.5371540333, 'Internacional': 6.317695568383113e-22}, {'Nacional': 1.1711616387089635e-18, 'Deportes': 1.6683970711347884e-22, 'Salud': 3.5213588788031577e-26, 'Ciencia y Tecnologia': 9.640219513821542e-23, 'Entretenimiento': 9.247575539311461e-32, 'Economia': 774036.5371540333, 'Internacional': 6.317695568383113e-22}, {'Nacional': 1.1711616387089635e-18, 'Deportes': 1.6683970711347884e-22, 'Salud': 3.5213588788031577e-26, 'Ciencia y Tecnologia': 9.640219513821542e-23, 'Entretenimiento': 9.247575539311461e-32, 'Economia': 774036.5371540333, 'Internacional': 6.317695568383113e-22}, {'Nacional': 1.1711616387089635e-18, 'Deportes': 1.6683970711347884e-22, 'Salud': 3.5213588788031577e-26, 'Ciencia y Tecnologia': 9.640219513821542e-23, 'Entretenimiento': 9.247575539311461e-32, 'Economia': 774036.5371540333, 'Internacional': 6.317695568383113e-22}, {'Nacional': 1.1711616387089635e-18, 'Deportes': 1.6683970711347884e-22, 'Salud': 3.5213588788031577e-26, 'Ciencia y Tecnologia': 9.640219513821542e-23, 'Entretenimiento': 9.247575539311461e-32, 'Economia': 774036.5371540333, 'Internacional': 6.317695568383113e-22}, {'Nacional': 1.1711616387089635e-18, 'Deportes': 1.6683970711347884e-22, 'Salud': 3.5213588788031577e-26, 'Ciencia y Tecnologia': 9.640219513821542e-23, 'Entretenimiento': 9.247575539311461e-32, 'Economia': 774036.5371540333, 'Internacional': 6.317695568383113e-22}, {'Nacional': 1.1711616387089635e-18, 'Deportes': 1.6683970711347884e-22, 'Salud': 3.5213588788031577e-26, 'Ciencia y Tecnologia': 9.640219513821542e-23, 'Entretenimiento': 9.247575539311461e-32, 'Economia': 774036.5371540333, 'Internacional': 6.317695568383113e-22}, {'Nacional': 1.1711616387089635e-18, 'Deportes': 1.6683970711347884e-22, 'Salud': 3.5213588788031577e-26, 'Ciencia y Tecnologia': 9.640219513821542e-23, 'Entretenimiento': 9.247575539311461e-32, 'Economia': 774036.5371540333, 'Internacional': 6.317695568383113e-22}, {'Nacional': 1.1711616387089635e-18, 'Deportes': 1.6683970711347884e-22, 'Salud': 3.5213588788031577e-26, 'Ciencia y Tecnologia': 9.640219513821542e-23, 'Entretenimiento': 9.247575539311461e-32, 'Economia': 774036.5371540333, 'Internacional': 6.317695568383113e-22}, {'Nacional': 1.1711616387089635e-18, 'Deportes': 1.6683970711347884e-22, 'Salud': 3.5213588788031577e-26, 'Ciencia y Tecnologia': 9.640219513821542e-23, 'Entretenimiento': 9.247575539311461e-32, 'Economia': 774036.5371540333, 'Internacional': 6.317695568383113e-22}, {'Nacional': 1.1711616387089635e-18, 'Deportes': 1.6683970711347884e-22, 'Salud': 3.5213588788031577e-26, 'Ciencia y Tecnologia': 9.640219513821542e-23, 'Entretenimiento': 9.247575539311461e-32, 'Economia': 774036.5371540333, 'Internacional': 6.317695568383113e-22}, {'Nacional': 1.1711616387089635e-18, 'Deportes': 1.6683970711347884e-22, 'Salud': 3.5213588788031577e-26, 'Ciencia y Tecnologia': 9.640219513821542e-23, 'Entretenimiento': 9.247575539311461e-32, 'Economia': 774036.5371540333, 'Internacional': 6.317695568383113e-22}, {'Nacional': 1.1711616387089635e-18, 'Deportes': 1.6683970711347884e-22, 'Salud': 3.5213588788031577e-26, 'Ciencia y Tecnologia': 9.640219513821542e-23, 'Entretenimiento': 9.247575539311461e-32, 'Economia': 774036.5371540333, 'Internacional': 6.317695568383113e-22}, {'Nacional': 1.1711616387089635e-18, 'Deportes': 1.6683970711347884e-22, 'Salud': 3.5213588788031577e-26, 'Ciencia y Tecnologia': 9.640219513821542e-23, 'Entretenimiento': 9.247575539311461e-32, 'Economia': 774036.5371540333, 'Internacional': 6.317695568383113e-22}, {'Nacional': 1.1711616387089635e-18, 'Deportes': 1.6683970711347884e-22, 'Salud': 3.5213588788031577e-26, 'Ciencia y Tecnologia': 9.640219513821542e-23, 'Entretenimiento': 9.247575539311461e-32, 'Economia': 774036.5371540333, 'Internacional': 6.317695568383113e-22}, {'Nacional': 1.1711616387089635e-18, 'Deportes': 1.6683970711347884e-22, 'Salud': 3.5213588788031577e-26, 'Ciencia y Tecnologia': 9.640219513821542e-23, 'Entretenimiento': 9.247575539311461e-32, 'Economia': 774036.5371540333, 'Internacional': 6.317695568383113e-22}, {'Nacional': 1.1711616387089635e-18, 'Deportes': 1.6683970711347884e-22, 'Salud': 3.5213588788031577e-26, 'Ciencia y Tecnologia': 9.640219513821542e-23, 'Entretenimiento': 9.247575539311461e-32, 'Economia': 774036.5371540333, 'Internacional': 6.317695568383113e-22}, {'Nacional': 1.1711616387089635e-18, 'Deportes': 1.6683970711347884e-22, 'Salud': 3.5213588788031577e-26, 'Ciencia y Tecnologia': 9.640219513821542e-23, 'Entretenimiento': 9.247575539311461e-32, 'Economia': 774036.5371540333, 'Internacional': 6.317695568383113e-22}, {'Nacional': 1.1711616387089635e-18, 'Deportes': 1.6683970711347884e-22, 'Salud': 3.5213588788031577e-26, 'Ciencia y Tecnologia': 9.640219513821542e-23, 'Entretenimiento': 9.247575539311461e-32, 'Economia': 774036.5371540333, 'Internacional': 6.317695568383113e-22}, {'Nacional': 1.1711616387089635e-18, 'Deportes': 1.6683970711347884e-22, 'Salud': 3.5213588788031577e-26, 'Ciencia y Tecnologia': 9.640219513821542e-23, 'Entretenimiento': 9.247575539311461e-32, 'Economia': 774036.5371540333, 'Internacional': 6.317695568383113e-22}, {'Nacional': 1.1711616387089635e-18, 'Deportes': 1.6683970711347884e-22, 'Salud': 3.5213588788031577e-26, 'Ciencia y Tecnologia': 9.640219513821542e-23, 'Entretenimiento': 9.247575539311461e-32, 'Economia': 774036.5371540333, 'Internacional': 6.317695568383113e-22}, {'Nacional': 1.1711616387089635e-18, 'Deportes': 1.6683970711347884e-22, 'Salud': 3.5213588788031577e-26, 'Ciencia y Tecnologia': 9.640219513821542e-23, 'Entretenimiento': 9.247575539311461e-32, 'Economia': 774036.5371540333, 'Internacional': 6.317695568383113e-22}, {'Nacional': 1.1711616387089635e-18, 'Deportes': 1.6683970711347884e-22, 'Salud': 3.5213588788031577e-26, 'Ciencia y Tecnologia': 9.640219513821542e-23, 'Entretenimiento': 9.247575539311461e-32, 'Economia': 774036.5371540333, 'Internacional': 6.317695568383113e-22}, {'Nacional': 1.1711616387089635e-18, 'Deportes': 1.6683970711347884e-22, 'Salud': 3.5213588788031577e-26, 'Ciencia y Tecnologia': 9.640219513821542e-23, 'Entretenimiento': 9.247575539311461e-32, 'Economia': 774036.5371540333, 'Internacional': 6.317695568383113e-22}, {'Nacional': 1.1711616387089635e-18, 'Deportes': 1.6683970711347884e-22, 'Salud': 3.5213588788031577e-26, 'Ciencia y Tecnologia': 9.640219513821542e-23, 'Entretenimiento': 9.247575539311461e-32, 'Economia': 774036.5371540333, 'Internacional': 6.317695568383113e-22}, {'Nacional': 1.1711616387089635e-18, 'Deportes': 1.6683970711347884e-22, 'Salud': 3.5213588788031577e-26, 'Ciencia y Tecnologia': 9.640219513821542e-23, 'Entretenimiento': 9.247575539311461e-32, 'Economia': 774036.5371540333, 'Internacional': 6.317695568383113e-22}, {'Nacional': 1.1711616387089635e-18, 'Deportes': 1.6683970711347884e-22, 'Salud': 3.5213588788031577e-26, 'Ciencia y Tecnologia': 9.640219513821542e-23, 'Entretenimiento': 9.247575539311461e-32, 'Economia': 774036.5371540333, 'Internacional': 6.317695568383113e-22}, {'Nacional': 1.1711616387089635e-18, 'Deportes': 1.6683970711347884e-22, 'Salud': 3.5213588788031577e-26, 'Ciencia y Tecnologia': 9.640219513821542e-23, 'Entretenimiento': 9.247575539311461e-32, 'Economia': 774036.5371540333, 'Internacional': 6.317695568383113e-22}, {'Nacional': 1.1711616387089635e-18, 'Deportes': 1.6683970711347884e-22, 'Salud': 3.5213588788031577e-26, 'Ciencia y Tecnologia': 9.640219513821542e-23, 'Entretenimiento': 9.247575539311461e-32, 'Economia': 774036.5371540333, 'Internacional': 6.317695568383113e-22}, {'Nacional': 1.1711616387089635e-18, 'Deportes': 1.6683970711347884e-22, 'Salud': 3.5213588788031577e-26, 'Ciencia y Tecnologia': 9.640219513821542e-23, 'Entretenimiento': 9.247575539311461e-32, 'Economia': 774036.5371540333, 'Internacional': 6.317695568383113e-22}, {'Nacional': 1.1711616387089635e-18, 'Deportes': 1.6683970711347884e-22, 'Salud': 3.5213588788031577e-26, 'Ciencia y Tecnologia': 9.640219513821542e-23, 'Entretenimiento': 9.247575539311461e-32, 'Economia': 774036.5371540333, 'Internacional': 6.317695568383113e-22}, {'Nacional': 1.1711616387089635e-18, 'Deportes': 1.6683970711347884e-22, 'Salud': 3.5213588788031577e-26, 'Ciencia y Tecnologia': 9.640219513821542e-23, 'Entretenimiento': 9.247575539311461e-32, 'Economia': 774036.5371540333, 'Internacional': 6.317695568383113e-22}, {'Nacional': 1.1711616387089635e-18, 'Deportes': 1.6683970711347884e-22, 'Salud': 3.5213588788031577e-26, 'Ciencia y Tecnologia': 9.640219513821542e-23, 'Entretenimiento': 9.247575539311461e-32, 'Economia': 774036.5371540333, 'Internacional': 6.317695568383113e-22}, {'Nacional': 1.1711616387089635e-18, 'Deportes': 1.6683970711347884e-22, 'Salud': 3.5213588788031577e-26, 'Ciencia y Tecnologia': 9.640219513821542e-23, 'Entretenimiento': 9.247575539311461e-32, 'Economia': 774036.5371540333, 'Internacional': 6.317695568383113e-22}, {'Nacional': 1.1711616387089635e-18, 'Deportes': 1.6683970711347884e-22, 'Salud': 3.5213588788031577e-26, 'Ciencia y Tecnologia': 9.640219513821542e-23, 'Entretenimiento': 9.247575539311461e-32, 'Economia': 774036.5371540333, 'Internacional': 6.317695568383113e-22}, {'Nacional': 1.1711616387089635e-18, 'Deportes': 1.6683970711347884e-22, 'Salud': 3.5213588788031577e-26, 'Ciencia y Tecnologia': 9.640219513821542e-23, 'Entretenimiento': 9.247575539311461e-32, 'Economia': 774036.5371540333, 'Internacional': 6.317695568383113e-22}, {'Nacional': 1.1711616387089635e-18, 'Deportes': 1.6683970711347884e-22, 'Salud': 3.5213588788031577e-26, 'Ciencia y Tecnologia': 9.640219513821542e-23, 'Entretenimiento': 9.247575539311461e-32, 'Economia': 774036.5371540333, 'Internacional': 6.317695568383113e-22}, {'Nacional': 1.1711616387089635e-18, 'Deportes': 1.6683970711347884e-22, 'Salud': 3.5213588788031577e-26, 'Ciencia y Tecnologia': 9.640219513821542e-23, 'Entretenimiento': 9.247575539311461e-32, 'Economia': 774036.5371540333, 'Internacional': 6.317695568383113e-22}, {'Nacional': 1.1711616387089635e-18, 'Deportes': 1.6683970711347884e-22, 'Salud': 3.5213588788031577e-26, 'Ciencia y Tecnologia': 9.640219513821542e-23, 'Entretenimiento': 9.247575539311461e-32, 'Economia': 774036.5371540333, 'Internacional': 6.317695568383113e-22}, {'Nacional': 1.1711616387089635e-18, 'Deportes': 1.6683970711347884e-22, 'Salud': 3.5213588788031577e-26, 'Ciencia y Tecnologia': 9.640219513821542e-23, 'Entretenimiento': 9.247575539311461e-32, 'Economia': 774036.5371540333, 'Internacional': 6.317695568383113e-22}, {'Nacional': 1.1711616387089635e-18, 'Deportes': 1.6683970711347884e-22, 'Salud': 3.5213588788031577e-26, 'Ciencia y Tecnologia': 9.640219513821542e-23, 'Entretenimiento': 9.247575539311461e-32, 'Economia': 774036.5371540333, 'Internacional': 6.317695568383113e-22}, {'Nacional': 1.1711616387089635e-18, 'Deportes': 1.6683970711347884e-22, 'Salud': 3.5213588788031577e-26, 'Ciencia y Tecnologia': 9.640219513821542e-23, 'Entretenimiento': 9.247575539311461e-32, 'Economia': 774036.5371540333, 'Internacional': 6.317695568383113e-22}, {'Nacional': 1.1711616387089635e-18, 'Deportes': 1.6683970711347884e-22, 'Salud': 3.5213588788031577e-26, 'Ciencia y Tecnologia': 9.640219513821542e-23, 'Entretenimiento': 9.247575539311461e-32, 'Economia': 774036.5371540333, 'Internacional': 6.317695568383113e-22}, {'Nacional': 1.1711616387089635e-18, 'Deportes': 1.6683970711347884e-22, 'Salud': 3.5213588788031577e-26, 'Ciencia y Tecnologia': 9.640219513821542e-23, 'Entretenimiento': 9.247575539311461e-32, 'Economia': 774036.5371540333, 'Internacional': 6.317695568383113e-22}, {'Nacional': 1.1711616387089635e-18, 'Deportes': 1.6683970711347884e-22, 'Salud': 3.5213588788031577e-26, 'Ciencia y Tecnologia': 9.640219513821542e-23, 'Entretenimiento': 9.247575539311461e-32, 'Economia': 774036.5371540333, 'Internacional': 6.317695568383113e-22}, {'Nacional': 1.1711616387089635e-18, 'Deportes': 1.6683970711347884e-22, 'Salud': 3.5213588788031577e-26, 'Ciencia y Tecnologia': 9.640219513821542e-23, 'Entretenimiento': 9.247575539311461e-32, 'Economia': 774036.5371540333, 'Internacional': 6.317695568383113e-22}, {'Nacional': 1.1711616387089635e-18, 'Deportes': 1.6683970711347884e-22, 'Salud': 3.5213588788031577e-26, 'Ciencia y Tecnologia': 9.640219513821542e-23, 'Entretenimiento': 9.247575539311461e-32, 'Economia': 774036.5371540333, 'Internacional': 6.317695568383113e-22}, {'Nacional': 1.1711616387089635e-18, 'Deportes': 1.6683970711347884e-22, 'Salud': 3.5213588788031577e-26, 'Ciencia y Tecnologia': 9.640219513821542e-23, 'Entretenimiento': 9.247575539311461e-32, 'Economia': 774036.5371540333, 'Internacional': 6.317695568383113e-22}, {'Nacional': 1.1711616387089635e-18, 'Deportes': 1.6683970711347884e-22, 'Salud': 3.5213588788031577e-26, 'Ciencia y Tecnologia': 9.640219513821542e-23, 'Entretenimiento': 9.247575539311461e-32, 'Economia': 774036.5371540333, 'Internacional': 6.317695568383113e-22}, {'Nacional': 1.1711616387089635e-18, 'Deportes': 1.6683970711347884e-22, 'Salud': 3.5213588788031577e-26, 'Ciencia y Tecnologia': 9.640219513821542e-23, 'Entretenimiento': 9.247575539311461e-32, 'Economia': 774036.5371540333, 'Internacional': 6.317695568383113e-22}, {'Nacional': 1.1711616387089635e-18, 'Deportes': 1.6683970711347884e-22, 'Salud': 3.5213588788031577e-26, 'Ciencia y Tecnologia': 9.640219513821542e-23, 'Entretenimiento': 9.247575539311461e-32, 'Economia': 774036.5371540333, 'Internacional': 6.317695568383113e-22}, {'Nacional': 1.1711616387089635e-18, 'Deportes': 1.6683970711347884e-22, 'Salud': 3.5213588788031577e-26, 'Ciencia y Tecnologia': 9.640219513821542e-23, 'Entretenimiento': 9.247575539311461e-32, 'Economia': 774036.5371540333, 'Internacional': 6.317695568383113e-22}, {'Nacional': 1.1711616387089635e-18, 'Deportes': 1.6683970711347884e-22, 'Salud': 3.5213588788031577e-26, 'Ciencia y Tecnologia': 9.640219513821542e-23, 'Entretenimiento': 9.247575539311461e-32, 'Economia': 774036.5371540333, 'Internacional': 6.317695568383113e-22}, {'Nacional': 1.1711616387089635e-18, 'Deportes': 1.6683970711347884e-22, 'Salud': 3.5213588788031577e-26, 'Ciencia y Tecnologia': 9.640219513821542e-23, 'Entretenimiento': 9.247575539311461e-32, 'Economia': 774036.5371540333, 'Internacional': 6.317695568383113e-22}, {'Nacional': 1.1711616387089635e-18, 'Deportes': 1.6683970711347884e-22, 'Salud': 3.5213588788031577e-26, 'Ciencia y Tecnologia': 9.640219513821542e-23, 'Entretenimiento': 9.247575539311461e-32, 'Economia': 774036.5371540333, 'Internacional': 6.317695568383113e-22}, {'Nacional': 1.1711616387089635e-18, 'Deportes': 1.6683970711347884e-22, 'Salud': 3.5213588788031577e-26, 'Ciencia y Tecnologia': 9.640219513821542e-23, 'Entretenimiento': 9.247575539311461e-32, 'Economia': 774036.5371540333, 'Internacional': 6.317695568383113e-22}, {'Nacional': 1.1711616387089635e-18, 'Deportes': 1.6683970711347884e-22, 'Salud': 3.5213588788031577e-26, 'Ciencia y Tecnologia': 9.640219513821542e-23, 'Entretenimiento': 9.247575539311461e-32, 'Economia': 774036.5371540333, 'Internacional': 6.317695568383113e-22}, {'Nacional': 1.1711616387089635e-18, 'Deportes': 1.6683970711347884e-22, 'Salud': 3.5213588788031577e-26, 'Ciencia y Tecnologia': 9.640219513821542e-23, 'Entretenimiento': 9.247575539311461e-32, 'Economia': 774036.5371540333, 'Internacional': 6.317695568383113e-22}, {'Nacional': 1.1711616387089635e-18, 'Deportes': 1.6683970711347884e-22, 'Salud': 3.5213588788031577e-26, 'Ciencia y Tecnologia': 9.640219513821542e-23, 'Entretenimiento': 9.247575539311461e-32, 'Economia': 774036.5371540333, 'Internacional': 6.317695568383113e-22}, {'Nacional': 1.1711616387089635e-18, 'Deportes': 1.6683970711347884e-22, 'Salud': 3.5213588788031577e-26, 'Ciencia y Tecnologia': 9.640219513821542e-23, 'Entretenimiento': 9.247575539311461e-32, 'Economia': 774036.5371540333, 'Internacional': 6.317695568383113e-22}, {'Nacional': 1.1711616387089635e-18, 'Deportes': 1.6683970711347884e-22, 'Salud': 3.5213588788031577e-26, 'Ciencia y Tecnologia': 9.640219513821542e-23, 'Entretenimiento': 9.247575539311461e-32, 'Economia': 774036.5371540333, 'Internacional': 6.317695568383113e-22}, {'Nacional': 1.1711616387089635e-18, 'Deportes': 1.6683970711347884e-22, 'Salud': 3.5213588788031577e-26, 'Ciencia y Tecnologia': 9.640219513821542e-23, 'Entretenimiento': 9.247575539311461e-32, 'Economia': 774036.5371540333, 'Internacional': 6.317695568383113e-22}, {'Nacional': 1.1711616387089635e-18, 'Deportes': 1.6683970711347884e-22, 'Salud': 3.5213588788031577e-26, 'Ciencia y Tecnologia': 9.640219513821542e-23, 'Entretenimiento': 9.247575539311461e-32, 'Economia': 774036.5371540333, 'Internacional': 6.317695568383113e-22}, {'Nacional': 1.1711616387089635e-18, 'Deportes': 1.6683970711347884e-22, 'Salud': 3.5213588788031577e-26, 'Ciencia y Tecnologia': 9.640219513821542e-23, 'Entretenimiento': 9.247575539311461e-32, 'Economia': 774036.5371540333, 'Internacional': 6.317695568383113e-22}, {'Nacional': 1.1711616387089635e-18, 'Deportes': 1.6683970711347884e-22, 'Salud': 3.5213588788031577e-26, 'Ciencia y Tecnologia': 9.640219513821542e-23, 'Entretenimiento': 9.247575539311461e-32, 'Economia': 774036.5371540333, 'Internacional': 6.317695568383113e-22}, {'Nacional': 1.1711616387089635e-18, 'Deportes': 1.6683970711347884e-22, 'Salud': 3.5213588788031577e-26, 'Ciencia y Tecnologia': 9.640219513821542e-23, 'Entretenimiento': 9.247575539311461e-32, 'Economia': 774036.5371540333, 'Internacional': 6.317695568383113e-22}, {'Nacional': 1.1711616387089635e-18, 'Deportes': 1.6683970711347884e-22, 'Salud': 3.5213588788031577e-26, 'Ciencia y Tecnologia': 9.640219513821542e-23, 'Entretenimiento': 9.247575539311461e-32, 'Economia': 774036.5371540333, 'Internacional': 6.317695568383113e-22}, {'Nacional': 1.1711616387089635e-18, 'Deportes': 1.6683970711347884e-22, 'Salud': 3.5213588788031577e-26, 'Ciencia y Tecnologia': 9.640219513821542e-23, 'Entretenimiento': 9.247575539311461e-32, 'Economia': 774036.5371540333, 'Internacional': 6.317695568383113e-22}, {'Nacional': 1.1711616387089635e-18, 'Deportes': 1.6683970711347884e-22, 'Salud': 3.5213588788031577e-26, 'Ciencia y Tecnologia': 9.640219513821542e-23, 'Entretenimiento': 9.247575539311461e-32, 'Economia': 774036.5371540333, 'Internacional': 6.317695568383113e-22}, {'Nacional': 1.1711616387089635e-18, 'Deportes': 1.6683970711347884e-22, 'Salud': 3.5213588788031577e-26, 'Ciencia y Tecnologia': 9.640219513821542e-23, 'Entretenimiento': 9.247575539311461e-32, 'Economia': 774036.5371540333, 'Internacional': 6.317695568383113e-22}, {'Nacional': 1.1711616387089635e-18, 'Deportes': 1.6683970711347884e-22, 'Salud': 3.5213588788031577e-26, 'Ciencia y Tecnologia': 9.640219513821542e-23, 'Entretenimiento': 9.247575539311461e-32, 'Economia': 774036.5371540333, 'Internacional': 6.317695568383113e-22}, {'Nacional': 1.1711616387089635e-18, 'Deportes': 1.6683970711347884e-22, 'Salud': 3.5213588788031577e-26, 'Ciencia y Tecnologia': 9.640219513821542e-23, 'Entretenimiento': 9.247575539311461e-32, 'Economia': 774036.5371540333, 'Internacional': 6.317695568383113e-22}, {'Nacional': 1.1711616387089635e-18, 'Deportes': 1.6683970711347884e-22, 'Salud': 3.5213588788031577e-26, 'Ciencia y Tecnologia': 9.640219513821542e-23, 'Entretenimiento': 9.247575539311461e-32, 'Economia': 774036.5371540333, 'Internacional': 6.317695568383113e-22}]\n"
     ]
    }
   ],
   "source": [
    "# Calcular curva ROC\n",
    "u = [0.1 * x for x in range(1, 10)]\n",
    "\n",
    "def calc_word_prob(word):\n",
    "    totalCount, wordCount = 0, 0\n",
    "    for category in categories:\n",
    "        \n",
    "        for key in categories_word_appearances[category].keys():\n",
    "            totalCount += categories_word_appearances[category][key]\n",
    "        \n",
    "        if word in categories_word_appearances[category]:\n",
    "            wordCount += categories_word_appearances[category][word]\n",
    "    # print(f\"wordCount / float(totalCount): {wordCount / float(totalCount)}\")  \n",
    "    return (wordCount + 1) / float(totalCount)\n",
    "    \n",
    "    \n",
    "    \n",
    "\n",
    "def classify_with_prob(title):\n",
    "    words = split_and_sanitize(title)\n",
    "    vs = {}\n",
    "    for category in categories:\n",
    "        v = category_relative_freq.loc[category]\n",
    "        for word in words:\n",
    "            # word count / total de apariciones de todas las palabras\n",
    "            word_prob = calc_word_prob(word)\n",
    "            \n",
    "            if word in word_relative_frequencies[category]:\n",
    "                v *= word_relative_frequencies[category][word] / word_prob\n",
    "            else:\n",
    "                v *= zero_probabilities[category]\n",
    "        vs[category] = v \n",
    "    \n",
    "    return vs\n",
    "\n",
    "classification_probs = []\n",
    "\n",
    "for j in u:\n",
    "    for i in range(10):#len(test)):\n",
    "        row = test.iloc[0]\n",
    "        category = row['categoria']\n",
    "        title = row['titular']\n",
    "        classification_probs.append(classify_with_prob(title))\n",
    "\n",
    "print(classification_probs)\n",
    "\n",
    "        \n",
    "    \n",
    "    \n",
    "    \n",
    "\n"
   ]
  },
  {
   "cell_type": "code",
   "execution_count": null,
   "id": "external-grass",
   "metadata": {},
   "outputs": [],
   "source": []
  }
 ],
 "metadata": {
  "kernelspec": {
   "display_name": "Python 3",
   "language": "python",
   "name": "python3"
  },
  "language_info": {
   "codemirror_mode": {
    "name": "ipython",
    "version": 3
   },
   "file_extension": ".py",
   "mimetype": "text/x-python",
   "name": "python",
   "nbconvert_exporter": "python",
   "pygments_lexer": "ipython3",
   "version": "3.8.6"
  }
 },
 "nbformat": 4,
 "nbformat_minor": 5
}
