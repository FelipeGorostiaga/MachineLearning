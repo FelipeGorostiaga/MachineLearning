{
 "cells": [
  {
   "cell_type": "markdown",
   "id": "limiting-mouse",
   "metadata": {},
   "source": [
    "## Clasificador de Noticias Argentinas "
   ]
  },
  {
   "cell_type": "code",
   "execution_count": 2,
   "id": "statewide-beads",
   "metadata": {},
   "outputs": [],
   "source": [
    "import pandas as pd\n",
    "\n",
    "df = pd.read_excel('../../res/tp1/Noticias_argentinas.xlsx', sheet_name='aa_bayes')"
   ]
  },
  {
   "cell_type": "code",
   "execution_count": 3,
   "id": "educated-bermuda",
   "metadata": {},
   "outputs": [
    {
     "data": {
      "text/html": [
       "<div>\n",
       "<style scoped>\n",
       "    .dataframe tbody tr th:only-of-type {\n",
       "        vertical-align: middle;\n",
       "    }\n",
       "\n",
       "    .dataframe tbody tr th {\n",
       "        vertical-align: top;\n",
       "    }\n",
       "\n",
       "    .dataframe thead th {\n",
       "        text-align: right;\n",
       "    }\n",
       "</style>\n",
       "<table border=\"1\" class=\"dataframe\">\n",
       "  <thead>\n",
       "    <tr style=\"text-align: right;\">\n",
       "      <th></th>\n",
       "      <th>titular</th>\n",
       "      <th>categoria</th>\n",
       "    </tr>\n",
       "  </thead>\n",
       "  <tbody>\n",
       "    <tr>\n",
       "      <th>0</th>\n",
       "      <td>Trabajadores del Buenos Aires Design cortan la...</td>\n",
       "      <td>Nacional</td>\n",
       "    </tr>\n",
       "    <tr>\n",
       "      <th>1</th>\n",
       "      <td>La boda del gobernador Gerardo Morales: tapas ...</td>\n",
       "      <td>Nacional</td>\n",
       "    </tr>\n",
       "    <tr>\n",
       "      <th>2</th>\n",
       "      <td>Cumbre del G20: qué calles estarán cortadas y ...</td>\n",
       "      <td>Nacional</td>\n",
       "    </tr>\n",
       "    <tr>\n",
       "      <th>3</th>\n",
       "      <td>Una fractura que confirma la candidatura de Cr...</td>\n",
       "      <td>Nacional</td>\n",
       "    </tr>\n",
       "    <tr>\n",
       "      <th>4</th>\n",
       "      <td>Infierno grande: ola de divorcios en un pueblo...</td>\n",
       "      <td>Nacional</td>\n",
       "    </tr>\n",
       "  </tbody>\n",
       "</table>\n",
       "</div>"
      ],
      "text/plain": [
       "                                             titular categoria\n",
       "0  Trabajadores del Buenos Aires Design cortan la...  Nacional\n",
       "1  La boda del gobernador Gerardo Morales: tapas ...  Nacional\n",
       "2  Cumbre del G20: qué calles estarán cortadas y ...  Nacional\n",
       "3  Una fractura que confirma la candidatura de Cr...  Nacional\n",
       "4  Infierno grande: ola de divorcios en un pueblo...  Nacional"
      ]
     },
     "execution_count": 3,
     "metadata": {},
     "output_type": "execute_result"
    }
   ],
   "source": [
    "# Nos quedamos con los atributos de interes\n",
    "\n",
    "df = df[[\"titular\", \"categoria\"]]\n",
    "\n",
    "# removemos las categorias que no necesitamos ('Destacadas', 'Noticias Destacadas')\n",
    "\n",
    "\n",
    "df.head()"
   ]
  },
  {
   "cell_type": "code",
   "execution_count": 4,
   "id": "enormous-oakland",
   "metadata": {},
   "outputs": [
    {
     "name": "stdout",
     "output_type": "stream",
     "text": [
      "['Nacional' 'Deportes' 'Salud' 'Ciencia y Tecnologia' 'Entretenimiento'\n",
      " 'Economia' 'Internacional']\n"
     ]
    }
   ],
   "source": [
    "df = df.loc[df['categoria'].isin((\"Nacional\", \"Economia\", \"Internacional\", \"Deportes\", \"Salud\", \"Ciencia y Tecnologia\", \"Entretenimiento\"))]\n",
    "df.head()\n",
    "categories = df['categoria'].unique()\n",
    "print(categories)\n"
   ]
  },
  {
   "cell_type": "code",
   "execution_count": 5,
   "id": "purple-niger",
   "metadata": {},
   "outputs": [
    {
     "data": {
      "text/plain": [
       "26961"
      ]
     },
     "execution_count": 5,
     "metadata": {},
     "output_type": "execute_result"
    }
   ],
   "source": [
    "len(df)"
   ]
  },
  {
   "cell_type": "code",
   "execution_count": 6,
   "id": "imported-temperature",
   "metadata": {},
   "outputs": [
    {
     "data": {
      "text/plain": [
       "Nacional                3860\n",
       "Ciencia y Tecnologia    3856\n",
       "Deportes                3855\n",
       "Economia                3850\n",
       "Internacional           3850\n",
       "Entretenimiento         3850\n",
       "Salud                   3840\n",
       "Name: categoria, dtype: int64"
      ]
     },
     "execution_count": 6,
     "metadata": {},
     "output_type": "execute_result"
    }
   ],
   "source": [
    "df['categoria'].value_counts()"
   ]
  },
  {
   "cell_type": "code",
   "execution_count": 7,
   "id": "chinese-details",
   "metadata": {},
   "outputs": [
    {
     "data": {
      "text/html": [
       "<div>\n",
       "<style scoped>\n",
       "    .dataframe tbody tr th:only-of-type {\n",
       "        vertical-align: middle;\n",
       "    }\n",
       "\n",
       "    .dataframe tbody tr th {\n",
       "        vertical-align: top;\n",
       "    }\n",
       "\n",
       "    .dataframe thead th {\n",
       "        text-align: right;\n",
       "    }\n",
       "</style>\n",
       "<table border=\"1\" class=\"dataframe\">\n",
       "  <thead>\n",
       "    <tr style=\"text-align: right;\">\n",
       "      <th></th>\n",
       "      <th>titular</th>\n",
       "      <th>categoria</th>\n",
       "    </tr>\n",
       "  </thead>\n",
       "  <tbody>\n",
       "    <tr>\n",
       "      <th>6336</th>\n",
       "      <td>Descuartizó en tres partes a su mujer y escond...</td>\n",
       "      <td>Nacional</td>\n",
       "    </tr>\n",
       "    <tr>\n",
       "      <th>2463</th>\n",
       "      <td>Cómo es Orión, la nave espacial con la que la ...</td>\n",
       "      <td>Ciencia y Tecnologia</td>\n",
       "    </tr>\n",
       "    <tr>\n",
       "      <th>10133</th>\n",
       "      <td>Una de cada tres personas con VIH en Latinoamé...</td>\n",
       "      <td>Salud</td>\n",
       "    </tr>\n",
       "    <tr>\n",
       "      <th>7123</th>\n",
       "      <td>Trump redobla su amenaza de cerrar la frontera...</td>\n",
       "      <td>Internacional</td>\n",
       "    </tr>\n",
       "    <tr>\n",
       "      <th>15372</th>\n",
       "      <td>ANSES | Adelantan el pago de jubilaciones, pen...</td>\n",
       "      <td>Nacional</td>\n",
       "    </tr>\n",
       "  </tbody>\n",
       "</table>\n",
       "</div>"
      ],
      "text/plain": [
       "                                                 titular             categoria\n",
       "6336   Descuartizó en tres partes a su mujer y escond...              Nacional\n",
       "2463   Cómo es Orión, la nave espacial con la que la ...  Ciencia y Tecnologia\n",
       "10133  Una de cada tres personas con VIH en Latinoamé...                 Salud\n",
       "7123   Trump redobla su amenaza de cerrar la frontera...         Internacional\n",
       "15372  ANSES | Adelantan el pago de jubilaciones, pen...              Nacional"
      ]
     },
     "execution_count": 7,
     "metadata": {},
     "output_type": "execute_result"
    }
   ],
   "source": [
    "from sklearn.model_selection import train_test_split\n",
    "\n",
    "# Separar los datos en datos de entrenamiento y testeo\n",
    "train, test = train_test_split(df, test_size=0.2)\n",
    "train.head()\n",
    "test.head()"
   ]
  },
  {
   "cell_type": "code",
   "execution_count": 9,
   "id": "sixth-booth",
   "metadata": {},
   "outputs": [],
   "source": [
    "textos = list(df['titular'])"
   ]
  },
  {
   "cell_type": "code",
   "execution_count": 10,
   "id": "described-denmark",
   "metadata": {},
   "outputs": [],
   "source": [
    "# Crear diccionario de categorias con diccionarios vacios para las palabras de los titulares\n",
    "categories_word_appearances = { i : {} for i in categories }"
   ]
  },
  {
   "cell_type": "code",
   "execution_count": 11,
   "id": "geographic-oxford",
   "metadata": {},
   "outputs": [
    {
     "name": "stdout",
     "output_type": "stream",
     "text": [
      "{'Nacional': {}, 'Deportes': {}, 'Salud': {}, 'Ciencia y Tecnologia': {}, 'Entretenimiento': {}, 'Economia': {}, 'Internacional': {}}\n"
     ]
    }
   ],
   "source": [
    "print(categories_word_appearances)"
   ]
  },
  {
   "cell_type": "code",
   "execution_count": 12,
   "id": "unknown-integrity",
   "metadata": {},
   "outputs": [],
   "source": [
    "import re\n",
    "\n",
    "def split_and_sanitize(title):\n",
    "    words = title.split()  # se separan las palabras según espacios (quita todos los espacios)\n",
    "    words = list(map(lambda x: re.sub(\"[^\\w\\s]\", '', x), words))  # reemplazo de símbolos por ningún caracter\n",
    "    return words\n",
    "\n",
    "for i in range(len(train)):\n",
    "    row = train.iloc[i]\n",
    "    category = row['categoria']\n",
    "    title = row['titular']\n",
    "    words = split_and_sanitize(title)\n",
    "    \n",
    "    for word in words:\n",
    "            if word in categories_word_appearances[category]:\n",
    "                categories_word_appearances[category][word] += 1\n",
    "            else:\n",
    "                categories_word_appearances[category][word] = 1\n",
    "                \n",
    "    \n",
    "    \n",
    "    "
   ]
  },
  {
   "cell_type": "code",
   "execution_count": 13,
   "id": "lesser-sample",
   "metadata": {},
   "outputs": [
    {
     "name": "stdout",
     "output_type": "stream",
     "text": [
      "68\n"
     ]
    }
   ],
   "source": [
    "print(categories_word_appearances['Entretenimiento']['Pampita'])"
   ]
  },
  {
   "cell_type": "code",
   "execution_count": 14,
   "id": "veterinary-ceiling",
   "metadata": {},
   "outputs": [
    {
     "name": "stdout",
     "output_type": "stream",
     "text": [
      "Entretenimiento         0.143871\n",
      "Deportes                0.143500\n",
      "Ciencia y Tecnologia    0.143175\n",
      "Nacional                0.142851\n",
      "Salud                   0.142711\n",
      "Internacional           0.142387\n",
      "Economia                0.141506\n",
      "Name: categoria, dtype: float64\n",
      "0.0014641599117260111\n"
     ]
    }
   ],
   "source": [
    "# Calcular probabilidades de las clases P(category) para el conjunto de entrenamiento\n",
    "\n",
    "category_relative_freq = train['categoria'].value_counts() / len(train)  # P(category)\n",
    "print(category_relative_freq)\n",
    "\n",
    "# Calcular las probabilidades condicionales P(word | category)\n",
    "word_relative_frequencies = { i : {} for i in categories }\n",
    "zero_probabilities = { i : 0 for i in categories } # Laplace correction in case a word does not appear in a category\n",
    "for category in categories:\n",
    "    word_appearances_sum = sum(categories_word_appearances[category].values())\n",
    "    laplace_denominator = float(word_appearances_sum + len(categories_word_appearances[category].keys()))\n",
    "    zero_probabilities[category] = 1 / laplace_denominator\n",
    "    for word, word_count in categories_word_appearances[category].items():\n",
    "        word_relative_frequencies[category][word] = (word_count + 1) / laplace_denominator\n",
    "\n",
    "print(word_relative_frequencies['Entretenimiento']['Pampita'])\n",
    "# Objetivo final:\n",
    "#   P (category | [word])\n",
    "# = P ([word] | category) * P (category)      ##  / P ([word])\n",
    "# = prod(P (word | category)) * P (category)"
   ]
  },
  {
   "cell_type": "code",
   "execution_count": 15,
   "id": "victorian-conservation",
   "metadata": {},
   "outputs": [
    {
     "name": "stdout",
     "output_type": "stream",
     "text": [
      "La noticia 'Pampita fue a la mesa de Mirtha' pertenece a Entretenimiento\n",
      "La noticia 'Messi metió un gol' pertenece a Deportes\n",
      "La noticia 'Apple lanzó un nuevo iPhone' pertenece a Ciencia y Tecnologia\n"
     ]
    }
   ],
   "source": [
    "def classify(title):\n",
    "    words = split_and_sanitize(title)\n",
    "    vs = {}\n",
    "    for category in categories:\n",
    "        v = category_relative_freq.loc[category]\n",
    "        for word in words:\n",
    "            if word in word_relative_frequencies[category]:\n",
    "                v *= word_relative_frequencies[category][word]\n",
    "            else:\n",
    "                v *= zero_probabilities[category]\n",
    "        vs[category] = v\n",
    "    mx = (None, 0)\n",
    "    for category, v in vs.items():\n",
    "        if v > mx[1]:\n",
    "            mx = (category, v)\n",
    "    return mx[0]\n",
    "\n",
    "noticia = 'Pampita fue a la mesa de Mirtha'\n",
    "print(f\"La noticia '{noticia}' pertenece a {classify(noticia)}\")\n",
    "noticia = 'Messi metió un gol'\n",
    "print(f\"La noticia '{noticia}' pertenece a {classify(noticia)}\")\n",
    "noticia = 'Apple lanzó un nuevo iPhone'\n",
    "print(f\"La noticia '{noticia}' pertenece a {classify(noticia)}\")"
   ]
  },
  {
   "cell_type": "code",
   "execution_count": 57,
   "id": "apart-cargo",
   "metadata": {},
   "outputs": [
    {
     "name": "stdout",
     "output_type": "stream",
     "text": [
      "{'Nacional': {'Nacional': 711, 'Deportes': 10, 'Salud': 5, 'Ciencia y Tecnologia': 0, 'Entretenimiento': 7, 'Economia': 20, 'Internacional': 26}, 'Deportes': {'Nacional': 7, 'Deportes': 731, 'Salud': 5, 'Ciencia y Tecnologia': 0, 'Entretenimiento': 11, 'Economia': 2, 'Internacional': 4}, 'Salud': {'Nacional': 1, 'Deportes': 0, 'Salud': 756, 'Ciencia y Tecnologia': 1, 'Entretenimiento': 1, 'Economia': 0, 'Internacional': 3}, 'Ciencia y Tecnologia': {'Nacional': 1, 'Deportes': 0, 'Salud': 5, 'Ciencia y Tecnologia': 747, 'Entretenimiento': 4, 'Economia': 10, 'Internacional': 1}, 'Entretenimiento': {'Nacional': 8, 'Deportes': 4, 'Salud': 6, 'Ciencia y Tecnologia': 6, 'Entretenimiento': 710, 'Economia': 5, 'Internacional': 8}, 'Economia': {'Nacional': 4, 'Deportes': 5, 'Salud': 6, 'Ciencia y Tecnologia': 10, 'Entretenimiento': 1, 'Economia': 765, 'Internacional': 7}, 'Internacional': {'Nacional': 25, 'Deportes': 5, 'Salud': 16, 'Ciencia y Tecnologia': 6, 'Entretenimiento': 10, 'Economia': 13, 'Internacional': 704}}\n",
      "\n",
      "{'Nacional': [711, 10, 5, 0, 7, 20, 26], 'Deportes': [7, 731, 5, 0, 11, 2, 4], 'Salud': [1, 0, 756, 1, 1, 0, 3], 'Ciencia y Tecnologia': [1, 0, 5, 747, 4, 10, 1], 'Entretenimiento': [8, 4, 6, 6, 710, 5, 8], 'Economia': [4, 5, 6, 10, 1, 765, 7], 'Internacional': [25, 5, 16, 6, 10, 13, 704]}\n",
      "\n",
      "                      Nacional  Deportes  Salud  Ciencia y Tecnologia  \\\n",
      "Nacional                   711        10      5                     0   \n",
      "Deportes                     7       731      5                     0   \n",
      "Salud                        1         0    756                     1   \n",
      "Ciencia y Tecnologia         1         0      5                   747   \n",
      "Entretenimiento              8         4      6                     6   \n",
      "Economia                     4         5      6                    10   \n",
      "Internacional               25         5     16                     6   \n",
      "\n",
      "                      Entretenimiento  Economia  Internacional  \n",
      "Nacional                            7        20             26  \n",
      "Deportes                           11         2              4  \n",
      "Salud                               1         0              3  \n",
      "Ciencia y Tecnologia                4        10              1  \n",
      "Entretenimiento                   710         5              8  \n",
      "Economia                            1       765              7  \n",
      "Internacional                      10        13            704  \n"
     ]
    }
   ],
   "source": [
    "confusion_matrix = { i : {} for i in categories }\n",
    "columns = []\n",
    "for key in confusion_matrix.keys():\n",
    "    columns.append(key)\n",
    "    confusion_matrix[key] = { i : 0 for i in categories } # {'Deportes': {'Deportes': 700, 'Entretenimiento': 3, ...}, ...}\n",
    "\n",
    "for i in range(len(test)):\n",
    "    row = test.iloc[i]\n",
    "    category = row['categoria']\n",
    "    title = row['titular']\n",
    "    result = classify(title)\n",
    "    confusion_matrix[category][result] += 1\n",
    "\n",
    "print(confusion_matrix)\n",
    "confusion_df = { key : list(confusion_matrix[key].values()) for key in confusion_matrix.keys() }\n",
    "print('')\n",
    "print(confusion_df)\n",
    "confusion_df = pd.DataFrame.from_dict(confusion_df, orient='index', columns=columns)\n",
    "print('')\n",
    "print(confusion_df)"
   ]
  },
  {
   "cell_type": "code",
   "execution_count": 71,
   "id": "annoying-single",
   "metadata": {},
   "outputs": [
    {
     "data": {
      "text/html": [
       "<div>\n",
       "<style scoped>\n",
       "    .dataframe tbody tr th:only-of-type {\n",
       "        vertical-align: middle;\n",
       "    }\n",
       "\n",
       "    .dataframe tbody tr th {\n",
       "        vertical-align: top;\n",
       "    }\n",
       "\n",
       "    .dataframe thead th {\n",
       "        text-align: right;\n",
       "    }\n",
       "</style>\n",
       "<table border=\"1\" class=\"dataframe\">\n",
       "  <thead>\n",
       "    <tr style=\"text-align: right;\">\n",
       "      <th></th>\n",
       "      <th>tp</th>\n",
       "      <th>tn</th>\n",
       "      <th>fp</th>\n",
       "      <th>fn</th>\n",
       "      <th>accuracy</th>\n",
       "      <th>precision</th>\n",
       "      <th>recall</th>\n",
       "      <th>f1</th>\n",
       "    </tr>\n",
       "  </thead>\n",
       "  <tbody>\n",
       "    <tr>\n",
       "      <th>Nacional</th>\n",
       "      <td>711</td>\n",
       "      <td>4413</td>\n",
       "      <td>46</td>\n",
       "      <td>68</td>\n",
       "      <td>0.978236</td>\n",
       "      <td>0.939234</td>\n",
       "      <td>0.912709</td>\n",
       "      <td>0.974422</td>\n",
       "    </tr>\n",
       "    <tr>\n",
       "      <th>Deportes</th>\n",
       "      <td>731</td>\n",
       "      <td>4393</td>\n",
       "      <td>24</td>\n",
       "      <td>29</td>\n",
       "      <td>0.989762</td>\n",
       "      <td>0.968212</td>\n",
       "      <td>0.961842</td>\n",
       "      <td>0.974422</td>\n",
       "    </tr>\n",
       "    <tr>\n",
       "      <th>Salud</th>\n",
       "      <td>756</td>\n",
       "      <td>4368</td>\n",
       "      <td>43</td>\n",
       "      <td>6</td>\n",
       "      <td>0.990528</td>\n",
       "      <td>0.946183</td>\n",
       "      <td>0.992126</td>\n",
       "      <td>0.974422</td>\n",
       "    </tr>\n",
       "    <tr>\n",
       "      <th>Ciencia y Tecnologia</th>\n",
       "      <td>747</td>\n",
       "      <td>4377</td>\n",
       "      <td>23</td>\n",
       "      <td>21</td>\n",
       "      <td>0.991486</td>\n",
       "      <td>0.970130</td>\n",
       "      <td>0.972656</td>\n",
       "      <td>0.974422</td>\n",
       "    </tr>\n",
       "    <tr>\n",
       "      <th>Entretenimiento</th>\n",
       "      <td>710</td>\n",
       "      <td>4414</td>\n",
       "      <td>34</td>\n",
       "      <td>37</td>\n",
       "      <td>0.986333</td>\n",
       "      <td>0.954301</td>\n",
       "      <td>0.950469</td>\n",
       "      <td>0.974422</td>\n",
       "    </tr>\n",
       "  </tbody>\n",
       "</table>\n",
       "</div>"
      ],
      "text/plain": [
       "                       tp    tn  fp  fn  accuracy  precision    recall  \\\n",
       "Nacional              711  4413  46  68  0.978236   0.939234  0.912709   \n",
       "Deportes              731  4393  24  29  0.989762   0.968212  0.961842   \n",
       "Salud                 756  4368  43   6  0.990528   0.946183  0.992126   \n",
       "Ciencia y Tecnologia  747  4377  23  21  0.991486   0.970130  0.972656   \n",
       "Entretenimiento       710  4414  34  37  0.986333   0.954301  0.950469   \n",
       "\n",
       "                            f1  \n",
       "Nacional              0.974422  \n",
       "Deportes              0.974422  \n",
       "Salud                 0.974422  \n",
       "Ciencia y Tecnologia  0.974422  \n",
       "Entretenimiento       0.974422  "
      ]
     },
     "execution_count": 71,
     "metadata": {},
     "output_type": "execute_result"
    }
   ],
   "source": [
    "true = []\n",
    "predicted = []\n",
    "\n",
    "for i in range(len(test)):\n",
    "    row = test.iloc[i]\n",
    "    true.append(row['categoria'])\n",
    "    title = row['titular']\n",
    "    predicted.append(classify(title))\n",
    "\n",
    "    \n",
    "# Calculamos las metricas para cada categoria    \n",
    "    \n",
    "category_metrics = { i : {'tp': 0, 'tn': 0, 'fp': 0, 'fn': 0, 'accuracy': 0, 'precision': 0, 'recall': 0,  'f1': 0} for i in categories }\n",
    "\n",
    "for i, category in enumerate(categories):\n",
    "    \n",
    "    # metricas simples\n",
    "    tp = confusion_df.iloc[i,i]\n",
    "    tn = sum(np.diag(confusion_df)) - tp\n",
    "    fn = sum(confusion_df.loc[category]) - tp\n",
    "    fp = sum(confusion_df[category]) - tp\n",
    "    \n",
    "    category_metrics[category]['tp'] = tp\n",
    "    category_metrics[category]['tn'] = tn\n",
    "    category_metrics[category]['fp'] = fp\n",
    "    category_metrics[category]['fn'] = fn\n",
    "    \n",
    "    # metricas compuestas\n",
    "    category_metrics[category]['accuracy'] = (tp + tn) / (tp + tn + fn + fp)\n",
    "    category_metrics[category]['precision'] = tp / (tp + fp)\n",
    "    category_metrics[category]['recall'] = tp / (tp + fn)\n",
    "    category_metrics[category]['f1'] = (2 * precision * recall) / (precision + recall)\n",
    "\n",
    "metric_cols = ['tp', 'tn', 'fp', 'fn', 'accuracy', 'precision', 'recall', 'f1']\n",
    "metrics_df = { key : list(category_metrics[key].values()) for key in category_metrics.keys() }    \n",
    "metrics_df = pd.DataFrame.from_dict(category_metrics, orient='index', columns=metric_cols)\n",
    "metrics_df.head()\n",
    "\n",
    "# Calculamos las metricas para el classifier en general (checkear cual es la forma correcta)\n",
    "    \n",
    "tp, fp, fn = 0, 0, 0\n",
    "\n",
    "\n",
    "for i, category in enumerate(categories):\n",
    "    tp += confusion_df.iloc[i, i]\n",
    "    fp += sum(confusion_df.iloc[i, :i])\n",
    "    fn += sum(confusion_df.iloc[i, i+1:])\n",
    "    \n",
    "tn = confusion_df.to_numpy().sum() - (fp + fn + tp)\n",
    "\n",
    "accuracy = (tp + tn) / (tp + tn + fn + fp)\n",
    "precision = tp / (tp + fp)\n",
    "recall = tp / (tp + fn)\n",
    "f1_score = (2 * precision * recall) / (precision + recall)\n",
    "\n",
    "metrics_df.head()\n",
    "\n",
    "    \n",
    "\n"
   ]
  },
  {
   "cell_type": "code",
   "execution_count": null,
   "id": "challenging-console",
   "metadata": {},
   "outputs": [],
   "source": [
    "# Calcular curva ROC\n",
    "\n",
    "u = [0.1, 0.2, 0.3, 0.4, 0.4, 0.5, 0.6, 0.7, 0.8, 0.9]\n",
    "\n"
   ]
  }
 ],
 "metadata": {
  "kernelspec": {
   "display_name": "Python 3",
   "language": "python",
   "name": "python3"
  },
  "language_info": {
   "codemirror_mode": {
    "name": "ipython",
    "version": 3
   },
   "file_extension": ".py",
   "mimetype": "text/x-python",
   "name": "python",
   "nbconvert_exporter": "python",
   "pygments_lexer": "ipython3",
   "version": "3.7.2"
  }
 },
 "nbformat": 4,
 "nbformat_minor": 5
}
