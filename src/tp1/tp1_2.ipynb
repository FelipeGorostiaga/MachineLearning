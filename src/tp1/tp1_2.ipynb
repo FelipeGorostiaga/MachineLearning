{
 "cells": [
  {
   "cell_type": "markdown",
   "id": "german-charger",
   "metadata": {},
   "source": [
    "## Clasificador de Noticias Argentinas "
   ]
  },
  {
   "cell_type": "code",
   "execution_count": 1,
   "id": "incorporate-internship",
   "metadata": {},
   "outputs": [],
   "source": [
    "import pandas as pd\n",
    "\n",
    "df = pd.read_excel('../../res/tp1/Noticias_argentinas.xlsx', sheet_name='aa_bayes')"
   ]
  },
  {
   "cell_type": "code",
   "execution_count": 2,
   "id": "gorgeous-windows",
   "metadata": {},
   "outputs": [
    {
     "data": {
      "text/html": [
       "<div>\n",
       "<style scoped>\n",
       "    .dataframe tbody tr th:only-of-type {\n",
       "        vertical-align: middle;\n",
       "    }\n",
       "\n",
       "    .dataframe tbody tr th {\n",
       "        vertical-align: top;\n",
       "    }\n",
       "\n",
       "    .dataframe thead th {\n",
       "        text-align: right;\n",
       "    }\n",
       "</style>\n",
       "<table border=\"1\" class=\"dataframe\">\n",
       "  <thead>\n",
       "    <tr style=\"text-align: right;\">\n",
       "      <th></th>\n",
       "      <th>titular</th>\n",
       "      <th>categoria</th>\n",
       "    </tr>\n",
       "  </thead>\n",
       "  <tbody>\n",
       "    <tr>\n",
       "      <th>0</th>\n",
       "      <td>Trabajadores del Buenos Aires Design cortan la...</td>\n",
       "      <td>Nacional</td>\n",
       "    </tr>\n",
       "    <tr>\n",
       "      <th>1</th>\n",
       "      <td>La boda del gobernador Gerardo Morales: tapas ...</td>\n",
       "      <td>Nacional</td>\n",
       "    </tr>\n",
       "    <tr>\n",
       "      <th>2</th>\n",
       "      <td>Cumbre del G20: qué calles estarán cortadas y ...</td>\n",
       "      <td>Nacional</td>\n",
       "    </tr>\n",
       "    <tr>\n",
       "      <th>3</th>\n",
       "      <td>Una fractura que confirma la candidatura de Cr...</td>\n",
       "      <td>Nacional</td>\n",
       "    </tr>\n",
       "    <tr>\n",
       "      <th>4</th>\n",
       "      <td>Infierno grande: ola de divorcios en un pueblo...</td>\n",
       "      <td>Nacional</td>\n",
       "    </tr>\n",
       "  </tbody>\n",
       "</table>\n",
       "</div>"
      ],
      "text/plain": [
       "                                             titular categoria\n",
       "0  Trabajadores del Buenos Aires Design cortan la...  Nacional\n",
       "1  La boda del gobernador Gerardo Morales: tapas ...  Nacional\n",
       "2  Cumbre del G20: qué calles estarán cortadas y ...  Nacional\n",
       "3  Una fractura que confirma la candidatura de Cr...  Nacional\n",
       "4  Infierno grande: ola de divorcios en un pueblo...  Nacional"
      ]
     },
     "execution_count": 2,
     "metadata": {},
     "output_type": "execute_result"
    }
   ],
   "source": [
    "# Nos quedamos con los atributos de interes\n",
    "\n",
    "df = df[[\"titular\", \"categoria\"]]\n",
    "\n",
    "# removemos las categorias que no necesitamos ('Destacadas', 'Noticias Destacadas')\n",
    "\n",
    "\n",
    "df.head()"
   ]
  },
  {
   "cell_type": "code",
   "execution_count": 3,
   "id": "arranged-phenomenon",
   "metadata": {},
   "outputs": [
    {
     "name": "stdout",
     "output_type": "stream",
     "text": [
      "['Nacional' 'Deportes' 'Salud' 'Ciencia y Tecnologia' 'Entretenimiento'\n",
      " 'Economia' 'Internacional']\n"
     ]
    }
   ],
   "source": [
    "df = df.loc[df['categoria'].isin((\"Nacional\", \"Economia\", \"Internacional\", \"Deportes\", \"Salud\", \"Ciencia y Tecnologia\", \"Entretenimiento\"))]\n",
    "df.head()\n",
    "categories = df['categoria'].unique()\n",
    "print(categories)\n"
   ]
  },
  {
   "cell_type": "code",
   "execution_count": 4,
   "id": "compliant-wilderness",
   "metadata": {},
   "outputs": [
    {
     "data": {
      "text/plain": [
       "26961"
      ]
     },
     "execution_count": 4,
     "metadata": {},
     "output_type": "execute_result"
    }
   ],
   "source": [
    "len(df)"
   ]
  },
  {
   "cell_type": "code",
   "execution_count": 5,
   "id": "controlling-accuracy",
   "metadata": {},
   "outputs": [
    {
     "data": {
      "text/plain": [
       "Nacional                3860\n",
       "Ciencia y Tecnologia    3856\n",
       "Deportes                3855\n",
       "Entretenimiento         3850\n",
       "Economia                3850\n",
       "Internacional           3850\n",
       "Salud                   3840\n",
       "Name: categoria, dtype: int64"
      ]
     },
     "execution_count": 5,
     "metadata": {},
     "output_type": "execute_result"
    }
   ],
   "source": [
    "df['categoria'].value_counts()"
   ]
  },
  {
   "cell_type": "code",
   "execution_count": 6,
   "id": "southwest-composite",
   "metadata": {},
   "outputs": [
    {
     "data": {
      "text/html": [
       "<div>\n",
       "<style scoped>\n",
       "    .dataframe tbody tr th:only-of-type {\n",
       "        vertical-align: middle;\n",
       "    }\n",
       "\n",
       "    .dataframe tbody tr th {\n",
       "        vertical-align: top;\n",
       "    }\n",
       "\n",
       "    .dataframe thead th {\n",
       "        text-align: right;\n",
       "    }\n",
       "</style>\n",
       "<table border=\"1\" class=\"dataframe\">\n",
       "  <thead>\n",
       "    <tr style=\"text-align: right;\">\n",
       "      <th></th>\n",
       "      <th>titular</th>\n",
       "      <th>categoria</th>\n",
       "    </tr>\n",
       "  </thead>\n",
       "  <tbody>\n",
       "    <tr>\n",
       "      <th>16314</th>\n",
       "      <td>Amazon revela su propio chip para servidores y...</td>\n",
       "      <td>Economia</td>\n",
       "    </tr>\n",
       "    <tr>\n",
       "      <th>25173</th>\n",
       "      <td>G20 en Argentina: un caballo de polo y la batu...</td>\n",
       "      <td>Entretenimiento</td>\n",
       "    </tr>\n",
       "    <tr>\n",
       "      <th>27833</th>\n",
       "      <td>Marfrig recibe US$1.400M por venta de Keystone...</td>\n",
       "      <td>Economia</td>\n",
       "    </tr>\n",
       "    <tr>\n",
       "      <th>7655</th>\n",
       "      <td>Celebran la vida de niñas y niños que nacieron...</td>\n",
       "      <td>Salud</td>\n",
       "    </tr>\n",
       "    <tr>\n",
       "      <th>29032</th>\n",
       "      <td>Hombre fingió su muerte para cobrar seguro de ...</td>\n",
       "      <td>Internacional</td>\n",
       "    </tr>\n",
       "  </tbody>\n",
       "</table>\n",
       "</div>"
      ],
      "text/plain": [
       "                                                 titular        categoria\n",
       "16314  Amazon revela su propio chip para servidores y...         Economia\n",
       "25173  G20 en Argentina: un caballo de polo y la batu...  Entretenimiento\n",
       "27833  Marfrig recibe US$1.400M por venta de Keystone...         Economia\n",
       "7655   Celebran la vida de niñas y niños que nacieron...            Salud\n",
       "29032  Hombre fingió su muerte para cobrar seguro de ...    Internacional"
      ]
     },
     "execution_count": 6,
     "metadata": {},
     "output_type": "execute_result"
    }
   ],
   "source": [
    "from sklearn.model_selection import train_test_split\n",
    "\n",
    "# Separar los datos en datos de entrenamiento y testeo\n",
    "train, test = train_test_split(df, test_size=0.2)\n",
    "train.head()\n",
    "test.head()"
   ]
  },
  {
   "cell_type": "code",
   "execution_count": 7,
   "id": "extreme-bracket",
   "metadata": {},
   "outputs": [],
   "source": [
    "textos = list(df['titular'])"
   ]
  },
  {
   "cell_type": "code",
   "execution_count": 8,
   "id": "fitted-engagement",
   "metadata": {},
   "outputs": [],
   "source": [
    "# Crear diccionario de categorias con diccionarios vacios para las palabras de los titulares\n",
    "categories_word_appearances = { i : {} for i in categories }"
   ]
  },
  {
   "cell_type": "code",
   "execution_count": 9,
   "id": "completed-wells",
   "metadata": {},
   "outputs": [
    {
     "name": "stdout",
     "output_type": "stream",
     "text": [
      "{'Nacional': {}, 'Deportes': {}, 'Salud': {}, 'Ciencia y Tecnologia': {}, 'Entretenimiento': {}, 'Economia': {}, 'Internacional': {}}\n"
     ]
    }
   ],
   "source": [
    "print(categories_word_appearances)"
   ]
  },
  {
   "cell_type": "code",
   "execution_count": 10,
   "id": "fleet-return",
   "metadata": {},
   "outputs": [],
   "source": [
    "import re\n",
    "\n",
    "def split_and_sanitize(title):\n",
    "    words = title.split()  # se separan las palabras según espacios (quita todos los espacios)\n",
    "    words = list(map(lambda x: re.sub(\"[^\\w\\s]\", '', x), words))  # reemplazo de símbolos por ningún caracter\n",
    "    return words\n",
    "\n",
    "for i in range(len(train)):\n",
    "    row = train.iloc[i]\n",
    "    category = row['categoria']\n",
    "    title = row['titular']\n",
    "    words = split_and_sanitize(title)\n",
    "    \n",
    "    for word in words:\n",
    "            if word in categories_word_appearances[category]:\n",
    "                categories_word_appearances[category][word] += 1\n",
    "            else:\n",
    "                categories_word_appearances[category][word] = 1\n",
    "                \n",
    "    \n",
    "    \n",
    "    "
   ]
  },
  {
   "cell_type": "code",
   "execution_count": 11,
   "id": "whole-courtesy",
   "metadata": {},
   "outputs": [
    {
     "name": "stdout",
     "output_type": "stream",
     "text": [
      "65\n"
     ]
    }
   ],
   "source": [
    "print(categories_word_appearances['Entretenimiento']['Pampita'])"
   ]
  },
  {
   "cell_type": "code",
   "execution_count": 12,
   "id": "laden-washington",
   "metadata": {},
   "outputs": [
    {
     "name": "stdout",
     "output_type": "stream",
     "text": [
      "Economia                0.144427\n",
      "Ciencia y Tecnologia    0.143778\n",
      "Deportes                0.143546\n",
      "Entretenimiento         0.142572\n",
      "Salud                   0.142572\n",
      "Nacional                0.141970\n",
      "Internacional           0.141135\n",
      "Name: categoria, dtype: float64\n",
      "0.0014094432699083862\n"
     ]
    }
   ],
   "source": [
    "# Calcular probabilidades de las clases P(category) para el conjunto de entrenamiento\n",
    "\n",
    "category_relative_freq = train['categoria'].value_counts() / len(train)  # P(category)\n",
    "print(category_relative_freq)\n",
    "\n",
    "# Calcular las probabilidades condicionales P(word | category)\n",
    "word_relative_frequencies = { i : {} for i in categories }\n",
    "zero_probabilities = { i : 0 for i in categories } # Laplace correction in case a word does not appear in a category\n",
    "for category in categories:\n",
    "    word_appearances_sum = sum(categories_word_appearances[category].values())\n",
    "    laplace_denominator = float(word_appearances_sum + len(categories_word_appearances[category].keys()))\n",
    "    zero_probabilities[category] = 1 / laplace_denominator\n",
    "    for word, word_count in categories_word_appearances[category].items():\n",
    "        word_relative_frequencies[category][word] = (word_count + 1) / laplace_denominator\n",
    "\n",
    "print(word_relative_frequencies['Entretenimiento']['Pampita'])\n",
    "# Objetivo final:\n",
    "#   P (category | [word])\n",
    "# = P ([word] | category) * P (category)      ##  / P ([word])\n",
    "# = prod(P (word | category)) * P (category)"
   ]
  },
  {
   "cell_type": "code",
   "execution_count": 13,
   "id": "stainless-usage",
   "metadata": {},
   "outputs": [
    {
     "name": "stdout",
     "output_type": "stream",
     "text": [
      "La noticia 'Pampita fue a la mesa de Mirtha' pertenece a Entretenimiento\n",
      "La noticia 'Messi metió un gol' pertenece a Deportes\n",
      "La noticia 'Apple lanzó un nuevo iPhone' pertenece a Ciencia y Tecnologia\n"
     ]
    }
   ],
   "source": [
    "def classify(title):\n",
    "    words = split_and_sanitize(title)\n",
    "    vs = {}\n",
    "    for category in categories:\n",
    "        v = category_relative_freq.loc[category]\n",
    "        for word in words:\n",
    "            if word in word_relative_frequencies[category]:\n",
    "                v *= word_relative_frequencies[category][word]\n",
    "            else:\n",
    "                v *= zero_probabilities[category]\n",
    "        vs[category] = v\n",
    "    mx = (None, 0)\n",
    "    for category, v in vs.items():\n",
    "        if v > mx[1]:\n",
    "            mx = (category, v)\n",
    "    return mx[0]\n",
    "\n",
    "noticia = 'Pampita fue a la mesa de Mirtha'\n",
    "print(f\"La noticia '{noticia}' pertenece a {classify(noticia)}\")\n",
    "noticia = 'Messi metió un gol'\n",
    "print(f\"La noticia '{noticia}' pertenece a {classify(noticia)}\")\n",
    "noticia = 'Apple lanzó un nuevo iPhone'\n",
    "print(f\"La noticia '{noticia}' pertenece a {classify(noticia)}\")"
   ]
  },
  {
   "cell_type": "code",
   "execution_count": 15,
   "id": "compatible-player",
   "metadata": {},
   "outputs": [
    {
     "name": "stdout",
     "output_type": "stream",
     "text": [
      "{'Nacional': {'Nacional': 728, 'Deportes': 9, 'Salud': 11, 'Ciencia y Tecnologia': 5, 'Entretenimiento': 8, 'Economia': 20, 'Internacional': 17}, 'Deportes': {'Nacional': 10, 'Deportes': 726, 'Salud': 1, 'Ciencia y Tecnologia': 4, 'Entretenimiento': 12, 'Economia': 3, 'Internacional': 3}, 'Salud': {'Nacional': 0, 'Deportes': 3, 'Salud': 753, 'Ciencia y Tecnologia': 2, 'Entretenimiento': 1, 'Economia': 2, 'Internacional': 4}, 'Ciencia y Tecnologia': {'Nacional': 1, 'Deportes': 1, 'Salud': 7, 'Ciencia y Tecnologia': 738, 'Entretenimiento': 0, 'Economia': 8, 'Internacional': 0}, 'Entretenimiento': {'Nacional': 5, 'Deportes': 4, 'Salud': 6, 'Ciencia y Tecnologia': 2, 'Entretenimiento': 747, 'Economia': 6, 'Internacional': 5}, 'Economia': {'Nacional': 3, 'Deportes': 1, 'Salud': 3, 'Ciencia y Tecnologia': 10, 'Entretenimiento': 4, 'Economia': 707, 'Internacional': 7}, 'Internacional': {'Nacional': 27, 'Deportes': 10, 'Salud': 20, 'Ciencia y Tecnologia': 3, 'Entretenimiento': 9, 'Economia': 12, 'Internacional': 725}}\n",
      "\n",
      "{'Nacional': [728, 9, 11, 5, 8, 20, 17], 'Deportes': [10, 726, 1, 4, 12, 3, 3], 'Salud': [0, 3, 753, 2, 1, 2, 4], 'Ciencia y Tecnologia': [1, 1, 7, 738, 0, 8, 0], 'Entretenimiento': [5, 4, 6, 2, 747, 6, 5], 'Economia': [3, 1, 3, 10, 4, 707, 7], 'Internacional': [27, 10, 20, 3, 9, 12, 725]}\n",
      "\n",
      "                      Nacional  Deportes  Salud  Ciencia y Tecnologia  \\\n",
      "Nacional                   728         9     11                     5   \n",
      "Deportes                    10       726      1                     4   \n",
      "Salud                        0         3    753                     2   \n",
      "Ciencia y Tecnologia         1         1      7                   738   \n",
      "Entretenimiento              5         4      6                     2   \n",
      "Economia                     3         1      3                    10   \n",
      "Internacional               27        10     20                     3   \n",
      "\n",
      "                      Entretenimiento  Economia  Internacional  \n",
      "Nacional                            8        20             17  \n",
      "Deportes                           12         3              3  \n",
      "Salud                               1         2              4  \n",
      "Ciencia y Tecnologia                0         8              0  \n",
      "Entretenimiento                   747         6              5  \n",
      "Economia                            4       707              7  \n",
      "Internacional                       9        12            725  \n"
     ]
    },
    {
     "data": {
      "text/plain": [
       "<AxesSubplot:>"
      ]
     },
     "execution_count": 15,
     "metadata": {},
     "output_type": "execute_result"
    },
    {
     "data": {
      "image/png": "[encoded data removed]",
      "text/plain": [
       "<Figure size 432x288 with 2 Axes>"
      ]
     },
     "metadata": {
      "needs_background": "light"
     },
     "output_type": "display_data"
    }
   ],
   "source": [
    "confusion_matrix = { i : {} for i in categories }\n",
    "columns = []\n",
    "for key in confusion_matrix.keys():\n",
    "    columns.append(key)\n",
    "    confusion_matrix[key] = { i : 0 for i in categories } # {'Deportes': {'Deportes': 700, 'Entretenimiento': 3, ...}, ...}\n",
    "\n",
    "for i in range(len(test)):\n",
    "    row = test.iloc[i]\n",
    "    category = row['categoria']\n",
    "    title = row['titular']\n",
    "    result = classify(title)\n",
    "    confusion_matrix[category][result] += 1\n",
    "\n",
    "print(confusion_matrix)\n",
    "confusion_df = { key : list(confusion_matrix[key].values()) for key in confusion_matrix.keys() }\n",
    "print('')\n",
    "print(confusion_df)\n",
    "confusion_df = pd.DataFrame.from_dict(confusion_df, orient='index', columns=columns)\n",
    "print('')\n",
    "print(confusion_df)\n",
    "\n",
    "import seaborn as sns\n",
    "sns.heatmap(confusion_df, annot=True, cmap=sns.cm.rocket_r)"
   ]
  },
  {
   "cell_type": "code",
   "execution_count": 16,
   "id": "sudden-retrieval",
   "metadata": {},
   "outputs": [
    {
     "data": {
      "text/html": [
       "<div>\n",
       "<style scoped>\n",
       "    .dataframe tbody tr th:only-of-type {\n",
       "        vertical-align: middle;\n",
       "    }\n",
       "\n",
       "    .dataframe tbody tr th {\n",
       "        vertical-align: top;\n",
       "    }\n",
       "\n",
       "    .dataframe thead th {\n",
       "        text-align: right;\n",
       "    }\n",
       "</style>\n",
       "<table border=\"1\" class=\"dataframe\">\n",
       "  <thead>\n",
       "    <tr style=\"text-align: right;\">\n",
       "      <th></th>\n",
       "      <th>tp</th>\n",
       "      <th>tn</th>\n",
       "      <th>fp</th>\n",
       "      <th>fn</th>\n",
       "      <th>accuracy</th>\n",
       "      <th>precision</th>\n",
       "      <th>recall</th>\n",
       "      <th>f1</th>\n",
       "    </tr>\n",
       "  </thead>\n",
       "  <tbody>\n",
       "    <tr>\n",
       "      <th>Nacional</th>\n",
       "      <td>728</td>\n",
       "      <td>4396</td>\n",
       "      <td>46</td>\n",
       "      <td>70</td>\n",
       "      <td>0.977863</td>\n",
       "      <td>0.940568</td>\n",
       "      <td>0.912281</td>\n",
       "      <td>0.926209</td>\n",
       "    </tr>\n",
       "    <tr>\n",
       "      <th>Deportes</th>\n",
       "      <td>726</td>\n",
       "      <td>4398</td>\n",
       "      <td>28</td>\n",
       "      <td>33</td>\n",
       "      <td>0.988235</td>\n",
       "      <td>0.962865</td>\n",
       "      <td>0.956522</td>\n",
       "      <td>0.959683</td>\n",
       "    </tr>\n",
       "    <tr>\n",
       "      <th>Salud</th>\n",
       "      <td>753</td>\n",
       "      <td>4371</td>\n",
       "      <td>48</td>\n",
       "      <td>12</td>\n",
       "      <td>0.988426</td>\n",
       "      <td>0.940075</td>\n",
       "      <td>0.984314</td>\n",
       "      <td>0.961686</td>\n",
       "    </tr>\n",
       "    <tr>\n",
       "      <th>Ciencia y Tecnologia</th>\n",
       "      <td>738</td>\n",
       "      <td>4386</td>\n",
       "      <td>26</td>\n",
       "      <td>17</td>\n",
       "      <td>0.991678</td>\n",
       "      <td>0.965969</td>\n",
       "      <td>0.977483</td>\n",
       "      <td>0.971692</td>\n",
       "    </tr>\n",
       "    <tr>\n",
       "      <th>Entretenimiento</th>\n",
       "      <td>747</td>\n",
       "      <td>4377</td>\n",
       "      <td>34</td>\n",
       "      <td>28</td>\n",
       "      <td>0.988045</td>\n",
       "      <td>0.956466</td>\n",
       "      <td>0.963871</td>\n",
       "      <td>0.960154</td>\n",
       "    </tr>\n",
       "  </tbody>\n",
       "</table>\n",
       "</div>"
      ],
      "text/plain": [
       "                       tp    tn  fp  fn  accuracy  precision    recall  \\\n",
       "Nacional              728  4396  46  70  0.977863   0.940568  0.912281   \n",
       "Deportes              726  4398  28  33  0.988235   0.962865  0.956522   \n",
       "Salud                 753  4371  48  12  0.988426   0.940075  0.984314   \n",
       "Ciencia y Tecnologia  738  4386  26  17  0.991678   0.965969  0.977483   \n",
       "Entretenimiento       747  4377  34  28  0.988045   0.956466  0.963871   \n",
       "\n",
       "                            f1  \n",
       "Nacional              0.926209  \n",
       "Deportes              0.959683  \n",
       "Salud                 0.961686  \n",
       "Ciencia y Tecnologia  0.971692  \n",
       "Entretenimiento       0.960154  "
      ]
     },
     "execution_count": 16,
     "metadata": {},
     "output_type": "execute_result"
    }
   ],
   "source": [
    "import numpy as np\n",
    "\n",
    "true = []\n",
    "predicted = []\n",
    "\n",
    "for i in range(len(test)):\n",
    "    row = test.iloc[i]\n",
    "    true.append(row['categoria'])\n",
    "    title = row['titular']\n",
    "    predicted.append(classify(title))\n",
    "\n",
    "    \n",
    "# Calculamos las metricas para cada categoria    \n",
    "    \n",
    "category_metrics = { i : {'tp': 0, 'tn': 0, 'fp': 0, 'fn': 0, 'accuracy': 0, 'precision': 0, 'recall': 0,  'f1': 0} for i in categories }\n",
    "\n",
    "for i, category in enumerate(categories):\n",
    "    \n",
    "    # Metricas simples\n",
    "    tp = confusion_df.iloc[i,i]\n",
    "    tn = sum(np.diag(confusion_df)) - tp\n",
    "    fn = sum(confusion_df.loc[category]) - tp\n",
    "    fp = sum(confusion_df[category]) - tp\n",
    "    \n",
    "    category_metrics[category]['tp'] = tp\n",
    "    category_metrics[category]['tn'] = tn\n",
    "    category_metrics[category]['fp'] = fp\n",
    "    category_metrics[category]['fn'] = fn\n",
    "    \n",
    "    # Metricas compuestas\n",
    "    category_metrics[category]['accuracy'] = (tp + tn) / (tp + tn + fn + fp)\n",
    "    category_metrics[category]['precision'] = tp / (tp + fp)\n",
    "    category_metrics[category]['recall'] = tp / (tp + fn)\n",
    "    category_metrics[category]['f1'] = (2 * category_metrics[category]['precision'] * category_metrics[category]['recall']) / (category_metrics[category]['precision'] + category_metrics[category]['recall'])\n",
    "\n",
    "metric_cols = ['tp', 'tn', 'fp', 'fn', 'accuracy', 'precision', 'recall', 'f1']\n",
    "metrics_df = { key : list(category_metrics[key].values()) for key in category_metrics.keys() }    \n",
    "metrics_df = pd.DataFrame.from_dict(category_metrics, orient='index', columns=metric_cols)\n",
    "metrics_df.head()\n",
    "\n",
    "# Calculamos las metricas para el classifier en general (checkear cual es la forma correcta)\n",
    "    \n",
    "tp, fp, fn = 0, 0, 0\n",
    "\n",
    "\n",
    "for i, category in enumerate(categories):\n",
    "    tp += confusion_df.iloc[i, i]\n",
    "    fp += sum(confusion_df.iloc[i, :i])\n",
    "    fn += sum(confusion_df.iloc[i, i+1:])\n",
    "    \n",
    "tn = confusion_df.to_numpy().sum() - (fp + fn + tp)\n",
    "\n",
    "accuracy = (tp + tn) / (tp + tn + fn + fp)\n",
    "precision = tp / (tp + fp)\n",
    "recall = tp / (tp + fn)\n",
    "f1_score = (2 * precision * recall) / (precision + recall)\n",
    "\n",
    "metrics_df.head()\n",
    "\n",
    "    \n",
    "\n"
   ]
  },
  {
   "cell_type": "code",
   "execution_count": 17,
   "id": "mental-worse",
   "metadata": {},
   "outputs": [
    {
     "name": "stdout",
     "output_type": "stream",
     "text": [
      "[{'Nacional': 5.97216221358538e-34, 'Deportes': 3.283833248397668e-30, 'Salud': 1.0081089936304343e-29, 'Ciencia y Tecnologia': 1.8704017140558946e-08, 'Entretenimiento': 8.49370381338136e-25, 'Economia': 3.9210362525346993, 'Internacional': 3.5344177083683426e-19}, {'Nacional': 5.97216221358538e-34, 'Deportes': 3.283833248397668e-30, 'Salud': 1.0081089936304343e-29, 'Ciencia y Tecnologia': 1.8704017140558946e-08, 'Entretenimiento': 8.49370381338136e-25, 'Economia': 3.9210362525346993, 'Internacional': 3.5344177083683426e-19}, {'Nacional': 5.97216221358538e-34, 'Deportes': 3.283833248397668e-30, 'Salud': 1.0081089936304343e-29, 'Ciencia y Tecnologia': 1.8704017140558946e-08, 'Entretenimiento': 8.49370381338136e-25, 'Economia': 3.9210362525346993, 'Internacional': 3.5344177083683426e-19}, {'Nacional': 5.97216221358538e-34, 'Deportes': 3.283833248397668e-30, 'Salud': 1.0081089936304343e-29, 'Ciencia y Tecnologia': 1.8704017140558946e-08, 'Entretenimiento': 8.49370381338136e-25, 'Economia': 3.9210362525346993, 'Internacional': 3.5344177083683426e-19}, {'Nacional': 5.97216221358538e-34, 'Deportes': 3.283833248397668e-30, 'Salud': 1.0081089936304343e-29, 'Ciencia y Tecnologia': 1.8704017140558946e-08, 'Entretenimiento': 8.49370381338136e-25, 'Economia': 3.9210362525346993, 'Internacional': 3.5344177083683426e-19}, {'Nacional': 5.97216221358538e-34, 'Deportes': 3.283833248397668e-30, 'Salud': 1.0081089936304343e-29, 'Ciencia y Tecnologia': 1.8704017140558946e-08, 'Entretenimiento': 8.49370381338136e-25, 'Economia': 3.9210362525346993, 'Internacional': 3.5344177083683426e-19}, {'Nacional': 5.97216221358538e-34, 'Deportes': 3.283833248397668e-30, 'Salud': 1.0081089936304343e-29, 'Ciencia y Tecnologia': 1.8704017140558946e-08, 'Entretenimiento': 8.49370381338136e-25, 'Economia': 3.9210362525346993, 'Internacional': 3.5344177083683426e-19}, {'Nacional': 5.97216221358538e-34, 'Deportes': 3.283833248397668e-30, 'Salud': 1.0081089936304343e-29, 'Ciencia y Tecnologia': 1.8704017140558946e-08, 'Entretenimiento': 8.49370381338136e-25, 'Economia': 3.9210362525346993, 'Internacional': 3.5344177083683426e-19}, {'Nacional': 5.97216221358538e-34, 'Deportes': 3.283833248397668e-30, 'Salud': 1.0081089936304343e-29, 'Ciencia y Tecnologia': 1.8704017140558946e-08, 'Entretenimiento': 8.49370381338136e-25, 'Economia': 3.9210362525346993, 'Internacional': 3.5344177083683426e-19}, {'Nacional': 5.97216221358538e-34, 'Deportes': 3.283833248397668e-30, 'Salud': 1.0081089936304343e-29, 'Ciencia y Tecnologia': 1.8704017140558946e-08, 'Entretenimiento': 8.49370381338136e-25, 'Economia': 3.9210362525346993, 'Internacional': 3.5344177083683426e-19}, {'Nacional': 5.97216221358538e-34, 'Deportes': 3.283833248397668e-30, 'Salud': 1.0081089936304343e-29, 'Ciencia y Tecnologia': 1.8704017140558946e-08, 'Entretenimiento': 8.49370381338136e-25, 'Economia': 3.9210362525346993, 'Internacional': 3.5344177083683426e-19}, {'Nacional': 5.97216221358538e-34, 'Deportes': 3.283833248397668e-30, 'Salud': 1.0081089936304343e-29, 'Ciencia y Tecnologia': 1.8704017140558946e-08, 'Entretenimiento': 8.49370381338136e-25, 'Economia': 3.9210362525346993, 'Internacional': 3.5344177083683426e-19}, {'Nacional': 5.97216221358538e-34, 'Deportes': 3.283833248397668e-30, 'Salud': 1.0081089936304343e-29, 'Ciencia y Tecnologia': 1.8704017140558946e-08, 'Entretenimiento': 8.49370381338136e-25, 'Economia': 3.9210362525346993, 'Internacional': 3.5344177083683426e-19}, {'Nacional': 5.97216221358538e-34, 'Deportes': 3.283833248397668e-30, 'Salud': 1.0081089936304343e-29, 'Ciencia y Tecnologia': 1.8704017140558946e-08, 'Entretenimiento': 8.49370381338136e-25, 'Economia': 3.9210362525346993, 'Internacional': 3.5344177083683426e-19}, {'Nacional': 5.97216221358538e-34, 'Deportes': 3.283833248397668e-30, 'Salud': 1.0081089936304343e-29, 'Ciencia y Tecnologia': 1.8704017140558946e-08, 'Entretenimiento': 8.49370381338136e-25, 'Economia': 3.9210362525346993, 'Internacional': 3.5344177083683426e-19}, {'Nacional': 5.97216221358538e-34, 'Deportes': 3.283833248397668e-30, 'Salud': 1.0081089936304343e-29, 'Ciencia y Tecnologia': 1.8704017140558946e-08, 'Entretenimiento': 8.49370381338136e-25, 'Economia': 3.9210362525346993, 'Internacional': 3.5344177083683426e-19}, {'Nacional': 5.97216221358538e-34, 'Deportes': 3.283833248397668e-30, 'Salud': 1.0081089936304343e-29, 'Ciencia y Tecnologia': 1.8704017140558946e-08, 'Entretenimiento': 8.49370381338136e-25, 'Economia': 3.9210362525346993, 'Internacional': 3.5344177083683426e-19}, {'Nacional': 5.97216221358538e-34, 'Deportes': 3.283833248397668e-30, 'Salud': 1.0081089936304343e-29, 'Ciencia y Tecnologia': 1.8704017140558946e-08, 'Entretenimiento': 8.49370381338136e-25, 'Economia': 3.9210362525346993, 'Internacional': 3.5344177083683426e-19}, {'Nacional': 5.97216221358538e-34, 'Deportes': 3.283833248397668e-30, 'Salud': 1.0081089936304343e-29, 'Ciencia y Tecnologia': 1.8704017140558946e-08, 'Entretenimiento': 8.49370381338136e-25, 'Economia': 3.9210362525346993, 'Internacional': 3.5344177083683426e-19}, {'Nacional': 5.97216221358538e-34, 'Deportes': 3.283833248397668e-30, 'Salud': 1.0081089936304343e-29, 'Ciencia y Tecnologia': 1.8704017140558946e-08, 'Entretenimiento': 8.49370381338136e-25, 'Economia': 3.9210362525346993, 'Internacional': 3.5344177083683426e-19}, {'Nacional': 5.97216221358538e-34, 'Deportes': 3.283833248397668e-30, 'Salud': 1.0081089936304343e-29, 'Ciencia y Tecnologia': 1.8704017140558946e-08, 'Entretenimiento': 8.49370381338136e-25, 'Economia': 3.9210362525346993, 'Internacional': 3.5344177083683426e-19}, {'Nacional': 5.97216221358538e-34, 'Deportes': 3.283833248397668e-30, 'Salud': 1.0081089936304343e-29, 'Ciencia y Tecnologia': 1.8704017140558946e-08, 'Entretenimiento': 8.49370381338136e-25, 'Economia': 3.9210362525346993, 'Internacional': 3.5344177083683426e-19}, {'Nacional': 5.97216221358538e-34, 'Deportes': 3.283833248397668e-30, 'Salud': 1.0081089936304343e-29, 'Ciencia y Tecnologia': 1.8704017140558946e-08, 'Entretenimiento': 8.49370381338136e-25, 'Economia': 3.9210362525346993, 'Internacional': 3.5344177083683426e-19}, {'Nacional': 5.97216221358538e-34, 'Deportes': 3.283833248397668e-30, 'Salud': 1.0081089936304343e-29, 'Ciencia y Tecnologia': 1.8704017140558946e-08, 'Entretenimiento': 8.49370381338136e-25, 'Economia': 3.9210362525346993, 'Internacional': 3.5344177083683426e-19}, {'Nacional': 5.97216221358538e-34, 'Deportes': 3.283833248397668e-30, 'Salud': 1.0081089936304343e-29, 'Ciencia y Tecnologia': 1.8704017140558946e-08, 'Entretenimiento': 8.49370381338136e-25, 'Economia': 3.9210362525346993, 'Internacional': 3.5344177083683426e-19}, {'Nacional': 5.97216221358538e-34, 'Deportes': 3.283833248397668e-30, 'Salud': 1.0081089936304343e-29, 'Ciencia y Tecnologia': 1.8704017140558946e-08, 'Entretenimiento': 8.49370381338136e-25, 'Economia': 3.9210362525346993, 'Internacional': 3.5344177083683426e-19}, {'Nacional': 5.97216221358538e-34, 'Deportes': 3.283833248397668e-30, 'Salud': 1.0081089936304343e-29, 'Ciencia y Tecnologia': 1.8704017140558946e-08, 'Entretenimiento': 8.49370381338136e-25, 'Economia': 3.9210362525346993, 'Internacional': 3.5344177083683426e-19}, {'Nacional': 5.97216221358538e-34, 'Deportes': 3.283833248397668e-30, 'Salud': 1.0081089936304343e-29, 'Ciencia y Tecnologia': 1.8704017140558946e-08, 'Entretenimiento': 8.49370381338136e-25, 'Economia': 3.9210362525346993, 'Internacional': 3.5344177083683426e-19}, {'Nacional': 5.97216221358538e-34, 'Deportes': 3.283833248397668e-30, 'Salud': 1.0081089936304343e-29, 'Ciencia y Tecnologia': 1.8704017140558946e-08, 'Entretenimiento': 8.49370381338136e-25, 'Economia': 3.9210362525346993, 'Internacional': 3.5344177083683426e-19}, {'Nacional': 5.97216221358538e-34, 'Deportes': 3.283833248397668e-30, 'Salud': 1.0081089936304343e-29, 'Ciencia y Tecnologia': 1.8704017140558946e-08, 'Entretenimiento': 8.49370381338136e-25, 'Economia': 3.9210362525346993, 'Internacional': 3.5344177083683426e-19}, {'Nacional': 5.97216221358538e-34, 'Deportes': 3.283833248397668e-30, 'Salud': 1.0081089936304343e-29, 'Ciencia y Tecnologia': 1.8704017140558946e-08, 'Entretenimiento': 8.49370381338136e-25, 'Economia': 3.9210362525346993, 'Internacional': 3.5344177083683426e-19}, {'Nacional': 5.97216221358538e-34, 'Deportes': 3.283833248397668e-30, 'Salud': 1.0081089936304343e-29, 'Ciencia y Tecnologia': 1.8704017140558946e-08, 'Entretenimiento': 8.49370381338136e-25, 'Economia': 3.9210362525346993, 'Internacional': 3.5344177083683426e-19}, {'Nacional': 5.97216221358538e-34, 'Deportes': 3.283833248397668e-30, 'Salud': 1.0081089936304343e-29, 'Ciencia y Tecnologia': 1.8704017140558946e-08, 'Entretenimiento': 8.49370381338136e-25, 'Economia': 3.9210362525346993, 'Internacional': 3.5344177083683426e-19}, {'Nacional': 5.97216221358538e-34, 'Deportes': 3.283833248397668e-30, 'Salud': 1.0081089936304343e-29, 'Ciencia y Tecnologia': 1.8704017140558946e-08, 'Entretenimiento': 8.49370381338136e-25, 'Economia': 3.9210362525346993, 'Internacional': 3.5344177083683426e-19}, {'Nacional': 5.97216221358538e-34, 'Deportes': 3.283833248397668e-30, 'Salud': 1.0081089936304343e-29, 'Ciencia y Tecnologia': 1.8704017140558946e-08, 'Entretenimiento': 8.49370381338136e-25, 'Economia': 3.9210362525346993, 'Internacional': 3.5344177083683426e-19}, {'Nacional': 5.97216221358538e-34, 'Deportes': 3.283833248397668e-30, 'Salud': 1.0081089936304343e-29, 'Ciencia y Tecnologia': 1.8704017140558946e-08, 'Entretenimiento': 8.49370381338136e-25, 'Economia': 3.9210362525346993, 'Internacional': 3.5344177083683426e-19}, {'Nacional': 5.97216221358538e-34, 'Deportes': 3.283833248397668e-30, 'Salud': 1.0081089936304343e-29, 'Ciencia y Tecnologia': 1.8704017140558946e-08, 'Entretenimiento': 8.49370381338136e-25, 'Economia': 3.9210362525346993, 'Internacional': 3.5344177083683426e-19}, {'Nacional': 5.97216221358538e-34, 'Deportes': 3.283833248397668e-30, 'Salud': 1.0081089936304343e-29, 'Ciencia y Tecnologia': 1.8704017140558946e-08, 'Entretenimiento': 8.49370381338136e-25, 'Economia': 3.9210362525346993, 'Internacional': 3.5344177083683426e-19}, {'Nacional': 5.97216221358538e-34, 'Deportes': 3.283833248397668e-30, 'Salud': 1.0081089936304343e-29, 'Ciencia y Tecnologia': 1.8704017140558946e-08, 'Entretenimiento': 8.49370381338136e-25, 'Economia': 3.9210362525346993, 'Internacional': 3.5344177083683426e-19}, {'Nacional': 5.97216221358538e-34, 'Deportes': 3.283833248397668e-30, 'Salud': 1.0081089936304343e-29, 'Ciencia y Tecnologia': 1.8704017140558946e-08, 'Entretenimiento': 8.49370381338136e-25, 'Economia': 3.9210362525346993, 'Internacional': 3.5344177083683426e-19}, {'Nacional': 5.97216221358538e-34, 'Deportes': 3.283833248397668e-30, 'Salud': 1.0081089936304343e-29, 'Ciencia y Tecnologia': 1.8704017140558946e-08, 'Entretenimiento': 8.49370381338136e-25, 'Economia': 3.9210362525346993, 'Internacional': 3.5344177083683426e-19}, {'Nacional': 5.97216221358538e-34, 'Deportes': 3.283833248397668e-30, 'Salud': 1.0081089936304343e-29, 'Ciencia y Tecnologia': 1.8704017140558946e-08, 'Entretenimiento': 8.49370381338136e-25, 'Economia': 3.9210362525346993, 'Internacional': 3.5344177083683426e-19}, {'Nacional': 5.97216221358538e-34, 'Deportes': 3.283833248397668e-30, 'Salud': 1.0081089936304343e-29, 'Ciencia y Tecnologia': 1.8704017140558946e-08, 'Entretenimiento': 8.49370381338136e-25, 'Economia': 3.9210362525346993, 'Internacional': 3.5344177083683426e-19}, {'Nacional': 5.97216221358538e-34, 'Deportes': 3.283833248397668e-30, 'Salud': 1.0081089936304343e-29, 'Ciencia y Tecnologia': 1.8704017140558946e-08, 'Entretenimiento': 8.49370381338136e-25, 'Economia': 3.9210362525346993, 'Internacional': 3.5344177083683426e-19}, {'Nacional': 5.97216221358538e-34, 'Deportes': 3.283833248397668e-30, 'Salud': 1.0081089936304343e-29, 'Ciencia y Tecnologia': 1.8704017140558946e-08, 'Entretenimiento': 8.49370381338136e-25, 'Economia': 3.9210362525346993, 'Internacional': 3.5344177083683426e-19}, {'Nacional': 5.97216221358538e-34, 'Deportes': 3.283833248397668e-30, 'Salud': 1.0081089936304343e-29, 'Ciencia y Tecnologia': 1.8704017140558946e-08, 'Entretenimiento': 8.49370381338136e-25, 'Economia': 3.9210362525346993, 'Internacional': 3.5344177083683426e-19}, {'Nacional': 5.97216221358538e-34, 'Deportes': 3.283833248397668e-30, 'Salud': 1.0081089936304343e-29, 'Ciencia y Tecnologia': 1.8704017140558946e-08, 'Entretenimiento': 8.49370381338136e-25, 'Economia': 3.9210362525346993, 'Internacional': 3.5344177083683426e-19}, {'Nacional': 5.97216221358538e-34, 'Deportes': 3.283833248397668e-30, 'Salud': 1.0081089936304343e-29, 'Ciencia y Tecnologia': 1.8704017140558946e-08, 'Entretenimiento': 8.49370381338136e-25, 'Economia': 3.9210362525346993, 'Internacional': 3.5344177083683426e-19}, {'Nacional': 5.97216221358538e-34, 'Deportes': 3.283833248397668e-30, 'Salud': 1.0081089936304343e-29, 'Ciencia y Tecnologia': 1.8704017140558946e-08, 'Entretenimiento': 8.49370381338136e-25, 'Economia': 3.9210362525346993, 'Internacional': 3.5344177083683426e-19}, {'Nacional': 5.97216221358538e-34, 'Deportes': 3.283833248397668e-30, 'Salud': 1.0081089936304343e-29, 'Ciencia y Tecnologia': 1.8704017140558946e-08, 'Entretenimiento': 8.49370381338136e-25, 'Economia': 3.9210362525346993, 'Internacional': 3.5344177083683426e-19}, {'Nacional': 5.97216221358538e-34, 'Deportes': 3.283833248397668e-30, 'Salud': 1.0081089936304343e-29, 'Ciencia y Tecnologia': 1.8704017140558946e-08, 'Entretenimiento': 8.49370381338136e-25, 'Economia': 3.9210362525346993, 'Internacional': 3.5344177083683426e-19}, {'Nacional': 5.97216221358538e-34, 'Deportes': 3.283833248397668e-30, 'Salud': 1.0081089936304343e-29, 'Ciencia y Tecnologia': 1.8704017140558946e-08, 'Entretenimiento': 8.49370381338136e-25, 'Economia': 3.9210362525346993, 'Internacional': 3.5344177083683426e-19}, {'Nacional': 5.97216221358538e-34, 'Deportes': 3.283833248397668e-30, 'Salud': 1.0081089936304343e-29, 'Ciencia y Tecnologia': 1.8704017140558946e-08, 'Entretenimiento': 8.49370381338136e-25, 'Economia': 3.9210362525346993, 'Internacional': 3.5344177083683426e-19}, {'Nacional': 5.97216221358538e-34, 'Deportes': 3.283833248397668e-30, 'Salud': 1.0081089936304343e-29, 'Ciencia y Tecnologia': 1.8704017140558946e-08, 'Entretenimiento': 8.49370381338136e-25, 'Economia': 3.9210362525346993, 'Internacional': 3.5344177083683426e-19}, {'Nacional': 5.97216221358538e-34, 'Deportes': 3.283833248397668e-30, 'Salud': 1.0081089936304343e-29, 'Ciencia y Tecnologia': 1.8704017140558946e-08, 'Entretenimiento': 8.49370381338136e-25, 'Economia': 3.9210362525346993, 'Internacional': 3.5344177083683426e-19}, {'Nacional': 5.97216221358538e-34, 'Deportes': 3.283833248397668e-30, 'Salud': 1.0081089936304343e-29, 'Ciencia y Tecnologia': 1.8704017140558946e-08, 'Entretenimiento': 8.49370381338136e-25, 'Economia': 3.9210362525346993, 'Internacional': 3.5344177083683426e-19}, {'Nacional': 5.97216221358538e-34, 'Deportes': 3.283833248397668e-30, 'Salud': 1.0081089936304343e-29, 'Ciencia y Tecnologia': 1.8704017140558946e-08, 'Entretenimiento': 8.49370381338136e-25, 'Economia': 3.9210362525346993, 'Internacional': 3.5344177083683426e-19}, {'Nacional': 5.97216221358538e-34, 'Deportes': 3.283833248397668e-30, 'Salud': 1.0081089936304343e-29, 'Ciencia y Tecnologia': 1.8704017140558946e-08, 'Entretenimiento': 8.49370381338136e-25, 'Economia': 3.9210362525346993, 'Internacional': 3.5344177083683426e-19}, {'Nacional': 5.97216221358538e-34, 'Deportes': 3.283833248397668e-30, 'Salud': 1.0081089936304343e-29, 'Ciencia y Tecnologia': 1.8704017140558946e-08, 'Entretenimiento': 8.49370381338136e-25, 'Economia': 3.9210362525346993, 'Internacional': 3.5344177083683426e-19}, {'Nacional': 5.97216221358538e-34, 'Deportes': 3.283833248397668e-30, 'Salud': 1.0081089936304343e-29, 'Ciencia y Tecnologia': 1.8704017140558946e-08, 'Entretenimiento': 8.49370381338136e-25, 'Economia': 3.9210362525346993, 'Internacional': 3.5344177083683426e-19}, {'Nacional': 5.97216221358538e-34, 'Deportes': 3.283833248397668e-30, 'Salud': 1.0081089936304343e-29, 'Ciencia y Tecnologia': 1.8704017140558946e-08, 'Entretenimiento': 8.49370381338136e-25, 'Economia': 3.9210362525346993, 'Internacional': 3.5344177083683426e-19}, {'Nacional': 5.97216221358538e-34, 'Deportes': 3.283833248397668e-30, 'Salud': 1.0081089936304343e-29, 'Ciencia y Tecnologia': 1.8704017140558946e-08, 'Entretenimiento': 8.49370381338136e-25, 'Economia': 3.9210362525346993, 'Internacional': 3.5344177083683426e-19}, {'Nacional': 5.97216221358538e-34, 'Deportes': 3.283833248397668e-30, 'Salud': 1.0081089936304343e-29, 'Ciencia y Tecnologia': 1.8704017140558946e-08, 'Entretenimiento': 8.49370381338136e-25, 'Economia': 3.9210362525346993, 'Internacional': 3.5344177083683426e-19}, {'Nacional': 5.97216221358538e-34, 'Deportes': 3.283833248397668e-30, 'Salud': 1.0081089936304343e-29, 'Ciencia y Tecnologia': 1.8704017140558946e-08, 'Entretenimiento': 8.49370381338136e-25, 'Economia': 3.9210362525346993, 'Internacional': 3.5344177083683426e-19}, {'Nacional': 5.97216221358538e-34, 'Deportes': 3.283833248397668e-30, 'Salud': 1.0081089936304343e-29, 'Ciencia y Tecnologia': 1.8704017140558946e-08, 'Entretenimiento': 8.49370381338136e-25, 'Economia': 3.9210362525346993, 'Internacional': 3.5344177083683426e-19}, {'Nacional': 5.97216221358538e-34, 'Deportes': 3.283833248397668e-30, 'Salud': 1.0081089936304343e-29, 'Ciencia y Tecnologia': 1.8704017140558946e-08, 'Entretenimiento': 8.49370381338136e-25, 'Economia': 3.9210362525346993, 'Internacional': 3.5344177083683426e-19}, {'Nacional': 5.97216221358538e-34, 'Deportes': 3.283833248397668e-30, 'Salud': 1.0081089936304343e-29, 'Ciencia y Tecnologia': 1.8704017140558946e-08, 'Entretenimiento': 8.49370381338136e-25, 'Economia': 3.9210362525346993, 'Internacional': 3.5344177083683426e-19}, {'Nacional': 5.97216221358538e-34, 'Deportes': 3.283833248397668e-30, 'Salud': 1.0081089936304343e-29, 'Ciencia y Tecnologia': 1.8704017140558946e-08, 'Entretenimiento': 8.49370381338136e-25, 'Economia': 3.9210362525346993, 'Internacional': 3.5344177083683426e-19}, {'Nacional': 5.97216221358538e-34, 'Deportes': 3.283833248397668e-30, 'Salud': 1.0081089936304343e-29, 'Ciencia y Tecnologia': 1.8704017140558946e-08, 'Entretenimiento': 8.49370381338136e-25, 'Economia': 3.9210362525346993, 'Internacional': 3.5344177083683426e-19}, {'Nacional': 5.97216221358538e-34, 'Deportes': 3.283833248397668e-30, 'Salud': 1.0081089936304343e-29, 'Ciencia y Tecnologia': 1.8704017140558946e-08, 'Entretenimiento': 8.49370381338136e-25, 'Economia': 3.9210362525346993, 'Internacional': 3.5344177083683426e-19}, {'Nacional': 5.97216221358538e-34, 'Deportes': 3.283833248397668e-30, 'Salud': 1.0081089936304343e-29, 'Ciencia y Tecnologia': 1.8704017140558946e-08, 'Entretenimiento': 8.49370381338136e-25, 'Economia': 3.9210362525346993, 'Internacional': 3.5344177083683426e-19}, {'Nacional': 5.97216221358538e-34, 'Deportes': 3.283833248397668e-30, 'Salud': 1.0081089936304343e-29, 'Ciencia y Tecnologia': 1.8704017140558946e-08, 'Entretenimiento': 8.49370381338136e-25, 'Economia': 3.9210362525346993, 'Internacional': 3.5344177083683426e-19}, {'Nacional': 5.97216221358538e-34, 'Deportes': 3.283833248397668e-30, 'Salud': 1.0081089936304343e-29, 'Ciencia y Tecnologia': 1.8704017140558946e-08, 'Entretenimiento': 8.49370381338136e-25, 'Economia': 3.9210362525346993, 'Internacional': 3.5344177083683426e-19}, {'Nacional': 5.97216221358538e-34, 'Deportes': 3.283833248397668e-30, 'Salud': 1.0081089936304343e-29, 'Ciencia y Tecnologia': 1.8704017140558946e-08, 'Entretenimiento': 8.49370381338136e-25, 'Economia': 3.9210362525346993, 'Internacional': 3.5344177083683426e-19}, {'Nacional': 5.97216221358538e-34, 'Deportes': 3.283833248397668e-30, 'Salud': 1.0081089936304343e-29, 'Ciencia y Tecnologia': 1.8704017140558946e-08, 'Entretenimiento': 8.49370381338136e-25, 'Economia': 3.9210362525346993, 'Internacional': 3.5344177083683426e-19}, {'Nacional': 5.97216221358538e-34, 'Deportes': 3.283833248397668e-30, 'Salud': 1.0081089936304343e-29, 'Ciencia y Tecnologia': 1.8704017140558946e-08, 'Entretenimiento': 8.49370381338136e-25, 'Economia': 3.9210362525346993, 'Internacional': 3.5344177083683426e-19}, {'Nacional': 5.97216221358538e-34, 'Deportes': 3.283833248397668e-30, 'Salud': 1.0081089936304343e-29, 'Ciencia y Tecnologia': 1.8704017140558946e-08, 'Entretenimiento': 8.49370381338136e-25, 'Economia': 3.9210362525346993, 'Internacional': 3.5344177083683426e-19}, {'Nacional': 5.97216221358538e-34, 'Deportes': 3.283833248397668e-30, 'Salud': 1.0081089936304343e-29, 'Ciencia y Tecnologia': 1.8704017140558946e-08, 'Entretenimiento': 8.49370381338136e-25, 'Economia': 3.9210362525346993, 'Internacional': 3.5344177083683426e-19}, {'Nacional': 5.97216221358538e-34, 'Deportes': 3.283833248397668e-30, 'Salud': 1.0081089936304343e-29, 'Ciencia y Tecnologia': 1.8704017140558946e-08, 'Entretenimiento': 8.49370381338136e-25, 'Economia': 3.9210362525346993, 'Internacional': 3.5344177083683426e-19}, {'Nacional': 5.97216221358538e-34, 'Deportes': 3.283833248397668e-30, 'Salud': 1.0081089936304343e-29, 'Ciencia y Tecnologia': 1.8704017140558946e-08, 'Entretenimiento': 8.49370381338136e-25, 'Economia': 3.9210362525346993, 'Internacional': 3.5344177083683426e-19}, {'Nacional': 5.97216221358538e-34, 'Deportes': 3.283833248397668e-30, 'Salud': 1.0081089936304343e-29, 'Ciencia y Tecnologia': 1.8704017140558946e-08, 'Entretenimiento': 8.49370381338136e-25, 'Economia': 3.9210362525346993, 'Internacional': 3.5344177083683426e-19}, {'Nacional': 5.97216221358538e-34, 'Deportes': 3.283833248397668e-30, 'Salud': 1.0081089936304343e-29, 'Ciencia y Tecnologia': 1.8704017140558946e-08, 'Entretenimiento': 8.49370381338136e-25, 'Economia': 3.9210362525346993, 'Internacional': 3.5344177083683426e-19}, {'Nacional': 5.97216221358538e-34, 'Deportes': 3.283833248397668e-30, 'Salud': 1.0081089936304343e-29, 'Ciencia y Tecnologia': 1.8704017140558946e-08, 'Entretenimiento': 8.49370381338136e-25, 'Economia': 3.9210362525346993, 'Internacional': 3.5344177083683426e-19}, {'Nacional': 5.97216221358538e-34, 'Deportes': 3.283833248397668e-30, 'Salud': 1.0081089936304343e-29, 'Ciencia y Tecnologia': 1.8704017140558946e-08, 'Entretenimiento': 8.49370381338136e-25, 'Economia': 3.9210362525346993, 'Internacional': 3.5344177083683426e-19}, {'Nacional': 5.97216221358538e-34, 'Deportes': 3.283833248397668e-30, 'Salud': 1.0081089936304343e-29, 'Ciencia y Tecnologia': 1.8704017140558946e-08, 'Entretenimiento': 8.49370381338136e-25, 'Economia': 3.9210362525346993, 'Internacional': 3.5344177083683426e-19}, {'Nacional': 5.97216221358538e-34, 'Deportes': 3.283833248397668e-30, 'Salud': 1.0081089936304343e-29, 'Ciencia y Tecnologia': 1.8704017140558946e-08, 'Entretenimiento': 8.49370381338136e-25, 'Economia': 3.9210362525346993, 'Internacional': 3.5344177083683426e-19}, {'Nacional': 5.97216221358538e-34, 'Deportes': 3.283833248397668e-30, 'Salud': 1.0081089936304343e-29, 'Ciencia y Tecnologia': 1.8704017140558946e-08, 'Entretenimiento': 8.49370381338136e-25, 'Economia': 3.9210362525346993, 'Internacional': 3.5344177083683426e-19}, {'Nacional': 5.97216221358538e-34, 'Deportes': 3.283833248397668e-30, 'Salud': 1.0081089936304343e-29, 'Ciencia y Tecnologia': 1.8704017140558946e-08, 'Entretenimiento': 8.49370381338136e-25, 'Economia': 3.9210362525346993, 'Internacional': 3.5344177083683426e-19}, {'Nacional': 5.97216221358538e-34, 'Deportes': 3.283833248397668e-30, 'Salud': 1.0081089936304343e-29, 'Ciencia y Tecnologia': 1.8704017140558946e-08, 'Entretenimiento': 8.49370381338136e-25, 'Economia': 3.9210362525346993, 'Internacional': 3.5344177083683426e-19}, {'Nacional': 5.97216221358538e-34, 'Deportes': 3.283833248397668e-30, 'Salud': 1.0081089936304343e-29, 'Ciencia y Tecnologia': 1.8704017140558946e-08, 'Entretenimiento': 8.49370381338136e-25, 'Economia': 3.9210362525346993, 'Internacional': 3.5344177083683426e-19}]\n"
     ]
    }
   ],
   "source": [
    "# Calcular curva ROC\n",
    "u = [0.1 * x for x in range(1, 10)]\n",
    "\n",
    "def calc_word_prob(word):\n",
    "    totalCount, wordCount = 0, 0\n",
    "    for category in categories:\n",
    "        \n",
    "        for key in categories_word_appearances[category].keys():\n",
    "            totalCount += categories_word_appearances[category][key]\n",
    "        \n",
    "        if word in categories_word_appearances[category]:\n",
    "            wordCount += categories_word_appearances[category][word]\n",
    "    # print(f\"wordCount / float(totalCount): {wordCount / float(totalCount)}\")  \n",
    "    return (wordCount + 1) / float(totalCount)\n",
    "    \n",
    "    \n",
    "    \n",
    "\n",
    "def classify_with_prob(title):\n",
    "    words = split_and_sanitize(title)\n",
    "    vs = {}\n",
    "    for category in categories:\n",
    "        v = category_relative_freq.loc[category]\n",
    "        for word in words:\n",
    "            # word count / total de apariciones de todas las palabras\n",
    "            word_prob = calc_word_prob(word)\n",
    "            \n",
    "            if word in word_relative_frequencies[category]:\n",
    "                v *= word_relative_frequencies[category][word] / word_prob\n",
    "            else:\n",
    "                v *= zero_probabilities[category]\n",
    "        vs[category] = v \n",
    "    \n",
    "    return vs\n",
    "\n",
    "classification_probs = []\n",
    "\n",
    "for j in u:\n",
    "    for i in range(10):#len(test)):\n",
    "        row = test.iloc[0]\n",
    "        category = row['categoria']\n",
    "        title = row['titular']\n",
    "        classification_probs.append(classify_with_prob(title))\n",
    "\n",
    "print(classification_probs)\n",
    "\n",
    "        \n",
    "    \n",
    "    \n",
    "    \n",
    "\n"
   ]
  },
  {
   "cell_type": "code",
   "execution_count": null,
   "id": "respected-prompt",
   "metadata": {},
   "outputs": [],
   "source": []
  }
 ],
 "metadata": {
  "kernelspec": {
   "display_name": "Python 3",
   "language": "python",
   "name": "python3"
  },
  "language_info": {
   "codemirror_mode": {
    "name": "ipython",
    "version": 3
   },
   "file_extension": ".py",
   "mimetype": "text/x-python",
   "name": "python",
   "nbconvert_exporter": "python",
   "pygments_lexer": "ipython3",
   "version": "3.8.6"
  }
 },
 "nbformat": 4,
 "nbformat_minor": 5
}
