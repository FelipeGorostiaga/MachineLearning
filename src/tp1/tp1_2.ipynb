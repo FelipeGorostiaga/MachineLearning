{
 "cells": [
  {
   "cell_type": "markdown",
   "id": "racial-nightlife",
   "metadata": {},
   "source": [
    "## Clasificador de Noticias Argentinas "
   ]
  },
  {
   "cell_type": "code",
   "execution_count": 36,
   "id": "amateur-mapping",
   "metadata": {},
   "outputs": [],
   "source": [
    "import pandas as pd\n",
    "\n",
    "df = pd.read_excel('../../res/tp1/Noticias_argentinas.xlsx', sheet_name='aa_bayes')"
   ]
  },
  {
   "cell_type": "code",
   "execution_count": 37,
   "id": "proprietary-antenna",
   "metadata": {},
   "outputs": [
    {
     "data": {
      "text/html": [
       "<div>\n",
       "<style scoped>\n",
       "    .dataframe tbody tr th:only-of-type {\n",
       "        vertical-align: middle;\n",
       "    }\n",
       "\n",
       "    .dataframe tbody tr th {\n",
       "        vertical-align: top;\n",
       "    }\n",
       "\n",
       "    .dataframe thead th {\n",
       "        text-align: right;\n",
       "    }\n",
       "</style>\n",
       "<table border=\"1\" class=\"dataframe\">\n",
       "  <thead>\n",
       "    <tr style=\"text-align: right;\">\n",
       "      <th></th>\n",
       "      <th>titular</th>\n",
       "      <th>categoria</th>\n",
       "    </tr>\n",
       "  </thead>\n",
       "  <tbody>\n",
       "    <tr>\n",
       "      <th>0</th>\n",
       "      <td>Trabajadores del Buenos Aires Design cortan la...</td>\n",
       "      <td>Nacional</td>\n",
       "    </tr>\n",
       "    <tr>\n",
       "      <th>1</th>\n",
       "      <td>La boda del gobernador Gerardo Morales: tapas ...</td>\n",
       "      <td>Nacional</td>\n",
       "    </tr>\n",
       "    <tr>\n",
       "      <th>2</th>\n",
       "      <td>Cumbre del G20: qué calles estarán cortadas y ...</td>\n",
       "      <td>Nacional</td>\n",
       "    </tr>\n",
       "    <tr>\n",
       "      <th>3</th>\n",
       "      <td>Una fractura que confirma la candidatura de Cr...</td>\n",
       "      <td>Nacional</td>\n",
       "    </tr>\n",
       "    <tr>\n",
       "      <th>4</th>\n",
       "      <td>Infierno grande: ola de divorcios en un pueblo...</td>\n",
       "      <td>Nacional</td>\n",
       "    </tr>\n",
       "  </tbody>\n",
       "</table>\n",
       "</div>"
      ],
      "text/plain": [
       "                                             titular categoria\n",
       "0  Trabajadores del Buenos Aires Design cortan la...  Nacional\n",
       "1  La boda del gobernador Gerardo Morales: tapas ...  Nacional\n",
       "2  Cumbre del G20: qué calles estarán cortadas y ...  Nacional\n",
       "3  Una fractura que confirma la candidatura de Cr...  Nacional\n",
       "4  Infierno grande: ola de divorcios en un pueblo...  Nacional"
      ]
     },
     "execution_count": 37,
     "metadata": {},
     "output_type": "execute_result"
    }
   ],
   "source": [
    "# Nos quedamos con los atributos de interes\n",
    "\n",
    "df = df[[\"titular\", \"categoria\"]]\n",
    "\n",
    "# removemos las categorias que no necesitamos ('Destacadas', 'Noticias Destacadas')\n",
    "\n",
    "\n",
    "df.head()"
   ]
  },
  {
   "cell_type": "code",
   "execution_count": 38,
   "id": "interested-screen",
   "metadata": {},
   "outputs": [
    {
     "name": "stdout",
     "output_type": "stream",
     "text": [
      "['Nacional' 'Deportes' 'Salud' 'Ciencia y Tecnologia' 'Entretenimiento'\n",
      " 'Economia' 'Internacional']\n"
     ]
    }
   ],
   "source": [
    "df = df.loc[df['categoria'].isin((\"Nacional\", \"Economia\", \"Internacional\", \"Deportes\", \"Salud\", \"Ciencia y Tecnologia\", \"Entretenimiento\"))]\n",
    "df.head()\n",
    "categories = df['categoria'].unique()\n",
    "print(categories)\n"
   ]
  },
  {
   "cell_type": "code",
   "execution_count": 39,
   "id": "first-associate",
   "metadata": {},
   "outputs": [
    {
     "data": {
      "text/plain": [
       "26961"
      ]
     },
     "execution_count": 39,
     "metadata": {},
     "output_type": "execute_result"
    }
   ],
   "source": [
    "len(df)"
   ]
  },
  {
   "cell_type": "code",
   "execution_count": 40,
   "id": "banner-montgomery",
   "metadata": {},
   "outputs": [
    {
     "data": {
      "text/plain": [
       "Nacional                3860\n",
       "Ciencia y Tecnologia    3856\n",
       "Deportes                3855\n",
       "Internacional           3850\n",
       "Entretenimiento         3850\n",
       "Economia                3850\n",
       "Salud                   3840\n",
       "Name: categoria, dtype: int64"
      ]
     },
     "execution_count": 40,
     "metadata": {},
     "output_type": "execute_result"
    }
   ],
   "source": [
    "df['categoria'].value_counts()"
   ]
  },
  {
   "cell_type": "code",
   "execution_count": 41,
   "id": "respected-melissa",
   "metadata": {},
   "outputs": [
    {
     "data": {
      "text/html": [
       "<div>\n",
       "<style scoped>\n",
       "    .dataframe tbody tr th:only-of-type {\n",
       "        vertical-align: middle;\n",
       "    }\n",
       "\n",
       "    .dataframe tbody tr th {\n",
       "        vertical-align: top;\n",
       "    }\n",
       "\n",
       "    .dataframe thead th {\n",
       "        text-align: right;\n",
       "    }\n",
       "</style>\n",
       "<table border=\"1\" class=\"dataframe\">\n",
       "  <thead>\n",
       "    <tr style=\"text-align: right;\">\n",
       "      <th></th>\n",
       "      <th>titular</th>\n",
       "      <th>categoria</th>\n",
       "    </tr>\n",
       "  </thead>\n",
       "  <tbody>\n",
       "    <tr>\n",
       "      <th>30666</th>\n",
       "      <td>¡Tiembla Pampita! Zaira Nara, la celestina ent...</td>\n",
       "      <td>Entretenimiento</td>\n",
       "    </tr>\n",
       "    <tr>\n",
       "      <th>20988</th>\n",
       "      <td>Cómo se repartirán las entradas para la Superf...</td>\n",
       "      <td>Deportes</td>\n",
       "    </tr>\n",
       "    <tr>\n",
       "      <th>22299</th>\n",
       "      <td>El recuerdo de Betty Elizalde: la mujer que ro...</td>\n",
       "      <td>Entretenimiento</td>\n",
       "    </tr>\n",
       "    <tr>\n",
       "      <th>23016</th>\n",
       "      <td>Picante veredicto de De Brito tras el cruce de...</td>\n",
       "      <td>Entretenimiento</td>\n",
       "    </tr>\n",
       "    <tr>\n",
       "      <th>9914</th>\n",
       "      <td>El descargo de Micaela Tinelli... ¿por las crí...</td>\n",
       "      <td>Entretenimiento</td>\n",
       "    </tr>\n",
       "  </tbody>\n",
       "</table>\n",
       "</div>"
      ],
      "text/plain": [
       "                                                 titular        categoria\n",
       "30666  ¡Tiembla Pampita! Zaira Nara, la celestina ent...  Entretenimiento\n",
       "20988  Cómo se repartirán las entradas para la Superf...         Deportes\n",
       "22299  El recuerdo de Betty Elizalde: la mujer que ro...  Entretenimiento\n",
       "23016  Picante veredicto de De Brito tras el cruce de...  Entretenimiento\n",
       "9914   El descargo de Micaela Tinelli... ¿por las crí...  Entretenimiento"
      ]
     },
     "execution_count": 41,
     "metadata": {},
     "output_type": "execute_result"
    }
   ],
   "source": [
    "from sklearn.model_selection import train_test_split\n",
    "\n",
    "# Separar los datos en datos de entrenamiento y testeo\n",
    "train, test = train_test_split(df, test_size=0.2)\n",
    "train.head()\n",
    "test.head()"
   ]
  },
  {
   "cell_type": "code",
   "execution_count": 42,
   "id": "express-appeal",
   "metadata": {},
   "outputs": [],
   "source": [
    "textos = list(df['titular'])"
   ]
  },
  {
   "cell_type": "code",
   "execution_count": 43,
   "id": "accessible-choir",
   "metadata": {},
   "outputs": [],
   "source": [
    "# Crear diccionario de categorias con diccionarios vacios para las palabras de los titulares\n",
    "categories_word_appearances = { i : {} for i in categories }"
   ]
  },
  {
   "cell_type": "code",
   "execution_count": 44,
   "id": "naked-photographer",
   "metadata": {},
   "outputs": [
    {
     "name": "stdout",
     "output_type": "stream",
     "text": [
      "{'Nacional': {}, 'Deportes': {}, 'Salud': {}, 'Ciencia y Tecnologia': {}, 'Entretenimiento': {}, 'Economia': {}, 'Internacional': {}}\n"
     ]
    }
   ],
   "source": [
    "print(categories_word_appearances)"
   ]
  },
  {
   "cell_type": "code",
   "execution_count": 45,
   "id": "white-round",
   "metadata": {},
   "outputs": [],
   "source": [
    "import re\n",
    "\n",
    "def split_and_sanitize(title):\n",
    "    words = title.split()  # se separan las palabras según espacios (quita todos los espacios)\n",
    "    words = list(map(lambda x: re.sub(\"[^\\w\\s]\", '', x), words))  # reemplazo de símbolos por ningún caracter\n",
    "    return words\n",
    "\n",
    "for i in range(len(train)):\n",
    "    row = train.iloc[i]\n",
    "    category = row['categoria']\n",
    "    title = row['titular']\n",
    "    words = split_and_sanitize(title)\n",
    "    \n",
    "    for word in words:\n",
    "            if word in categories_word_appearances[category]:\n",
    "                categories_word_appearances[category][word] += 1\n",
    "            else:\n",
    "                categories_word_appearances[category][word] = 1\n",
    "                \n",
    "    \n",
    "    \n",
    "    "
   ]
  },
  {
   "cell_type": "code",
   "execution_count": 47,
   "id": "consecutive-identification",
   "metadata": {},
   "outputs": [
    {
     "name": "stdout",
     "output_type": "stream",
     "text": [
      "66\n"
     ]
    }
   ],
   "source": [
    "print(categories_word_appearances['Entretenimiento']['Pampita'])"
   ]
  },
  {
   "cell_type": "code",
   "execution_count": 48,
   "id": "heated-cedar",
   "metadata": {},
   "outputs": [
    {
     "name": "stdout",
     "output_type": "stream",
     "text": [
      "Economia                0.144612\n",
      "Ciencia y Tecnologia    0.144149\n",
      "Entretenimiento         0.143268\n",
      "Internacional           0.143175\n",
      "Deportes                0.142526\n",
      "Salud                   0.141460\n",
      "Nacional                0.140810\n",
      "Name: categoria, dtype: float64\n",
      "0.0014268677059374735\n"
     ]
    }
   ],
   "source": [
    "# Calcular probabilidades de las clases P(category) para el conjunto de entrenamiento\n",
    "\n",
    "category_relative_freq = train['categoria'].value_counts() / len(train)  # P(category)\n",
    "print(category_relative_freq)\n",
    "\n",
    "# Calcular las probabilidades condicionales P(word | category)\n",
    "word_relative_frequencies = { i : {} for i in categories }\n",
    "zero_probabilities = { i : 0 for i in categories } # Laplace correction in case a word does not appear in a category\n",
    "for category in categories:\n",
    "    word_appearances_sum = sum(categories_word_appearances[category].values())\n",
    "    laplace_denominator = word_appearances_sum + len(categories_word_appearances[category].keys())\n",
    "    zero_probabilities[category] = 1 / laplace_denominator\n",
    "    for word, word_count in categories_word_appearances[category].items():\n",
    "        word_relative_frequencies[category][word] = (word_count + 1) / laplace_denominator\n",
    "\n",
    "print(word_relative_frequencies['Entretenimiento']['Pampita'])\n",
    "# Objetivo final:\n",
    "#   P (category | [word])\n",
    "# = P ([word] | category) * P (category)      ##  / P ([word])\n",
    "# = prod(P (word | category)) * P (category)"
   ]
  },
  {
   "cell_type": "code",
   "execution_count": 54,
   "id": "mounted-simon",
   "metadata": {},
   "outputs": [
    {
     "name": "stdout",
     "output_type": "stream",
     "text": [
      "La noticia 'Pampita fue a la mesa de Mirtha' pertenece a Entretenimiento\n",
      "La noticia 'Messi metió un gol' pertenece a Deportes\n",
      "La noticia 'Apple lanzó un nuevo iPhone' pertenece a Ciencia y Tecnologia\n"
     ]
    }
   ],
   "source": [
    "def classify(title):\n",
    "    words = split_and_sanitize(title)\n",
    "    vs = {}\n",
    "    for category in categories:\n",
    "        v = category_relative_freq.loc[category]\n",
    "        for word in words:\n",
    "            if word in word_relative_frequencies[category]:\n",
    "                v *= word_relative_frequencies[category][word]\n",
    "            else:\n",
    "                v *= zero_probabilities[category]\n",
    "        vs[category] = v\n",
    "    mx = (None, 0)\n",
    "    for category, v in vs.items():\n",
    "        if v > mx[1]:\n",
    "            mx = (category, v)\n",
    "    return mx[0]\n",
    "\n",
    "noticia = 'Pampita fue a la mesa de Mirtha'\n",
    "print(f\"La noticia '{noticia}' pertenece a {classify(noticia)}\")\n",
    "noticia = 'Messi metió un gol'\n",
    "print(f\"La noticia '{noticia}' pertenece a {classify(noticia)}\")\n",
    "noticia = 'Apple lanzó un nuevo iPhone'\n",
    "print(f\"La noticia '{noticia}' pertenece a {classify(noticia)}\")"
   ]
  },
  {
   "cell_type": "code",
   "execution_count": null,
   "id": "isolated-humanitarian",
   "metadata": {},
   "outputs": [],
   "source": []
  }
 ],
 "metadata": {
  "kernelspec": {
   "display_name": "Python 3",
   "language": "python",
   "name": "python3"
  },
  "language_info": {
   "codemirror_mode": {
    "name": "ipython",
    "version": 3
   },
   "file_extension": ".py",
   "mimetype": "text/x-python",
   "name": "python",
   "nbconvert_exporter": "python",
   "pygments_lexer": "ipython3",
   "version": "3.8.6"
  }
 },
 "nbformat": 4,
 "nbformat_minor": 5
}
