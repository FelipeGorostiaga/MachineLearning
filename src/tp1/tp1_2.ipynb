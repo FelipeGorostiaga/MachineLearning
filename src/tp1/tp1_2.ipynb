{
 "cells": [
  {
   "cell_type": "markdown",
   "id": "proved-cholesterol",
   "metadata": {},
   "source": [
    "## Clasificador de Noticias Argentinas "
   ]
  },
  {
   "cell_type": "code",
   "execution_count": 1,
   "id": "afraid-retail",
   "metadata": {},
   "outputs": [],
   "source": [
    "import pandas as pd\n",
    "\n",
    "df = pd.read_excel('../../res/tp1/Noticias_argentinas.xlsx', sheet_name='aa_bayes')"
   ]
  },
  {
   "cell_type": "code",
   "execution_count": 2,
   "id": "legendary-youth",
   "metadata": {},
   "outputs": [
    {
     "data": {
      "text/html": [
       "<div>\n",
       "<style scoped>\n",
       "    .dataframe tbody tr th:only-of-type {\n",
       "        vertical-align: middle;\n",
       "    }\n",
       "\n",
       "    .dataframe tbody tr th {\n",
       "        vertical-align: top;\n",
       "    }\n",
       "\n",
       "    .dataframe thead th {\n",
       "        text-align: right;\n",
       "    }\n",
       "</style>\n",
       "<table border=\"1\" class=\"dataframe\">\n",
       "  <thead>\n",
       "    <tr style=\"text-align: right;\">\n",
       "      <th></th>\n",
       "      <th>titular</th>\n",
       "      <th>categoria</th>\n",
       "    </tr>\n",
       "  </thead>\n",
       "  <tbody>\n",
       "    <tr>\n",
       "      <th>0</th>\n",
       "      <td>Trabajadores del Buenos Aires Design cortan la...</td>\n",
       "      <td>Nacional</td>\n",
       "    </tr>\n",
       "    <tr>\n",
       "      <th>1</th>\n",
       "      <td>La boda del gobernador Gerardo Morales: tapas ...</td>\n",
       "      <td>Nacional</td>\n",
       "    </tr>\n",
       "    <tr>\n",
       "      <th>2</th>\n",
       "      <td>Cumbre del G20: qué calles estarán cortadas y ...</td>\n",
       "      <td>Nacional</td>\n",
       "    </tr>\n",
       "    <tr>\n",
       "      <th>3</th>\n",
       "      <td>Una fractura que confirma la candidatura de Cr...</td>\n",
       "      <td>Nacional</td>\n",
       "    </tr>\n",
       "    <tr>\n",
       "      <th>4</th>\n",
       "      <td>Infierno grande: ola de divorcios en un pueblo...</td>\n",
       "      <td>Nacional</td>\n",
       "    </tr>\n",
       "  </tbody>\n",
       "</table>\n",
       "</div>"
      ],
      "text/plain": [
       "                                             titular categoria\n",
       "0  Trabajadores del Buenos Aires Design cortan la...  Nacional\n",
       "1  La boda del gobernador Gerardo Morales: tapas ...  Nacional\n",
       "2  Cumbre del G20: qué calles estarán cortadas y ...  Nacional\n",
       "3  Una fractura que confirma la candidatura de Cr...  Nacional\n",
       "4  Infierno grande: ola de divorcios en un pueblo...  Nacional"
      ]
     },
     "execution_count": 2,
     "metadata": {},
     "output_type": "execute_result"
    }
   ],
   "source": [
    "# Nos quedamos con los atributos de interes\n",
    "\n",
    "df = df[[\"titular\", \"categoria\"]]\n",
    "\n",
    "# removemos las categorias que no necesitamos ('Destacadas', 'Noticias Destacadas')\n",
    "\n",
    "\n",
    "df.head()"
   ]
  },
  {
   "cell_type": "code",
   "execution_count": 3,
   "id": "purple-issue",
   "metadata": {},
   "outputs": [
    {
     "name": "stdout",
     "output_type": "stream",
     "text": [
      "['Nacional' 'Deportes' 'Salud' 'Ciencia y Tecnologia' 'Entretenimiento'\n",
      " 'Economia' 'Internacional']\n"
     ]
    }
   ],
   "source": [
    "df = df.loc[df['categoria'].isin((\"Nacional\", \"Economia\", \"Internacional\", \"Deportes\", \"Salud\", \"Ciencia y Tecnologia\", \"Entretenimiento\"))]\n",
    "df.head()\n",
    "categories = df['categoria'].unique()\n",
    "print(categories)\n"
   ]
  },
  {
   "cell_type": "code",
   "execution_count": 4,
   "id": "seventh-october",
   "metadata": {},
   "outputs": [
    {
     "data": {
      "text/plain": [
       "Nacional                3860\n",
       "Ciencia y Tecnologia    3856\n",
       "Deportes                3855\n",
       "Internacional           3850\n",
       "Entretenimiento         3850\n",
       "Economia                3850\n",
       "Salud                   3840\n",
       "Name: categoria, dtype: int64"
      ]
     },
     "execution_count": 4,
     "metadata": {},
     "output_type": "execute_result"
    }
   ],
   "source": [
    "df['categoria'].value_counts()"
   ]
  },
  {
   "cell_type": "code",
   "execution_count": 5,
   "id": "contained-familiar",
   "metadata": {},
   "outputs": [
    {
     "data": {
      "text/html": [
       "<div>\n",
       "<style scoped>\n",
       "    .dataframe tbody tr th:only-of-type {\n",
       "        vertical-align: middle;\n",
       "    }\n",
       "\n",
       "    .dataframe tbody tr th {\n",
       "        vertical-align: top;\n",
       "    }\n",
       "\n",
       "    .dataframe thead th {\n",
       "        text-align: right;\n",
       "    }\n",
       "</style>\n",
       "<table border=\"1\" class=\"dataframe\">\n",
       "  <thead>\n",
       "    <tr style=\"text-align: right;\">\n",
       "      <th></th>\n",
       "      <th>titular</th>\n",
       "      <th>categoria</th>\n",
       "    </tr>\n",
       "  </thead>\n",
       "  <tbody>\n",
       "    <tr>\n",
       "      <th>4841</th>\n",
       "      <td>¿Por qué EE.UU. pide no consumir lechugas roma...</td>\n",
       "      <td>Salud</td>\n",
       "    </tr>\n",
       "    <tr>\n",
       "      <th>16563</th>\n",
       "      <td>Piden abandonar cuerpo de estadounidense muert...</td>\n",
       "      <td>Internacional</td>\n",
       "    </tr>\n",
       "    <tr>\n",
       "      <th>11563</th>\n",
       "      <td>El mensaje de Marcelo Tinelli minutos antes de...</td>\n",
       "      <td>Deportes</td>\n",
       "    </tr>\n",
       "    <tr>\n",
       "      <th>21397</th>\n",
       "      <td>Llueven críticas y Conmebol aún no sabe que ha...</td>\n",
       "      <td>Deportes</td>\n",
       "    </tr>\n",
       "    <tr>\n",
       "      <th>733</th>\n",
       "      <td>La denuncia de Cristina Kirchner: \"¿Hasta cuán...</td>\n",
       "      <td>Nacional</td>\n",
       "    </tr>\n",
       "  </tbody>\n",
       "</table>\n",
       "</div>"
      ],
      "text/plain": [
       "                                                 titular      categoria\n",
       "4841   ¿Por qué EE.UU. pide no consumir lechugas roma...          Salud\n",
       "16563  Piden abandonar cuerpo de estadounidense muert...  Internacional\n",
       "11563  El mensaje de Marcelo Tinelli minutos antes de...       Deportes\n",
       "21397  Llueven críticas y Conmebol aún no sabe que ha...       Deportes\n",
       "733    La denuncia de Cristina Kirchner: \"¿Hasta cuán...       Nacional"
      ]
     },
     "execution_count": 5,
     "metadata": {},
     "output_type": "execute_result"
    }
   ],
   "source": [
    "from sklearn.model_selection import train_test_split\n",
    "\n",
    "# Separar los datos en datos de entrenamiento y testeo\n",
    "train, test = train_test_split(df, test_size=0.2)\n",
    "train.head()\n",
    "test.head()"
   ]
  },
  {
   "cell_type": "code",
   "execution_count": 6,
   "id": "refined-replacement",
   "metadata": {},
   "outputs": [],
   "source": [
    "textos = list(df['titular'])"
   ]
  },
  {
   "cell_type": "code",
   "execution_count": 7,
   "id": "floppy-breach",
   "metadata": {},
   "outputs": [],
   "source": [
    "# Crear diccionario de categorias con diccionarios vacios para las palabras de los titulares\n",
    "categories_word_appearances = { i : {} for i in categories }"
   ]
  },
  {
   "cell_type": "code",
   "execution_count": 8,
   "id": "expanded-genre",
   "metadata": {},
   "outputs": [],
   "source": [
    "import re\n",
    "\n",
    "def split_and_sanitize(title):\n",
    "    words = title.split()  # se separan las palabras según espacios (quita todos los espacios)\n",
    "    words = list(map(lambda x: re.sub(\"[^\\w\\s]\", '', x), words))  # reemplazo de símbolos por ningún caracter\n",
    "    return words\n",
    "\n",
    "for i in range(len(train)):\n",
    "    row = train.iloc[i]\n",
    "    category = row['categoria']\n",
    "    title = row['titular']\n",
    "    words = split_and_sanitize(title)\n",
    "    \n",
    "    for word in words:\n",
    "            if word in categories_word_appearances[category]:\n",
    "                categories_word_appearances[category][word] += 1\n",
    "            else:\n",
    "                categories_word_appearances[category][word] = 1\n",
    "                \n",
    "    \n",
    "    \n",
    "    "
   ]
  },
  {
   "cell_type": "code",
   "execution_count": 9,
   "id": "varied-navigation",
   "metadata": {},
   "outputs": [
    {
     "name": "stdout",
     "output_type": "stream",
     "text": [
      "65\n"
     ]
    }
   ],
   "source": [
    "print(categories_word_appearances['Entretenimiento']['Pampita'])"
   ]
  },
  {
   "cell_type": "code",
   "execution_count": 11,
   "id": "consistent-leadership",
   "metadata": {},
   "outputs": [
    {
     "name": "stdout",
     "output_type": "stream",
     "text": [
      "Economia                0.145632\n",
      "Entretenimiento         0.144195\n",
      "Internacional           0.143824\n",
      "Ciencia y Tecnologia    0.142897\n",
      "Nacional                0.142711\n",
      "Deportes                0.141413\n",
      "Salud                   0.139327\n",
      "Name: categoria, dtype: float64\n",
      "0.0013998769805077735\n",
      "0.9999999999999433\n"
     ]
    }
   ],
   "source": [
    "# Calcular probabilidades de las clases P(category) para el conjunto de entrenamiento\n",
    "\n",
    "category_relative_freq = train['categoria'].value_counts() / len(train)  # P(category)\n",
    "print(category_relative_freq)\n",
    "\n",
    "# Calcular las probabilidades condicionales P(word | category)\n",
    "word_relative_frequencies = { i : {} for i in categories }\n",
    "zero_probabilities = { i : 0 for i in categories } # Laplace correction in case a word does not appear in a category\n",
    "for category in categories:\n",
    "    word_appearances_sum = sum(categories_word_appearances[category].values())\n",
    "    laplace_denominator = float(word_appearances_sum + len(categories_word_appearances[category].keys()))\n",
    "    zero_probabilities[category] = 1 / laplace_denominator\n",
    "    for word, word_count in categories_word_appearances[category].items():\n",
    "        word_relative_frequencies[category][word] = (word_count + 1) / laplace_denominator\n",
    "\n",
    "print(word_relative_frequencies['Entretenimiento']['Pampita'])\n",
    "print(sum(word_relative_frequencies['Entretenimiento'].values()))\n",
    "# Objetivo final:\n",
    "#   P (category | [word])\n",
    "# = P ([word] | category) * P (category)      ##  / P ([word])\n",
    "# = prod(P (word | category)) * P (category)"
   ]
  },
  {
   "cell_type": "code",
   "execution_count": 12,
   "id": "impossible-finger",
   "metadata": {},
   "outputs": [
    {
     "name": "stdout",
     "output_type": "stream",
     "text": [
      "La noticia 'Pampita fue a la mesa de Mirtha' pertenece a Entretenimiento\n",
      "La noticia 'Messi metió un gol' pertenece a Deportes\n",
      "La noticia 'Apple lanzó un nuevo iPhone' pertenece a Ciencia y Tecnologia\n"
     ]
    }
   ],
   "source": [
    "def classify(title):\n",
    "    words = split_and_sanitize(title)\n",
    "    vs = {}\n",
    "    for category in categories:\n",
    "        v = category_relative_freq.loc[category]\n",
    "        for word in words:\n",
    "            if word in word_relative_frequencies[category]:\n",
    "                v *= word_relative_frequencies[category][word]\n",
    "            else:\n",
    "                v *= zero_probabilities[category]\n",
    "        vs[category] = v\n",
    "        #print(v)\n",
    "    mx = (None, 0)\n",
    "    for category, v in vs.items():\n",
    "        if v > mx[1]:\n",
    "            mx = (category, v)\n",
    "    return mx[0]\n",
    "\n",
    "noticia = 'Pampita fue a la mesa de Mirtha'\n",
    "print(f\"La noticia '{noticia}' pertenece a {classify(noticia)}\")\n",
    "noticia = 'Messi metió un gol'\n",
    "print(f\"La noticia '{noticia}' pertenece a {classify(noticia)}\")\n",
    "noticia = 'Apple lanzó un nuevo iPhone'\n",
    "print(f\"La noticia '{noticia}' pertenece a {classify(noticia)}\")"
   ]
  },
  {
   "cell_type": "code",
   "execution_count": 13,
   "id": "posted-romantic",
   "metadata": {},
   "outputs": [
    {
     "data": {
      "text/plain": [
       "<AxesSubplot:>"
      ]
     },
     "execution_count": 13,
     "metadata": {},
     "output_type": "execute_result"
    },
    {
     "data": {
      "image/png": "[encoded data removed]",
      "text/plain": [
       "<Figure size 432x288 with 2 Axes>"
      ]
     },
     "metadata": {
      "needs_background": "light"
     },
     "output_type": "display_data"
    }
   ],
   "source": [
    "confusion_matrix = { i : {} for i in categories }\n",
    "columns = []\n",
    "for key in confusion_matrix.keys():\n",
    "    columns.append(key)\n",
    "    confusion_matrix[key] = { i : 0 for i in categories } # {'Deportes': {'Deportes': 700, 'Entretenimiento': 3, ...}, ...}\n",
    "\n",
    "for i in range(len(test)):\n",
    "    row = test.iloc[i]\n",
    "    category = row['categoria']\n",
    "    title = row['titular']\n",
    "    result = classify(title)\n",
    "    confusion_matrix[category][result] += 1\n",
    "\n",
    "confusion_df = { key : list(confusion_matrix[key].values()) for key in confusion_matrix.keys() }\n",
    "confusion_df = pd.DataFrame.from_dict(confusion_df, orient='index', columns=columns)\n",
    "\n",
    "import seaborn as sns\n",
    "sns.heatmap(confusion_df, annot=True, cmap='Blues', fmt='g')"
   ]
  },
  {
   "cell_type": "code",
   "execution_count": 14,
   "id": "acute-lemon",
   "metadata": {},
   "outputs": [
    {
     "data": {
      "text/html": [
       "<div>\n",
       "<style scoped>\n",
       "    .dataframe tbody tr th:only-of-type {\n",
       "        vertical-align: middle;\n",
       "    }\n",
       "\n",
       "    .dataframe tbody tr th {\n",
       "        vertical-align: top;\n",
       "    }\n",
       "\n",
       "    .dataframe thead th {\n",
       "        text-align: right;\n",
       "    }\n",
       "</style>\n",
       "<table border=\"1\" class=\"dataframe\">\n",
       "  <thead>\n",
       "    <tr style=\"text-align: right;\">\n",
       "      <th></th>\n",
       "      <th>tp</th>\n",
       "      <th>tn</th>\n",
       "      <th>fp</th>\n",
       "      <th>fn</th>\n",
       "      <th>accuracy</th>\n",
       "      <th>precision</th>\n",
       "      <th>recall</th>\n",
       "      <th>f1</th>\n",
       "    </tr>\n",
       "  </thead>\n",
       "  <tbody>\n",
       "    <tr>\n",
       "      <th>Nacional</th>\n",
       "      <td>706</td>\n",
       "      <td>4427</td>\n",
       "      <td>36</td>\n",
       "      <td>76</td>\n",
       "      <td>0.978646</td>\n",
       "      <td>0.951482</td>\n",
       "      <td>0.902813</td>\n",
       "      <td>0.926509</td>\n",
       "    </tr>\n",
       "    <tr>\n",
       "      <th>Deportes</th>\n",
       "      <td>780</td>\n",
       "      <td>4353</td>\n",
       "      <td>26</td>\n",
       "      <td>25</td>\n",
       "      <td>0.990162</td>\n",
       "      <td>0.967742</td>\n",
       "      <td>0.968944</td>\n",
       "      <td>0.968343</td>\n",
       "    </tr>\n",
       "    <tr>\n",
       "      <th>Salud</th>\n",
       "      <td>820</td>\n",
       "      <td>4313</td>\n",
       "      <td>38</td>\n",
       "      <td>15</td>\n",
       "      <td>0.989780</td>\n",
       "      <td>0.955711</td>\n",
       "      <td>0.982036</td>\n",
       "      <td>0.968695</td>\n",
       "    </tr>\n",
       "    <tr>\n",
       "      <th>Ciencia y Tecnologia</th>\n",
       "      <td>763</td>\n",
       "      <td>4370</td>\n",
       "      <td>33</td>\n",
       "      <td>11</td>\n",
       "      <td>0.991501</td>\n",
       "      <td>0.958543</td>\n",
       "      <td>0.985788</td>\n",
       "      <td>0.971975</td>\n",
       "    </tr>\n",
       "    <tr>\n",
       "      <th>Entretenimiento</th>\n",
       "      <td>718</td>\n",
       "      <td>4415</td>\n",
       "      <td>31</td>\n",
       "      <td>22</td>\n",
       "      <td>0.989780</td>\n",
       "      <td>0.958611</td>\n",
       "      <td>0.970270</td>\n",
       "      <td>0.964406</td>\n",
       "    </tr>\n",
       "    <tr>\n",
       "      <th>Economia</th>\n",
       "      <td>677</td>\n",
       "      <td>4456</td>\n",
       "      <td>49</td>\n",
       "      <td>32</td>\n",
       "      <td>0.984465</td>\n",
       "      <td>0.932507</td>\n",
       "      <td>0.954866</td>\n",
       "      <td>0.943554</td>\n",
       "    </tr>\n",
       "    <tr>\n",
       "      <th>Internacional</th>\n",
       "      <td>669</td>\n",
       "      <td>4464</td>\n",
       "      <td>47</td>\n",
       "      <td>79</td>\n",
       "      <td>0.976041</td>\n",
       "      <td>0.934358</td>\n",
       "      <td>0.894385</td>\n",
       "      <td>0.913934</td>\n",
       "    </tr>\n",
       "  </tbody>\n",
       "</table>\n",
       "</div>"
      ],
      "text/plain": [
       "                       tp    tn  fp  fn  accuracy  precision    recall  \\\n",
       "Nacional              706  4427  36  76  0.978646   0.951482  0.902813   \n",
       "Deportes              780  4353  26  25  0.990162   0.967742  0.968944   \n",
       "Salud                 820  4313  38  15  0.989780   0.955711  0.982036   \n",
       "Ciencia y Tecnologia  763  4370  33  11  0.991501   0.958543  0.985788   \n",
       "Entretenimiento       718  4415  31  22  0.989780   0.958611  0.970270   \n",
       "Economia              677  4456  49  32  0.984465   0.932507  0.954866   \n",
       "Internacional         669  4464  47  79  0.976041   0.934358  0.894385   \n",
       "\n",
       "                            f1  \n",
       "Nacional              0.926509  \n",
       "Deportes              0.968343  \n",
       "Salud                 0.968695  \n",
       "Ciencia y Tecnologia  0.971975  \n",
       "Entretenimiento       0.964406  \n",
       "Economia              0.943554  \n",
       "Internacional         0.913934  "
      ]
     },
     "execution_count": 14,
     "metadata": {},
     "output_type": "execute_result"
    }
   ],
   "source": [
    "import numpy as np\n",
    "\n",
    "true = []\n",
    "predicted = []\n",
    "\n",
    "for i in range(len(test)):\n",
    "    row = test.iloc[i]\n",
    "    true.append(row['categoria'])\n",
    "    title = row['titular']\n",
    "    predicted.append(classify(title))\n",
    "\n",
    "    \n",
    "# Calculamos las metricas para cada categoria    \n",
    "    \n",
    "category_metrics = { i : {'tp': 0, 'tn': 0, 'fp': 0, 'fn': 0, 'accuracy': 0, 'precision': 0, 'recall': 0,  'f1': 0} for i in categories }\n",
    "\n",
    "for i, category in enumerate(categories):\n",
    "    \n",
    "    # Metricas simples\n",
    "    tp = confusion_df.iloc[i,i]\n",
    "    tn = sum(np.diag(confusion_df)) - tp\n",
    "    fn = sum(confusion_df.loc[category]) - tp\n",
    "    fp = sum(confusion_df[category]) - tp\n",
    "    \n",
    "    category_metrics[category]['tp'] = tp\n",
    "    category_metrics[category]['tn'] = tn\n",
    "    category_metrics[category]['fp'] = fp\n",
    "    category_metrics[category]['fn'] = fn\n",
    "    \n",
    "    # Metricas compuestas\n",
    "    category_metrics[category]['accuracy'] = (tp + tn) / (tp + tn + fn + fp)\n",
    "    category_metrics[category]['precision'] = tp / (tp + fp)\n",
    "    category_metrics[category]['recall'] = tp / (tp + fn)\n",
    "    category_metrics[category]['f1'] = (2 * category_metrics[category]['precision'] * category_metrics[category]['recall']) / (category_metrics[category]['precision'] + category_metrics[category]['recall'])\n",
    "\n",
    "metric_cols = ['tp', 'tn', 'fp', 'fn', 'accuracy', 'precision', 'recall', 'f1']\n",
    "metrics_df = { key : list(category_metrics[key].values()) for key in category_metrics.keys() }    \n",
    "metrics_df = pd.DataFrame.from_dict(category_metrics, orient='index', columns=metric_cols)\n",
    "metrics_df.head()\n",
    "\n",
    "# Calculamos las metricas para el classifier en general (checkear cual es la forma correcta)\n",
    "    \n",
    "tp, fp, fn = 0, 0, 0\n",
    "\n",
    "\n",
    "for i, category in enumerate(categories):\n",
    "    tp += confusion_df.iloc[i, i]\n",
    "    fp += sum(confusion_df.iloc[i, :i])\n",
    "    fn += sum(confusion_df.iloc[i, i+1:])\n",
    "    \n",
    "tn = confusion_df.to_numpy().sum() - (fp + fn + tp)\n",
    "\n",
    "accuracy = (tp + tn) / (tp + tn + fn + fp)\n",
    "precision = tp / (tp + fp)\n",
    "recall = tp / (tp + fn)\n",
    "f1_score = (2 * precision * recall) / (precision + recall)\n",
    "\n",
    "metrics_df\n",
    "\n",
    "    \n",
    "\n"
   ]
  },
  {
   "cell_type": "code",
   "execution_count": 15,
   "id": "intermediate-fitness",
   "metadata": {},
   "outputs": [
    {
     "name": "stdout",
     "output_type": "stream",
     "text": [
      "273748\n",
      "14313\n"
     ]
    }
   ],
   "source": [
    "# Calcular cantidad total de apariciones de palabras\n",
    "totalCount = 0\n",
    "uniqueWords = set({})\n",
    "for category in categories:\n",
    "    for key in categories_word_appearances[category].keys():\n",
    "        totalCount += categories_word_appearances[category][key]\n",
    "        uniqueWords.add(key)\n",
    "        \n",
    "print(totalCount)\n",
    "print(len(uniqueWords))"
   ]
  },
  {
   "cell_type": "code",
   "execution_count": 16,
   "id": "global-memphis",
   "metadata": {},
   "outputs": [],
   "source": [
    "# Calcular probabilidades para la curva ROC\n",
    "def classify_with_prob(title):\n",
    "    words = split_and_sanitize(title)\n",
    "    \n",
    "    vs = {}\n",
    "    denom = 0 # P([word])\n",
    "    for category in categories:\n",
    "        v = category_relative_freq.loc[category]\n",
    "        aux = category_relative_freq[category]\n",
    "        \n",
    "        for word in words:\n",
    "            aux *= word_relative_frequencies[category][word] if word in word_relative_frequencies[category] else zero_probabilities[category]\n",
    "            \n",
    "            if word in word_relative_frequencies[category]:\n",
    "                v *= word_relative_frequencies[category][word]\n",
    "            else:\n",
    "                v *= zero_probabilities[category]\n",
    "                \n",
    "        vs[category] = v\n",
    "        denom += aux\n",
    "        \n",
    "    for k in vs.keys():\n",
    "        vs[k] /= denom\n",
    "        \n",
    "    return vs"
   ]
  },
  {
   "cell_type": "code",
   "execution_count": 17,
   "id": "alike-fairy",
   "metadata": {},
   "outputs": [
    {
     "name": "stdout",
     "output_type": "stream",
     "text": [
      "{'Nacional': 0.001022024254511572, 'Deportes': 0.997236962010836, 'Salud': 5.618745765908239e-05, 'Ciencia y Tecnologia': 4.801185105436759e-05, 'Entretenimiento': 0.0004486977612415312, 'Economia': 0.00025431662034281865, 'Internacional': 0.0009338000443545974}\n",
      "1.0\n"
     ]
    }
   ],
   "source": [
    "print(classify_with_prob(\"Messi metió ocho goles\"))\n",
    "print(sum(classify_with_prob(\"Messi metió ocho goles\").values()))"
   ]
  },
  {
   "cell_type": "code",
   "execution_count": 18,
   "id": "alert-roberts",
   "metadata": {},
   "outputs": [],
   "source": [
    "for index, category in enumerate(categories):\n",
    "    test.insert(index + 2, f\"prob_{category}\", 0)"
   ]
  },
  {
   "cell_type": "code",
   "execution_count": 26,
   "id": "external-blackjack",
   "metadata": {},
   "outputs": [
    {
     "name": "stdout",
     "output_type": "stream",
     "text": [
      "{'Nacional': {0.1: {'tp': 738, 'tn': 101, 'fp': 4510, 'fn': 44}, 0.2: {'tp': 727, 'tn': 135, 'fp': 4476, 'fn': 55}, 0.30000000000000004: {'tp': 722, 'tn': 161, 'fp': 4450, 'fn': 60}, 0.4: {'tp': 712, 'tn': 187, 'fp': 4424, 'fn': 70}, 0.5: {'tp': 703, 'tn': 217, 'fp': 4394, 'fn': 79}, 0.6000000000000001: {'tp': 697, 'tn': 247, 'fp': 4364, 'fn': 85}, 0.7000000000000001: {'tp': 688, 'tn': 281, 'fp': 4330, 'fn': 94}, 0.8: {'tp': 667, 'tn': 318, 'fp': 4293, 'fn': 115}, 0.9: {'tp': 631, 'tn': 399, 'fp': 4212, 'fn': 151}}, 'Deportes': {0.1: {'tp': 796, 'tn': 136, 'fp': 4452, 'fn': 9}, 0.2: {'tp': 789, 'tn': 174, 'fp': 4414, 'fn': 16}, 0.30000000000000004: {'tp': 785, 'tn': 201, 'fp': 4387, 'fn': 20}, 0.4: {'tp': 779, 'tn': 231, 'fp': 4357, 'fn': 26}, 0.5: {'tp': 768, 'tn': 259, 'fp': 4329, 'fn': 37}, 0.6000000000000001: {'tp': 761, 'tn': 288, 'fp': 4300, 'fn': 44}, 0.7000000000000001: {'tp': 755, 'tn': 325, 'fp': 4263, 'fn': 50}, 0.8: {'tp': 748, 'tn': 376, 'fp': 4212, 'fn': 57}, 0.9: {'tp': 728, 'tn': 473, 'fp': 4115, 'fn': 77}}, 'Salud': {0.1: {'tp': 827, 'tn': 137, 'fp': 4421, 'fn': 8}, 0.2: {'tp': 823, 'tn': 178, 'fp': 4380, 'fn': 12}, 0.30000000000000004: {'tp': 821, 'tn': 207, 'fp': 4351, 'fn': 14}, 0.4: {'tp': 820, 'tn': 242, 'fp': 4316, 'fn': 15}, 0.5: {'tp': 818, 'tn': 279, 'fp': 4279, 'fn': 17}, 0.6000000000000001: {'tp': 817, 'tn': 314, 'fp': 4244, 'fn': 18}, 0.7000000000000001: {'tp': 815, 'tn': 355, 'fp': 4203, 'fn': 20}, 0.8: {'tp': 810, 'tn': 408, 'fp': 4150, 'fn': 25}, 0.9: {'tp': 799, 'tn': 514, 'fp': 4044, 'fn': 36}}, 'Ciencia y Tecnologia': {0.1: {'tp': 767, 'tn': 138, 'fp': 4481, 'fn': 7}, 0.2: {'tp': 767, 'tn': 183, 'fp': 4436, 'fn': 7}, 0.30000000000000004: {'tp': 765, 'tn': 212, 'fp': 4407, 'fn': 9}, 0.4: {'tp': 763, 'tn': 246, 'fp': 4373, 'fn': 11}, 0.5: {'tp': 761, 'tn': 283, 'fp': 4336, 'fn': 13}, 0.6000000000000001: {'tp': 761, 'tn': 319, 'fp': 4300, 'fn': 13}, 0.7000000000000001: {'tp': 758, 'tn': 359, 'fp': 4260, 'fn': 16}, 0.8: {'tp': 755, 'tn': 414, 'fp': 4205, 'fn': 19}, 0.9: {'tp': 751, 'tn': 527, 'fp': 4092, 'fn': 23}}, 'Entretenimiento': {0.1: {'tp': 729, 'tn': 135, 'fp': 4518, 'fn': 11}, 0.2: {'tp': 723, 'tn': 174, 'fp': 4479, 'fn': 17}, 0.30000000000000004: {'tp': 720, 'tn': 202, 'fp': 4451, 'fn': 20}, 0.4: {'tp': 718, 'tn': 236, 'fp': 4417, 'fn': 22}, 0.5: {'tp': 712, 'tn': 269, 'fp': 4384, 'fn': 28}, 0.6000000000000001: {'tp': 704, 'tn': 297, 'fp': 4356, 'fn': 36}, 0.7000000000000001: {'tp': 693, 'tn': 329, 'fp': 4324, 'fn': 47}, 0.8: {'tp': 688, 'tn': 382, 'fp': 4271, 'fn': 52}, 0.9: {'tp': 677, 'tn': 488, 'fp': 4165, 'fn': 63}}, 'Economia': {0.1: {'tp': 689, 'tn': 125, 'fp': 4559, 'fn': 20}, 0.2: {'tp': 687, 'tn': 168, 'fp': 4516, 'fn': 22}, 0.30000000000000004: {'tp': 681, 'tn': 193, 'fp': 4491, 'fn': 28}, 0.4: {'tp': 676, 'tn': 223, 'fp': 4461, 'fn': 33}, 0.5: {'tp': 671, 'tn': 257, 'fp': 4427, 'fn': 38}, 0.6000000000000001: {'tp': 669, 'tn': 291, 'fp': 4393, 'fn': 40}, 0.7000000000000001: {'tp': 666, 'tn': 332, 'fp': 4352, 'fn': 43}, 0.8: {'tp': 661, 'tn': 385, 'fp': 4299, 'fn': 48}, 0.9: {'tp': 645, 'tn': 486, 'fp': 4198, 'fn': 64}}, 'Internacional': {0.1: {'tp': 701, 'tn': 98, 'fp': 4547, 'fn': 47}, 0.2: {'tp': 686, 'tn': 128, 'fp': 4517, 'fn': 62}, 0.30000000000000004: {'tp': 677, 'tn': 150, 'fp': 4495, 'fn': 71}, 0.4: {'tp': 668, 'tn': 177, 'fp': 4468, 'fn': 80}, 0.5: {'tp': 664, 'tn': 212, 'fp': 4433, 'fn': 84}, 0.6000000000000001: {'tp': 652, 'tn': 236, 'fp': 4409, 'fn': 96}, 0.7000000000000001: {'tp': 642, 'tn': 269, 'fp': 4376, 'fn': 106}, 0.8: {'tp': 630, 'tn': 315, 'fp': 4330, 'fn': 118}, 0.9: {'tp': 611, 'tn': 413, 'fp': 4232, 'fn': 137}}}\n"
     ]
    }
   ],
   "source": [
    "import matplotlib.pyplot as plt\n",
    "\n",
    "#classification_probs = []\n",
    "u = [0.1 * x for x in range(1, 10)]\n",
    "\n",
    "category_metrics = { cat : { threshold : {'tp': 0, 'tn': 0, 'fp': 0, 'fn': 0} for threshold in u} for cat in categories }\n",
    "titular_classifications = {}\n",
    "\n",
    "\n",
    "for i in range(len(test)):\n",
    "    row = test.iloc[i]\n",
    "    fmt = {'categoria_real': row['categoria']}\n",
    "    category = row['categoria']\n",
    "    title = row['titular']\n",
    "    vs = classify_with_prob(title)\n",
    "    \n",
    "    for cat, v in vs.items():\n",
    "        fmt[f\"prob_{cat}\"] = v\n",
    "    titular_classifications[row['titular']] = fmt\n",
    "        \n",
    "for category in categories:\n",
    "    records = test.query(f\"categoria == '{category}'\")\n",
    "    for index, record in records.iterrows():\n",
    "        prob = titular_classifications[record['titular']][f\"prob_{category}\"]\n",
    "        for threshold in u:\n",
    "            if prob >= threshold:\n",
    "                category_metrics[category][threshold]['tp'] += 1\n",
    "            else:\n",
    "                category_metrics[category][threshold]['fn'] += 1\n",
    "\n",
    "    records = test.query(f\"categoria != '{category}'\")\n",
    "    for index, record in records.iterrows():\n",
    "        real_category = titular_classifications[record['titular']]['categoria_real']\n",
    "        try:\n",
    "            prob = titular_classifications[record['titular']][f\"prob_{real_category}\"]\n",
    "        except:\n",
    "            print(record)\n",
    "        for threshold in u:\n",
    "            if prob >= threshold:\n",
    "                category_metrics[category][threshold]['fp'] += 1\n",
    "            else:\n",
    "                category_metrics[category][threshold]['tn'] += 1\n",
    "    \n",
    "print(category_metrics)"
   ]
  },
  {
   "cell_type": "code",
   "execution_count": 33,
   "id": "alive-adult",
   "metadata": {},
   "outputs": [
    {
     "data": {
      "image/png": "[encoded data removed]",
      "text/plain": [
       "<Figure size 432x288 with 1 Axes>"
      ]
     },
     "metadata": {
      "needs_background": "light"
     },
     "output_type": "display_data"
    }
   ],
   "source": [
    "for c, thresholds in category_metrics.items():\n",
    "    x = []\n",
    "    y = []\n",
    "    for threshold, values in thresholds.items():\n",
    "        TPR = float(values['tp']) / (values['tp'] + values['fn'])\n",
    "        FPR = float(values['fp']) / (values['fp'] + values['tn'])\n",
    "        x.append(FPR)\n",
    "        y.append(TPR)\n",
    "    # print(x)\n",
    "    # print(y)\n",
    "    plt.plot(x,y, label=c)\n",
    "#plt.xlim([0, 1])\n",
    "#plt.ylim([0, 1])\n",
    "plt.xlabel('Tasa de Falsos Positivos')\n",
    "plt.ylabel('Tasa de Verdaderos Positivos')\n",
    "plt.legend(loc=\"best\", bbox_to_anchor=(1.05, 1))\n",
    "plt.show()"
   ]
  },
  {
   "cell_type": "code",
   "execution_count": null,
   "id": "accomplished-ordinance",
   "metadata": {},
   "outputs": [],
   "source": []
  }
 ],
 "metadata": {
  "kernelspec": {
   "display_name": "Python 3",
   "language": "python",
   "name": "python3"
  },
  "language_info": {
   "codemirror_mode": {
    "name": "ipython",
    "version": 3
   },
   "file_extension": ".py",
   "mimetype": "text/x-python",
   "name": "python",
   "nbconvert_exporter": "python",
   "pygments_lexer": "ipython3",
   "version": "3.8.6"
  }
 },
 "nbformat": 4,
 "nbformat_minor": 5
}
