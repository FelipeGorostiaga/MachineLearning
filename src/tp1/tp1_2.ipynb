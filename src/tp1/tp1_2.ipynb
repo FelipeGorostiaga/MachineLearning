{
 "cells": [
  {
   "cell_type": "markdown",
   "id": "exempt-proposal",
   "metadata": {},
   "source": [
    "## Clasificador de Noticias Argentinas "
   ]
  },
  {
   "cell_type": "code",
   "execution_count": 2,
   "id": "quality-currency",
   "metadata": {},
   "outputs": [],
   "source": [
    "import pandas as pd\n",
    "\n",
    "df = pd.read_excel('../../res/tp1/Noticias_argentinas.xlsx', sheet_name='aa_bayes')"
   ]
  },
  {
   "cell_type": "code",
   "execution_count": 3,
   "id": "streaming-intake",
   "metadata": {},
   "outputs": [
    {
     "data": {
      "text/html": [
       "<div>\n",
       "<style scoped>\n",
       "    .dataframe tbody tr th:only-of-type {\n",
       "        vertical-align: middle;\n",
       "    }\n",
       "\n",
       "    .dataframe tbody tr th {\n",
       "        vertical-align: top;\n",
       "    }\n",
       "\n",
       "    .dataframe thead th {\n",
       "        text-align: right;\n",
       "    }\n",
       "</style>\n",
       "<table border=\"1\" class=\"dataframe\">\n",
       "  <thead>\n",
       "    <tr style=\"text-align: right;\">\n",
       "      <th></th>\n",
       "      <th>titular</th>\n",
       "      <th>categoria</th>\n",
       "    </tr>\n",
       "  </thead>\n",
       "  <tbody>\n",
       "    <tr>\n",
       "      <th>0</th>\n",
       "      <td>Trabajadores del Buenos Aires Design cortan la...</td>\n",
       "      <td>Nacional</td>\n",
       "    </tr>\n",
       "    <tr>\n",
       "      <th>1</th>\n",
       "      <td>La boda del gobernador Gerardo Morales: tapas ...</td>\n",
       "      <td>Nacional</td>\n",
       "    </tr>\n",
       "    <tr>\n",
       "      <th>2</th>\n",
       "      <td>Cumbre del G20: qué calles estarán cortadas y ...</td>\n",
       "      <td>Nacional</td>\n",
       "    </tr>\n",
       "    <tr>\n",
       "      <th>3</th>\n",
       "      <td>Una fractura que confirma la candidatura de Cr...</td>\n",
       "      <td>Nacional</td>\n",
       "    </tr>\n",
       "    <tr>\n",
       "      <th>4</th>\n",
       "      <td>Infierno grande: ola de divorcios en un pueblo...</td>\n",
       "      <td>Nacional</td>\n",
       "    </tr>\n",
       "  </tbody>\n",
       "</table>\n",
       "</div>"
      ],
      "text/plain": [
       "                                             titular categoria\n",
       "0  Trabajadores del Buenos Aires Design cortan la...  Nacional\n",
       "1  La boda del gobernador Gerardo Morales: tapas ...  Nacional\n",
       "2  Cumbre del G20: qué calles estarán cortadas y ...  Nacional\n",
       "3  Una fractura que confirma la candidatura de Cr...  Nacional\n",
       "4  Infierno grande: ola de divorcios en un pueblo...  Nacional"
      ]
     },
     "execution_count": 3,
     "metadata": {},
     "output_type": "execute_result"
    }
   ],
   "source": [
    "# Nos quedamos con los atributos de interes\n",
    "\n",
    "df = df[[\"titular\", \"categoria\"]]\n",
    "\n",
    "# removemos las categorias que no necesitamos ('Destacadas', 'Noticias Destacadas')\n",
    "\n",
    "\n",
    "df.head()"
   ]
  },
  {
   "cell_type": "code",
   "execution_count": 4,
   "id": "divided-velvet",
   "metadata": {},
   "outputs": [
    {
     "name": "stdout",
     "output_type": "stream",
     "text": [
      "['Nacional' 'Deportes' 'Salud' 'Ciencia y Tecnologia' 'Entretenimiento'\n",
      " 'Economia' 'Internacional']\n"
     ]
    }
   ],
   "source": [
    "df = df.loc[df['categoria'].isin((\"Nacional\", \"Economia\", \"Internacional\", \"Deportes\", \"Salud\", \"Ciencia y Tecnologia\", \"Entretenimiento\"))]\n",
    "df.head()\n",
    "categories = df['categoria'].unique()\n",
    "print(categories)\n"
   ]
  },
  {
   "cell_type": "code",
   "execution_count": 5,
   "id": "regulated-postage",
   "metadata": {},
   "outputs": [
    {
     "data": {
      "text/plain": [
       "26961"
      ]
     },
     "execution_count": 5,
     "metadata": {},
     "output_type": "execute_result"
    }
   ],
   "source": [
    "len(df)"
   ]
  },
  {
   "cell_type": "code",
   "execution_count": 6,
   "id": "determined-jason",
   "metadata": {},
   "outputs": [
    {
     "data": {
      "text/plain": [
       "Nacional                3860\n",
       "Ciencia y Tecnologia    3856\n",
       "Deportes                3855\n",
       "Entretenimiento         3850\n",
       "Internacional           3850\n",
       "Economia                3850\n",
       "Salud                   3840\n",
       "Name: categoria, dtype: int64"
      ]
     },
     "execution_count": 6,
     "metadata": {},
     "output_type": "execute_result"
    }
   ],
   "source": [
    "df['categoria'].value_counts()"
   ]
  },
  {
   "cell_type": "code",
   "execution_count": 7,
   "id": "whole-behalf",
   "metadata": {},
   "outputs": [
    {
     "data": {
      "text/html": [
       "<div>\n",
       "<style scoped>\n",
       "    .dataframe tbody tr th:only-of-type {\n",
       "        vertical-align: middle;\n",
       "    }\n",
       "\n",
       "    .dataframe tbody tr th {\n",
       "        vertical-align: top;\n",
       "    }\n",
       "\n",
       "    .dataframe thead th {\n",
       "        text-align: right;\n",
       "    }\n",
       "</style>\n",
       "<table border=\"1\" class=\"dataframe\">\n",
       "  <thead>\n",
       "    <tr style=\"text-align: right;\">\n",
       "      <th></th>\n",
       "      <th>titular</th>\n",
       "      <th>categoria</th>\n",
       "    </tr>\n",
       "  </thead>\n",
       "  <tbody>\n",
       "    <tr>\n",
       "      <th>21848</th>\n",
       "      <td>Un banco deberá pagarle $40 mil a un cliente p...</td>\n",
       "      <td>Nacional</td>\n",
       "    </tr>\n",
       "    <tr>\n",
       "      <th>29870</th>\n",
       "      <td>River-Boca: la final de la Copa Libertadores p...</td>\n",
       "      <td>Deportes</td>\n",
       "    </tr>\n",
       "    <tr>\n",
       "      <th>20849</th>\n",
       "      <td>Testeos rápidos gratuitos y prevención de VIH/...</td>\n",
       "      <td>Salud</td>\n",
       "    </tr>\n",
       "    <tr>\n",
       "      <th>6811</th>\n",
       "      <td>Dramático llamado de la ONU tras otro récord d...</td>\n",
       "      <td>Internacional</td>\n",
       "    </tr>\n",
       "    <tr>\n",
       "      <th>323</th>\n",
       "      <td>Mauricio Macri, sobre los atentados: 'Vamos a ...</td>\n",
       "      <td>Nacional</td>\n",
       "    </tr>\n",
       "  </tbody>\n",
       "</table>\n",
       "</div>"
      ],
      "text/plain": [
       "                                                 titular      categoria\n",
       "21848  Un banco deberá pagarle $40 mil a un cliente p...       Nacional\n",
       "29870  River-Boca: la final de la Copa Libertadores p...       Deportes\n",
       "20849  Testeos rápidos gratuitos y prevención de VIH/...          Salud\n",
       "6811   Dramático llamado de la ONU tras otro récord d...  Internacional\n",
       "323    Mauricio Macri, sobre los atentados: 'Vamos a ...       Nacional"
      ]
     },
     "execution_count": 7,
     "metadata": {},
     "output_type": "execute_result"
    }
   ],
   "source": [
    "from sklearn.model_selection import train_test_split\n",
    "\n",
    "# Separar los datos en datos de entrenamiento y testeo\n",
    "train, test = train_test_split(df, test_size=0.2)\n",
    "train.head()\n",
    "test.head()"
   ]
  },
  {
   "cell_type": "code",
   "execution_count": 8,
   "id": "domestic-explorer",
   "metadata": {},
   "outputs": [],
   "source": [
    "textos = list(df['titular'])"
   ]
  },
  {
   "cell_type": "code",
   "execution_count": 9,
   "id": "affecting-bathroom",
   "metadata": {},
   "outputs": [],
   "source": [
    "# Crear diccionario de categorias con diccionarios vacios para las palabras de los titulares\n",
    "categories_word_appearances = { i : {} for i in categories }"
   ]
  },
  {
   "cell_type": "code",
   "execution_count": 10,
   "id": "objective-publication",
   "metadata": {},
   "outputs": [
    {
     "name": "stdout",
     "output_type": "stream",
     "text": [
      "{'Nacional': {}, 'Deportes': {}, 'Salud': {}, 'Ciencia y Tecnologia': {}, 'Entretenimiento': {}, 'Economia': {}, 'Internacional': {}}\n"
     ]
    }
   ],
   "source": [
    "print(categories_word_appearances)"
   ]
  },
  {
   "cell_type": "code",
   "execution_count": 11,
   "id": "clinical-sauce",
   "metadata": {},
   "outputs": [],
   "source": [
    "import re\n",
    "\n",
    "def split_and_sanitize(title):\n",
    "    words = title.split()  # se separan las palabras según espacios (quita todos los espacios)\n",
    "    words = list(map(lambda x: re.sub(\"[^\\w\\s]\", '', x), words))  # reemplazo de símbolos por ningún caracter\n",
    "    return words\n",
    "\n",
    "for i in range(len(train)):\n",
    "    row = train.iloc[i]\n",
    "    category = row['categoria']\n",
    "    title = row['titular']\n",
    "    words = split_and_sanitize(title)\n",
    "    \n",
    "    for word in words:\n",
    "            if word in categories_word_appearances[category]:\n",
    "                categories_word_appearances[category][word] += 1\n",
    "            else:\n",
    "                categories_word_appearances[category][word] = 1\n",
    "                \n",
    "    \n",
    "    \n",
    "    "
   ]
  },
  {
   "cell_type": "code",
   "execution_count": 12,
   "id": "whole-survivor",
   "metadata": {},
   "outputs": [
    {
     "name": "stdout",
     "output_type": "stream",
     "text": [
      "70\n"
     ]
    }
   ],
   "source": [
    "print(categories_word_appearances['Entretenimiento']['Pampita'])"
   ]
  },
  {
   "cell_type": "code",
   "execution_count": 13,
   "id": "legal-thinking",
   "metadata": {},
   "outputs": [
    {
     "name": "stdout",
     "output_type": "stream",
     "text": [
      "Deportes                0.144473\n",
      "Ciencia y Tecnologia    0.144010\n",
      "Internacional           0.143175\n",
      "Nacional                0.142711\n",
      "Entretenimiento         0.142619\n",
      "Economia                0.141784\n",
      "Salud                   0.141228\n",
      "Name: categoria, dtype: float64\n",
      "0.0015191390119177525\n"
     ]
    }
   ],
   "source": [
    "# Calcular probabilidades de las clases P(category) para el conjunto de entrenamiento\n",
    "\n",
    "category_relative_freq = train['categoria'].value_counts() / len(train)  # P(category)\n",
    "print(category_relative_freq)\n",
    "\n",
    "# Calcular las probabilidades condicionales P(word | category)\n",
    "word_relative_frequencies = { i : {} for i in categories }\n",
    "zero_probabilities = { i : 0 for i in categories } # Laplace correction in case a word does not appear in a category\n",
    "for category in categories:\n",
    "    word_appearances_sum = sum(categories_word_appearances[category].values())\n",
    "    laplace_denominator = word_appearances_sum + len(categories_word_appearances[category].keys())\n",
    "    zero_probabilities[category] = 1 / laplace_denominator\n",
    "    for word, word_count in categories_word_appearances[category].items():\n",
    "        word_relative_frequencies[category][word] = (word_count + 1) / laplace_denominator\n",
    "\n",
    "print(word_relative_frequencies['Entretenimiento']['Pampita'])\n",
    "# Objetivo final:\n",
    "#   P (category | [word])\n",
    "# = P ([word] | category) * P (category)      ##  / P ([word])\n",
    "# = prod(P (word | category)) * P (category)"
   ]
  },
  {
   "cell_type": "code",
   "execution_count": 14,
   "id": "simple-candy",
   "metadata": {},
   "outputs": [
    {
     "name": "stdout",
     "output_type": "stream",
     "text": [
      "La noticia 'Pampita fue a la mesa de Mirtha' pertenece a Entretenimiento\n",
      "La noticia 'Messi metió un gol' pertenece a Deportes\n",
      "La noticia 'Apple lanzó un nuevo iPhone' pertenece a Ciencia y Tecnologia\n"
     ]
    }
   ],
   "source": [
    "def classify(title):\n",
    "    words = split_and_sanitize(title)\n",
    "    vs = {}\n",
    "    for category in categories:\n",
    "        v = category_relative_freq.loc[category]\n",
    "        for word in words:\n",
    "            if word in word_relative_frequencies[category]:\n",
    "                v *= word_relative_frequencies[category][word]\n",
    "            else:\n",
    "                v *= zero_probabilities[category]\n",
    "        vs[category] = v\n",
    "    mx = (None, 0)\n",
    "    for category, v in vs.items():\n",
    "        if v > mx[1]:\n",
    "            mx = (category, v)\n",
    "    return mx[0]\n",
    "\n",
    "noticia = 'Pampita fue a la mesa de Mirtha'\n",
    "print(f\"La noticia '{noticia}' pertenece a {classify(noticia)}\")\n",
    "noticia = 'Messi metió un gol'\n",
    "print(f\"La noticia '{noticia}' pertenece a {classify(noticia)}\")\n",
    "noticia = 'Apple lanzó un nuevo iPhone'\n",
    "print(f\"La noticia '{noticia}' pertenece a {classify(noticia)}\")"
   ]
  },
  {
   "cell_type": "code",
   "execution_count": 27,
   "id": "potential-claim",
   "metadata": {},
   "outputs": [
    {
     "name": "stdout",
     "output_type": "stream",
     "text": [
      "{'Nacional': {'Nacional': 720, 'Deportes': 13, 'Salud': 10, 'Ciencia y Tecnologia': 0, 'Entretenimiento': 10, 'Economia': 19, 'Internacional': 10}, 'Deportes': {'Nacional': 8, 'Deportes': 709, 'Salud': 2, 'Ciencia y Tecnologia': 2, 'Entretenimiento': 13, 'Economia': 0, 'Internacional': 5}, 'Salud': {'Nacional': 1, 'Deportes': 2, 'Salud': 781, 'Ciencia y Tecnologia': 3, 'Entretenimiento': 0, 'Economia': 3, 'Internacional': 4}, 'Ciencia y Tecnologia': {'Nacional': 0, 'Deportes': 1, 'Salud': 1, 'Ciencia y Tecnologia': 733, 'Entretenimiento': 4, 'Economia': 6, 'Internacional': 5}, 'Entretenimiento': {'Nacional': 5, 'Deportes': 4, 'Salud': 5, 'Ciencia y Tecnologia': 4, 'Entretenimiento': 745, 'Economia': 6, 'Internacional': 5}, 'Economia': {'Nacional': 3, 'Deportes': 0, 'Salud': 7, 'Ciencia y Tecnologia': 16, 'Entretenimiento': 2, 'Economia': 754, 'Internacional': 10}, 'Internacional': {'Nacional': 32, 'Deportes': 6, 'Salud': 21, 'Ciencia y Tecnologia': 2, 'Entretenimiento': 13, 'Economia': 10, 'Internacional': 678}}\n",
      "\n",
      "{'Nacional': [720, 13, 10, 0, 10, 19, 10], 'Deportes': [8, 709, 2, 2, 13, 0, 5], 'Salud': [1, 2, 781, 3, 0, 3, 4], 'Ciencia y Tecnologia': [0, 1, 1, 733, 4, 6, 5], 'Entretenimiento': [5, 4, 5, 4, 745, 6, 5], 'Economia': [3, 0, 7, 16, 2, 754, 10], 'Internacional': [32, 6, 21, 2, 13, 10, 678]}\n",
      "\n",
      "                      Nac  Dep  Sal  Cie  Ent  Eco  Int\n",
      "Nacional              720   13   10    0   10   19   10\n",
      "Deportes                8  709    2    2   13    0    5\n",
      "Salud                   1    2  781    3    0    3    4\n",
      "Ciencia y Tecnologia    0    1    1  733    4    6    5\n",
      "Entretenimiento         5    4    5    4  745    6    5\n",
      "Economia                3    0    7   16    2  754   10\n",
      "Internacional          32    6   21    2   13   10  678\n"
     ]
    }
   ],
   "source": [
    "confusion_matrix = { i : {} for i in categories }\n",
    "columns = []\n",
    "for key in confusion_matrix.keys():\n",
    "    columns.append(key[0:3])\n",
    "    confusion_matrix[key] = { i : 0 for i in categories } # {'Deportes': {'Deportes': 700, 'Entretenimiento': 3, ...}, ...}\n",
    "\n",
    "for i in range(len(test)):\n",
    "    row = test.iloc[i]\n",
    "    category = row['categoria']\n",
    "    title = row['titular']\n",
    "    result = classify(title)\n",
    "    confusion_matrix[category][result] += 1\n",
    "\n",
    "print(confusion_matrix)\n",
    "confusion_df = { key : list(confusion_matrix[key].values()) for key in confusion_matrix.keys() }\n",
    "print('')\n",
    "print(confusion_df)\n",
    "confusion_df = pd.DataFrame.from_dict(confusion_df, orient='index', columns=columns)\n",
    "print('')\n",
    "print(confusion_df)"
   ]
  },
  {
   "cell_type": "code",
   "execution_count": null,
   "id": "liked-advocate",
   "metadata": {},
   "outputs": [],
   "source": []
  }
 ],
 "metadata": {
  "kernelspec": {
   "display_name": "Python 3",
   "language": "python",
   "name": "python3"
  },
  "language_info": {
   "codemirror_mode": {
    "name": "ipython",
    "version": 3
   },
   "file_extension": ".py",
   "mimetype": "text/x-python",
   "name": "python",
   "nbconvert_exporter": "python",
   "pygments_lexer": "ipython3",
   "version": "3.8.6"
  }
 },
 "nbformat": 4,
 "nbformat_minor": 5
}
