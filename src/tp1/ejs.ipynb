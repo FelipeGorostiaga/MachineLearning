{
 "cells": [
  {
   "cell_type": "markdown",
   "metadata": {},
   "source": [
    "# Ejercicios"
   ]
  },
  {
   "cell_type": "markdown",
   "metadata": {},
   "source": [
    "## Estudiantes y Graduados\n",
    "Una estación de radio tiene dos grupos de oyentes, los estudiantes y los graduados.\n",
    "Se sabe que:\n",
    "- Si el oyente es estudiante, hay una probabilidad del 95% de que le guste el programa A, 5% de que le guste el programa B, 2% de que le guste programa C y 20% de que le guste el programa D.\n",
    "    - P(A|E) = 0.95\n",
    "    - P(B|E) = 0.05\n",
    "    - P(C|E) = 0.02\n",
    "    - P(D|E) = 0.2\n",
    "- Si el oyente es graduado, hay una probabiliad del 3% de que le guste el programa A, 82% de que le guste el programa B, 34% de que le guste el programa C y 92% de que le guste el programa D.\n",
    "    - P(A|G) = 0.3\n",
    "    - P(B|G) = 0.82\n",
    "    - P(C|G) = 0.34\n",
    "    - P(D|G) = 0.92\n",
    "- Se sabe también que el 90% de los oyentes son graduados.\n",
    "    - P(G) = 0.9\n",
    "    - P(E) = 0.1\n",
    "\n",
    "Un nuevo oyente escucha los programas A y C pero no le gustan los programas B y D.\n",
    "Calcular la probabilidad de que este oyente sea estudiante y la probabilidad de que sea graduado.\n",
    "\n",
    "Se utilizó el Clasificador de Bayes para asignar una clasificación V={E,G} al nuevo oyente, dado por los atributos (1,0,1,0).\n",
    "\n",
    "v<sub>NB</sub> = arg máx {<br>\n",
    "    &nbsp;&nbsp;&nbsp;&nbsp;&nbsp;&nbsp;P(A|E) P(E) * P(-B|E) P(E) * P(C|E) P(E) * P(-D|E) P(E) ,<br>\n",
    "    &nbsp;&nbsp;&nbsp;&nbsp;&nbsp;&nbsp;P(A|G) P(G) * P(-B|G) P(G) * P(C|G) P(G) * P(-D|G) P(G)<br>\n",
    "}"
   ]
  },
  {
   "cell_type": "code",
   "execution_count": 14,
   "metadata": {
    "jupyter": {
     "source_hidden": true
    }
   },
   "outputs": [
    {
     "name": "stdout",
     "output_type": "stream",
     "text": [
      "El valor obtenido para la clasificación E es 1.444e-06\n",
      "El valor obtenido para la clasificación G es 0.00096368\n",
      "El oyente es Graduado\n"
     ]
    }
   ],
   "source": [
    "def get_affinity(person, cond_probs, total_prob):\n",
    "    v = 1\n",
    "    for radio, likes in person.items():\n",
    "        x = cond_probs[radio] if likes else 1 - cond_probs[radio]\n",
    "        v *= x * total_prob\n",
    "    return v\n",
    "\n",
    "P_G = 0.9\n",
    "P_E = 1 - P_G\n",
    "\n",
    "P_a_E = {\"A\": 0.95, \"B\": 0.05, \"C\": 0.02, \"D\": 0.2}\n",
    "P_a_G = {\"A\": 0.3, \"B\": 0.82, \"C\": 0.34, \"D\": 0.92}\n",
    "\n",
    "person = {\"A\": True, \"B\": False, \"C\": True, \"D\": False}\n",
    "\n",
    "vE = get_affinity(person, P_a_E, P_E)\n",
    "vG = get_affinity(person, P_a_G, P_G)\n",
    "\n",
    "vNB = max(vE, vG)\n",
    "\n",
    "print(f\"El valor obtenido para la clasificación E es {vE:.5}\")\n",
    "print(f\"El valor obtenido para la clasificación G es {vG:.5}\")\n",
    "print(f\"El oyente es {'Estudiante' if vE > vG else 'Graduado'}\")"
   ]
  }
 ],
 "metadata": {
  "kernelspec": {
   "display_name": "Python 3",
   "language": "python",
   "name": "python3"
  },
  "language_info": {
   "codemirror_mode": {
    "name": "ipython",
    "version": 3
   },
   "file_extension": ".py",
   "mimetype": "text/x-python",
   "name": "python",
   "nbconvert_exporter": "python",
   "pygments_lexer": "ipython3",
   "version": "3.8.3"
  }
 },
 "nbformat": 4,
 "nbformat_minor": 4
}
