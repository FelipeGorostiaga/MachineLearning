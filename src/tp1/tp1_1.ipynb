{
 "cells": [
  {
   "cell_type": "markdown",
   "metadata": {},
   "source": [
    "## Preferencias Británicas\n",
    "Se consideran los siguientes vectores de atributos binarios:\n",
    "*(scones, cerveza, whisky, avena, futbol)*"
   ]
  },
  {
   "cell_type": "code",
   "execution_count": 24,
   "metadata": {
    "tags": []
   },
   "outputs": [],
   "source": [
    "import pandas as pd\n",
    "\n",
    "df = pd.read_excel('../../res/tp1/PreferenciasBritanicos.xlsx', sheet_name='Hoja1')\n",
    "\n",
    "nationality_names = {'E': 'Escocesa', 'I': 'Inglesa'}\n",
    "row_count = df.shape[0]\n",
    "# Get number of records from each nationality\n",
    "nationality_count = df['Nacionalidad'].value_counts()\n",
    "nationalities = nationality_count.keys()\n",
    "# Get relative frequency for each nationality (ie: P(v))\n",
    "relative_freq = nationality_count.apply(lambda x: (x + 1) / (row_count + len(nationalities)))\n",
    "# Get conditional probabilities for each attribute, given a nationality (ie: P(a_i | v))\n",
    "cond_probs = df.groupby('Nacionalidad').apply(lambda x: (x.sum() + 1) / (len(x) + 2))\n",
    "\n",
    "def classify(prefs):\n",
    "    '''Returns the most likely nationality\n",
    "    \n",
    "    Parameters\n",
    "    ----------\n",
    "    prefs : A tuple with preferences (ie: (1,1,1,0,1)) and dimensions 1x5\n",
    "    '''\n",
    "    preferences = pd.DataFrame(data=(prefs,), columns=('scones', 'cerveza', 'wiskey', 'avena', 'futbol'))\n",
    "\n",
    "    vs = nationality_count.astype(dtype=float, copy=True)  # We only want a dataframe with this dimensions, this is just the easiest way\n",
    "    for nationality in nationalities:\n",
    "        # P(a1,a2,a3,a4,a5 | vj) * P(Vj)\n",
    "        vs[nationality] = preferences.apply(\n",
    "            lambda x: get_cond_prob_by_preference(x, nationality)\n",
    "        ).prod() * relative_freq[nationality]\n",
    "    \n",
    "    vnb = vs.idxmax(axis=1)\n",
    "    \n",
    "    conj_prob_preference = vs.sum() # (ie: P(a1 = 1, a2 = 1, a3 = 1, a4 = 0, a5 = 1))\n",
    "    for nationality in nationalities:\n",
    "        # P(Vj | a1,a2,a3,a4,a5)\n",
    "        print(f\"La probabilidad de tener nacionalidad {nationality_names[nationality]} es {(vs[nationality] / conj_prob_preference * 100):.5} %\")\n",
    "    \n",
    "    return vnb\n",
    "\n",
    "def get_cond_prob_by_preference(preference, nationality):\n",
    "    '''Returns P(Ai|Vj) if preference is 1, P(~Ai|Vj) otherwise\n",
    "    \n",
    "    Parameters\n",
    "    ----------\n",
    "    preference : value with column name and just one binary (0,1) value in the subindex [0]\n",
    "    nationality: either 'E' or 'I'\n",
    "    '''\n",
    "    cond_prob = cond_probs.loc[nationality, preference.name]  # P(Ai | Vj)\n",
    "    return cond_prob if preference.values[0] == 1 else (1 - cond_prob)\n"
   ]
  },
  {
   "cell_type": "markdown",
   "metadata": {},
   "source": [
    "Se clasificó el ejemplo x1 = (1, 0, 1, 1, 0) determinando si correspondía a las preferencias de una persona inglesa o escosesa:"
   ]
  },
  {
   "cell_type": "code",
   "execution_count": 25,
   "metadata": {
    "tags": []
   },
   "outputs": [
    {
     "name": "stdout",
     "output_type": "stream",
     "text": [
      "La probabilidad de tener nacionalidad Escocesa es 76.025 %\n",
      "La probabilidad de tener nacionalidad Inglesa es 23.975 %\n",
      "La persona debe ser Escocesa\n"
     ]
    }
   ],
   "source": [
    "print(f\"La persona debe ser {nationality_names[classify((1,0,1,1,0))]}\")"
   ]
  },
  {
   "cell_type": "markdown",
   "metadata": {},
   "source": [
    "Se clasificó el ejemplo x2 = (0, 1, 1, 0, 1) determinando si correspondía a las preferencias de una persona inglesa o escosesa:"
   ]
  },
  {
   "cell_type": "code",
   "execution_count": 26,
   "metadata": {
    "tags": []
   },
   "outputs": [
    {
     "name": "stdout",
     "output_type": "stream",
     "text": [
      "La probabilidad de tener nacionalidad Escocesa es 16.541 %\n",
      "La probabilidad de tener nacionalidad Inglesa es 83.459 %\n",
      "La persona debe ser Inglesa\n"
     ]
    }
   ],
   "source": [
    "print(f\"La persona debe ser {nationality_names[classify((0,1,1,0,1))]}\")"
   ]
  }
 ],
 "metadata": {
  "kernelspec": {
   "display_name": "Python 3",
   "language": "python",
   "name": "python3"
  },
  "language_info": {
   "codemirror_mode": {
    "name": "ipython",
    "version": 3
   },
   "file_extension": ".py",
   "mimetype": "text/x-python",
   "name": "python",
   "nbconvert_exporter": "python",
   "pygments_lexer": "ipython3",
   "version": "3.8.6"
  }
 },
 "nbformat": 4,
 "nbformat_minor": 4
}
