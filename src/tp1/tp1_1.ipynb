{
 "cells": [
  {
   "cell_type": "markdown",
   "metadata": {},
   "source": [
    "## Preferencias Británicas\n",
    "Se consideran los siguientes vectores de atributos binarios:\n",
    "*(scones, cerveza, whisky, avena, futbol)*"
   ]
  },
  {
   "cell_type": "code",
   "execution_count": 132,
   "metadata": {
    "jupyter": {
     "source_hidden": true
    }
   },
   "outputs": [],
   "source": [
    "import pandas as pd\n",
    "\n",
    "df = pd.read_excel('../../res/tp1/PreferenciasBritanicos.xlsx', sheet_name='Hoja1')\n",
    "\n",
    "row_count = df.shape[0]\n",
    "# Get number of records from each nationality\n",
    "nationality_count = df['Nacionalidad'].value_counts()\n",
    "nationalities = nationality_count.keys()\n",
    "# Get relative frequency for each nationality (ie: P(v))\n",
    "relative_freq = nationality_count.apply(lambda x: x / row_count)\n",
    "# Get conditional probabilities for each attribute, given a nationality (ie: P(a_i | v))\n",
    "cond_probs = df.groupby('Nacionalidad').apply(lambda x: x.sum() / len(x))\n",
    "\n",
    "'''\n",
    "Given a tuple with preferences (ie: (1,1,1,0,1)), returns the most likely nationality\n",
    "'''\n",
    "def classify(prefs):\n",
    "    preferences = pd.DataFrame(data=(prefs,), columns=('scones', 'cerveza', 'wiskey', 'avena', 'futbol'))\n",
    "\n",
    "    vs = nationality_count.astype(dtype=float, copy=True)\n",
    "    for nationality in nationalities:\n",
    "        vs[nationality] = preferences.apply(lambda x: get_cond_prob_by_preference(x, nationality) * relative_freq[nationality]).prod()\n",
    "\n",
    "    vnb = vs.idxmax(axis=1)\n",
    "    \n",
    "    return vnb\n",
    "    \n",
    "def get_cond_prob_by_preference(preference, nationality):\n",
    "    cond_prob = cond_probs.loc[nationality, preference.name]\n",
    "    return cond_prob if preference.values[0] == 1 else (1 - cond_prob)\n"
   ]
  },
  {
   "cell_type": "markdown",
   "metadata": {},
   "source": [
    "Se clasificó el ejemplo x1 = (1, 0, 1, 1, 0) determinando si correspondía a las preferencias de una persona inglesa o escosesa:"
   ]
  },
  {
   "cell_type": "code",
   "execution_count": 135,
   "metadata": {
    "jupyter": {
     "source_hidden": true
    }
   },
   "outputs": [
    {
     "name": "stdout",
     "output_type": "stream",
     "text": [
      "La persona es Escocesa\n"
     ]
    }
   ],
   "source": [
    "print(f\"La persona es {'Escocesa' if classify((1,0,1,1,0)) == 'E' else 'Inglesa'}\")"
   ]
  },
  {
   "cell_type": "markdown",
   "metadata": {},
   "source": [
    "Se clasificó el ejemplo x2 = (0, 1, 1, 0, 1) determinando si correspondía a las preferencias de una persona inglesa o escosesa:"
   ]
  },
  {
   "cell_type": "code",
   "execution_count": 136,
   "metadata": {
    "jupyter": {
     "source_hidden": true
    }
   },
   "outputs": [
    {
     "name": "stdout",
     "output_type": "stream",
     "text": [
      "La persona es Inglesa\n"
     ]
    }
   ],
   "source": [
    "print(f\"La persona es {'Escocesa' if classify((0,1,1,0,1)) == 'E' else 'Inglesa'}\")"
   ]
  }
 ],
 "metadata": {
  "kernelspec": {
   "display_name": "Python 3",
   "language": "python",
   "name": "python3"
  },
  "language_info": {
   "codemirror_mode": {
    "name": "ipython",
    "version": 3
   },
   "file_extension": ".py",
   "mimetype": "text/x-python",
   "name": "python",
   "nbconvert_exporter": "python",
   "pygments_lexer": "ipython3",
   "version": "3.8.3"
  }
 },
 "nbformat": 4,
 "nbformat_minor": 4
}
