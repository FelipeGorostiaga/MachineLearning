{
 "cells": [
  {
   "cell_type": "code",
   "execution_count": 1,
   "id": "trained-converter",
   "metadata": {},
   "outputs": [
    {
     "data": {
      "text/html": [
       "<div>\n",
       "<style scoped>\n",
       "    .dataframe tbody tr th:only-of-type {\n",
       "        vertical-align: middle;\n",
       "    }\n",
       "\n",
       "    .dataframe tbody tr th {\n",
       "        vertical-align: top;\n",
       "    }\n",
       "\n",
       "    .dataframe thead th {\n",
       "        text-align: right;\n",
       "    }\n",
       "</style>\n",
       "<table border=\"1\" class=\"dataframe\">\n",
       "  <thead>\n",
       "    <tr style=\"text-align: right;\">\n",
       "      <th></th>\n",
       "      <th>Review Title</th>\n",
       "      <th>Review Text</th>\n",
       "      <th>wordcount</th>\n",
       "      <th>titleSentiment</th>\n",
       "      <th>textSentiment</th>\n",
       "      <th>Star Rating</th>\n",
       "      <th>sentimentValue</th>\n",
       "    </tr>\n",
       "  </thead>\n",
       "  <tbody>\n",
       "    <tr>\n",
       "      <th>0</th>\n",
       "      <td>Sin conexión</td>\n",
       "      <td>Hola desde hace algo más de un mes me pone sin...</td>\n",
       "      <td>23</td>\n",
       "      <td>negative</td>\n",
       "      <td>negative</td>\n",
       "      <td>1</td>\n",
       "      <td>-0.486389</td>\n",
       "    </tr>\n",
       "    <tr>\n",
       "      <th>1</th>\n",
       "      <td>faltan cosas</td>\n",
       "      <td>Han mejorado la apariencia pero no</td>\n",
       "      <td>20</td>\n",
       "      <td>negative</td>\n",
       "      <td>negative</td>\n",
       "      <td>1</td>\n",
       "      <td>-0.586187</td>\n",
       "    </tr>\n",
       "    <tr>\n",
       "      <th>2</th>\n",
       "      <td>Es muy buena lo recomiendo</td>\n",
       "      <td>Andres e puto amoooo</td>\n",
       "      <td>4</td>\n",
       "      <td>NaN</td>\n",
       "      <td>negative</td>\n",
       "      <td>1</td>\n",
       "      <td>-0.602240</td>\n",
       "    </tr>\n",
       "    <tr>\n",
       "      <th>3</th>\n",
       "      <td>Version antigua</td>\n",
       "      <td>Me gustana mas la version anterior esta es mas...</td>\n",
       "      <td>17</td>\n",
       "      <td>NaN</td>\n",
       "      <td>negative</td>\n",
       "      <td>1</td>\n",
       "      <td>-0.616271</td>\n",
       "    </tr>\n",
       "    <tr>\n",
       "      <th>4</th>\n",
       "      <td>Esta bien</td>\n",
       "      <td>Sin ser la biblia.... Esta bien</td>\n",
       "      <td>6</td>\n",
       "      <td>negative</td>\n",
       "      <td>negative</td>\n",
       "      <td>1</td>\n",
       "      <td>-0.651784</td>\n",
       "    </tr>\n",
       "  </tbody>\n",
       "</table>\n",
       "</div>"
      ],
      "text/plain": [
       "                 Review Title  \\\n",
       "0                Sin conexión   \n",
       "1                faltan cosas   \n",
       "2  Es muy buena lo recomiendo   \n",
       "3             Version antigua   \n",
       "4                   Esta bien   \n",
       "\n",
       "                                         Review Text  wordcount  \\\n",
       "0  Hola desde hace algo más de un mes me pone sin...         23   \n",
       "1                 Han mejorado la apariencia pero no         20   \n",
       "2                               Andres e puto amoooo          4   \n",
       "3  Me gustana mas la version anterior esta es mas...         17   \n",
       "4                    Sin ser la biblia.... Esta bien          6   \n",
       "\n",
       "  titleSentiment textSentiment  Star Rating  sentimentValue  \n",
       "0       negative      negative            1       -0.486389  \n",
       "1       negative      negative            1       -0.586187  \n",
       "2            NaN      negative            1       -0.602240  \n",
       "3            NaN      negative            1       -0.616271  \n",
       "4       negative      negative            1       -0.651784  "
      ]
     },
     "execution_count": 1,
     "metadata": {},
     "output_type": "execute_result"
    }
   ],
   "source": [
    "import pandas as pd\n",
    "import math\n",
    "from sklearn.model_selection import train_test_split\n",
    "\n",
    "df = pd.read_csv('../../res/tp2/reviews_sentiment.csv', sep=';')\n",
    "\n",
    "df.head()\n"
   ]
  },
  {
   "cell_type": "code",
   "execution_count": 2,
   "id": "exact-mineral",
   "metadata": {},
   "outputs": [],
   "source": [
    "# \n",
    "df.columns = ['title', 'review', 'wordcount', 'titleSentiment', 'textSentiment', 'rating', 'value']\n",
    "\n",
    "# Removemos las variable que no tienen importancia\n",
    "df.drop('title', inplace=True, axis=1)\n",
    "df.drop('review', inplace=True, axis=1)\n",
    "df.drop('textSentiment', inplace=True, axis=1)\n"
   ]
  },
  {
   "cell_type": "code",
   "execution_count": 3,
   "id": "fluid-print",
   "metadata": {},
   "outputs": [
    {
     "data": {
      "text/html": [
       "<div>\n",
       "<style scoped>\n",
       "    .dataframe tbody tr th:only-of-type {\n",
       "        vertical-align: middle;\n",
       "    }\n",
       "\n",
       "    .dataframe tbody tr th {\n",
       "        vertical-align: top;\n",
       "    }\n",
       "\n",
       "    .dataframe thead th {\n",
       "        text-align: right;\n",
       "    }\n",
       "</style>\n",
       "<table border=\"1\" class=\"dataframe\">\n",
       "  <thead>\n",
       "    <tr style=\"text-align: right;\">\n",
       "      <th></th>\n",
       "      <th>wordcount</th>\n",
       "      <th>titleSentiment</th>\n",
       "      <th>rating</th>\n",
       "      <th>value</th>\n",
       "    </tr>\n",
       "  </thead>\n",
       "  <tbody>\n",
       "    <tr>\n",
       "      <th>0</th>\n",
       "      <td>23</td>\n",
       "      <td>-1</td>\n",
       "      <td>1</td>\n",
       "      <td>-0.486389</td>\n",
       "    </tr>\n",
       "    <tr>\n",
       "      <th>1</th>\n",
       "      <td>20</td>\n",
       "      <td>-1</td>\n",
       "      <td>1</td>\n",
       "      <td>-0.586187</td>\n",
       "    </tr>\n",
       "    <tr>\n",
       "      <th>4</th>\n",
       "      <td>6</td>\n",
       "      <td>-1</td>\n",
       "      <td>1</td>\n",
       "      <td>-0.651784</td>\n",
       "    </tr>\n",
       "    <tr>\n",
       "      <th>5</th>\n",
       "      <td>8</td>\n",
       "      <td>1</td>\n",
       "      <td>1</td>\n",
       "      <td>-0.720443</td>\n",
       "    </tr>\n",
       "    <tr>\n",
       "      <th>6</th>\n",
       "      <td>23</td>\n",
       "      <td>1</td>\n",
       "      <td>1</td>\n",
       "      <td>-0.726825</td>\n",
       "    </tr>\n",
       "  </tbody>\n",
       "</table>\n",
       "</div>"
      ],
      "text/plain": [
       "   wordcount titleSentiment  rating     value\n",
       "0         23             -1       1 -0.486389\n",
       "1         20             -1       1 -0.586187\n",
       "4          6             -1       1 -0.651784\n",
       "5          8              1       1 -0.720443\n",
       "6         23              1       1 -0.726825"
      ]
     },
     "execution_count": 3,
     "metadata": {},
     "output_type": "execute_result"
    }
   ],
   "source": [
    "# Removemos valores NaN\n",
    "df = df.drop(df[df['titleSentiment'].isnull()].index)\n",
    "\n",
    "#  Como necesitamos que las variables sean numericas, vamos a cambiar los valores de negative y positive por {-1, 1}\n",
    "\n",
    "df.loc[df.titleSentiment == 'negative', 'titleSentiment'] = -1\n",
    "df.loc[df.titleSentiment == 'positive', 'titleSentiment'] = 1\n",
    "\n",
    "df.head()"
   ]
  },
  {
   "cell_type": "code",
   "execution_count": 4,
   "id": "demographic-vietnamese",
   "metadata": {},
   "outputs": [
    {
     "name": "stdout",
     "output_type": "stream",
     "text": [
      "El promedio de palabras para los comentarios valorados con 1 estrella es 12.470588235294118\n"
     ]
    }
   ],
   "source": [
    "# Los comentarios valorados con 1 estrella, ¿que cantidad promedio de palabras tienen?\n",
    "word_count = 0\n",
    "count = 0\n",
    "for index, row in df.iterrows():    \n",
    "    if (row['rating'] == 1):\n",
    "        count += 1\n",
    "        word_count += row['wordcount']\n",
    "\n",
    "mean_words = word_count / count\n",
    "print(f'El promedio de palabras para los comentarios valorados con 1 estrella es {mean_words}')"
   ]
  },
  {
   "cell_type": "code",
   "execution_count": 5,
   "id": "daily-reality",
   "metadata": {},
   "outputs": [],
   "source": [
    "# Dividir el conjunto de datos en un conjunto de entrenamiento y otro de prueba\n",
    "train, test = train_test_split(df, test_size=0.2)"
   ]
  },
  {
   "cell_type": "code",
   "execution_count": 24,
   "id": "worldwide-coordinator",
   "metadata": {},
   "outputs": [
    {
     "data": {
      "text/plain": [
       "<matplotlib.axes._subplots.AxesSubplot at 0x1c1cd330>"
      ]
     },
     "execution_count": 24,
     "metadata": {},
     "output_type": "execute_result"
    },
    {
     "data": {
      "image/png": "[encoded data removed]",
      "text/plain": [
       "<Figure size 432x288 with 2 Axes>"
      ]
     },
     "metadata": {
      "needs_background": "light"
     },
     "output_type": "display_data"
    }
   ],
   "source": [
    "# Aplicar los algoritmos K-NN y K-NN con distancias pesadas para clasificar las opiniones, utilizando como variable objetivo la variable rating y como variables\n",
    "# explicativas las variables wordcount, titleSentiment, value y con k = 5 (k se podria pasar por parametro)\n",
    "\n",
    "def calc_euclidean_distance(record_1, record_2):\n",
    "    distance = 0\n",
    "    for col in df.columns:\n",
    "        distance += math.pow(record_1[col] - record_2[col], 2) \n",
    "    return math.sqrt(distance)\n",
    "    \n",
    "# Returns a dataframe/collection with k nearest neighbours sorted by distance asc\n",
    "def get_k_nearest_neighbours(record, k):\n",
    "    if (k >= len(train)):\n",
    "       raise ValueError(\"K debe ser menor a N\")\n",
    "    \n",
    "    # Creamos un dataframe vacio\n",
    "    distance_df = pd.DataFrame(columns = ['distance', 'rating'])\n",
    "    \n",
    "    # Calculamos d(record, row) para cada fila del train dataframe\n",
    "    for index, row in train.iterrows():\n",
    "\n",
    "        distance = calc_euclidean_distance(record, row)\n",
    "        distance_df.loc[index] = [distance, row['rating']]\n",
    "    \n",
    "    return distance_df.sort_values('distance').head(k)\n",
    "\n",
    "\n",
    "# Teniendo un dataframe con los k vecinos mas cercanos ordenados de menor a mayor distancia, queremos ver que clase es la ganadora\n",
    "def classify_rating_w_neighbours(k_neigh_df):\n",
    "    rating_counts = { rating : 0 for rating in range(1,6) }\n",
    "    for index, row in k_neigh_df.iterrows():\n",
    "        rating = row['rating']\n",
    "        rating_counts[rating] += 1\n",
    "    return max(rating_counts, key=lambda key: rating_counts[key])\n",
    "\n",
    "# Si d(xq, xi) = 0, entonces f (xq) = f (xi) y si son muchos los valores cercanos cuya distancia es cero, \n",
    "# se le asigna el valor que mas aparece\n",
    "def classify_rating_w_neighbours_weighted(k_neigh_df):\n",
    "    rating_weight = { rating : 0 for rating in range(1,6) }\n",
    "    min_dist_rating = { rating : 0 for rating in range(1,6) }\n",
    "    \n",
    "    for index, row in k_neigh_df.iterrows():\n",
    "        distance = row['distance']\n",
    "        rating = row['rating']\n",
    "        \n",
    "        if (math.isclose(distance, 0, abs_tol=0.0001)):\n",
    "            min_dist_rating[rating] += 1 \n",
    "        else:\n",
    "            w = 1 / math.pow(distance, 2)\n",
    "            rating_weight[rating] += w\n",
    "    \n",
    "    # Se encontraron valores con distancia 0\n",
    "    if (any(elem > 0 for elem in  min_dist_rating.values())):\n",
    "        return max(min_dist_rating, key=lambda key:  min_dist_rating[key])\n",
    "        \n",
    "    return max(rating_weight, key=lambda key: rating_weight[key])\n",
    "\n",
    "def get_confusion_matrix_df(k, weighted=False):\n",
    "    confusion_matrix = { rating : {} for rating in range(1,6) }\n",
    "    columns = []\n",
    "    \n",
    "    for key in confusion_matrix.keys():\n",
    "        columns.append(key)\n",
    "        confusion_matrix[key] = { rating : 0 for rating in range(1,6) }\n",
    "\n",
    "    for index, row in test.iterrows():\n",
    "        record_neigh_df = get_k_nearest_neighbours(row, k)\n",
    "        classified_rating = classify_rating_w_neighbours_weighted(record_neigh_df) if weighted else classify_rating_w_neighbours(record_neigh_df)\n",
    "        rating = row['rating']\n",
    "        confusion_matrix[rating][classified_rating] += 1\n",
    "        \n",
    "    confusion_df = { key : list(confusion_matrix[key].values()) for key in confusion_matrix.keys() }\n",
    "    confusion_df = pd.DataFrame.from_dict(confusion_df, orient='index', columns=columns)\n",
    "    return confusion_df\n",
    "    \n",
    "\n",
    "import seaborn as sns\n",
    "\n",
    "# Matriz de confusion utilizando KNN \n",
    "confusion_df = get_confusion_matrix_df(5, False)\n",
    "sns.heatmap(weighted_matrix_df, annot=True, cmap='Blues', fmt='g')   "
   ]
  },
  {
   "cell_type": "code",
   "execution_count": 25,
   "id": "activated-string",
   "metadata": {},
   "outputs": [
    {
     "data": {
      "text/plain": [
       "<matplotlib.axes._subplots.AxesSubplot at 0x1b04bc70>"
      ]
     },
     "execution_count": 25,
     "metadata": {},
     "output_type": "execute_result"
    },
    {
     "data": {
      "image/png": "[encoded data removed]",
      "text/plain": [
       "<Figure size 432x288 with 2 Axes>"
      ]
     },
     "metadata": {
      "needs_background": "light"
     },
     "output_type": "display_data"
    }
   ],
   "source": [
    "# Matrix de confusion utilizando Weighted KNN (Distancia Pesada)\n",
    "weighted_confusion_df = get_confusion_matrix_df(5, True)\n",
    "sns.heatmap(weighted_confusion_df, annot=True, fmt='g')   "
   ]
  },
  {
   "cell_type": "code",
   "execution_count": null,
   "id": "floral-response",
   "metadata": {},
   "outputs": [],
   "source": []
  }
 ],
 "metadata": {
  "kernelspec": {
   "display_name": "Python 3",
   "language": "python",
   "name": "python3"
  },
  "language_info": {
   "codemirror_mode": {
    "name": "ipython",
    "version": 3
   },
   "file_extension": ".py",
   "mimetype": "text/x-python",
   "name": "python",
   "nbconvert_exporter": "python",
   "pygments_lexer": "ipython3",
   "version": "3.7.2"
  }
 },
 "nbformat": 4,
 "nbformat_minor": 5
}
