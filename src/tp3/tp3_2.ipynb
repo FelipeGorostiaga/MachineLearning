{
 "cells": [
  {
   "cell_type": "code",
   "execution_count": 1,
   "id": "d368aac6",
   "metadata": {},
   "outputs": [
    {
     "data": {
      "text/html": [
       "<div>\n",
       "<style scoped>\n",
       "    .dataframe tbody tr th:only-of-type {\n",
       "        vertical-align: middle;\n",
       "    }\n",
       "\n",
       "    .dataframe tbody tr th {\n",
       "        vertical-align: top;\n",
       "    }\n",
       "\n",
       "    .dataframe thead th {\n",
       "        text-align: right;\n",
       "    }\n",
       "</style>\n",
       "<table border=\"1\" class=\"dataframe\">\n",
       "  <thead>\n",
       "    <tr style=\"text-align: right;\">\n",
       "      <th></th>\n",
       "      <th>r</th>\n",
       "      <th>g</th>\n",
       "      <th>b</th>\n",
       "      <th>class</th>\n",
       "    </tr>\n",
       "  </thead>\n",
       "  <tbody>\n",
       "    <tr>\n",
       "      <th>0</th>\n",
       "      <td>225</td>\n",
       "      <td>152</td>\n",
       "      <td>99</td>\n",
       "      <td>cow</td>\n",
       "    </tr>\n",
       "    <tr>\n",
       "      <th>1</th>\n",
       "      <td>237</td>\n",
       "      <td>164</td>\n",
       "      <td>113</td>\n",
       "      <td>cow</td>\n",
       "    </tr>\n",
       "    <tr>\n",
       "      <th>2</th>\n",
       "      <td>223</td>\n",
       "      <td>152</td>\n",
       "      <td>100</td>\n",
       "      <td>cow</td>\n",
       "    </tr>\n",
       "    <tr>\n",
       "      <th>3</th>\n",
       "      <td>206</td>\n",
       "      <td>134</td>\n",
       "      <td>84</td>\n",
       "      <td>cow</td>\n",
       "    </tr>\n",
       "    <tr>\n",
       "      <th>4</th>\n",
       "      <td>215</td>\n",
       "      <td>145</td>\n",
       "      <td>94</td>\n",
       "      <td>cow</td>\n",
       "    </tr>\n",
       "  </tbody>\n",
       "</table>\n",
       "</div>"
      ],
      "text/plain": [
       "     r    g    b class\n",
       "0  225  152   99   cow\n",
       "1  237  164  113   cow\n",
       "2  223  152  100   cow\n",
       "3  206  134   84   cow\n",
       "4  215  145   94   cow"
      ]
     },
     "execution_count": 1,
     "metadata": {},
     "output_type": "execute_result"
    }
   ],
   "source": [
    "from PIL import Image\n",
    "import numpy as np\n",
    "import pandas as pd\n",
    "\n",
    "# Import images \n",
    "full_img = Image.open('../../res/tp3/cow.jpg').convert('RGB')\n",
    "\n",
    "sky_img = Image.open('../../res/tp3/cielo.jpg')\n",
    "grass_img = Image.open('../../res/tp3/pasto.jpg')\n",
    "cow_img = Image.open('../../res/tp3/vaca.jpg')\n",
    "\n",
    "\n",
    "cow_pixels = list(map(lambda x: [x[0], x[1], x[2], 'cow'], cow_img.getdata()))\n",
    "grass_pixels = list(map(lambda x: [x[0], x[1], x[2], 'grass'], grass_img.getdata()))\n",
    "sky_pixels = list(map(lambda x: [x[0], x[1], x[2], 'sky'], sky_img.getdata()))\n",
    "\n",
    "pixels = cow_pixels + grass_pixels + sky_pixels\n",
    "\n",
    "df = pd.DataFrame(pixels, columns=['r', 'g', 'b', 'class'])\n",
    "df.head()"
   ]
  },
  {
   "cell_type": "code",
   "execution_count": 2,
   "id": "90901781",
   "metadata": {},
   "outputs": [],
   "source": [
    "import matplotlib.pyplot as plt\n",
    "from sklearn.svm import SVC\n",
    "\n",
    "def get_svm(data, kernel='linear', C=1.0, verbose=False):\n",
    "    X = np.array(list(map(lambda point: (point[0], point[1], point[2]), data)))\n",
    "    y = list(map(lambda point: point[3], data))\n",
    "\n",
    "    # Create a linear SVM classifier\n",
    "    clf = SVC(kernel=kernel, C=C, verbose=verbose)\n",
    "\n",
    "    # Train classifier\n",
    "    clf.fit(X, y)\n",
    "    \n",
    "    return X, y, clf"
   ]
  },
  {
   "cell_type": "code",
   "execution_count": 3,
   "id": "a287a413",
   "metadata": {},
   "outputs": [
    {
     "name": "stdout",
     "output_type": "stream",
     "text": [
      "[LibSVM]"
     ]
    }
   ],
   "source": [
    "from sklearn.metrics import classification_report, confusion_matrix\n",
    "from sklearn.model_selection import train_test_split\n",
    "\n",
    "train, test = train_test_split(pixels, test_size=0.2)\n",
    "\n",
    "X, y, clf = get_svm(train, verbose=True)"
   ]
  },
  {
   "cell_type": "code",
   "execution_count": 5,
   "id": "fd02de24",
   "metadata": {},
   "outputs": [
    {
     "name": "stdout",
     "output_type": "stream",
     "text": [
      "Done with kernel poly and C=1 in 10.947931051254272 seconds\n",
      "Done with kernel rbf and C=1 in 10.87401008605957 seconds\n",
      "Done with kernel poly and C=10 in 14.201246738433838 seconds\n",
      "Done with kernel rbf and C=10 in 10.665608882904053 seconds\n",
      "Done with kernel poly and C=100 in 43.97744607925415 seconds\n",
      "Done with kernel rbf and C=100 in 9.759527921676636 seconds\n",
      "Done with kernel poly and C=1000 in 301.89313888549805 seconds\n",
      "Done with kernel rbf and C=1000 in 14.183302879333496 seconds\n"
     ]
    }
   ],
   "source": [
    "import time\n",
    "\n",
    "kernels = ['rbf', 'poly', 'linear', 'sigmoid']\n",
    "c_values = [1.0, 10.0, 100.0, 1000.0]\n",
    "\n",
    "img_dict = {'cow': 1, 'grass': 2, 'sky': 3}\n",
    "\n",
    "kernel_results = {kernel: {} for kernel in kernels}\n",
    "\n",
    "for c_value in c_values:\n",
    "    for kernel in kernels:\n",
    "        start = time.time()\n",
    "        X, y, clf = get_svm(train, kernel=kernel, C=c_value)\n",
    "        kernel_results[kernel][c_value] = (X, y, clf)\n",
    "        end = time.time()\n",
    "        print(f'Done with kernel {kernel} and C={int(c_value)} in {end - start} seconds')\n"
   ]
  },
  {
   "cell_type": "code",
   "execution_count": 25,
   "id": "d580bd48",
   "metadata": {},
   "outputs": [
    {
     "name": "stdout",
     "output_type": "stream",
     "text": [
      "[193, 208, 215, 'sky']\n"
     ]
    }
   ],
   "source": [
    "# Get class value from test dataset\n",
    "y_test = list(map(lambda y: y[3], test)) \n",
    "\n",
    "\n",
    "# Get predicted class value from test dataset\n",
    "y_pred = list(map(lambda pixel: clf.predict([[pixel[0], pixel[1], pixel[2]]]), test))"
   ]
  },
  {
   "cell_type": "code",
   "execution_count": 44,
   "id": "dc0cdd4e",
   "metadata": {},
   "outputs": [
    {
     "data": {
      "image/png": "[encoded data removed]",
      "text/plain": [
       "<Figure size 432x288 with 1 Axes>"
      ]
     },
     "metadata": {
      "needs_background": "light"
     },
     "output_type": "display_data"
    }
   ],
   "source": [
    "import seaborn as sns\n",
    "\n",
    "# Plot confusion matrix for classifier \n",
    "\n",
    "conf_matrix = confusion_matrix(y_test, y_pred)\n",
    "count_values = list(map(lambda x: sum(x), conf_matrix))\n",
    "\n",
    "unique, counts = np.unique(np.array(y_test), return_counts=True)\n",
    "count_labels = dict(zip(counts, unique))\n",
    "\n",
    "labels = []\n",
    "for value in count_values:\n",
    "    labels.append(count_labels[value])\n",
    "\n",
    "matrix = sns.heatmap(conf_matrix, annot=True, cmap='Blues', fmt='g', xticklabels=labels, yticklabels=labels, cbar=False) "
   ]
  },
  {
   "cell_type": "code",
   "execution_count": 42,
   "id": "fbe48f29",
   "metadata": {},
   "outputs": [
    {
     "name": "stdout",
     "output_type": "stream",
     "text": [
      "              precision    recall  f1-score   support\n",
      "\n",
      "         cow       0.98      0.99      0.98     11256\n",
      "       grass       0.98      0.97      0.98      8329\n",
      "         sky       1.00      1.00      1.00      7011\n",
      "\n",
      "    accuracy                           0.99     26596\n",
      "   macro avg       0.99      0.99      0.99     26596\n",
      "weighted avg       0.99      0.99      0.99     26596\n",
      "\n"
     ]
    }
   ],
   "source": [
    "print(classification_report(y_test,y_pred))"
   ]
  },
  {
   "cell_type": "code",
   "execution_count": 49,
   "id": "ff30b77d",
   "metadata": {},
   "outputs": [],
   "source": [
    "def normalize_img(pixels):\n",
    "    result = np.zeros(pixels.shape)\n",
    "    for i in range(pixels.shape[2]):\n",
    "        band = pixels[:,:,i]\n",
    "        minimum = band.min()\n",
    "        maximum = band.max()\n",
    "        result[:,:,i] = 255 * (np.subtract(band, minimum)) / (maximum - minimum)\n",
    "    \n",
    "    return result\n"
   ]
  },
  {
   "cell_type": "code",
   "execution_count": 48,
   "id": "96a22368",
   "metadata": {},
   "outputs": [],
   "source": [
    "class_color_dict = {'sky': [0, 0, 255], 'grass': [0, 255, 0], 'cow': [255, 0, 0]}\n",
    "\n",
    "full_img_pixels = np.asarray(full_img, dtype=np.uint8)\n",
    "class_sections_pixels = np.zeros(full_img_pixels.shape)\n",
    "for i in range(full_img_pixels.shape[0]):\n",
    "    for j in range(full_img_pixels.shape[1]):\n",
    "        predicted = clf.predict([full_img_pixels[i,j,:]])[0]\n",
    "        class_sections_pixels[i,j,:] = class_color_dict[predicted]\n"
   ]
  },
  {
   "cell_type": "code",
   "execution_count": 50,
   "id": "271f22f4",
   "metadata": {},
   "outputs": [],
   "source": [
    "result = normalize_img(full_img_pixels + class_sections_pixels)\n",
    "\n",
    "img = Image.fromarray(result.astype(np.uint8), 'RGB')\n",
    "img.save('result.png')\n",
    "img.show()"
   ]
  }
 ],
 "metadata": {
  "kernelspec": {
   "display_name": "Python 3",
   "language": "python",
   "name": "python3"
  },
  "language_info": {
   "codemirror_mode": {
    "name": "ipython",
    "version": 3
   },
   "file_extension": ".py",
   "mimetype": "text/x-python",
   "name": "python",
   "nbconvert_exporter": "python",
   "pygments_lexer": "ipython3",
   "version": "3.8.9"
  }
 },
 "nbformat": 4,
 "nbformat_minor": 5
}
