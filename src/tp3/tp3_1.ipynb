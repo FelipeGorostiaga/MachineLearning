{
 "cells": [
  {
   "cell_type": "code",
   "execution_count": 47,
   "metadata": {},
   "outputs": [
    {
     "data": {
      "text/html": [
       "<div>\n",
       "<style scoped>\n",
       "    .dataframe tbody tr th:only-of-type {\n",
       "        vertical-align: middle;\n",
       "    }\n",
       "\n",
       "    .dataframe tbody tr th {\n",
       "        vertical-align: top;\n",
       "    }\n",
       "\n",
       "    .dataframe thead th {\n",
       "        text-align: right;\n",
       "    }\n",
       "</style>\n",
       "<table border=\"1\" class=\"dataframe\">\n",
       "  <thead>\n",
       "    <tr style=\"text-align: right;\">\n",
       "      <th></th>\n",
       "      <th>x</th>\n",
       "      <th>y</th>\n",
       "      <th>class</th>\n",
       "    </tr>\n",
       "  </thead>\n",
       "  <tbody>\n",
       "    <tr>\n",
       "      <th>0</th>\n",
       "      <td>2.899819</td>\n",
       "      <td>4.877617</td>\n",
       "      <td>1</td>\n",
       "    </tr>\n",
       "    <tr>\n",
       "      <th>1</th>\n",
       "      <td>0.209157</td>\n",
       "      <td>4.078734</td>\n",
       "      <td>1</td>\n",
       "    </tr>\n",
       "    <tr>\n",
       "      <th>2</th>\n",
       "      <td>2.739024</td>\n",
       "      <td>4.301011</td>\n",
       "      <td>1</td>\n",
       "    </tr>\n",
       "    <tr>\n",
       "      <th>3</th>\n",
       "      <td>4.361434</td>\n",
       "      <td>4.797911</td>\n",
       "      <td>1</td>\n",
       "    </tr>\n",
       "    <tr>\n",
       "      <th>4</th>\n",
       "      <td>0.254129</td>\n",
       "      <td>0.273448</td>\n",
       "      <td>1</td>\n",
       "    </tr>\n",
       "  </tbody>\n",
       "</table>\n",
       "</div>"
      ],
      "text/plain": [
       "          x         y  class\n",
       "0  2.899819  4.877617      1\n",
       "1  0.209157  4.078734      1\n",
       "2  2.739024  4.301011      1\n",
       "3  4.361434  4.797911      1\n",
       "4  0.254129  0.273448      1"
      ]
     },
     "execution_count": 47,
     "metadata": {},
     "output_type": "execute_result"
    }
   ],
   "source": [
    "import numpy as np\n",
    "import pandas as pd\n",
    "import matplotlib.pyplot as plt\n",
    "\n",
    "Y_GT_X = 1\n",
    "X_GT_Y = -1\n",
    "POINT_COUNT = 15\n",
    "\n",
    "# Generación de puntos\n",
    "x_range = y_range = (0, 5)\n",
    "x_lim = y_lim = x_range[1]\n",
    "\n",
    "split_points = { Y_GT_X: [], X_GT_Y: []}\n",
    "points_per_class = { Y_GT_X: POINT_COUNT, X_GT_Y: POINT_COUNT }\n",
    "\n",
    "rng = np.random.default_rng()\n",
    "klass_pred = { Y_GT_X: '>', X_GT_Y: '<' }\n",
    "\n",
    "def klass_range(x, klass):\n",
    "    return (0, x) if klass == X_GT_Y else (x, y_lim)\n",
    "\n",
    "def generate_points(n, x_range, y_range, klass):\n",
    "    data = rng.uniform(x_range[0], x_range[1], size=n)\n",
    "    return list(map(lambda x: (x, rng.uniform(*klass_range(x, klass)), klass), data))\n",
    "\n",
    "for klass, n in points_per_class.items():\n",
    "    split_points[klass] = generate_points(n, x_range, y_range, klass)\n",
    "\n",
    "points = split_points[Y_GT_X] + split_points[X_GT_Y]\n",
    "df = pd.DataFrame(points, columns=['x', 'y', 'class'])\n",
    "df.head()"
   ]
  },
  {
   "cell_type": "code",
   "execution_count": 48,
   "metadata": {},
   "outputs": [
    {
     "data": {
      "image/png": "[encoded data removed]",
      "text/plain": [
       "<Figure size 432x288 with 2 Axes>"
      ]
     },
     "metadata": {
      "needs_background": "light"
     },
     "output_type": "display_data"
    }
   ],
   "source": [
    "df.plot.scatter('x', 'y', c='class', colormap='winter')\n",
    "xs = np.linspace(0, 5, 1000)"
   ]
  },
  {
   "cell_type": "code",
   "execution_count": 49,
   "metadata": {},
   "outputs": [],
   "source": [
    "def calculate_h(w, point):\n",
    "    return sum([w[j] * point[j] for j in range(0, len(w))])\n",
    "\n",
    "\n",
    "def calculate_o(h):\n",
    "    return 1 if h > 0 else -1\n",
    "\n",
    "\n",
    "def calculate_error(data, w):\n",
    "    err = 0\n",
    "    for index, row in data.iterrows():\n",
    "        h = calculate_h(w, row)\n",
    "        o = calculate_o(h)\n",
    "        err += abs(row['class'] - o)\n",
    "    return err\n",
    "\n",
    "\n",
    "def get_weights(data, eta=0.1, iterations=1000, stdout=False):\n",
    "    i = 0\n",
    "    w = [0 for i in range(len(data.loc[0]) - 1)]\n",
    "    w_min = w\n",
    "    error = 1\n",
    "    error_min = len(df)\n",
    "    threshold = w[0]  # TODO: ask\n",
    "    \n",
    "    while error > 0 and i < iterations:\n",
    "        random_index = rng.integers(0, len(data))\n",
    "        point = data.iloc[random_index]\n",
    "        h = calculate_h(w, point)\n",
    "        o = calculate_o(h)\n",
    "        delta_w = eta * (point['class'] - o) * point[0:len(point) - 1]\n",
    "        w += delta_w\n",
    "        error = calculate_error(data, w)\n",
    "        if error < error_min:\n",
    "            error_min = error\n",
    "            w_min = w\n",
    "        \n",
    "        i += 1\n",
    "        \n",
    "        if stdout:\n",
    "            print(f\"error: {error}; point: {list(point)}; h: {h}; o: {o}; delta_w: {list(delta_w)}; w: {list(w)}\")\n",
    "    \n",
    "    return w_min, error_min"
   ]
  },
  {
   "cell_type": "code",
   "execution_count": 50,
   "metadata": {},
   "outputs": [
    {
     "name": "stdout",
     "output_type": "stream",
     "text": [
      "\n",
      "\n",
      "\n",
      "\n",
      "\n",
      "0.0\n",
      "x   -1.355553\n",
      "y    1.365569\n",
      "Name: 9, dtype: float64\n"
     ]
    }
   ],
   "source": [
    "ws, err_m = get_weights(df)\n",
    "print(f\"\\n\\n\\n\\n\\n{err_m}\")\n",
    "print(ws)"
   ]
  },
  {
   "cell_type": "code",
   "execution_count": 51,
   "metadata": {},
   "outputs": [
    {
     "name": "stdout",
     "output_type": "stream",
     "text": [
      "0.9926649575275528\n"
     ]
    },
    {
     "data": {
      "text/plain": [
       "[<matplotlib.lines.Line2D at 0x19845e23310>]"
      ]
     },
     "execution_count": 51,
     "metadata": {},
     "output_type": "execute_result"
    },
    {
     "data": {
      "image/png": "[encoded data removed]",
      "text/plain": [
       "<Figure size 432x288 with 1 Axes>"
      ]
     },
     "metadata": {
      "needs_background": "light"
     },
     "output_type": "display_data"
    }
   ],
   "source": [
    "# w1*x + w2*y + b = 0\n",
    "fig, ax = plt.subplots()\n",
    "ax.scatter(list(df['x']), list(df['y']), c=list(df['class']), cmap='bwr')\n",
    "yi = - ws[0] * 0 / ws[1]\n",
    "yf = - ws[0] * 1 / ws[1]\n",
    "print(yf)\n",
    "ax.plot([0, 1], [yi, yf], color='Black', transform=ax.transAxes)"
   ]
  },
  {
   "cell_type": "code",
   "execution_count": 16,
   "metadata": {},
   "outputs": [
    {
     "name": "stdout",
     "output_type": "stream",
     "text": [
      "-1\n"
     ]
    }
   ],
   "source": [
    "def classify(x, y, w):\n",
    "    h = calculate_h(w, (x, y))\n",
    "    o = calculate_o(h)\n",
    "    return o\n",
    "\n",
    "print(classify(1, 0.8814770326018851, ws))"
   ]
  },
  {
   "cell_type": "code",
   "execution_count": 43,
   "metadata": {},
   "outputs": [
    {
     "data": {
      "text/html": [
       "<div>\n",
       "<style scoped>\n",
       "    .dataframe tbody tr th:only-of-type {\n",
       "        vertical-align: middle;\n",
       "    }\n",
       "\n",
       "    .dataframe tbody tr th {\n",
       "        vertical-align: top;\n",
       "    }\n",
       "\n",
       "    .dataframe thead th {\n",
       "        text-align: right;\n",
       "    }\n",
       "</style>\n",
       "<table border=\"1\" class=\"dataframe\">\n",
       "  <thead>\n",
       "    <tr style=\"text-align: right;\">\n",
       "      <th></th>\n",
       "      <th>x</th>\n",
       "      <th>y</th>\n",
       "      <th>class</th>\n",
       "    </tr>\n",
       "  </thead>\n",
       "  <tbody>\n",
       "    <tr>\n",
       "      <th>0</th>\n",
       "      <td>0.368429</td>\n",
       "      <td>2.646050</td>\n",
       "      <td>1</td>\n",
       "    </tr>\n",
       "    <tr>\n",
       "      <th>1</th>\n",
       "      <td>3.600702</td>\n",
       "      <td>4.606227</td>\n",
       "      <td>1</td>\n",
       "    </tr>\n",
       "    <tr>\n",
       "      <th>2</th>\n",
       "      <td>2.133057</td>\n",
       "      <td>4.590356</td>\n",
       "      <td>1</td>\n",
       "    </tr>\n",
       "    <tr>\n",
       "      <th>3</th>\n",
       "      <td>2.447549</td>\n",
       "      <td>2.759760</td>\n",
       "      <td>1</td>\n",
       "    </tr>\n",
       "    <tr>\n",
       "      <th>4</th>\n",
       "      <td>4.279055</td>\n",
       "      <td>4.661715</td>\n",
       "      <td>1</td>\n",
       "    </tr>\n",
       "  </tbody>\n",
       "</table>\n",
       "</div>"
      ],
      "text/plain": [
       "          x         y  class\n",
       "0  0.368429  2.646050      1\n",
       "1  3.600702  4.606227      1\n",
       "2  2.133057  4.590356      1\n",
       "3  2.447549  2.759760      1\n",
       "4  4.279055  4.661715      1"
      ]
     },
     "execution_count": 43,
     "metadata": {},
     "output_type": "execute_result"
    }
   ],
   "source": [
    "# Non-linearly separable dataset\n",
    "\n",
    "MISMATCH_CLASS_DELTA_Y = 0.5\n",
    "\n",
    "mismatch_points_per_class = { Y_GT_X: 3, X_GT_Y: 3 }\n",
    "split_points_2 = { Y_GT_X: [], X_GT_Y: []}\n",
    "\n",
    "def klass_range_mismatch(x, klass):\n",
    "    return (x, min(x + MISMATCH_CLASS_DELTA_Y, y_lim)) if klass == X_GT_Y else (x, max(x - MISMATCH_CLASS_DELTA_Y, 0))\n",
    "\n",
    "def get_klass_range(x, klass, mismatch):\n",
    "    return klass_range(x, klass) if not mismatch else klass_range_mismatch(x, klass)\n",
    "\n",
    "def generate_points_non_linear(n, x_range, y_range, klass, mismatch=False):\n",
    "    data = rng.uniform(x_range[0], x_range[1], size=n)\n",
    "    return list(map(lambda x: (x, rng.uniform(*get_klass_range(x, klass, mismatch)), klass), data))\n",
    "\n",
    "for klass, n in points_per_class.items():\n",
    "    split_points_2[klass] = generate_points_non_linear(n, x_range, y_range, klass)\n",
    "\n",
    "for klass, n in mismatch_points_per_class.items():\n",
    "    split_points_2[klass] += generate_points_non_linear(n, x_range, y_range, klass, True)\n",
    "\n",
    "points_2 = split_points_2[Y_GT_X] + split_points_2[X_GT_Y]\n",
    "df_2 = pd.DataFrame(points_2, columns=['x', 'y', 'class'])\n",
    "df_2.head()"
   ]
  },
  {
   "cell_type": "code",
   "execution_count": 44,
   "metadata": {},
   "outputs": [
    {
     "data": {
      "text/plain": [
       "[<matplotlib.lines.Line2D at 0x19845cc6430>]"
      ]
     },
     "execution_count": 44,
     "metadata": {},
     "output_type": "execute_result"
    },
    {
     "data": {
      "image/png": "[encoded data removed]",
      "text/plain": [
       "<Figure size 432x288 with 1 Axes>"
      ]
     },
     "metadata": {
      "needs_background": "light"
     },
     "output_type": "display_data"
    }
   ],
   "source": [
    "fig, ax = plt.subplots()\n",
    "ax.scatter(list(df_2['x']), list(df_2['y']), c=list(df_2['class']), cmap='bwr')\n",
    "ax.plot([0, 1], [0, 1], color='Black', transform=ax.transAxes)"
   ]
  },
  {
   "cell_type": "code",
   "execution_count": 45,
   "metadata": {},
   "outputs": [
    {
     "name": "stdout",
     "output_type": "stream",
     "text": [
      "\n",
      "\n",
      "\n",
      "\n",
      "\n",
      "8.0\n",
      "x   -3.313181\n",
      "y    3.073255\n",
      "Name: 6, dtype: float64\n"
     ]
    }
   ],
   "source": [
    "ws_2, err_m_2 = get_weights(df_2)\n",
    "print(f\"\\n\\n\\n\\n\\n{err_m_2}\")\n",
    "print(ws_2)"
   ]
  },
  {
   "cell_type": "code",
   "execution_count": 46,
   "metadata": {},
   "outputs": [
    {
     "name": "stdout",
     "output_type": "stream",
     "text": [
      "1.0780691297985174\n"
     ]
    },
    {
     "data": {
      "text/plain": [
       "[<matplotlib.lines.Line2D at 0x19845d21760>]"
      ]
     },
     "execution_count": 46,
     "metadata": {},
     "output_type": "execute_result"
    },
    {
     "data": {
      "image/png": "[encoded data removed]",
      "text/plain": [
       "<Figure size 432x288 with 1 Axes>"
      ]
     },
     "metadata": {
      "needs_background": "light"
     },
     "output_type": "display_data"
    }
   ],
   "source": [
    "# w1*x + w2*y + b = 0\n",
    "fig2, ax2 = plt.subplots()\n",
    "ax2.scatter(list(df_2['x']), list(df_2['y']), c=list(df_2['class']), cmap='bwr')\n",
    "yi_2 = - ws_2[0] * 0 / ws_2[1]\n",
    "yf_2 = - ws_2[0] * 1 / ws_2[1]\n",
    "print(yf_2)\n",
    "ax2.plot([0, 1], [yi_2, yf_2], color='Black', transform=ax2.transAxes)"
   ]
  },
  {
   "cell_type": "code",
   "execution_count": null,
   "metadata": {},
   "outputs": [],
   "source": []
  }
 ],
 "metadata": {
  "kernelspec": {
   "display_name": "Python 3",
   "language": "python",
   "name": "python3"
  },
  "language_info": {
   "codemirror_mode": {
    "name": "ipython",
    "version": 3
   },
   "file_extension": ".py",
   "mimetype": "text/x-python",
   "name": "python",
   "nbconvert_exporter": "python",
   "pygments_lexer": "ipython3",
   "version": "3.8.3"
  }
 },
 "nbformat": 4,
 "nbformat_minor": 5
}
