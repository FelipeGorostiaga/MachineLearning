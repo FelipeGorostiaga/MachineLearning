{
 "cells": [
  {
   "cell_type": "code",
   "execution_count": 5,
   "metadata": {},
   "outputs": [
    {
     "data": {
      "text/html": [
       "<div>\n",
       "<style scoped>\n",
       "    .dataframe tbody tr th:only-of-type {\n",
       "        vertical-align: middle;\n",
       "    }\n",
       "\n",
       "    .dataframe tbody tr th {\n",
       "        vertical-align: top;\n",
       "    }\n",
       "\n",
       "    .dataframe thead th {\n",
       "        text-align: right;\n",
       "    }\n",
       "</style>\n",
       "<table border=\"1\" class=\"dataframe\">\n",
       "  <thead>\n",
       "    <tr style=\"text-align: right;\">\n",
       "      <th></th>\n",
       "      <th>x</th>\n",
       "      <th>y</th>\n",
       "      <th>class</th>\n",
       "    </tr>\n",
       "  </thead>\n",
       "  <tbody>\n",
       "    <tr>\n",
       "      <th>0</th>\n",
       "      <td>3.384689</td>\n",
       "      <td>4.365206</td>\n",
       "      <td>1</td>\n",
       "    </tr>\n",
       "    <tr>\n",
       "      <th>1</th>\n",
       "      <td>4.104201</td>\n",
       "      <td>4.770055</td>\n",
       "      <td>1</td>\n",
       "    </tr>\n",
       "    <tr>\n",
       "      <th>2</th>\n",
       "      <td>4.599163</td>\n",
       "      <td>4.701110</td>\n",
       "      <td>1</td>\n",
       "    </tr>\n",
       "    <tr>\n",
       "      <th>3</th>\n",
       "      <td>1.923327</td>\n",
       "      <td>2.709815</td>\n",
       "      <td>1</td>\n",
       "    </tr>\n",
       "    <tr>\n",
       "      <th>4</th>\n",
       "      <td>1.707250</td>\n",
       "      <td>4.696928</td>\n",
       "      <td>1</td>\n",
       "    </tr>\n",
       "  </tbody>\n",
       "</table>\n",
       "</div>"
      ],
      "text/plain": [
       "          x         y  class\n",
       "0  3.384689  4.365206      1\n",
       "1  4.104201  4.770055      1\n",
       "2  4.599163  4.701110      1\n",
       "3  1.923327  2.709815      1\n",
       "4  1.707250  4.696928      1"
      ]
     },
     "execution_count": 5,
     "metadata": {},
     "output_type": "execute_result"
    }
   ],
   "source": [
    "import numpy as np\n",
    "import pandas as pd\n",
    "import matplotlib.pyplot as plt\n",
    "\n",
    "Y_GT_X = 1\n",
    "X_GT_Y = -1\n",
    "POINT_COUNT = 5\n",
    "\n",
    "# Generación de puntos\n",
    "x_range = y_range = (0, 5)\n",
    "x_lim = y_lim = x_range[1]\n",
    "\n",
    "split_points = { Y_GT_X: [], X_GT_Y: []}\n",
    "points_per_class = { Y_GT_X: POINT_COUNT, X_GT_Y: POINT_COUNT }\n",
    "\n",
    "rng = np.random.default_rng()\n",
    "klass_pred = { Y_GT_X: '>', X_GT_Y: '<' }\n",
    "\n",
    "def klass_range(x, klass):\n",
    "    return (0, x) if klass == X_GT_Y else (x, y_lim)\n",
    "\n",
    "def generate_points(n, x_range, y_range, klass):\n",
    "    data = rng.uniform(x_range[0], x_range[1], size=n)\n",
    "    return list(map(lambda x: (x, rng.uniform(*klass_range(x, klass)), klass), data))\n",
    "\n",
    "for klass, n in points_per_class.items():\n",
    "    split_points[klass] = generate_points(n, x_range, y_range, klass)\n",
    "\n",
    "points = split_points[Y_GT_X] + split_points[X_GT_Y]\n",
    "df = pd.DataFrame(points, columns=['x', 'y', 'class'])\n",
    "df.head()"
   ]
  },
  {
   "cell_type": "code",
   "execution_count": 6,
   "metadata": {},
   "outputs": [
    {
     "data": {
      "image/png": "[encoded data removed]",
      "text/plain": [
       "<Figure size 432x288 with 2 Axes>"
      ]
     },
     "metadata": {
      "needs_background": "light"
     },
     "output_type": "display_data"
    }
   ],
   "source": [
    "df.plot.scatter('x', 'y', c='class', colormap='coolwarm', title='Dataset linealmente separable')\n",
    "xs = np.linspace(0, 5, 1000)"
   ]
  },
  {
   "cell_type": "code",
   "execution_count": 7,
   "metadata": {},
   "outputs": [],
   "source": [
    "def calculate_h(w, point):\n",
    "    return sum([w[j] * point[j] for j in range(0, len(w))])\n",
    "\n",
    "\n",
    "def calculate_o(h):\n",
    "    return 1 if h > 0 else -1\n",
    "\n",
    "\n",
    "def calculate_error(data, w):\n",
    "    err = 0\n",
    "    for index, row in data.iterrows():\n",
    "        h = calculate_h(w, row)\n",
    "        o = calculate_o(h)\n",
    "        err += abs(row['class'] - o)\n",
    "    return err\n",
    "\n",
    "\n",
    "def get_weights(data, eta=0.1, iterations=1000, stdout=False):\n",
    "    i = 0\n",
    "    w = [0 for i in range(len(data.loc[0]) - 1)]\n",
    "    w_min = w\n",
    "    error = 1\n",
    "    error_min = len(df)\n",
    "    threshold = w[0]  # TODO: ask\n",
    "    \n",
    "    while error > 0 and i < iterations:\n",
    "        random_index = rng.integers(0, len(data))\n",
    "        point = data.iloc[random_index]\n",
    "        h = calculate_h(w, point)\n",
    "        o = calculate_o(h)\n",
    "        delta_w = eta * (point['class'] - o) * point[0:len(point) - 1]\n",
    "        w += delta_w\n",
    "        error = calculate_error(data, w)\n",
    "        if error < error_min:\n",
    "            error_min = error\n",
    "            w_min = w\n",
    "        \n",
    "        i += 1\n",
    "        \n",
    "        if stdout:\n",
    "            print(f\"error: {error}; point: {list(point)}; h: {h}; o: {o}; delta_w: {list(delta_w)}; w: {list(w)}\")\n",
    "    \n",
    "    return w_min, error_min"
   ]
  },
  {
   "cell_type": "code",
   "execution_count": 8,
   "metadata": {},
   "outputs": [
    {
     "name": "stdout",
     "output_type": "stream",
     "text": [
      "Error: 0.0\n",
      "\n",
      "x   -1.627187\n",
      "y    1.602116\n",
      "Name: 4, dtype: float64\n"
     ]
    }
   ],
   "source": [
    "ws, err_m = get_weights(df)\n",
    "print(f\"Error: {err_m}\\n\")\n",
    "print(ws)"
   ]
  },
  {
   "cell_type": "code",
   "execution_count": 9,
   "metadata": {},
   "outputs": [
    {
     "name": "stdout",
     "output_type": "stream",
     "text": [
      "1.0156485792539813\n"
     ]
    },
    {
     "data": {
      "text/plain": [
       "Text(0.5, 1.0, 'Dataset linealmente separable + pendiente')"
      ]
     },
     "execution_count": 9,
     "metadata": {},
     "output_type": "execute_result"
    },
    {
     "data": {
      "image/png": "[encoded data removed]",
      "text/plain": [
       "<Figure size 432x288 with 1 Axes>"
      ]
     },
     "metadata": {
      "needs_background": "light"
     },
     "output_type": "display_data"
    }
   ],
   "source": [
    "# w1*x + w2*y + b = 0\n",
    "fig, ax = plt.subplots()\n",
    "ax.scatter(list(df['x']), list(df['y']), c=list(df['class']), cmap='bwr')\n",
    "yi = - ws[0] * 0 / ws[1]\n",
    "yf = - ws[0] * 1 / ws[1]\n",
    "print(yf)\n",
    "ax.plot([0, 1], [yi, yf], color='Black', alpha=0.5, transform=ax.transAxes)\n",
    "plt.xlim([0, 5.1])\n",
    "plt.ylim([0, 5.1])\n",
    "plt.title('Dataset linealmente separable + pendiente')"
   ]
  },
  {
   "cell_type": "code",
   "execution_count": 10,
   "metadata": {},
   "outputs": [
    {
     "name": "stdout",
     "output_type": "stream",
     "text": [
      "-1\n"
     ]
    }
   ],
   "source": [
    "def classify(x, y, w):\n",
    "    h = calculate_h(w, (x, y))\n",
    "    o = calculate_o(h)\n",
    "    return o\n",
    "\n",
    "print(classify(1, 0.8814770326018851, ws))"
   ]
  },
  {
   "cell_type": "code",
   "execution_count": 43,
   "metadata": {},
   "outputs": [],
   "source": [
    "# y = mx + b\n",
    "a = yf - yi\n",
    "b = 1\n",
    "c = 0 # w0\n",
    "\n",
    "init_pointt = np.array((0, yi))\n",
    "final_pointt = np.array((1, yf))"
   ]
  },
  {
   "cell_type": "code",
   "execution_count": 89,
   "metadata": {},
   "outputs": [
    {
     "name": "stdout",
     "output_type": "stream",
     "text": [
      "Hyperplane margin: 1.0385009522482995\n",
      "Optimal hyperplane: [0.3615794949861438, 0.9323412834394739, -2.7689821062095477]\n"
     ]
    }
   ],
   "source": [
    "import math\n",
    "\n",
    "def get_distance_vector(point1, point2):\n",
    "    return (point1[0] - point2[0], point1[1] - point2[1])\n",
    "\n",
    "def get_shortest_distance(point, init_point, final_point):\n",
    "    p3 = np.array((point[0], point[1]))\n",
    "    return np.linalg.norm(np.cross(final_point-init_point, p1-p3))/np.linalg.norm(final_point-init_point)\n",
    "\n",
    "def select_closest_points(data, n=3):\n",
    "    result = { Y_GT_X: [], X_GT_Y: []}\n",
    "    distances = { Y_GT_X: [], X_GT_Y: []} # Distance from each point to hyperplane\n",
    "    for klass in data.keys():\n",
    "        for index, point in enumerate(data[klass]):\n",
    "            distances[klass].append((index, get_shortest_distance(point, init_pointt, final_pointt)))\n",
    "        distances[klass].sort(key=lambda tup: tup[1])\n",
    "        closest_n_distances = distances[klass][0:n]\n",
    "        closest_class_points = list(map(lambda tup: data[klass][tup[0]], closest_n_distances))\n",
    "        result[klass] = closest_class_points\n",
    "    \n",
    "    return result\n",
    "\n",
    "def get_middle_point(point1, point2):\n",
    "    diff_vector = get_distance_vector(point2, point1)\n",
    "    return (point1[0] + diff_vector[0] / 2, point1[1] + diff_vector[1] / 2)\n",
    "\n",
    "# C = -Ax -By\n",
    "def get_plane_constant(plane_point, norm_vector):\n",
    "    return - norm_vector[0] * plane_point[0] - norm_vector[1] * plane_point[1]\n",
    "\n",
    "def classify_point(x, y, A, B, C):\n",
    "    fx = C + A * x + B * y\n",
    "    return 1 if fx > 0 else -1\n",
    "\n",
    "def get_hyperplane_margin(A, B, C):\n",
    "    init_plane_point = np.array((0, - (A * 0 + C) / B))\n",
    "    final_plane_point = np.array((1, - (A * 1 + C) / B))\n",
    "    \n",
    "    min_distance = -1\n",
    "    for point in points:\n",
    "        if classify_point(point[0], point[1], A, B, C) != point[2]:\n",
    "            return None\n",
    "        \n",
    "        d = get_shortest_distance(point, init_plane_point, final_plane_point)\n",
    "        if min_distance == -1 or d < min_distance:\n",
    "            min_distance = d\n",
    "            \n",
    "    return min_distance\n",
    "\n",
    "closest_points = select_closest_points(split_points, 4)\n",
    "\n",
    "biggest_margin = None\n",
    "chosen_hyperplane = []\n",
    "\n",
    "for klass in closest_points.keys():\n",
    "    other_klass = -1 if klass == 1 else 1\n",
    "    for i in range(0, len(closest_points[klass])):\n",
    "        point1 = closest_points[klass][i]\n",
    "        for j in range(i+1, len(closest_points[klass])):\n",
    "            point2 = closest_points[klass][j]\n",
    "            dir_vector = get_distance_vector(point1, point2)\n",
    "            normal_vector = np.array([dir_vector[1], -dir_vector[0]])\n",
    "            normal_vector /= np.linalg.norm(normal_vector) # [A, B]\n",
    "            \n",
    "            for k in range(0, len(closest_points[other_klass])):\n",
    "                point3 = closest_points[other_klass][k]\n",
    "                middle_point = get_middle_point(point1, point3)\n",
    "                C = get_plane_constant(middle_point, normal_vector) # C\n",
    "                \n",
    "                margin = get_hyperplane_margin(normal_vector[0], normal_vector[1], C)\n",
    "                \n",
    "                if margin is not None and (biggest_margin is None or margin > biggest_margin):\n",
    "                    biggest_margin = margin\n",
    "                    chosen_hyperplane = [normal_vector[0], normal_vector[1], C] # [A, B, C]\n",
    "\n",
    "print(f'Hyperplane margin: {biggest_margin}')\n",
    "print(f'Optimal hyperplane: {chosen_hyperplane}')"
   ]
  },
  {
   "cell_type": "code",
   "execution_count": 90,
   "metadata": {},
   "outputs": [
    {
     "data": {
      "text/plain": [
       "Text(0.5, 1.0, 'Dataset linealmente separable + hiperplano óptimo')"
      ]
     },
     "execution_count": 90,
     "metadata": {},
     "output_type": "execute_result"
    },
    {
     "data": {
      "image/png": "[encoded data removed]",
      "text/plain": [
       "<Figure size 432x288 with 1 Axes>"
      ]
     },
     "metadata": {
      "needs_background": "light"
     },
     "output_type": "display_data"
    }
   ],
   "source": [
    "# w1*x + w2*y + b = 0\n",
    "fig, ax = plt.subplots()\n",
    "ax.scatter(list(df['x']), list(df['y']), c=list(df['class']), cmap='bwr')\n",
    "A = chosen_hyperplane[0]\n",
    "B = chosen_hyperplane[1]\n",
    "C = chosen_hyperplane[2]\n",
    "yi = - (A * 0 + C) / B\n",
    "yf = - (A * 5 + C) / B\n",
    "ax.plot([0, 5], [yi, yf], color='Black', alpha=0.5)#, transform=ax.transAxes)\n",
    "#plt.xlim([0, 5.1])\n",
    "#plt.ylim([0, 5.1])\n",
    "plt.title('Dataset linealmente separable + hiperplano óptimo')"
   ]
  },
  {
   "cell_type": "code",
   "execution_count": 69,
   "metadata": {},
   "outputs": [
    {
     "data": {
      "text/html": [
       "<div>\n",
       "<style scoped>\n",
       "    .dataframe tbody tr th:only-of-type {\n",
       "        vertical-align: middle;\n",
       "    }\n",
       "\n",
       "    .dataframe tbody tr th {\n",
       "        vertical-align: top;\n",
       "    }\n",
       "\n",
       "    .dataframe thead th {\n",
       "        text-align: right;\n",
       "    }\n",
       "</style>\n",
       "<table border=\"1\" class=\"dataframe\">\n",
       "  <thead>\n",
       "    <tr style=\"text-align: right;\">\n",
       "      <th></th>\n",
       "      <th>x</th>\n",
       "      <th>y</th>\n",
       "      <th>class</th>\n",
       "    </tr>\n",
       "  </thead>\n",
       "  <tbody>\n",
       "    <tr>\n",
       "      <th>0</th>\n",
       "      <td>0.328249</td>\n",
       "      <td>3.437882</td>\n",
       "      <td>1</td>\n",
       "    </tr>\n",
       "    <tr>\n",
       "      <th>1</th>\n",
       "      <td>0.324413</td>\n",
       "      <td>2.970277</td>\n",
       "      <td>1</td>\n",
       "    </tr>\n",
       "    <tr>\n",
       "      <th>2</th>\n",
       "      <td>1.795137</td>\n",
       "      <td>2.749072</td>\n",
       "      <td>1</td>\n",
       "    </tr>\n",
       "    <tr>\n",
       "      <th>3</th>\n",
       "      <td>0.422075</td>\n",
       "      <td>0.720797</td>\n",
       "      <td>1</td>\n",
       "    </tr>\n",
       "    <tr>\n",
       "      <th>4</th>\n",
       "      <td>1.619030</td>\n",
       "      <td>4.456578</td>\n",
       "      <td>1</td>\n",
       "    </tr>\n",
       "  </tbody>\n",
       "</table>\n",
       "</div>"
      ],
      "text/plain": [
       "          x         y  class\n",
       "0  0.328249  3.437882      1\n",
       "1  0.324413  2.970277      1\n",
       "2  1.795137  2.749072      1\n",
       "3  0.422075  0.720797      1\n",
       "4  1.619030  4.456578      1"
      ]
     },
     "execution_count": 69,
     "metadata": {},
     "output_type": "execute_result"
    }
   ],
   "source": [
    "# Non-linearly separable dataset\n",
    "\n",
    "MISMATCH_CLASS_DELTA_Y = 0.5\n",
    "\n",
    "mismatch_points_per_class = { Y_GT_X: 1, X_GT_Y: 1 }\n",
    "split_points_2 = { Y_GT_X: [], X_GT_Y: []}\n",
    "\n",
    "def klass_range_mismatch(x, klass):\n",
    "    return (x, min(x + MISMATCH_CLASS_DELTA_Y, y_lim)) if klass == X_GT_Y else (x, max(x - MISMATCH_CLASS_DELTA_Y, 0))\n",
    "\n",
    "def get_klass_range(x, klass, mismatch):\n",
    "    return klass_range(x, klass) if not mismatch else klass_range_mismatch(x, klass)\n",
    "\n",
    "def generate_points_non_linear(n, x_range, y_range, klass, mismatch=False):\n",
    "    data = rng.uniform(x_range[0], x_range[1], size=n)\n",
    "    return list(map(lambda x: (x, rng.uniform(*get_klass_range(x, klass, mismatch)), klass), data))\n",
    "\n",
    "for klass, n in points_per_class.items():\n",
    "    split_points_2[klass] = generate_points_non_linear(n, x_range, y_range, klass)\n",
    "\n",
    "for klass, n in mismatch_points_per_class.items():\n",
    "    split_points_2[klass] += generate_points_non_linear(n, x_range, y_range, klass, True)\n",
    "\n",
    "points_2 = split_points_2[Y_GT_X] + split_points_2[X_GT_Y]\n",
    "df_2 = pd.DataFrame(points_2, columns=['x', 'y', 'class'])\n",
    "df_2.head()"
   ]
  },
  {
   "cell_type": "code",
   "execution_count": 70,
   "metadata": {},
   "outputs": [
    {
     "data": {
      "text/plain": [
       "(0.0, 5.0)"
      ]
     },
     "execution_count": 70,
     "metadata": {},
     "output_type": "execute_result"
    },
    {
     "data": {
      "image/png": "[encoded data removed]",
      "text/plain": [
       "<Figure size 432x288 with 1 Axes>"
      ]
     },
     "metadata": {
      "needs_background": "light"
     },
     "output_type": "display_data"
    }
   ],
   "source": [
    "fig, ax = plt.subplots()\n",
    "ax.scatter(list(df_2['x']), list(df_2['y']), c=list(df_2['class']), cmap='bwr')\n",
    "ax.plot([0, 1], [0, 1], color='Black', alpha=0.5, transform=ax.transAxes)\n",
    "plt.xlim([0, 5.1])\n",
    "plt.ylim([0, 5.1])\n",
    "plt.title('Dataset no linealmente separable + recta y=x')"
   ]
  },
  {
   "cell_type": "code",
   "execution_count": 71,
   "metadata": {},
   "outputs": [
    {
     "name": "stdout",
     "output_type": "stream",
     "text": [
      "\n",
      "\n",
      "\n",
      "\n",
      "\n",
      "2.0\n",
      "x   -3.479420\n",
      "y    2.508598\n",
      "Name: 1, dtype: float64\n"
     ]
    }
   ],
   "source": [
    "ws_2, err_m_2 = get_weights(df_2)\n",
    "print(f\"Error: {err_m_2}\\n\")\n",
    "print(ws_2)"
   ]
  },
  {
   "cell_type": "code",
   "execution_count": 72,
   "metadata": {},
   "outputs": [
    {
     "name": "stdout",
     "output_type": "stream",
     "text": [
      "1.3869975534289245\n"
     ]
    },
    {
     "data": {
      "text/plain": [
       "[<matplotlib.lines.Line2D at 0x1e8f6a20220>]"
      ]
     },
     "execution_count": 72,
     "metadata": {},
     "output_type": "execute_result"
    },
    {
     "data": {
      "image/png": "[encoded data removed]",
      "text/plain": [
       "<Figure size 432x288 with 1 Axes>"
      ]
     },
     "metadata": {
      "needs_background": "light"
     },
     "output_type": "display_data"
    }
   ],
   "source": [
    "# w1*x + w2*y + b = 0\n",
    "fig2, ax2 = plt.subplots()\n",
    "ax2.scatter(list(df_2['x']), list(df_2['y']), c=list(df_2['class']), cmap='bwr')\n",
    "yi_2 = - ws_2[0] * 0 / ws_2[1]\n",
    "yf_2 = - ws_2[0] * 1 / ws_2[1]\n",
    "print(yf_2)\n",
    "ax2.plot([0, 1], [yi_2, yf_2], color='Black', alpha=0.5, transform=ax2.transAxes)\n",
    "plt.xlim([0, 5.1])\n",
    "plt.ylim([0, 5.1])\n",
    "plt.title('Dataset no linealmente separable + pendiente')"
   ]
  },
  {
   "cell_type": "code",
   "execution_count": 73,
   "metadata": {},
   "outputs": [],
   "source": [
    "import matplotlib.pyplot as plt\n",
    "from sklearn.svm import SVC\n",
    "\n",
    "def get_svm(data):\n",
    "    X = np.array(list(map(lambda point: (point[0], point[1]), data)))\n",
    "    y = list(map(lambda point: point[2], data))\n",
    "\n",
    "    # Create a linear SVM classifier\n",
    "    clf = SVC(kernel='linear')\n",
    "\n",
    "    # Train classifier\n",
    "    clf.fit(X, y)\n",
    "    \n",
    "    return X, y, clf"
   ]
  },
  {
   "cell_type": "code",
   "execution_count": 86,
   "metadata": {},
   "outputs": [],
   "source": [
    "def plot_svm(X, y, clf):\n",
    "    plt.scatter(X[:, 0], X[:, 1], c=y, s=30, cmap=plt.cm.bwr)\n",
    "    ax = plt.gca()\n",
    "    xlim = ax.get_xlim()\n",
    "    ylim = ax.get_ylim()\n",
    "    xx = np.linspace(xlim[0], xlim[1], 30)\n",
    "    yy = np.linspace(ylim[0], ylim[1], 30)\n",
    "    YY, XX = np.meshgrid(yy, xx)\n",
    "    xy = np.vstack([XX.ravel(), YY.ravel()]).T\n",
    "    Z = clf.decision_function(xy).reshape(XX.shape)\n",
    "\n",
    "    # plot decision boundary and margins\n",
    "    ax.contour(XX, YY, Z, colors='k', levels=[-1, 0, 1], alpha=0.5,\n",
    "               linestyles=['--', '-', '--'])\n",
    "    # plot support vectors\n",
    "    ax.scatter(clf.support_vectors_[:, 0], clf.support_vectors_[:, 1], s=100,\n",
    "               linewidth=1, facecolors='none', edgecolors='k')\n",
    "    plt.show()"
   ]
  },
  {
   "cell_type": "code",
   "execution_count": 100,
   "metadata": {},
   "outputs": [],
   "source": [
    "def plot_svm2(X, Y, clf):\n",
    "    # get the separating hyperplane\n",
    "    w = clf.coef_[0]\n",
    "    a = -w[0] / w[1]\n",
    "    xx = np.linspace(-5, 5)\n",
    "    yy = a * xx - (clf.intercept_[0]) / w[1]\n",
    "\n",
    "    # plot the parallels to the separating hyperplane that pass through the\n",
    "    # support vectors\n",
    "    b = clf.support_vectors_[0]\n",
    "    yy_down = a * xx + (b[1] - a * b[0])\n",
    "    b = clf.support_vectors_[-1]\n",
    "    yy_up = a * xx + (b[1] - a * b[0])\n",
    "\n",
    "    # plot the line, the points, and the nearest vectors to the plane\n",
    "    plt.plot(xx, yy, 'k-', alpha=0.5)\n",
    "    plt.plot(xx, yy_down, 'k--', alpha=0.5)\n",
    "    plt.plot(xx, yy_up, 'k--', alpha=0.5)\n",
    "\n",
    "    plt.scatter(clf.support_vectors_[:, 0], clf.support_vectors_[:, 1], s=80,\n",
    "                linewidth=1, facecolors='none', edgecolors='k')\n",
    "    plt.scatter(X[:, 0], X[:, 1], c=Y, cmap=plt.cm.bwr)\n",
    "\n",
    "    plt.xlim([0,5.1])\n",
    "    plt.ylim([0,5.1])\n",
    "    plt.title('SVM - dataset linealmente separable')\n",
    "    plt.show()"
   ]
  },
  {
   "cell_type": "code",
   "execution_count": 87,
   "metadata": {},
   "outputs": [
    {
     "data": {
      "image/png": "[encoded data removed]",
      "text/plain": [
       "<Figure size 432x288 with 1 Axes>"
      ]
     },
     "metadata": {
      "needs_background": "light"
     },
     "output_type": "display_data"
    }
   ],
   "source": [
    "X, y, clf = get_svm(points)\n",
    "# plot_svm(X, y, clf)"
   ]
  },
  {
   "cell_type": "code",
   "execution_count": 101,
   "metadata": {},
   "outputs": [
    {
     "data": {
      "image/png": "[encoded data removed]",
      "text/plain": [
       "<Figure size 432x288 with 1 Axes>"
      ]
     },
     "metadata": {
      "needs_background": "light"
     },
     "output_type": "display_data"
    }
   ],
   "source": [
    "plot_svm2(X, y, clf)"
   ]
  },
  {
   "cell_type": "code",
   "execution_count": 38,
   "metadata": {},
   "outputs": [],
   "source": [
    "#from sklearn.metrics import classification_report, confusion_matrix\n",
    "#print(confusion_matrix(y_test,y_pred))\n",
    "#print(classification_report(y_test,y_pred))"
   ]
  },
  {
   "cell_type": "code",
   "execution_count": null,
   "metadata": {},
   "outputs": [],
   "source": []
  }
 ],
 "metadata": {
  "kernelspec": {
   "display_name": "Python 3",
   "language": "python",
   "name": "python3"
  },
  "language_info": {
   "codemirror_mode": {
    "name": "ipython",
    "version": 3
   },
   "file_extension": ".py",
   "mimetype": "text/x-python",
   "name": "python",
   "nbconvert_exporter": "python",
   "pygments_lexer": "ipython3",
   "version": "3.8.3"
  }
 },
 "nbformat": 4,
 "nbformat_minor": 5
}
