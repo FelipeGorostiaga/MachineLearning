{
 "cells": [
  {
   "cell_type": "code",
   "execution_count": 135,
   "id": "942d6417-7fdd-4ab5-a5e0-7a02fdc610ac",
   "metadata": {},
   "outputs": [
    {
     "data": {
      "text/html": [
       "<div>\n",
       "<style scoped>\n",
       "    .dataframe tbody tr th:only-of-type {\n",
       "        vertical-align: middle;\n",
       "    }\n",
       "\n",
       "    .dataframe tbody tr th {\n",
       "        vertical-align: top;\n",
       "    }\n",
       "\n",
       "    .dataframe thead th {\n",
       "        text-align: right;\n",
       "    }\n",
       "</style>\n",
       "<table border=\"1\" class=\"dataframe\">\n",
       "  <thead>\n",
       "    <tr style=\"text-align: right;\">\n",
       "      <th></th>\n",
       "      <th>x</th>\n",
       "      <th>y</th>\n",
       "      <th>class</th>\n",
       "    </tr>\n",
       "  </thead>\n",
       "  <tbody>\n",
       "    <tr>\n",
       "      <th>0</th>\n",
       "      <td>0.029952</td>\n",
       "      <td>4.902674</td>\n",
       "      <td>1</td>\n",
       "    </tr>\n",
       "    <tr>\n",
       "      <th>1</th>\n",
       "      <td>4.250957</td>\n",
       "      <td>4.913330</td>\n",
       "      <td>1</td>\n",
       "    </tr>\n",
       "    <tr>\n",
       "      <th>2</th>\n",
       "      <td>4.673902</td>\n",
       "      <td>4.887703</td>\n",
       "      <td>1</td>\n",
       "    </tr>\n",
       "    <tr>\n",
       "      <th>3</th>\n",
       "      <td>3.768752</td>\n",
       "      <td>4.146734</td>\n",
       "      <td>1</td>\n",
       "    </tr>\n",
       "    <tr>\n",
       "      <th>4</th>\n",
       "      <td>4.160906</td>\n",
       "      <td>4.701734</td>\n",
       "      <td>1</td>\n",
       "    </tr>\n",
       "  </tbody>\n",
       "</table>\n",
       "</div>"
      ],
      "text/plain": [
       "          x         y  class\n",
       "0  0.029952  4.902674      1\n",
       "1  4.250957  4.913330      1\n",
       "2  4.673902  4.887703      1\n",
       "3  3.768752  4.146734      1\n",
       "4  4.160906  4.701734      1"
      ]
     },
     "execution_count": 135,
     "metadata": {},
     "output_type": "execute_result"
    }
   ],
   "source": [
    "import numpy as np\n",
    "import pandas as pd\n",
    "import matplotlib.pyplot as plt\n",
    "\n",
    "Y_GT_X = 1\n",
    "X_GT_Y = -1\n",
    "POINT_COUNT = 15\n",
    "\n",
    "# Generación de puntos\n",
    "x_range = y_range = (0, 5)\n",
    "x_lim = y_lim = x_range[1]\n",
    "\n",
    "split_points = { Y_GT_X: [], X_GT_Y: []}\n",
    "points_per_class = { Y_GT_X: POINT_COUNT, X_GT_Y: POINT_COUNT }\n",
    "\n",
    "rng = np.random.default_rng()\n",
    "klass_pred = { Y_GT_X: '>', X_GT_Y: '<' }\n",
    "\n",
    "def klass_range(x, klass):\n",
    "    return (0, x) if klass == X_GT_Y else (x, y_lim)\n",
    "\n",
    "def generate_points(n, x_range, y_range, klass):\n",
    "    data = rng.uniform(x_range[0], x_range[1], size=n)\n",
    "    return list(map(lambda x: (x, rng.uniform(*klass_range(x, klass)), klass), data))\n",
    "\n",
    "for klass, n in points_per_class.items():\n",
    "    split_points[klass] = generate_points(n, x_range, y_range, klass)\n",
    "\n",
    "points = split_points[Y_GT_X] + split_points[X_GT_Y]\n",
    "df = pd.DataFrame(points, columns=['x', 'y', 'class'])\n",
    "df.head()"
   ]
  },
  {
   "cell_type": "code",
   "execution_count": 137,
   "id": "2d7a1666-bc0d-4190-ae9f-112bbb9635bd",
   "metadata": {},
   "outputs": [
    {
     "data": {
      "text/plain": [
       "[<matplotlib.lines.Line2D at 0x11f24b6a0>]"
      ]
     },
     "execution_count": 137,
     "metadata": {},
     "output_type": "execute_result"
    },
    {
     "data": {
      "image/png": "[encoded data removed]",
      "text/plain": [
       "<Figure size 432x288 with 2 Axes>"
      ]
     },
     "metadata": {
      "needs_background": "light"
     },
     "output_type": "display_data"
    },
    {
     "data": {
      "image/png": "[encoded data removed]",
      "text/plain": [
       "<Figure size 432x288 with 1 Axes>"
      ]
     },
     "metadata": {
      "needs_background": "light"
     },
     "output_type": "display_data"
    }
   ],
   "source": [
    "df.plot.scatter('x', 'y', c='class', colormap='winter')\n",
    "xs = np.linspace(0, 5, 1000)"
   ]
  },
  {
   "cell_type": "code",
   "execution_count": 110,
   "id": "f4c1568b-cc9d-49b1-8c63-d433229a1846",
   "metadata": {},
   "outputs": [],
   "source": [
    "def calculate_h(w, point):\n",
    "    return sum([w[j] * point[j] for j in range(0, len(w))])\n",
    "\n",
    "\n",
    "def calculate_o(h):\n",
    "    return 1 if h > 0 else -1\n",
    "\n",
    "\n",
    "def calculate_error(data, w):\n",
    "    err = 0\n",
    "    for index, row in data.iterrows():\n",
    "        h = calculate_h(w, row)\n",
    "        o = calculate_o(h)\n",
    "        err += abs(row['class'] - o)\n",
    "    return err\n",
    "\n",
    "\n",
    "def get_weights(data, eta=0.1, iterations=1000, stdout=False):\n",
    "    i = 0\n",
    "    w = [0 for i in range(len(data.loc[0]) - 1)]\n",
    "    w_min = w\n",
    "    error = 1\n",
    "    error_min = len(df)\n",
    "    threshold = w[0]  # TODO: ask\n",
    "    \n",
    "    while error > 0 and i < iterations:\n",
    "        random_index = rng.integers(0, len(data))\n",
    "        point = data.iloc[random_index]\n",
    "        h = calculate_h(w, point)\n",
    "        o = calculate_o(h)\n",
    "        delta_w = eta * (point['class'] - o) * point[0:len(point) - 1]\n",
    "        w += delta_w\n",
    "        error = calculate_error(data, w)\n",
    "        if error < error_min:\n",
    "            error_min = error\n",
    "            w_min = w\n",
    "        \n",
    "        i += 1\n",
    "        \n",
    "        if stdout:\n",
    "            print(f\"error: {error}; point: {list(point)}; h: {h}; o: {o}; delta_w: {list(delta_w)}; w: {list(w)}\")\n",
    "    \n",
    "    return w_min, error_min"
   ]
  },
  {
   "cell_type": "code",
   "execution_count": 112,
   "id": "6ff5883f-5164-4521-90c4-5ff55f7957f3",
   "metadata": {},
   "outputs": [
    {
     "name": "stdout",
     "output_type": "stream",
     "text": [
      "\n",
      "\n",
      "\n",
      "\n",
      "\n",
      "0.0\n",
      "x   -1.569873\n",
      "y    1.643629\n",
      "Name: 20, dtype: float64\n"
     ]
    }
   ],
   "source": [
    "ws, err_m = get_weights(df)\n",
    "print(f\"\\n\\n\\n\\n\\n{err_m}\")\n",
    "print(ws)"
   ]
  },
  {
   "cell_type": "code",
   "execution_count": 141,
   "id": "224f710f-c7d5-478a-b52f-d3459b517ccc",
   "metadata": {},
   "outputs": [
    {
     "data": {
      "text/plain": [
       "[<matplotlib.lines.Line2D at 0x11f0c3c70>]"
      ]
     },
     "execution_count": 141,
     "metadata": {},
     "output_type": "execute_result"
    },
    {
     "data": {
      "image/png": "[encoded data removed]",
      "text/plain": [
       "<Figure size 432x288 with 1 Axes>"
      ]
     },
     "metadata": {
      "needs_background": "light"
     },
     "output_type": "display_data"
    }
   ],
   "source": [
    "fig, ax = plt.subplots()\n",
    "ax.scatter(list(df['x']), list(df['y']), c='Blue')\n",
    "yi = 0\n",
    "yf = 5\n",
    "ax.plot([0, 1], [0, 0.5], color='Red')#, transform=ax.transAxes)"
   ]
  },
  {
   "cell_type": "code",
   "execution_count": 128,
   "id": "8dc6b6eb-204a-47ab-aed8-75d67637ca8c",
   "metadata": {},
   "outputs": [
    {
     "name": "stdout",
     "output_type": "stream",
     "text": [
      "1\n"
     ]
    }
   ],
   "source": [
    "def classify(x, y, w):\n",
    "    h = calculate_h(w, (x, y))\n",
    "    o = calculate_o(h)\n",
    "    return o\n",
    "\n",
    "print(classify(, 4.98, ws))"
   ]
  },
  {
   "cell_type": "code",
   "execution_count": null,
   "id": "3193d17e-9ce8-4357-847b-d2bc95a0fa08",
   "metadata": {},
   "outputs": [],
   "source": []
  }
 ],
 "metadata": {
  "kernelspec": {
   "display_name": "Python 3",
   "language": "python",
   "name": "python3"
  },
  "language_info": {
   "codemirror_mode": {
    "name": "ipython",
    "version": 3
   },
   "file_extension": ".py",
   "mimetype": "text/x-python",
   "name": "python",
   "nbconvert_exporter": "python",
   "pygments_lexer": "ipython3",
   "version": "3.8.9"
  }
 },
 "nbformat": 4,
 "nbformat_minor": 5
}
