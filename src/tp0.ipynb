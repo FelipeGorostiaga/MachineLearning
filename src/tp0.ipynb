{
 "cells": [
  {
   "cell_type": "markdown",
   "metadata": {},
   "source": [
    "# TP0\n",
    "\n",
    "En este trabajo práctico se analizará una planilla de datos con distintas mediciones del clima de la base Marambio. Estas mediciones fueron tomadas en el período entre el 01/10/2007 y el 31/12/2007. La unidad de medida es grados Kelvin (K)."
   ]
  },
  {
   "cell_type": "markdown",
   "metadata": {},
   "source": [
    "En primer lugar se leen los datos, y se agrupan en columnas. Luego se calcula la media, el valor máximo, el valor mínimo, la mediana, la desviación estandar y los cuartiles pertenecientes a cada columna."
   ]
  },
  {
   "cell_type": "code",
   "execution_count": 2,
   "metadata": {
    "jupyter": {
     "source_hidden": true
    }
   },
   "outputs": [
    {
     "name": "stdout",
     "output_type": "stream",
     "text": [
      "              ukmo        cmam     gembach        ncep       ecmwf\n",
      "Mean    220.867209  220.531189   221.45263  220.192254  220.379674\n",
      "Max       239.1337    238.2716    240.4039    239.0308    238.0879\n",
      "Min       190.4485    189.4517     190.379    188.6695    188.3967\n",
      "Median    226.9848    226.3045    227.2454    226.3176     226.435\n",
      "Std      13.272229   13.603264    13.25161   13.800099   13.524525\n",
      "25%       211.2061   212.83335   212.75785    208.8954  210.964075\n",
      "50%       229.8881   230.86075  230.094925     230.422  230.056525\n",
      "75%       226.9848    226.3045    227.2454    226.3176     226.435\n"
     ]
    }
   ],
   "source": [
    "import pandas as pd\n",
    "from sklearn.model_selection import train_test_split\n",
    "\n",
    "# import file\n",
    "df = pd.read_csv('../res/tp0/marambio_2007.dat', sep=r'\\s+')\n",
    "\n",
    "# create new data frame\n",
    "stats = pd.DataFrame(index=['Mean', 'Max', 'Min', 'Median', 'Std', '25%', '50%', '75%'], columns=df.columns)\n",
    "\n",
    "# fill new df for each model\n",
    "for col in df:\n",
    "    stats[col][0] = df[col].mean()\n",
    "    stats[col][1] = df[col].max()\n",
    "    stats[col][2] = df[col].min()\n",
    "    stats[col][3] = df[col].median()\n",
    "    stats[col][4] = df[col].std()\n",
    "    stats[col][5] = df[col].quantile(.25)\n",
    "    stats[col][6] = df[col].quantile(.75)\n",
    "    stats[col][7] = df[col].quantile(.5)\n",
    "\n",
    "print(stats)"
   ]
  },
  {
   "cell_type": "markdown",
   "metadata": {},
   "source": [
    "Finalmente se dividen los datos en un set de entrenamiento y un set de evaluación, siendo parametrizable la proporción de elementos en cada copnjunto."
   ]
  },
  {
   "cell_type": "code",
   "execution_count": 7,
   "metadata": {},
   "outputs": [
    {
     "name": "stdout",
     "output_type": "stream",
     "text": [
      "73\n",
      "19\n"
     ]
    }
   ],
   "source": [
    "# Split dataframes in test and train dataframes\n",
    "train, test = train_test_split(df, test_size=0.2)\n",
    "\n",
    "print(train.shape[0])\n",
    "print(test.shape[0])"
   ]
  }
 ],
 "metadata": {
  "kernelspec": {
   "display_name": "Python 3",
   "language": "python",
   "name": "python3"
  },
  "language_info": {
   "codemirror_mode": {
    "name": "ipython",
    "version": 3
   },
   "file_extension": ".py",
   "mimetype": "text/x-python",
   "name": "python",
   "nbconvert_exporter": "python",
   "pygments_lexer": "ipython3",
   "version": "3.8.3"
  }
 },
 "nbformat": 4,
 "nbformat_minor": 5
}
