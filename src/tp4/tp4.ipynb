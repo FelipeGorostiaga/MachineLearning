{
 "cells": [
  {
   "cell_type": "markdown",
   "metadata": {},
   "source": [
    "# Métodos de Aprendizaje no supervisado"
   ]
  },
  {
   "cell_type": "code",
   "execution_count": 1,
   "metadata": {},
   "outputs": [
    {
     "data": {
      "text/html": [
       "<div>\n",
       "<style scoped>\n",
       "    .dataframe tbody tr th:only-of-type {\n",
       "        vertical-align: middle;\n",
       "    }\n",
       "\n",
       "    .dataframe tbody tr th {\n",
       "        vertical-align: top;\n",
       "    }\n",
       "\n",
       "    .dataframe thead th {\n",
       "        text-align: right;\n",
       "    }\n",
       "</style>\n",
       "<table border=\"1\" class=\"dataframe\">\n",
       "  <thead>\n",
       "    <tr style=\"text-align: right;\">\n",
       "      <th></th>\n",
       "      <th>sex</th>\n",
       "      <th>age</th>\n",
       "      <th>cad.dur</th>\n",
       "      <th>choleste</th>\n",
       "      <th>sigdz</th>\n",
       "      <th>tvdlm</th>\n",
       "    </tr>\n",
       "  </thead>\n",
       "  <tbody>\n",
       "    <tr>\n",
       "      <th>0</th>\n",
       "      <td>0</td>\n",
       "      <td>73</td>\n",
       "      <td>132</td>\n",
       "      <td>268.0</td>\n",
       "      <td>1</td>\n",
       "      <td>1.0</td>\n",
       "    </tr>\n",
       "    <tr>\n",
       "      <th>1</th>\n",
       "      <td>0</td>\n",
       "      <td>68</td>\n",
       "      <td>85</td>\n",
       "      <td>120.0</td>\n",
       "      <td>1</td>\n",
       "      <td>1.0</td>\n",
       "    </tr>\n",
       "    <tr>\n",
       "      <th>2</th>\n",
       "      <td>0</td>\n",
       "      <td>54</td>\n",
       "      <td>45</td>\n",
       "      <td>NaN</td>\n",
       "      <td>1</td>\n",
       "      <td>0.0</td>\n",
       "    </tr>\n",
       "    <tr>\n",
       "      <th>3</th>\n",
       "      <td>1</td>\n",
       "      <td>58</td>\n",
       "      <td>86</td>\n",
       "      <td>245.0</td>\n",
       "      <td>0</td>\n",
       "      <td>0.0</td>\n",
       "    </tr>\n",
       "    <tr>\n",
       "      <th>4</th>\n",
       "      <td>1</td>\n",
       "      <td>56</td>\n",
       "      <td>7</td>\n",
       "      <td>269.0</td>\n",
       "      <td>0</td>\n",
       "      <td>0.0</td>\n",
       "    </tr>\n",
       "  </tbody>\n",
       "</table>\n",
       "</div>"
      ],
      "text/plain": [
       "   sex  age  cad.dur  choleste  sigdz  tvdlm\n",
       "0    0   73      132     268.0      1    1.0\n",
       "1    0   68       85     120.0      1    1.0\n",
       "2    0   54       45       NaN      1    0.0\n",
       "3    1   58       86     245.0      0    0.0\n",
       "4    1   56        7     269.0      0    0.0"
      ]
     },
     "execution_count": 1,
     "metadata": {},
     "output_type": "execute_result"
    }
   ],
   "source": [
    "import pandas as pd\n",
    "\n",
    "df = pd.read_excel('../../res/tp4/acath.xlsx', sheet_name='acath')  # 3505 rows\n",
    "\n",
    "df.head()"
   ]
  },
  {
   "cell_type": "code",
   "execution_count": 2,
   "metadata": {},
   "outputs": [
    {
     "name": "stdout",
     "output_type": "stream",
     "text": [
      "Cantidad de filas negativas: 1170\n",
      "Cantidad de filas positivas: 2334\n"
     ]
    }
   ],
   "source": [
    "negative = df[df.sigdz == 0]\n",
    "positive = df[df.sigdz == 1]\n",
    "\n",
    "print(f\"Cantidad de filas negativas: {len(negative)}\")\n",
    "print(f\"Cantidad de filas positivas: {len(positive)}\")\n",
    "\n",
    "# Se elige un subset de filas para igualar la proporción\n",
    "positive = positive.sample(n=len(negative))\n",
    "\n",
    "total = [negative, positive]\n",
    "df = pd.concat(total)"
   ]
  },
  {
   "cell_type": "code",
   "execution_count": 3,
   "metadata": {},
   "outputs": [
    {
     "data": {
      "text/html": [
       "<div>\n",
       "<style scoped>\n",
       "    .dataframe tbody tr th:only-of-type {\n",
       "        vertical-align: middle;\n",
       "    }\n",
       "\n",
       "    .dataframe tbody tr th {\n",
       "        vertical-align: top;\n",
       "    }\n",
       "\n",
       "    .dataframe thead th {\n",
       "        text-align: right;\n",
       "    }\n",
       "</style>\n",
       "<table border=\"1\" class=\"dataframe\">\n",
       "  <thead>\n",
       "    <tr style=\"text-align: right;\">\n",
       "      <th></th>\n",
       "      <th>sex</th>\n",
       "      <th>age</th>\n",
       "      <th>cad.dur</th>\n",
       "      <th>choleste</th>\n",
       "      <th>sigdz</th>\n",
       "      <th>tvdlm</th>\n",
       "    </tr>\n",
       "  </thead>\n",
       "  <tbody>\n",
       "    <tr>\n",
       "      <th>3</th>\n",
       "      <td>1</td>\n",
       "      <td>58</td>\n",
       "      <td>86</td>\n",
       "      <td>245.0</td>\n",
       "      <td>0</td>\n",
       "      <td>0.0</td>\n",
       "    </tr>\n",
       "    <tr>\n",
       "      <th>4</th>\n",
       "      <td>1</td>\n",
       "      <td>56</td>\n",
       "      <td>7</td>\n",
       "      <td>269.0</td>\n",
       "      <td>0</td>\n",
       "      <td>0.0</td>\n",
       "    </tr>\n",
       "    <tr>\n",
       "      <th>11</th>\n",
       "      <td>0</td>\n",
       "      <td>35</td>\n",
       "      <td>44</td>\n",
       "      <td>257.0</td>\n",
       "      <td>0</td>\n",
       "      <td>0.0</td>\n",
       "    </tr>\n",
       "    <tr>\n",
       "      <th>12</th>\n",
       "      <td>1</td>\n",
       "      <td>69</td>\n",
       "      <td>10</td>\n",
       "      <td>NaN</td>\n",
       "      <td>0</td>\n",
       "      <td>0.0</td>\n",
       "    </tr>\n",
       "    <tr>\n",
       "      <th>20</th>\n",
       "      <td>1</td>\n",
       "      <td>52</td>\n",
       "      <td>30</td>\n",
       "      <td>240.0</td>\n",
       "      <td>0</td>\n",
       "      <td>0.0</td>\n",
       "    </tr>\n",
       "  </tbody>\n",
       "</table>\n",
       "</div>"
      ],
      "text/plain": [
       "    sex  age  cad.dur  choleste  sigdz  tvdlm\n",
       "3     1   58       86     245.0      0    0.0\n",
       "4     1   56        7     269.0      0    0.0\n",
       "11    0   35       44     257.0      0    0.0\n",
       "12    1   69       10       NaN      0    0.0\n",
       "20    1   52       30     240.0      0    0.0"
      ]
     },
     "execution_count": 3,
     "metadata": {},
     "output_type": "execute_result"
    }
   ],
   "source": [
    "df.head()"
   ]
  },
  {
   "cell_type": "code",
   "execution_count": 4,
   "metadata": {},
   "outputs": [
    {
     "data": {
      "text/html": [
       "<div>\n",
       "<style scoped>\n",
       "    .dataframe tbody tr th:only-of-type {\n",
       "        vertical-align: middle;\n",
       "    }\n",
       "\n",
       "    .dataframe tbody tr th {\n",
       "        vertical-align: top;\n",
       "    }\n",
       "\n",
       "    .dataframe thead th {\n",
       "        text-align: right;\n",
       "    }\n",
       "</style>\n",
       "<table border=\"1\" class=\"dataframe\">\n",
       "  <thead>\n",
       "    <tr style=\"text-align: right;\">\n",
       "      <th></th>\n",
       "      <th>sex</th>\n",
       "      <th>age</th>\n",
       "      <th>cad.dur</th>\n",
       "      <th>choleste</th>\n",
       "      <th>sigdz</th>\n",
       "      <th>tvdlm</th>\n",
       "    </tr>\n",
       "  </thead>\n",
       "  <tbody>\n",
       "    <tr>\n",
       "      <th>3</th>\n",
       "      <td>1</td>\n",
       "      <td>58</td>\n",
       "      <td>86</td>\n",
       "      <td>245.0</td>\n",
       "      <td>0</td>\n",
       "      <td>0.0</td>\n",
       "    </tr>\n",
       "    <tr>\n",
       "      <th>4</th>\n",
       "      <td>1</td>\n",
       "      <td>56</td>\n",
       "      <td>7</td>\n",
       "      <td>269.0</td>\n",
       "      <td>0</td>\n",
       "      <td>0.0</td>\n",
       "    </tr>\n",
       "    <tr>\n",
       "      <th>11</th>\n",
       "      <td>0</td>\n",
       "      <td>35</td>\n",
       "      <td>44</td>\n",
       "      <td>257.0</td>\n",
       "      <td>0</td>\n",
       "      <td>0.0</td>\n",
       "    </tr>\n",
       "    <tr>\n",
       "      <th>12</th>\n",
       "      <td>1</td>\n",
       "      <td>69</td>\n",
       "      <td>10</td>\n",
       "      <td>227.0</td>\n",
       "      <td>0</td>\n",
       "      <td>0.0</td>\n",
       "    </tr>\n",
       "    <tr>\n",
       "      <th>20</th>\n",
       "      <td>1</td>\n",
       "      <td>52</td>\n",
       "      <td>30</td>\n",
       "      <td>240.0</td>\n",
       "      <td>0</td>\n",
       "      <td>0.0</td>\n",
       "    </tr>\n",
       "  </tbody>\n",
       "</table>\n",
       "</div>"
      ],
      "text/plain": [
       "    sex  age  cad.dur  choleste  sigdz  tvdlm\n",
       "3     1   58       86     245.0      0    0.0\n",
       "4     1   56        7     269.0      0    0.0\n",
       "11    0   35       44     257.0      0    0.0\n",
       "12    1   69       10     227.0      0    0.0\n",
       "20    1   52       30     240.0      0    0.0"
      ]
     },
     "execution_count": 4,
     "metadata": {},
     "output_type": "execute_result"
    }
   ],
   "source": [
    "import numpy as np\n",
    "\n",
    "# Sanitize dataset\n",
    "result_column = 'sigdz'\n",
    "columns = ['sex', 'age', 'cad.dur', 'choleste', 'tvdlm']\n",
    "numeric_columns = ['age', 'cad.dur', 'choleste']\n",
    "\n",
    "# Replace numeric value for `sigdz` with logical value\n",
    "# df.replace({result_column: {1: 'T', 0: 'F'}}, inplace=True)\n",
    "# df.replace({'tvdlm': {1: 'T', 0: 'F'}}, inplace=True)\n",
    "# df.replace({'sex': {1: 'F', 0: 'M'}}, inplace=True)\n",
    "\n",
    "# Replace NaN occurrences with mean\n",
    "for column in numeric_columns:\n",
    "    df.replace({column: {np.nan: int(df[column].mean())}}, inplace=True)\n",
    "\n",
    "df.head()"
   ]
  },
  {
   "cell_type": "markdown",
   "metadata": {},
   "source": [
    "## Regresión Logística"
   ]
  },
  {
   "cell_type": "code",
   "execution_count": 5,
   "metadata": {},
   "outputs": [],
   "source": [
    "from sklearn.model_selection import train_test_split\n",
    "\n",
    "train, test = train_test_split(df, test_size=0.2)"
   ]
  },
  {
   "cell_type": "code",
   "execution_count": 7,
   "metadata": {},
   "outputs": [
    {
     "name": "stdout",
     "output_type": "stream",
     "text": [
      "sklearn Classes: [0 1]\n",
      "sklearn Coeficients: [[ 0.05119752 -0.00048085  0.00482125]]\n",
      "sklearn Intercept b0: [-3.71377619]\n"
     ]
    }
   ],
   "source": [
    "from sklearn.linear_model import LogisticRegression\n",
    "from sklearn.metrics import classification_report, confusion_matrix\n",
    "\n",
    "def train_model(data, fields, result_var, params=None):\n",
    "    model = LogisticRegression()\n",
    "    model.fit(data[fields], data[result_var])\n",
    "    return model\n",
    "\n",
    "\n",
    "model = train_model(train, numeric_columns, result_column)\n",
    "print(f\"sklearn Classes: {model.classes_}\")\n",
    "print(f\"sklearn Coeficients: {model.coef_}\")\n",
    "print(f\"sklearn Intercept b0: {model.intercept_}\")"
   ]
  },
  {
   "cell_type": "code",
   "execution_count": 8,
   "metadata": {},
   "outputs": [],
   "source": [
    "predicted = model.predict(test[numeric_columns])"
   ]
  },
  {
   "cell_type": "code",
   "execution_count": 9,
   "metadata": {},
   "outputs": [
    {
     "name": "stdout",
     "output_type": "stream",
     "text": [
      "Población completa\n"
     ]
    },
    {
     "data": {
      "image/png": "[encoded data removed]",
      "text/plain": [
       "<Figure size 432x288 with 2 Axes>"
      ]
     },
     "metadata": {
      "needs_background": "light"
     },
     "output_type": "display_data"
    }
   ],
   "source": [
    "import seaborn as sns\n",
    "\n",
    "def plot_confusion_matrix(data, result_var, predictions, title=None, ax=None):\n",
    "    conf_mat = confusion_matrix(data[result_var], predictions)\n",
    "    count_values = list(map(lambda x: sum(x), conf_mat))\n",
    "\n",
    "    unique, counts = np.unique(np.array(data[result_var]), return_counts=True)\n",
    "    count_labels = dict(zip(counts, unique))\n",
    "\n",
    "    labels = []\n",
    "    for value in count_values:\n",
    "        labels.append(count_labels[value])\n",
    "\n",
    "    if title is not None:\n",
    "        print(title)\n",
    "\n",
    "    if ax is None:\n",
    "        sns.heatmap(conf_mat, annot=True, cmap='Blues', fmt='g', xticklabels=labels, yticklabels=labels, vmin=0)\n",
    "    else:\n",
    "        sns.heatmap(conf_mat, ax=ax, annot=True, cmap='Blues', fmt='g', xticklabels=labels, yticklabels=labels, vmin=0)\n",
    "\n",
    "plot_confusion_matrix(test, result_column, predicted, title='Población completa')"
   ]
  },
  {
   "cell_type": "code",
   "execution_count": 11,
   "metadata": {},
   "outputs": [
    {
     "name": "stdout",
     "output_type": "stream",
     "text": [
      "              precision    recall  f1-score   support\n",
      "\n",
      "           0       0.64      0.67      0.66       229\n",
      "           1       0.67      0.64      0.66       239\n",
      "\n",
      "    accuracy                           0.66       468\n",
      "   macro avg       0.66      0.66      0.66       468\n",
      "weighted avg       0.66      0.66      0.66       468\n",
      "\n"
     ]
    }
   ],
   "source": [
    "print(classification_report(test[result_column], predicted))"
   ]
  },
  {
   "cell_type": "markdown",
   "metadata": {},
   "source": [
    "#### Repetición del experimento usando librería statsmodels"
   ]
  },
  {
   "cell_type": "code",
   "execution_count": 12,
   "metadata": {},
   "outputs": [
    {
     "name": "stdout",
     "output_type": "stream",
     "text": [
      "Optimization terminated successfully.\n",
      "         Current function value: 0.659457\n",
      "         Iterations 5\n",
      "                           Logit Regression Results                           \n",
      "==============================================================================\n",
      "Dep. Variable:                  sigdz   No. Observations:                 1872\n",
      "Model:                          Logit   Df Residuals:                     1868\n",
      "Method:                           MLE   Df Model:                            3\n",
      "Date:                Tue, 22 Jun 2021   Pseudo R-squ.:                 0.04858\n",
      "Time:                        20:19:35   Log-Likelihood:                -1234.5\n",
      "converged:                       True   LL-Null:                       -1297.5\n",
      "Covariance Type:            nonrobust   LLR p-value:                 3.780e-27\n",
      "==============================================================================\n",
      "                 coef    std err          z      P>|z|      [0.025      0.975]\n",
      "------------------------------------------------------------------------------\n",
      "const         -3.7139      0.394     -9.425      0.000      -4.486      -2.942\n",
      "age            0.0512      0.005      9.834      0.000       0.041       0.061\n",
      "cad.dur       -0.0005      0.001     -0.539      0.590      -0.002       0.001\n",
      "choleste       0.0048      0.001      3.843      0.000       0.002       0.007\n",
      "==============================================================================\n"
     ]
    }
   ],
   "source": [
    "import statsmodels.api as sm\n",
    "\n",
    "def train_statsmodels_model(data, x1, result_var, params=None):\n",
    "    model = sm.Logit(data[result_var], x1).fit()\n",
    "    print(model.summary())\n",
    "    return model\n",
    "\n",
    "x1 = sm.add_constant(train[numeric_columns])\n",
    "statsmodel = train_statsmodels_model(train, x1, result_column)"
   ]
  },
  {
   "cell_type": "code",
   "execution_count": 14,
   "metadata": {},
   "outputs": [
    {
     "name": "stdout",
     "output_type": "stream",
     "text": [
      "Actual values [0, 1, 0, 0, 1, 1, 0, 0, 1, 1, 1, 0, 1, 0, 1, 1, 1, 1, 1, 0, 1, 0, 0, 0, 0, 1, 1, 1, 0, 1, 1, 0, 0, 1, 0, 0, 0, 1, 1, 0, 0, 1, 1, 0, 1, 1, 0, 1, 0, 1, 0, 1, 1, 1, 1, 0, 0, 1, 1, 0, 0, 0, 1, 1, 1, 1, 0, 0, 1, 1, 1, 0, 0, 1, 1, 1, 1, 1, 1, 0, 1, 1, 0, 0, 1, 1, 0, 0, 1, 1, 1, 1, 0, 1, 0, 0, 1, 1, 0, 0, 1, 1, 0, 1, 1, 1, 0, 0, 0, 0, 1, 0, 1, 0, 0, 0, 0, 0, 1, 0, 0, 1, 0, 0, 0, 0, 1, 1, 0, 1, 1, 1, 0, 1, 1, 0, 1, 1, 0, 0, 1, 1, 1, 1, 1, 1, 1, 1, 1, 1, 1, 1, 0, 0, 0, 1, 0, 0, 0, 1, 1, 1, 0, 0, 1, 0, 1, 0, 0, 1, 1, 0, 0, 0, 1, 1, 1, 1, 1, 1, 1, 0, 1, 0, 1, 0, 0, 1, 0, 1, 1, 1, 0, 1, 0, 1, 1, 0, 1, 1, 1, 0, 0, 0, 1, 1, 1, 1, 1, 1, 0, 1, 0, 0, 1, 1, 1, 0, 1, 1, 0, 0, 1, 1, 0, 1, 0, 1, 0, 0, 0, 1, 1, 0, 0, 1, 1, 0, 0, 0, 0, 0, 0, 0, 0, 0, 0, 0, 0, 1, 0, 0, 0, 0, 1, 1, 0, 0, 0, 1, 1, 0, 1, 1, 0, 1, 0, 0, 1, 0, 0, 0, 1, 0, 0, 0, 1, 0, 1, 0, 1, 0, 0, 0, 1, 1, 1, 0, 0, 0, 0, 0, 0, 0, 0, 1, 0, 1, 1, 1, 1, 0, 0, 1, 1, 0, 0, 0, 1, 1, 1, 0, 1, 0, 0, 1, 0, 1, 1, 0, 1, 0, 1, 0, 1, 1, 0, 1, 1, 0, 1, 1, 0, 0, 1, 1, 0, 0, 1, 1, 0, 0, 1, 1, 1, 1, 0, 0, 0, 1, 0, 1, 1, 1, 1, 0, 1, 1, 0, 1, 0, 0, 1, 0, 0, 0, 1, 1, 1, 0, 0, 0, 1, 0, 0, 1, 0, 0, 0, 0, 1, 0, 1, 1, 0, 1, 0, 0, 0, 1, 1, 0, 1, 0, 0, 1, 0, 1, 1, 1, 1, 1, 1, 0, 0, 1, 1, 1, 1, 0, 0, 1, 1, 0, 0, 0, 0, 1, 1, 0, 1, 1, 0, 1, 0, 0, 1, 1, 1, 0, 0, 1, 0, 0, 1, 1, 0, 1, 0, 0, 0, 1, 1, 1, 0, 0, 1, 1, 1, 0, 1, 0, 0, 0, 0, 1, 0, 0, 0, 0, 1, 0, 1, 0, 0, 1, 1, 1]\n",
      "statsmodels Predictions : [0, 1, 0, 1, 0, 1, 1, 0, 1, 1, 1, 0, 1, 1, 1, 1, 1, 0, 1, 0, 0, 0, 1, 1, 1, 0, 1, 1, 0, 1, 0, 0, 0, 1, 1, 0, 0, 1, 1, 0, 1, 0, 0, 1, 0, 1, 1, 1, 1, 0, 0, 1, 1, 0, 1, 0, 1, 0, 1, 0, 0, 0, 0, 0, 1, 0, 0, 1, 1, 0, 1, 0, 1, 1, 0, 1, 1, 1, 0, 0, 1, 0, 0, 0, 1, 1, 1, 0, 1, 0, 1, 1, 0, 1, 0, 0, 0, 1, 0, 0, 0, 0, 0, 1, 1, 0, 0, 0, 0, 0, 0, 1, 1, 0, 1, 0, 0, 0, 1, 0, 0, 1, 1, 1, 0, 1, 1, 0, 1, 1, 1, 1, 0, 1, 0, 0, 0, 0, 1, 1, 1, 1, 1, 1, 1, 1, 1, 0, 1, 0, 1, 0, 0, 1, 0, 0, 1, 1, 0, 1, 0, 1, 0, 1, 1, 1, 1, 0, 1, 0, 0, 1, 0, 0, 0, 1, 1, 0, 1, 0, 1, 1, 0, 0, 0, 0, 0, 1, 0, 1, 1, 1, 1, 1, 0, 0, 0, 0, 0, 1, 1, 0, 1, 1, 1, 0, 1, 0, 1, 1, 0, 0, 0, 0, 1, 0, 1, 0, 1, 1, 1, 0, 1, 0, 0, 1, 0, 1, 0, 1, 0, 0, 1, 0, 1, 0, 1, 0, 0, 1, 0, 0, 0, 1, 1, 0, 1, 0, 0, 1, 0, 0, 0, 0, 0, 1, 0, 0, 1, 1, 0, 0, 0, 1, 1, 1, 0, 0, 1, 0, 0, 1, 1, 1, 0, 1, 1, 0, 1, 0, 1, 0, 0, 0, 1, 1, 1, 0, 0, 0, 0, 1, 0, 0, 0, 0, 1, 0, 1, 1, 0, 0, 0, 1, 1, 1, 1, 1, 0, 1, 0, 1, 0, 0, 0, 0, 0, 1, 1, 0, 0, 1, 1, 0, 1, 1, 1, 1, 1, 0, 1, 1, 0, 0, 1, 0, 0, 1, 1, 0, 0, 0, 0, 1, 1, 1, 0, 0, 0, 0, 0, 0, 1, 1, 0, 0, 1, 0, 0, 1, 0, 0, 1, 0, 0, 0, 1, 1, 0, 1, 0, 1, 1, 0, 0, 1, 0, 1, 0, 1, 1, 1, 1, 0, 0, 0, 0, 1, 1, 0, 0, 0, 1, 0, 0, 1, 0, 0, 1, 1, 0, 1, 0, 1, 1, 1, 1, 0, 1, 0, 0, 1, 0, 0, 0, 0, 0, 1, 1, 0, 1, 1, 0, 1, 1, 0, 1, 0, 1, 1, 0, 0, 1, 1, 0, 1, 0, 1, 1, 0, 0, 1, 1, 1, 0, 1, 1, 1, 1, 0, 0, 0, 0, 1, 0, 0, 1, 0, 1, 1, 1, 1, 0, 0, 0, 0, 1, 1]\n"
     ]
    }
   ],
   "source": [
    "x2 = sm.add_constant(test[numeric_columns])\n",
    "yhat = statsmodel.predict(x2)\n",
    "predicted_2 = list(map(round, yhat))\n",
    "print('Actual values', list(test[result_column].values))\n",
    "print('statsmodels Predictions :', predicted_2)"
   ]
  },
  {
   "cell_type": "code",
   "execution_count": 15,
   "metadata": {},
   "outputs": [
    {
     "name": "stdout",
     "output_type": "stream",
     "text": [
      "statsmodels Población completa\n"
     ]
    },
    {
     "data": {
      "image/png": "[encoded data removed]",
      "text/plain": [
       "<Figure size 432x288 with 2 Axes>"
      ]
     },
     "metadata": {
      "needs_background": "light"
     },
     "output_type": "display_data"
    }
   ],
   "source": [
    "plot_confusion_matrix(test, result_column, predicted_2, title='statsmodels Población completa')"
   ]
  },
  {
   "cell_type": "code",
   "execution_count": 18,
   "metadata": {},
   "outputs": [
    {
     "name": "stdout",
     "output_type": "stream",
     "text": [
      "P(sigdz == 1) = 0.3256309693331923\n",
      "Se podría afirmar que sigdz == 0\n"
     ]
    }
   ],
   "source": [
    "import math\n",
    "\n",
    "def classify_with_regression(row, model):\n",
    "    betas = model.params.values\n",
    "    X = betas[0] + betas[1] * row[0] + betas[2] * row[1] + betas[3] * row[2]\n",
    "    exp_X = math.exp(X)\n",
    "    return exp_X / (1 + exp_X)\n",
    "\n",
    "fila = (60, 199, 2)\n",
    "proba = classify_with_regression(fila, statsmodel)\n",
    "print(f\"P(sigdz == 1) = {proba}\")\n",
    "print(f\"Se podría afirmar que sigdz == {0 if proba < 0.5 else 1}\")"
   ]
  },
  {
   "cell_type": "markdown",
   "metadata": {},
   "source": [
    "### Regresión Logística por género"
   ]
  },
  {
   "cell_type": "code",
   "execution_count": 19,
   "metadata": {},
   "outputs": [
    {
     "name": "stdout",
     "output_type": "stream",
     "text": [
      "Hombres: 1471\n",
      "Mujeres: 869\n"
     ]
    }
   ],
   "source": [
    "men = df[df.sex == 0]\n",
    "women = df[df.sex == 1]\n",
    "\n",
    "train_men, test_men = train_test_split(men, test_size=0.2)\n",
    "train_women, test_women = train_test_split(women, test_size=0.2)\n",
    "\n",
    "print(f'Hombres: {len(men)}\\nMujeres: {len(women)}')"
   ]
  },
  {
   "cell_type": "code",
   "execution_count": 20,
   "metadata": {},
   "outputs": [
    {
     "name": "stdout",
     "output_type": "stream",
     "text": [
      "Optimization terminated successfully.\n",
      "         Current function value: 0.567663\n",
      "         Iterations 6\n",
      "                           Logit Regression Results                           \n",
      "==============================================================================\n",
      "Dep. Variable:                  sigdz   No. Observations:                 1176\n",
      "Model:                          Logit   Df Residuals:                     1172\n",
      "Method:                           MLE   Df Model:                            3\n",
      "Date:                Tue, 22 Jun 2021   Pseudo R-squ.:                  0.1284\n",
      "Time:                        20:21:56   Log-Likelihood:                -667.57\n",
      "converged:                       True   LL-Null:                       -765.88\n",
      "Covariance Type:            nonrobust   LLR p-value:                 2.280e-42\n",
      "==============================================================================\n",
      "                 coef    std err          z      P>|z|      [0.025      0.975]\n",
      "------------------------------------------------------------------------------\n",
      "const         -6.4525      0.618    -10.438      0.000      -7.664      -5.241\n",
      "age            0.0849      0.008     10.852      0.000       0.070       0.100\n",
      "cad.dur        0.0004      0.001      0.307      0.759      -0.002       0.003\n",
      "choleste       0.0126      0.002      6.365      0.000       0.009       0.017\n",
      "==============================================================================\n",
      "Optimization terminated successfully.\n",
      "         Current function value: 0.525779\n",
      "         Iterations 6\n",
      "                           Logit Regression Results                           \n",
      "==============================================================================\n",
      "Dep. Variable:                  sigdz   No. Observations:                  695\n",
      "Model:                          Logit   Df Residuals:                      691\n",
      "Method:                           MLE   Df Model:                            3\n",
      "Date:                Tue, 22 Jun 2021   Pseudo R-squ.:                 0.09259\n",
      "Time:                        20:21:56   Log-Likelihood:                -365.42\n",
      "converged:                       True   LL-Null:                       -402.70\n",
      "Covariance Type:            nonrobust   LLR p-value:                 4.472e-16\n",
      "==============================================================================\n",
      "                 coef    std err          z      P>|z|      [0.025      0.975]\n",
      "------------------------------------------------------------------------------\n",
      "const         -6.7365      0.768     -8.768      0.000      -8.242      -5.231\n",
      "age            0.0744      0.011      6.762      0.000       0.053       0.096\n",
      "cad.dur       -0.0010      0.002     -0.630      0.529      -0.004       0.002\n",
      "choleste       0.0074      0.002      3.511      0.000       0.003       0.012\n",
      "==============================================================================\n"
     ]
    },
    {
     "data": {
      "image/png": "[encoded data removed]",
      "text/plain": [
       "<Figure size 1440x360 with 4 Axes>"
      ]
     },
     "metadata": {
      "needs_background": "light"
     },
     "output_type": "display_data"
    }
   ],
   "source": [
    "import matplotlib.pyplot as plt\n",
    "\n",
    "x1_men = sm.add_constant(train_men[numeric_columns])\n",
    "x1_women = sm.add_constant(train_women[numeric_columns])\n",
    "\n",
    "model_men_2 = train_statsmodels_model(train_men, x1_men, result_column)\n",
    "model_women_2 = train_statsmodels_model(train_women, x1_women, result_column)\n",
    "\n",
    "x2_men = sm.add_constant(test_men[numeric_columns])\n",
    "x2_women = sm.add_constant(test_women[numeric_columns])\n",
    "\n",
    "yhat_men = model_men_2.predict(x2_men)\n",
    "predicted_men_2 = list(map(round, yhat_men))\n",
    "yhat_women = model_women_2.predict(x2_women)\n",
    "predicted_women_2 = list(map(round, yhat_women))\n",
    "\n",
    "tests = [test_men, test_women]\n",
    "preds = [predicted_men_2, predicted_women_2]\n",
    "titles = ['Hombres', 'Mujeres']\n",
    "\n",
    "conf_mat_fig = plt.figure(figsize=(20,5))\n",
    "i = 1\n",
    "j = 2\n",
    "k = 1\n",
    "for test_specific, pred, title in zip(tests, preds, titles):\n",
    "    mat_ax = conf_mat_fig.add_subplot(i, j, k)\n",
    "    mat_ax.set_title(title)\n",
    "    plot_confusion_matrix(test_specific, result_column, pred, ax=mat_ax)\n",
    "    k += 1"
   ]
  },
  {
   "cell_type": "markdown",
   "metadata": {},
   "source": [
    "## Agrupamiento Jerárquico"
   ]
  },
  {
   "cell_type": "code",
   "execution_count": 21,
   "metadata": {},
   "outputs": [],
   "source": [
    "train_hc, test_hc = train_test_split(df, test_size=0.05)"
   ]
  },
  {
   "cell_type": "code",
   "execution_count": 22,
   "metadata": {},
   "outputs": [],
   "source": [
    "def normalize_df(data):\n",
    "    normalized_df = data.copy()\n",
    "    for column in numeric_columns:\n",
    "        column_min = min(normalized_df[column])\n",
    "        column_max = max(normalized_df[column])\n",
    "        #print(f\"{column_min} {column_max}\")\n",
    "        normalized_df[column] = normalized_df[column].apply(lambda x: (x - column_min) / (column_max - column_min))\n",
    "\n",
    "    #normalized_df.head()\n",
    "    \n",
    "    return normalized_df"
   ]
  },
  {
   "cell_type": "code",
   "execution_count": 23,
   "metadata": {},
   "outputs": [],
   "source": [
    "def get_distance_matrix(data):\n",
    "    distance_matrix = np.zeros((len(data), len(data)))\n",
    "    num_norm_df = data[numeric_columns]\n",
    "    for i in range(len(data)):\n",
    "        row_i = num_norm_df.iloc[i].to_numpy()\n",
    "        for j in range(len(data)):\n",
    "            if i >= j:\n",
    "                continue\n",
    "            row_j = num_norm_df.iloc[j].to_numpy()\n",
    "            dist = np.linalg.norm(row_i - row_j)\n",
    "            distance_matrix[i][j] = distance_matrix[j][i] = dist\n",
    "\n",
    "        #if i % 50 == 0:\n",
    "        #    print(f\"Processed {i} rows\")\n",
    "            \n",
    "    return distance_matrix"
   ]
  },
  {
   "cell_type": "code",
   "execution_count": 25,
   "metadata": {},
   "outputs": [],
   "source": [
    "# [Nivel, Grupos]\n",
    "# Grupos = [[p1, p2, p13], [p4], [p5, p9], ...] # array de sets\n",
    "\n",
    "np.set_printoptions(linewidth=120)\n",
    "\n",
    "def get_basic_distance_between_groups(group_1, group_2, distance_matrix, operation):\n",
    "    min_dist = None\n",
    "    for point_1_index in group_1:\n",
    "        for point_2_index in group_2:\n",
    "            dist = distance_matrix[point_1_index][point_2_index]\n",
    "            if min_dist is None or eval(f\"{dist} {operation} {min_dist}\"):\n",
    "                min_dist = dist\n",
    "    return min_dist\n",
    "\n",
    "def get_average_distance_between_groups(group_1, group_2, distance_matrix):\n",
    "    suma = 0\n",
    "    for point_1_index in group_1:\n",
    "        for point_2_index in group_2:\n",
    "            suma += distance_matrix[point_1_index][point_2_index]\n",
    "    return suma / (len(group_1) * len(group_2))\n",
    "\n",
    "def get_centroid_distance_between_groups(group_1_index, group_2_index, centroids):\n",
    "    return np.linalg.norm(centroids[group_1_index][\"centroid\"] - centroids[group_2_index][\"centroid\"])\n",
    "    \n",
    "def get_distance_between_groups(groups, group_1_index, group_2_index, mode, distance_matrix, centroids=None):\n",
    "    group_1 = groups[group_1_index]\n",
    "    group_2 = groups[group_2_index]\n",
    "    if mode == \"min\":\n",
    "        return get_basic_distance_between_groups(group_1, group_2, distance_matrix, \"<\")\n",
    "    elif mode == \"max\":\n",
    "        return get_basic_distance_between_groups(group_1, group_2, distance_matrix, \">\")\n",
    "    elif mode == \"avg\":\n",
    "        return get_average_distance_between_groups(group_1, group_2, distance_matrix)\n",
    "    elif mode == \"ctr\":\n",
    "        return get_centroid_distance_between_groups(group_1_index, group_2_index, centroids)\n",
    "    \n",
    "    raise Exception(\"Invalid distance mode\")\n",
    "\n",
    "def hierarchical_clustering(data, mode, cluster_count, distance_matrix):\n",
    "    levels = [[]]\n",
    "    for i in range(len(data)):\n",
    "        levels[0].append(set([i]))\n",
    "    \n",
    "    centroids = None # Array of centroid coordinates for each group\n",
    "    if mode == \"ctr\":\n",
    "        centroids = []\n",
    "        for i in range(len(data[numeric_columns])):\n",
    "            point = data[numeric_columns].iloc[i].to_numpy()\n",
    "            centroids.append({\"centroid\": point, \"points\": np.array([point])})\n",
    "    \n",
    "    current_level = 0\n",
    "    while len(levels[current_level]) > cluster_count:\n",
    "        current_groups = levels[current_level]\n",
    "        group_qty = len(levels[current_level])\n",
    "        \n",
    "        min_group_dist = None\n",
    "        groups_to_merge = (None, None) # Indices\n",
    "        \n",
    "        for i in range(group_qty):\n",
    "            for j in range(i + 1, group_qty):\n",
    "                group_dist = get_distance_between_groups(current_groups, i, j, mode, distance_matrix, centroids)\n",
    "                if (min_group_dist is None) or (group_dist < min_group_dist):\n",
    "                    groups_to_merge = (i, j)\n",
    "                    min_group_dist = group_dist\n",
    "\n",
    "        group_to_merge_1 = current_groups[groups_to_merge[0]]\n",
    "        group_to_merge_2 = current_groups[groups_to_merge[1]]\n",
    "        \n",
    "        levels.append(current_groups.copy())\n",
    "        new_group = set()\n",
    "        new_group.update(group_to_merge_2)\n",
    "        new_group.update(group_to_merge_1)\n",
    "        levels[current_level + 1].append(new_group)\n",
    "        levels[current_level + 1].pop(max(groups_to_merge))\n",
    "        levels[current_level + 1].pop(min(groups_to_merge))\n",
    "        \n",
    "        if centroids is not None: # Push new group's centroid based on previous 2 centroids\n",
    "            centroid_dict_1 = centroids.pop(max(groups_to_merge))\n",
    "            centroid_dict_2 = centroids.pop(min(groups_to_merge))\n",
    "            merged_points = np.concatenate((centroid_dict_1[\"points\"], centroid_dict_2[\"points\"]), axis=0)\n",
    "            new_centroid_dict = {\"centroid\": merged_points.mean(axis=0), \"points\": merged_points}\n",
    "            centroids.append(new_centroid_dict)\n",
    "\n",
    "        current_level += 1\n",
    "        \n",
    "        #if current_level % 25 == 0:\n",
    "        #    print(f\"Clusters merged: {current_level} - Distance between merged clusters was {min_group_dist}\")\n",
    "        \n",
    "    return levels"
   ]
  },
  {
   "cell_type": "code",
   "execution_count": 26,
   "metadata": {},
   "outputs": [],
   "source": [
    "from scipy import stats\n",
    "\n",
    "def classify_clusters(data, clusters):\n",
    "    if len(clusters) != 2:\n",
    "        raise Exception(\"Invalid argument\")\n",
    "        \n",
    "    cluster_1_rows = np.array(list(map(lambda x: data[result_column].iloc[x], clusters[0])))\n",
    "    cluster_1_mode = stats.mode(cluster_1_rows)[0][0]\n",
    "    cluster_2_rows = np.array(list(map(lambda x: data[result_column].iloc[x], clusters[1])))\n",
    "    cluster_2_mode = stats.mode(cluster_2_rows)[0][0]\n",
    "    \n",
    "    return (cluster_1_mode, cluster_2_mode)\n",
    "\n",
    "def get_clusters_centroids(train_data, clusters):\n",
    "    if len(clusters) != 2:\n",
    "        raise Exception(\"Invalid argument\")\n",
    "        \n",
    "    centroids = []\n",
    "    for cluster in clusters:\n",
    "        cluster_points = np.array(list(map(lambda x: train_data[numeric_columns].iloc[x], cluster)))\n",
    "        centroids.append(cluster_points.mean(axis=0))\n",
    "    \n",
    "    return centroids\n",
    "\n",
    "def classify_with_centroids(centroids, cluster_classes, test_row):\n",
    "    if len(centroids) != 2:\n",
    "        raise Exception(\"Invalid argument\")\n",
    "    \n",
    "    closest_centroid = None\n",
    "    for index, centroid in enumerate(centroids):\n",
    "        dist = np.linalg.norm(centroid - test_row.to_numpy())\n",
    "        if closest_centroid is None or dist < closest_centroid[1]:\n",
    "            closest_centroid = (index, dist)\n",
    "    \n",
    "    closest_centroid_class = cluster_classes[closest_centroid[0]]\n",
    "    \n",
    "    return closest_centroid_class"
   ]
  },
  {
   "cell_type": "markdown",
   "metadata": {},
   "source": [
    "### Utilizando la Mínima como medida de similitud entre grupos"
   ]
  },
  {
   "cell_type": "code",
   "execution_count": 31,
   "metadata": {},
   "outputs": [
    {
     "name": "stdout",
     "output_type": "stream",
     "text": [
      "[{11, 14}, {0, 1, 2, 3, 4, 5, 6, 7, 8, 9, 10, 12, 13, 15, 16, 17, 18, 19, 20, 21, 22}]\n",
      "(0, 1)\n"
     ]
    }
   ],
   "source": [
    "max_iter = 1000\n",
    "iters = 0\n",
    "clusters_min_dist = None\n",
    "min_cluster_classes = None\n",
    "# len(clusters_min_dist[-1][0]) < 5 or len(clusters_min_dist[-1][1]) < 5 or \n",
    "while clusters_min_dist is None or min_cluster_classes is None or (min_cluster_classes[0] == min_cluster_classes[1]) and iters < max_iter:\n",
    "    train_hc, test_hc = train_test_split(df, train_size=0.01, test_size=0.5)\n",
    "    normalized_train_df = normalize_df(train_hc)\n",
    "    distance_matrix = get_distance_matrix(normalized_train_df)\n",
    "    clusters_min_dist = hierarchical_clustering(normalized_train_df, \"min\", 2, distance_matrix)\n",
    "    min_cluster_classes = classify_clusters(train_hc, clusters_min_dist[-1])\n",
    "    iters += 1\n",
    "print(clusters_min_dist[-1])\n",
    "print(min_cluster_classes)"
   ]
  },
  {
   "cell_type": "code",
   "execution_count": 54,
   "metadata": {},
   "outputs": [
    {
     "data": {
      "text/plain": [
       "<AxesSubplot:>"
      ]
     },
     "execution_count": 54,
     "metadata": {},
     "output_type": "execute_result"
    },
    {
     "data": {
      "image/png": "[encoded data removed]",
      "text/plain": [
       "<Figure size 432x288 with 2 Axes>"
      ]
     },
     "metadata": {
      "needs_background": "light"
     },
     "output_type": "display_data"
    }
   ],
   "source": [
    "normalized_test_df = normalize_df(test_hc)\n",
    "clusters_centroids = get_clusters_centroids(normalized_train_df, clusters_min_dist[-1])\n",
    "\n",
    "# Armado de matriz de confusión (filas: valores reales; columnas: valores predictivos)\n",
    "confusion_matrix = { 0: {}, 1: {} }\n",
    "columns = []\n",
    "for key in confusion_matrix.keys():\n",
    "    columns.append(key)\n",
    "    confusion_matrix[key] = { 0: 0, 1: 0 }\n",
    "\n",
    "for _, test_row in normalized_test_df.iterrows():\n",
    "    real_class = test_row[result_column]\n",
    "    predicted_class = classify_with_centroids(clusters_centroids, min_cluster_classes, test_row[numeric_columns])\n",
    "    confusion_matrix[real_class][predicted_class] += 1\n",
    "\n",
    "confusion_df = { key : list(confusion_matrix[key].values()) for key in confusion_matrix.keys() }\n",
    "confusion_df = pd.DataFrame.from_dict(confusion_df, orient='index', columns=columns)\n",
    "\n",
    "sns.heatmap(confusion_df, annot=True, cmap='Blues', fmt='g', vmin=0)"
   ]
  },
  {
   "cell_type": "markdown",
   "metadata": {},
   "source": [
    "### Utilizando la Máxima como medida de similitud entre grupos"
   ]
  },
  {
   "cell_type": "code",
   "execution_count": 33,
   "metadata": {},
   "outputs": [
    {
     "name": "stdout",
     "output_type": "stream",
     "text": [
      "[{1, 18, 19, 5, 9, 12}, {0, 2, 3, 4, 6, 7, 8, 10, 11, 13, 14, 15, 16, 17, 20, 21, 22}]\n"
     ]
    }
   ],
   "source": [
    "clusters_max_dist = hierarchical_clustering(normalized_train_df, \"max\", 2, distance_matrix)\n",
    "print(clusters_max_dist[-1])"
   ]
  },
  {
   "cell_type": "code",
   "execution_count": 34,
   "metadata": {},
   "outputs": [
    {
     "name": "stdout",
     "output_type": "stream",
     "text": [
      "(0, 1)\n"
     ]
    }
   ],
   "source": [
    "max_cluster_classes = classify_clusters(test_hc, clusters_max_dist[-1])\n",
    "print(max_cluster_classes)"
   ]
  },
  {
   "cell_type": "code",
   "execution_count": 55,
   "metadata": {},
   "outputs": [
    {
     "data": {
      "text/plain": [
       "<AxesSubplot:>"
      ]
     },
     "execution_count": 55,
     "metadata": {},
     "output_type": "execute_result"
    },
    {
     "data": {
      "image/png": "[encoded data removed]",
      "text/plain": [
       "<Figure size 432x288 with 2 Axes>"
      ]
     },
     "metadata": {
      "needs_background": "light"
     },
     "output_type": "display_data"
    }
   ],
   "source": [
    "# Armado de matriz de confusión (filas: valores reales; columnas: valores predictivos)\n",
    "confusion_matrix = { 0: {}, 1: {} }\n",
    "columns = []\n",
    "for key in confusion_matrix.keys():\n",
    "    columns.append(key)\n",
    "    confusion_matrix[key] = { 0: 0, 1: 0 }\n",
    "\n",
    "for _, test_row in normalized_test_df.iterrows():\n",
    "    real_class = test_row[result_column]\n",
    "    predicted_class = classify_with_centroids(clusters_centroids, max_cluster_classes, test_row[numeric_columns])\n",
    "    confusion_matrix[real_class][predicted_class] += 1\n",
    "\n",
    "confusion_df = { key : list(confusion_matrix[key].values()) for key in confusion_matrix.keys() }\n",
    "confusion_df = pd.DataFrame.from_dict(confusion_df, orient='index', columns=columns)\n",
    "\n",
    "sns.heatmap(confusion_df, annot=True, cmap='Blues', fmt='g', vmin=0)"
   ]
  },
  {
   "cell_type": "markdown",
   "metadata": {},
   "source": [
    "### Utilizando el Promedio como medida de similitud entre grupos"
   ]
  },
  {
   "cell_type": "code",
   "execution_count": 36,
   "metadata": {},
   "outputs": [
    {
     "name": "stdout",
     "output_type": "stream",
     "text": [
      "[{11, 14}, {0, 1, 2, 3, 4, 5, 6, 7, 8, 9, 10, 12, 13, 15, 16, 17, 18, 19, 20, 21, 22}]\n"
     ]
    }
   ],
   "source": [
    "clusters_avg_dist = hierarchical_clustering(normalized_train_df, \"avg\", 2, distance_matrix)\n",
    "print(clusters_avg_dist[-1])"
   ]
  },
  {
   "cell_type": "code",
   "execution_count": 37,
   "metadata": {},
   "outputs": [
    {
     "name": "stdout",
     "output_type": "stream",
     "text": [
      "(0, 1)\n"
     ]
    }
   ],
   "source": [
    "avg_cluster_classes = classify_clusters(test_hc, clusters_avg_dist[-1])\n",
    "print(avg_cluster_classes)"
   ]
  },
  {
   "cell_type": "code",
   "execution_count": 56,
   "metadata": {},
   "outputs": [
    {
     "data": {
      "text/plain": [
       "<AxesSubplot:>"
      ]
     },
     "execution_count": 56,
     "metadata": {},
     "output_type": "execute_result"
    },
    {
     "data": {
      "image/png": "[encoded data removed]",
      "text/plain": [
       "<Figure size 432x288 with 2 Axes>"
      ]
     },
     "metadata": {
      "needs_background": "light"
     },
     "output_type": "display_data"
    }
   ],
   "source": [
    "# Armado de matriz de confusión (filas: valores reales; columnas: valores predictivos)\n",
    "confusion_matrix = { 0: {}, 1: {} }\n",
    "columns = []\n",
    "for key in confusion_matrix.keys():\n",
    "    columns.append(key)\n",
    "    confusion_matrix[key] = { 0: 0, 1: 0 }\n",
    "\n",
    "for _, test_row in normalized_test_df.iterrows():\n",
    "    real_class = test_row[result_column]\n",
    "    predicted_class = classify_with_centroids(clusters_centroids, avg_cluster_classes, test_row[numeric_columns])\n",
    "    confusion_matrix[real_class][predicted_class] += 1\n",
    "\n",
    "confusion_df = { key : list(confusion_matrix[key].values()) for key in confusion_matrix.keys() }\n",
    "confusion_df = pd.DataFrame.from_dict(confusion_df, orient='index', columns=columns)\n",
    "\n",
    "sns.heatmap(confusion_df, annot=True, cmap='Blues', fmt='g', vmin=0)"
   ]
  },
  {
   "cell_type": "markdown",
   "metadata": {},
   "source": [
    "### Utilizando el Centroide como medida de similitud entre grupos"
   ]
  },
  {
   "cell_type": "code",
   "execution_count": 40,
   "metadata": {},
   "outputs": [
    {
     "name": "stdout",
     "output_type": "stream",
     "text": [
      "[{11, 14}, {0, 1, 2, 3, 4, 5, 6, 7, 8, 9, 10, 12, 13, 15, 16, 17, 18, 19, 20, 21, 22}]\n"
     ]
    }
   ],
   "source": [
    "clusters_ctr_dist = hierarchical_clustering(normalized_train_df, \"ctr\", 2, distance_matrix)\n",
    "print(clusters_ctr_dist[-1])"
   ]
  },
  {
   "cell_type": "code",
   "execution_count": 41,
   "metadata": {},
   "outputs": [
    {
     "name": "stdout",
     "output_type": "stream",
     "text": [
      "(0, 1)\n"
     ]
    }
   ],
   "source": [
    "ctr_cluster_classes = classify_clusters(test_hc, clusters_ctr_dist[-1])\n",
    "print(ctr_cluster_classes)"
   ]
  },
  {
   "cell_type": "code",
   "execution_count": 57,
   "metadata": {},
   "outputs": [
    {
     "data": {
      "text/plain": [
       "<AxesSubplot:>"
      ]
     },
     "execution_count": 57,
     "metadata": {},
     "output_type": "execute_result"
    },
    {
     "data": {
      "image/png": "[encoded data removed]",
      "text/plain": [
       "<Figure size 432x288 with 2 Axes>"
      ]
     },
     "metadata": {
      "needs_background": "light"
     },
     "output_type": "display_data"
    }
   ],
   "source": [
    "# Armado de matriz de confusión (filas: valores reales; columnas: valores predictivos)\n",
    "confusion_matrix = { 0: {}, 1: {} }\n",
    "columns = []\n",
    "for key in confusion_matrix.keys():\n",
    "    columns.append(key)\n",
    "    confusion_matrix[key] = { 0: 0, 1: 0 }\n",
    "\n",
    "for _, test_row in normalized_test_df.iterrows():\n",
    "    real_class = test_row[result_column]\n",
    "    predicted_class = classify_with_centroids(clusters_centroids, ctr_cluster_classes, test_row[numeric_columns])\n",
    "    confusion_matrix[real_class][predicted_class] += 1\n",
    "\n",
    "confusion_df = { key : list(confusion_matrix[key].values()) for key in confusion_matrix.keys() }\n",
    "confusion_df = pd.DataFrame.from_dict(confusion_df, orient='index', columns=columns)\n",
    "\n",
    "sns.heatmap(confusion_df, annot=True, cmap='Blues', fmt='g', vmin=0)"
   ]
  },
  {
   "cell_type": "markdown",
   "metadata": {},
   "source": [
    "## K-medias"
   ]
  },
  {
   "cell_type": "code",
   "execution_count": 52,
   "metadata": {},
   "outputs": [],
   "source": [
    "rng = np.random.default_rng()\n",
    "\n",
    "# Update centroids based on points in the cluster\n",
    "def update_centroids(data, classes):\n",
    "    for clase in classes.values():\n",
    "        if clase[\"changed\"]:\n",
    "            clase[\"centroid\"] = np.array(list(map(lambda x: data.iloc[x], clase[\"indices\"]))).mean(axis=0)\n",
    "            clase[\"changed\"] = False\n",
    "\n",
    "def K_means(data, K=2):\n",
    "    classes = {i: {\"indices\": set(), \"centroid\": np.zeros(len(numeric_columns)), \"changed\": True} for i in range(1, K+1)}\n",
    "    \n",
    "    # Set random clusters for every data point\n",
    "    random_classes = rng.integers(1, K+1, size=len(data))\n",
    "    for index, point_class in enumerate(random_classes):\n",
    "        classes[point_class][\"indices\"].add(index)\n",
    "    \n",
    "    # Iterate until no changes are made in cluster\n",
    "    while any(map(lambda x: x[\"changed\"], classes.values())):\n",
    "        update_centroids(data, classes)\n",
    "\n",
    "        changes = []\n",
    "        for clase, clase_value in classes.items():\n",
    "            for point_index in clase_value[\"indices\"]:\n",
    "                point = data.iloc[point_index]\n",
    "                \n",
    "                # Get closest cluster based on distance to cluster centroids\n",
    "                closest_class = (clase, np.linalg.norm(point - clase_value[\"centroid\"]))\n",
    "                for other_class, other_class_value in classes.items():\n",
    "                    if clase == other_class:\n",
    "                        continue\n",
    "\n",
    "                    other_centroid = other_class_value[\"centroid\"]\n",
    "                    other_centroid_dist = np.linalg.norm(point - other_centroid)\n",
    "\n",
    "                    if other_centroid_dist < closest_class[1]:\n",
    "                        closest_class = (other_class, other_centroid_dist)\n",
    "\n",
    "                if closest_class[0] != clase:\n",
    "                    # Record belongs to another cluster, save for later update\n",
    "                    changes.append({\"old_cluster\": clase, \"new_cluster\": closest_class[0], \"point_index\": point_index})\n",
    "\n",
    "        # Update clusters\n",
    "        for change in changes:\n",
    "            old_cluster = classes[change[\"old_cluster\"]]\n",
    "            new_cluster = classes[change[\"new_cluster\"]]\n",
    "            old_cluster[\"indices\"].remove(change[\"point_index\"])\n",
    "            new_cluster[\"indices\"].add(change[\"point_index\"])\n",
    "            old_cluster[\"changed\"] = new_cluster[\"changed\"] = True\n",
    "            \n",
    "        print(f\"Cluster changes processed: {len(changes)}\")\n",
    "\n",
    "    return classes\n",
    "\n",
    "def classify_K_means(data, clusters):\n",
    "    modes = []\n",
    "    for cluster in clusters.values():\n",
    "        cluster_rows = np.array(list(map(lambda x: data[result_column].iloc[x], cluster[\"indices\"])))\n",
    "        cluster_mode = stats.mode(cluster_rows)[0][0]\n",
    "        modes.append(cluster_mode)\n",
    "        \n",
    "    return modes\n",
    "\n",
    "def get_W(data, cluster):\n",
    "    W = 0\n",
    "    cluster_indices = list(cluster[\"indices\"])\n",
    "    for i in range(len(cluster_indices)):\n",
    "        point_1 = data.iloc[cluster_indices[i]]\n",
    "        for j in range(i+1, len(cluster_indices)):\n",
    "            point_2 = data.iloc[cluster_indices[j]]\n",
    "            W += sum(map(lambda x: (x[0] - x[1])**2, zip(point_1, point_2)))\n",
    "    return W / len(cluster_indices)\n",
    "\n",
    "def K_means_best(data, iterations=10, K=2):\n",
    "    min_W_sum = None\n",
    "    for i in range(iterations):\n",
    "        sample, test = train_test_split(data, test_size=0.3)\n",
    "        K_means_clusters = K_means(sample, K)\n",
    "        W_sum = 0\n",
    "        \n",
    "        # Calculate the sum of W of each cluster\n",
    "        for current_K in range(1, K+1):\n",
    "            W_sum += get_W(sample, K_means_clusters[current_K])\n",
    "        \n",
    "        # Get the best clusters based on minimum W sum\n",
    "        if min_W_sum is None or W_sum < min_W_sum[1]:\n",
    "            min_W_sum = (K_means_clusters, W_sum, sample, test)\n",
    "            \n",
    "        print(f\"Finished iteration {i+1} - W sum: {W_sum}\")\n",
    "            \n",
    "    return min_W_sum\n",
    "\n",
    "def classify_K_means_best(data, sample, clusters):\n",
    "    modes = []\n",
    "    for cluster in clusters.values():\n",
    "        # sample:\n",
    "        # index | cad.dur   | age | ...\n",
    "        # 1774  | 0.6       | 0.6 | ...\n",
    "        # 3297  | 0.4       | 0.5 | ...\n",
    "        #\n",
    "        # data:\n",
    "        # index | sex | cad.dur | ... | sigdz\n",
    "        # 1774  | 1   | 0.6     | ... | 0\n",
    "        # 3297  | 0.4 | 0.5    | ...  | 1\n",
    "        #\n",
    "        # Based on index in sample (1774), look for result column (sigdz) in entire data set - subsample does not have column sigdz and has less rows\n",
    "        cluster_rows = np.array(list(map(lambda x: data[result_column].loc[sample.index[x]], cluster[\"indices\"])))\n",
    "        cluster_mode = stats.mode(cluster_rows)[0][0]\n",
    "        modes.append(cluster_mode)\n",
    "        \n",
    "    return modes"
   ]
  },
  {
   "cell_type": "code",
   "execution_count": 44,
   "metadata": {},
   "outputs": [],
   "source": [
    "# Use balanced dataset, without dividing into training and testing\n",
    "complete_normalized_df = df.copy()\n",
    "for column in numeric_columns:\n",
    "    column_min = min(complete_normalized_df[column])\n",
    "    column_max = max(complete_normalized_df[column])\n",
    "    complete_normalized_df[column] = complete_normalized_df[column].apply(lambda x: (x - column_min) / (column_max - column_min))\n",
    "\n",
    "complete_numeric_norm_df = complete_normalized_df[numeric_columns]"
   ]
  },
  {
   "cell_type": "code",
   "execution_count": 46,
   "metadata": {},
   "outputs": [
    {
     "data": {
      "text/html": [
       "<div>\n",
       "<style scoped>\n",
       "    .dataframe tbody tr th:only-of-type {\n",
       "        vertical-align: middle;\n",
       "    }\n",
       "\n",
       "    .dataframe tbody tr th {\n",
       "        vertical-align: top;\n",
       "    }\n",
       "\n",
       "    .dataframe thead th {\n",
       "        text-align: right;\n",
       "    }\n",
       "</style>\n",
       "<table border=\"1\" class=\"dataframe\">\n",
       "  <thead>\n",
       "    <tr style=\"text-align: right;\">\n",
       "      <th></th>\n",
       "      <th>sex</th>\n",
       "      <th>age</th>\n",
       "      <th>cad.dur</th>\n",
       "      <th>choleste</th>\n",
       "      <th>sigdz</th>\n",
       "      <th>tvdlm</th>\n",
       "    </tr>\n",
       "  </thead>\n",
       "  <tbody>\n",
       "    <tr>\n",
       "      <th>3</th>\n",
       "      <td>1</td>\n",
       "      <td>0.640625</td>\n",
       "      <td>0.212871</td>\n",
       "      <td>0.340637</td>\n",
       "      <td>0</td>\n",
       "      <td>0.0</td>\n",
       "    </tr>\n",
       "    <tr>\n",
       "      <th>4</th>\n",
       "      <td>1</td>\n",
       "      <td>0.609375</td>\n",
       "      <td>0.017327</td>\n",
       "      <td>0.388446</td>\n",
       "      <td>0</td>\n",
       "      <td>0.0</td>\n",
       "    </tr>\n",
       "    <tr>\n",
       "      <th>11</th>\n",
       "      <td>0</td>\n",
       "      <td>0.281250</td>\n",
       "      <td>0.108911</td>\n",
       "      <td>0.364542</td>\n",
       "      <td>0</td>\n",
       "      <td>0.0</td>\n",
       "    </tr>\n",
       "    <tr>\n",
       "      <th>12</th>\n",
       "      <td>1</td>\n",
       "      <td>0.812500</td>\n",
       "      <td>0.024752</td>\n",
       "      <td>0.304781</td>\n",
       "      <td>0</td>\n",
       "      <td>0.0</td>\n",
       "    </tr>\n",
       "    <tr>\n",
       "      <th>20</th>\n",
       "      <td>1</td>\n",
       "      <td>0.546875</td>\n",
       "      <td>0.074257</td>\n",
       "      <td>0.330677</td>\n",
       "      <td>0</td>\n",
       "      <td>0.0</td>\n",
       "    </tr>\n",
       "  </tbody>\n",
       "</table>\n",
       "</div>"
      ],
      "text/plain": [
       "    sex       age   cad.dur  choleste  sigdz  tvdlm\n",
       "3     1  0.640625  0.212871  0.340637      0    0.0\n",
       "4     1  0.609375  0.017327  0.388446      0    0.0\n",
       "11    0  0.281250  0.108911  0.364542      0    0.0\n",
       "12    1  0.812500  0.024752  0.304781      0    0.0\n",
       "20    1  0.546875  0.074257  0.330677      0    0.0"
      ]
     },
     "execution_count": 46,
     "metadata": {},
     "output_type": "execute_result"
    }
   ],
   "source": [
    "complete_normalized_df.head()"
   ]
  },
  {
   "cell_type": "code",
   "execution_count": 47,
   "metadata": {},
   "outputs": [
    {
     "name": "stdout",
     "output_type": "stream",
     "text": [
      "Cluster changes processed: 1161\n",
      "Cluster changes processed: 261\n",
      "Cluster changes processed: 131\n",
      "Cluster changes processed: 58\n",
      "Cluster changes processed: 58\n",
      "Cluster changes processed: 75\n",
      "Cluster changes processed: 68\n",
      "Cluster changes processed: 69\n",
      "Cluster changes processed: 48\n",
      "Cluster changes processed: 40\n",
      "Cluster changes processed: 33\n",
      "Cluster changes processed: 40\n",
      "Cluster changes processed: 24\n",
      "Cluster changes processed: 16\n",
      "Cluster changes processed: 18\n",
      "Cluster changes processed: 13\n",
      "Cluster changes processed: 12\n",
      "Cluster changes processed: 9\n",
      "Cluster changes processed: 6\n",
      "Cluster changes processed: 4\n",
      "Cluster changes processed: 7\n",
      "Cluster changes processed: 2\n",
      "Cluster changes processed: 0\n"
     ]
    }
   ],
   "source": [
    "K_means_clusters = K_means(complete_numeric_norm_df, 2)"
   ]
  },
  {
   "cell_type": "code",
   "execution_count": 48,
   "metadata": {},
   "outputs": [
    {
     "data": {
      "text/plain": [
       "[0, 1]"
      ]
     },
     "execution_count": 48,
     "metadata": {},
     "output_type": "execute_result"
    }
   ],
   "source": [
    "classify_K_means(complete_normalized_df, K_means_clusters)"
   ]
  },
  {
   "cell_type": "code",
   "execution_count": 50,
   "metadata": {},
   "outputs": [
    {
     "data": {
      "text/plain": [
       "25.38733341742344"
      ]
     },
     "execution_count": 50,
     "metadata": {},
     "output_type": "execute_result"
    }
   ],
   "source": [
    "get_W(complete_numeric_norm_df, K_means_clusters[1])"
   ]
  },
  {
   "cell_type": "code",
   "execution_count": 51,
   "metadata": {},
   "outputs": [
    {
     "data": {
      "text/plain": [
       "49.852593692117885"
      ]
     },
     "execution_count": 51,
     "metadata": {},
     "output_type": "execute_result"
    }
   ],
   "source": [
    "get_W(complete_numeric_norm_df, K_means_clusters[2])"
   ]
  },
  {
   "cell_type": "markdown",
   "metadata": {},
   "source": [
    "Run K-means algorithm multiple times and keep the data that gives the minimum W(C_k) sum"
   ]
  },
  {
   "cell_type": "code",
   "execution_count": 70,
   "metadata": {},
   "outputs": [
    {
     "name": "stdout",
     "output_type": "stream",
     "text": [
      "Cluster changes processed: 812\n",
      "Cluster changes processed: 78\n",
      "Cluster changes processed: 33\n",
      "Cluster changes processed: 17\n",
      "Cluster changes processed: 9\n",
      "Cluster changes processed: 7\n",
      "Cluster changes processed: 10\n",
      "Cluster changes processed: 7\n",
      "Cluster changes processed: 5\n",
      "Cluster changes processed: 3\n",
      "Cluster changes processed: 1\n",
      "Cluster changes processed: 1\n",
      "Cluster changes processed: 0\n",
      "Finished iteration 1 - W sum: 51.98275002585898\n",
      "Cluster changes processed: 810\n",
      "Cluster changes processed: 165\n",
      "Cluster changes processed: 43\n",
      "Cluster changes processed: 12\n",
      "Cluster changes processed: 5\n",
      "Cluster changes processed: 3\n",
      "Cluster changes processed: 3\n",
      "Cluster changes processed: 1\n",
      "Cluster changes processed: 1\n",
      "Cluster changes processed: 1\n",
      "Cluster changes processed: 0\n",
      "Finished iteration 2 - W sum: 53.0193345589859\n",
      "Cluster changes processed: 826\n",
      "Cluster changes processed: 165\n",
      "Cluster changes processed: 116\n",
      "Cluster changes processed: 76\n",
      "Cluster changes processed: 41\n",
      "Cluster changes processed: 17\n",
      "Cluster changes processed: 6\n",
      "Cluster changes processed: 1\n",
      "Cluster changes processed: 2\n",
      "Cluster changes processed: 3\n",
      "Cluster changes processed: 2\n",
      "Cluster changes processed: 2\n",
      "Cluster changes processed: 4\n",
      "Cluster changes processed: 2\n",
      "Cluster changes processed: 2\n",
      "Cluster changes processed: 0\n",
      "Finished iteration 3 - W sum: 53.49051631649766\n",
      "Cluster changes processed: 793\n",
      "Cluster changes processed: 91\n",
      "Cluster changes processed: 87\n",
      "Cluster changes processed: 115\n",
      "Cluster changes processed: 106\n",
      "Cluster changes processed: 49\n",
      "Cluster changes processed: 26\n",
      "Cluster changes processed: 30\n",
      "Cluster changes processed: 44\n",
      "Cluster changes processed: 51\n",
      "Cluster changes processed: 55\n",
      "Cluster changes processed: 57\n",
      "Cluster changes processed: 47\n",
      "Cluster changes processed: 39\n",
      "Cluster changes processed: 37\n",
      "Cluster changes processed: 33\n",
      "Cluster changes processed: 25\n",
      "Cluster changes processed: 13\n",
      "Cluster changes processed: 7\n",
      "Cluster changes processed: 7\n",
      "Cluster changes processed: 4\n",
      "Cluster changes processed: 3\n",
      "Cluster changes processed: 1\n",
      "Cluster changes processed: 0\n",
      "Finished iteration 4 - W sum: 49.61258730910228\n",
      "Cluster changes processed: 818\n",
      "Cluster changes processed: 174\n",
      "Cluster changes processed: 47\n",
      "Cluster changes processed: 28\n",
      "Cluster changes processed: 15\n",
      "Cluster changes processed: 7\n",
      "Cluster changes processed: 4\n",
      "Cluster changes processed: 0\n",
      "Finished iteration 5 - W sum: 52.732290388945515\n",
      "Cluster changes processed: 824\n",
      "Cluster changes processed: 101\n",
      "Cluster changes processed: 40\n",
      "Cluster changes processed: 12\n",
      "Cluster changes processed: 11\n",
      "Cluster changes processed: 7\n",
      "Cluster changes processed: 8\n",
      "Cluster changes processed: 5\n",
      "Cluster changes processed: 6\n",
      "Cluster changes processed: 2\n",
      "Cluster changes processed: 0\n",
      "Finished iteration 6 - W sum: 53.612228399133755\n",
      "Cluster changes processed: 816\n",
      "Cluster changes processed: 112\n",
      "Cluster changes processed: 40\n",
      "Cluster changes processed: 19\n",
      "Cluster changes processed: 16\n",
      "Cluster changes processed: 17\n",
      "Cluster changes processed: 8\n",
      "Cluster changes processed: 9\n",
      "Cluster changes processed: 5\n",
      "Cluster changes processed: 6\n",
      "Cluster changes processed: 5\n",
      "Cluster changes processed: 3\n",
      "Cluster changes processed: 1\n",
      "Cluster changes processed: 1\n",
      "Cluster changes processed: 0\n",
      "Finished iteration 7 - W sum: 53.055214251255265\n",
      "Cluster changes processed: 763\n",
      "Cluster changes processed: 112\n",
      "Cluster changes processed: 21\n",
      "Cluster changes processed: 4\n",
      "Cluster changes processed: 4\n",
      "Cluster changes processed: 1\n",
      "Cluster changes processed: 0\n",
      "Finished iteration 8 - W sum: 51.75484544123231\n",
      "Cluster changes processed: 771\n",
      "Cluster changes processed: 107\n",
      "Cluster changes processed: 33\n",
      "Cluster changes processed: 23\n",
      "Cluster changes processed: 7\n",
      "Cluster changes processed: 5\n",
      "Cluster changes processed: 6\n",
      "Cluster changes processed: 7\n",
      "Cluster changes processed: 1\n",
      "Cluster changes processed: 0\n",
      "Finished iteration 9 - W sum: 53.05256497384456\n",
      "Cluster changes processed: 801\n",
      "Cluster changes processed: 363\n",
      "Cluster changes processed: 204\n",
      "Cluster changes processed: 105\n",
      "Cluster changes processed: 48\n",
      "Cluster changes processed: 16\n",
      "Cluster changes processed: 13\n",
      "Cluster changes processed: 6\n",
      "Cluster changes processed: 4\n",
      "Cluster changes processed: 3\n",
      "Cluster changes processed: 2\n",
      "Cluster changes processed: 3\n",
      "Cluster changes processed: 0\n",
      "Finished iteration 10 - W sum: 51.59992645787175\n"
     ]
    }
   ],
   "source": [
    "K_means_best_clusters, min_W_sum, K_means_best_sample, K_means_best_test = K_means_best(complete_numeric_norm_df, 10, 2)"
   ]
  },
  {
   "cell_type": "code",
   "execution_count": 71,
   "metadata": {},
   "outputs": [],
   "source": [
    "K_means_best_classes = classify_K_means_best(complete_normalized_df, K_means_best_sample, K_means_best_clusters)"
   ]
  },
  {
   "cell_type": "code",
   "execution_count": 72,
   "metadata": {},
   "outputs": [
    {
     "data": {
      "text/plain": [
       "[0, 1]"
      ]
     },
     "execution_count": 72,
     "metadata": {},
     "output_type": "execute_result"
    }
   ],
   "source": [
    "K_means_best_classes"
   ]
  },
  {
   "cell_type": "code",
   "execution_count": 73,
   "metadata": {},
   "outputs": [
    {
     "name": "stdout",
     "output_type": "stream",
     "text": [
      "[array([0.42104143, 0.04737247, 0.30186858]), array([0.65905713, 0.15083969, 0.30838074])]\n"
     ]
    }
   ],
   "source": [
    "k_means_clusters_centroids = list(map(lambda x: x[\"centroid\"], K_means_best_clusters.values()))\n",
    "print(k_means_clusters_centroids)"
   ]
  },
  {
   "cell_type": "code",
   "execution_count": 74,
   "metadata": {},
   "outputs": [
    {
     "data": {
      "text/plain": [
       "<AxesSubplot:>"
      ]
     },
     "execution_count": 74,
     "metadata": {},
     "output_type": "execute_result"
    },
    {
     "data": {
      "image/png": "[encoded data removed]",
      "text/plain": [
       "<Figure size 432x288 with 2 Axes>"
      ]
     },
     "metadata": {
      "needs_background": "light"
     },
     "output_type": "display_data"
    }
   ],
   "source": [
    "# Armado de matriz de confusión (filas: valores reales; columnas: valores predictivos)\n",
    "confusion_matrix = { 0: {}, 1: {} }\n",
    "columns = []\n",
    "for key in confusion_matrix.keys():\n",
    "    columns.append(key)\n",
    "    confusion_matrix[key] = { 0: 0, 1: 0 }\n",
    "\n",
    "for idx, test_row in K_means_best_test.iterrows():\n",
    "    real_class = complete_normalized_df[result_column].loc[idx]\n",
    "    predicted_class = classify_with_centroids(k_means_clusters_centroids, K_means_best_classes, test_row[numeric_columns])\n",
    "    confusion_matrix[real_class][predicted_class] += 1\n",
    "\n",
    "confusion_df = { key : list(confusion_matrix[key].values()) for key in confusion_matrix.keys() }\n",
    "confusion_df = pd.DataFrame.from_dict(confusion_df, orient='index', columns=columns)\n",
    "\n",
    "sns.heatmap(confusion_df, annot=True, cmap='Blues', fmt='g', vmin=0)"
   ]
  },
  {
   "cell_type": "markdown",
   "metadata": {},
   "source": [
    "### Redes de Kohonen"
   ]
  },
  {
   "cell_type": "code",
   "execution_count": 75,
   "metadata": {},
   "outputs": [],
   "source": [
    "import numpy as np\n",
    "\n",
    "def update_R(epoch, max_epochs, initial_R):\n",
    "    return (max_epochs - epoch) * initial_R / max_epochs\n",
    "\n",
    "# Usamos la distancia euclidea como medida de similitud para saber cual es la neurona ganadora\n",
    "def euclidean_distance(w, xp):\n",
    "    return np.linalg.norm(w - xp)\n",
    "\n",
    "# Actualizacion de los pesos para la neurona ganadora para el ejemplo de entrenamiento\n",
    "def update_w_winning_neuron(w, n, xp):\n",
    "    delta_w = n * (xp - w)\n",
    "    return w + delta_w\n",
    "\n",
    "# Actualizacion de pesos para una neurona que esta en el vecindario de la neurona ganadora\n",
    "def update_w_neighbour(w, n, xp, d, R):\n",
    "    V = math.exp(-2 * d / R)\n",
    "    delta_w = V * n * (xp - w)\n",
    "    return w + delta_w\n",
    "    \n",
    "def update_learning_factor(epoch, max_epochs):\n",
    "    return 0.1 * (1 - (epoch / max_epochs))\n",
    "\n",
    "def update_neighbours(matrix, coords, R, k, n, xp):\n",
    "    for i in range(k):\n",
    "        for j in range(k):\n",
    "            dist = np.linalg.norm(np.array([i, j]) - np.array([coords[0], coords[1]]))\n",
    "            if (dist <= R):\n",
    "                V = math.exp(-2 * dist / R)\n",
    "                delta_w = V * n * (xp - matrix[i][j])\n",
    "                matrix[i][j] += delta_w\n",
    "    \n",
    "            \n",
    "            \n",
    "def get_winning_neuron(matrix, xp, k):\n",
    "    min_dist = None\n",
    "    min_coords = None\n",
    "    for i in range(k):\n",
    "        for j in range(k):\n",
    "            dist = euclidean_distance(matrix[i][j], xp)\n",
    "            if min_dist is None or dist < min_dist:\n",
    "                min_dist = dist\n",
    "                min_coords = (i, j)\n",
    "    return min_coords"
   ]
  },
  {
   "cell_type": "code",
   "execution_count": 78,
   "metadata": {},
   "outputs": [],
   "source": [
    "# Crear una matriz de [K x K] para la capa de salida\n",
    "# en cada posicion i,j hay un vector w con n pesos (dim de la cantidad de atributos\n",
    "# de un ejemplo del dataset)\n",
    "\n",
    "def train_kohonen(data, k=20, max_epochs=500):\n",
    "    R = k\n",
    "    epoch = 0\n",
    "    n = 0.1\n",
    "    # Inicializar los pesos con ~ U(-1, 1)\n",
    "    matrix = [[rng.uniform(1, -1, len(numeric_columns)) for x in range(k)] for y in range(k)]\n",
    "    \n",
    "    while epoch < max_epochs:\n",
    "        \n",
    "        for index, row in data.iterrows():\n",
    "            xp = row.to_numpy()\n",
    "            coords = get_winning_neuron(matrix, xp, k)\n",
    "            winning_w = matrix[coords[0]][coords[1]]\n",
    "            matrix[coords[0]][coords[1]] = update_w_winning_neuron(winning_w, n, xp)\n",
    "            update_neighbours(matrix, coords, R, k, n, xp)\n",
    "        \n",
    "        epoch += 1\n",
    "        R = update_R(epoch, max_epochs, k)\n",
    "        n = update_learning_factor(epoch, max_epochs)\n",
    "        if epoch % 50 == 0:\n",
    "            print(f\"Epoch {epoch}\")\n",
    "        \n",
    "    return matrix"
   ]
  },
  {
   "cell_type": "code",
   "execution_count": 79,
   "metadata": {},
   "outputs": [],
   "source": [
    "def create_count_matrix(data, matrix):\n",
    "    k = len(matrix)\n",
    "    count_matrix = [[[0, 0] for x in range(k)] for y in range(k)]\n",
    "    for index, row in data.iterrows():\n",
    "        xp = row[numeric_columns].to_numpy()\n",
    "        coords = get_winning_neuron(matrix, xp, k)\n",
    "        count_matrix[coords[0]][coords[1]][int(row[result_column])] += 1\n",
    "        \n",
    "    return count_matrix\n",
    "    \n",
    "    \n",
    "def classify_kohonen(data, matrix):\n",
    "    k = len(matrix)\n",
    "    class_matrix = [[None for x in range(k)] for y in range(k)]\n",
    "    count_matrix = create_count_matrix(data, matrix)\n",
    "    for i in range(k):\n",
    "        for j in range(k):\n",
    "            if count_matrix[i][j][0] == 0 and count_matrix[i][j][1] == 0:\n",
    "                class_matrix[i][j] = None\n",
    "            elif count_matrix[i][j][0] >= count_matrix[i][j][1]:\n",
    "                class_matrix[i][j] = 0\n",
    "            else: \n",
    "                 class_matrix[i][j] = 1\n",
    "    \n",
    "    return class_matrix\n",
    "            "
   ]
  },
  {
   "cell_type": "code",
   "execution_count": 80,
   "metadata": {},
   "outputs": [
    {
     "name": "stdout",
     "output_type": "stream",
     "text": [
      "Epoch 50\n",
      "Epoch 100\n",
      "Epoch 150\n",
      "Epoch 200\n",
      "Epoch 250\n",
      "Epoch 300\n",
      "Epoch 350\n",
      "Epoch 400\n",
      "Epoch 450\n",
      "Epoch 500\n",
      "[[0, 0, 1, 1], [0, 0, 1, 1], [1, 0, 1, 0], [1, 1, 1, 1]]\n"
     ]
    }
   ],
   "source": [
    "ranged_df = df.copy()\n",
    "for column in numeric_columns:\n",
    "    mean = ranged_df[column].mean()\n",
    "    std = ranged_df[column].std()\n",
    "    ranged_df[column] = ranged_df[column].apply(lambda x: (x - mean) / std)\n",
    "\n",
    "train_kohonen_df, test_kohonen_df = train_test_split(ranged_df, test_size=0.2)\n",
    "\n",
    "kohonen_matrix = train_kohonen(train_kohonen_df[numeric_columns], k=4, max_epochs=500)\n",
    "\n",
    "tagged_neurons = classify_kohonen(train_kohonen_df, kohonen_matrix)\n",
    "\n",
    "print(tagged_neurons)"
   ]
  },
  {
   "cell_type": "code",
   "execution_count": 81,
   "metadata": {},
   "outputs": [
    {
     "data": {
      "text/plain": [
       "<AxesSubplot:>"
      ]
     },
     "execution_count": 81,
     "metadata": {},
     "output_type": "execute_result"
    },
    {
     "data": {
      "image/png": "[encoded data removed]",
      "text/plain": [
       "<Figure size 432x288 with 2 Axes>"
      ]
     },
     "metadata": {
      "needs_background": "light"
     },
     "output_type": "display_data"
    }
   ],
   "source": [
    "# Armado de matriz de confusión (filas: valores reales; columnas: valores predictivos)\n",
    "confusion_matrix = { 0: {}, 1: {} }\n",
    "columns = []\n",
    "for key in confusion_matrix.keys():\n",
    "    columns.append(key)\n",
    "    confusion_matrix[key] = { 0: 0, 1: 0 }\n",
    "\n",
    "for index, row in test_kohonen_df.iterrows():\n",
    "    \n",
    "    real_class = row[result_column]\n",
    "    coords = get_winning_neuron(kohonen_matrix, row[numeric_columns].to_numpy(), len(kohonen_matrix))\n",
    "    predicted_class = tagged_neurons[coords[0]][coords[1]]\n",
    "    confusion_matrix[real_class][predicted_class] += 1\n",
    "\n",
    "confusion_df = { key : list(confusion_matrix[key].values()) for key in confusion_matrix.keys() }\n",
    "confusion_df = pd.DataFrame.from_dict(confusion_df, orient='index', columns=columns)\n",
    "\n",
    "sns.heatmap(confusion_df, annot=True, cmap='Blues', fmt='g', vmin=0)"
   ]
  }
 ],
 "metadata": {
  "kernelspec": {
   "display_name": "Python 3",
   "language": "python",
   "name": "python3"
  },
  "language_info": {
   "codemirror_mode": {
    "name": "ipython",
    "version": 3
   },
   "file_extension": ".py",
   "mimetype": "text/x-python",
   "name": "python",
   "nbconvert_exporter": "python",
   "pygments_lexer": "ipython3",
   "version": "3.8.3"
  }
 },
 "nbformat": 4,
 "nbformat_minor": 5
}
