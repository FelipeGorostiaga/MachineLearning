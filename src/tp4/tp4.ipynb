{
 "cells": [
  {
   "cell_type": "markdown",
   "id": "everyday-dubai",
   "metadata": {},
   "source": [
    "# Métodos de Aprendizaje no supervisado"
   ]
  },
  {
   "cell_type": "code",
   "execution_count": 1,
   "id": "bibliographic-hygiene",
   "metadata": {},
   "outputs": [
    {
     "data": {
      "text/html": [
       "<div>\n",
       "<style scoped>\n",
       "    .dataframe tbody tr th:only-of-type {\n",
       "        vertical-align: middle;\n",
       "    }\n",
       "\n",
       "    .dataframe tbody tr th {\n",
       "        vertical-align: top;\n",
       "    }\n",
       "\n",
       "    .dataframe thead th {\n",
       "        text-align: right;\n",
       "    }\n",
       "</style>\n",
       "<table border=\"1\" class=\"dataframe\">\n",
       "  <thead>\n",
       "    <tr style=\"text-align: right;\">\n",
       "      <th></th>\n",
       "      <th>sex</th>\n",
       "      <th>age</th>\n",
       "      <th>cad.dur</th>\n",
       "      <th>choleste</th>\n",
       "      <th>sigdz</th>\n",
       "      <th>tvdlm</th>\n",
       "    </tr>\n",
       "  </thead>\n",
       "  <tbody>\n",
       "    <tr>\n",
       "      <th>0</th>\n",
       "      <td>0</td>\n",
       "      <td>73</td>\n",
       "      <td>132</td>\n",
       "      <td>268.0</td>\n",
       "      <td>1</td>\n",
       "      <td>1.0</td>\n",
       "    </tr>\n",
       "    <tr>\n",
       "      <th>1</th>\n",
       "      <td>0</td>\n",
       "      <td>68</td>\n",
       "      <td>85</td>\n",
       "      <td>120.0</td>\n",
       "      <td>1</td>\n",
       "      <td>1.0</td>\n",
       "    </tr>\n",
       "    <tr>\n",
       "      <th>2</th>\n",
       "      <td>0</td>\n",
       "      <td>54</td>\n",
       "      <td>45</td>\n",
       "      <td>NaN</td>\n",
       "      <td>1</td>\n",
       "      <td>0.0</td>\n",
       "    </tr>\n",
       "    <tr>\n",
       "      <th>3</th>\n",
       "      <td>1</td>\n",
       "      <td>58</td>\n",
       "      <td>86</td>\n",
       "      <td>245.0</td>\n",
       "      <td>0</td>\n",
       "      <td>0.0</td>\n",
       "    </tr>\n",
       "    <tr>\n",
       "      <th>4</th>\n",
       "      <td>1</td>\n",
       "      <td>56</td>\n",
       "      <td>7</td>\n",
       "      <td>269.0</td>\n",
       "      <td>0</td>\n",
       "      <td>0.0</td>\n",
       "    </tr>\n",
       "  </tbody>\n",
       "</table>\n",
       "</div>"
      ],
      "text/plain": [
       "   sex  age  cad.dur  choleste  sigdz  tvdlm\n",
       "0    0   73      132     268.0      1    1.0\n",
       "1    0   68       85     120.0      1    1.0\n",
       "2    0   54       45       NaN      1    0.0\n",
       "3    1   58       86     245.0      0    0.0\n",
       "4    1   56        7     269.0      0    0.0"
      ]
     },
     "execution_count": 1,
     "metadata": {},
     "output_type": "execute_result"
    }
   ],
   "source": [
    "import pandas as pd\n",
    "\n",
    "df = pd.read_excel('../../res/tp4/acath.xlsx', sheet_name='acath')  # 3505 rows\n",
    "\n",
    "df.head()"
   ]
  },
  {
   "cell_type": "code",
   "execution_count": 2,
   "id": "hundred-failing",
   "metadata": {},
   "outputs": [
    {
     "name": "stdout",
     "output_type": "stream",
     "text": [
      "Cantidad de filas negativas: 1170\n",
      "Cantidad de filas positivas: 2334\n"
     ]
    }
   ],
   "source": [
    "negative = df[df.sigdz == 0]\n",
    "positive = df[df.sigdz == 1]\n",
    "\n",
    "print(f\"Cantidad de filas negativas: {len(negative)}\")\n",
    "print(f\"Cantidad de filas positivas: {len(positive)}\")\n",
    "\n",
    "# Se elige un subset de filas para igualar la proporción\n",
    "positive = positive.sample(n=len(negative))\n",
    "\n",
    "total = [negative, positive]\n",
    "df = pd.concat(total)"
   ]
  },
  {
   "cell_type": "code",
   "execution_count": 3,
   "id": "spatial-superior",
   "metadata": {},
   "outputs": [
    {
     "data": {
      "text/html": [
       "<div>\n",
       "<style scoped>\n",
       "    .dataframe tbody tr th:only-of-type {\n",
       "        vertical-align: middle;\n",
       "    }\n",
       "\n",
       "    .dataframe tbody tr th {\n",
       "        vertical-align: top;\n",
       "    }\n",
       "\n",
       "    .dataframe thead th {\n",
       "        text-align: right;\n",
       "    }\n",
       "</style>\n",
       "<table border=\"1\" class=\"dataframe\">\n",
       "  <thead>\n",
       "    <tr style=\"text-align: right;\">\n",
       "      <th></th>\n",
       "      <th>sex</th>\n",
       "      <th>age</th>\n",
       "      <th>cad.dur</th>\n",
       "      <th>choleste</th>\n",
       "      <th>sigdz</th>\n",
       "      <th>tvdlm</th>\n",
       "    </tr>\n",
       "  </thead>\n",
       "  <tbody>\n",
       "    <tr>\n",
       "      <th>3</th>\n",
       "      <td>1</td>\n",
       "      <td>58</td>\n",
       "      <td>86</td>\n",
       "      <td>245.0</td>\n",
       "      <td>0</td>\n",
       "      <td>0.0</td>\n",
       "    </tr>\n",
       "    <tr>\n",
       "      <th>4</th>\n",
       "      <td>1</td>\n",
       "      <td>56</td>\n",
       "      <td>7</td>\n",
       "      <td>269.0</td>\n",
       "      <td>0</td>\n",
       "      <td>0.0</td>\n",
       "    </tr>\n",
       "    <tr>\n",
       "      <th>11</th>\n",
       "      <td>0</td>\n",
       "      <td>35</td>\n",
       "      <td>44</td>\n",
       "      <td>257.0</td>\n",
       "      <td>0</td>\n",
       "      <td>0.0</td>\n",
       "    </tr>\n",
       "    <tr>\n",
       "      <th>12</th>\n",
       "      <td>1</td>\n",
       "      <td>69</td>\n",
       "      <td>10</td>\n",
       "      <td>NaN</td>\n",
       "      <td>0</td>\n",
       "      <td>0.0</td>\n",
       "    </tr>\n",
       "    <tr>\n",
       "      <th>20</th>\n",
       "      <td>1</td>\n",
       "      <td>52</td>\n",
       "      <td>30</td>\n",
       "      <td>240.0</td>\n",
       "      <td>0</td>\n",
       "      <td>0.0</td>\n",
       "    </tr>\n",
       "  </tbody>\n",
       "</table>\n",
       "</div>"
      ],
      "text/plain": [
       "    sex  age  cad.dur  choleste  sigdz  tvdlm\n",
       "3     1   58       86     245.0      0    0.0\n",
       "4     1   56        7     269.0      0    0.0\n",
       "11    0   35       44     257.0      0    0.0\n",
       "12    1   69       10       NaN      0    0.0\n",
       "20    1   52       30     240.0      0    0.0"
      ]
     },
     "execution_count": 3,
     "metadata": {},
     "output_type": "execute_result"
    }
   ],
   "source": [
    "df.head()"
   ]
  },
  {
   "cell_type": "code",
   "execution_count": 4,
   "id": "essential-soccer",
   "metadata": {},
   "outputs": [
    {
     "data": {
      "text/html": [
       "<div>\n",
       "<style scoped>\n",
       "    .dataframe tbody tr th:only-of-type {\n",
       "        vertical-align: middle;\n",
       "    }\n",
       "\n",
       "    .dataframe tbody tr th {\n",
       "        vertical-align: top;\n",
       "    }\n",
       "\n",
       "    .dataframe thead th {\n",
       "        text-align: right;\n",
       "    }\n",
       "</style>\n",
       "<table border=\"1\" class=\"dataframe\">\n",
       "  <thead>\n",
       "    <tr style=\"text-align: right;\">\n",
       "      <th></th>\n",
       "      <th>sex</th>\n",
       "      <th>age</th>\n",
       "      <th>cad.dur</th>\n",
       "      <th>choleste</th>\n",
       "      <th>sigdz</th>\n",
       "      <th>tvdlm</th>\n",
       "    </tr>\n",
       "  </thead>\n",
       "  <tbody>\n",
       "    <tr>\n",
       "      <th>3</th>\n",
       "      <td>1</td>\n",
       "      <td>58</td>\n",
       "      <td>86</td>\n",
       "      <td>245.0</td>\n",
       "      <td>0</td>\n",
       "      <td>0.0</td>\n",
       "    </tr>\n",
       "    <tr>\n",
       "      <th>4</th>\n",
       "      <td>1</td>\n",
       "      <td>56</td>\n",
       "      <td>7</td>\n",
       "      <td>269.0</td>\n",
       "      <td>0</td>\n",
       "      <td>0.0</td>\n",
       "    </tr>\n",
       "    <tr>\n",
       "      <th>11</th>\n",
       "      <td>0</td>\n",
       "      <td>35</td>\n",
       "      <td>44</td>\n",
       "      <td>257.0</td>\n",
       "      <td>0</td>\n",
       "      <td>0.0</td>\n",
       "    </tr>\n",
       "    <tr>\n",
       "      <th>12</th>\n",
       "      <td>1</td>\n",
       "      <td>69</td>\n",
       "      <td>10</td>\n",
       "      <td>227.0</td>\n",
       "      <td>0</td>\n",
       "      <td>0.0</td>\n",
       "    </tr>\n",
       "    <tr>\n",
       "      <th>20</th>\n",
       "      <td>1</td>\n",
       "      <td>52</td>\n",
       "      <td>30</td>\n",
       "      <td>240.0</td>\n",
       "      <td>0</td>\n",
       "      <td>0.0</td>\n",
       "    </tr>\n",
       "  </tbody>\n",
       "</table>\n",
       "</div>"
      ],
      "text/plain": [
       "    sex  age  cad.dur  choleste  sigdz  tvdlm\n",
       "3     1   58       86     245.0      0    0.0\n",
       "4     1   56        7     269.0      0    0.0\n",
       "11    0   35       44     257.0      0    0.0\n",
       "12    1   69       10     227.0      0    0.0\n",
       "20    1   52       30     240.0      0    0.0"
      ]
     },
     "execution_count": 4,
     "metadata": {},
     "output_type": "execute_result"
    }
   ],
   "source": [
    "import numpy as np\n",
    "\n",
    "# Sanitize dataset\n",
    "result_column = 'sigdz'\n",
    "columns = ['sex', 'age', 'cad.dur', 'choleste', 'tvdlm']\n",
    "numeric_columns = ['age', 'cad.dur', 'choleste']\n",
    "\n",
    "# Replace numeric value for `sigdz` with logical value\n",
    "# df.replace({result_column: {1: 'T', 0: 'F'}}, inplace=True)\n",
    "# df.replace({'tvdlm': {1: 'T', 0: 'F'}}, inplace=True)\n",
    "# df.replace({'sex': {1: 'F', 0: 'M'}}, inplace=True)\n",
    "\n",
    "# Replace NaN occurrences with mean\n",
    "for column in numeric_columns:\n",
    "    df.replace({column: {np.nan: int(df[column].mean())}}, inplace=True)\n",
    "\n",
    "df.head()"
   ]
  },
  {
   "cell_type": "markdown",
   "id": "piano-niger",
   "metadata": {},
   "source": [
    "## Regresión Logística"
   ]
  },
  {
   "cell_type": "code",
   "execution_count": 5,
   "id": "patient-daily",
   "metadata": {},
   "outputs": [],
   "source": [
    "from sklearn.model_selection import train_test_split\n",
    "\n",
    "train, test = train_test_split(df, test_size=0.2)"
   ]
  },
  {
   "cell_type": "code",
   "execution_count": 6,
   "id": "identical-jacket",
   "metadata": {},
   "outputs": [
    {
     "name": "stdout",
     "output_type": "stream",
     "text": [
      "sklearn Classes: [0 1]\n",
      "sklearn Coeficients: [[0.05547312 0.00031598 0.00705589]]\n",
      "sklearn Intercept b0: [-4.4673289]\n"
     ]
    }
   ],
   "source": [
    "from sklearn.linear_model import LogisticRegression\n",
    "from sklearn.metrics import classification_report, confusion_matrix\n",
    "\n",
    "def train_model(data, fields, result_var, params=None):\n",
    "    model = LogisticRegression()\n",
    "    model.fit(data[fields], data[result_var])\n",
    "    return model\n",
    "\n",
    "\n",
    "model = train_model(train, numeric_columns, result_column)\n",
    "print(f\"sklearn Classes: {model.classes_}\")\n",
    "print(f\"sklearn Coeficients: {model.coef_}\")\n",
    "print(f\"sklearn Intercept b0: {model.intercept_}\")"
   ]
  },
  {
   "cell_type": "code",
   "execution_count": 7,
   "id": "tutorial-narrative",
   "metadata": {},
   "outputs": [],
   "source": [
    "predicted = model.predict(test[numeric_columns])"
   ]
  },
  {
   "cell_type": "code",
   "execution_count": 8,
   "id": "processed-removal",
   "metadata": {},
   "outputs": [
    {
     "name": "stdout",
     "output_type": "stream",
     "text": [
      "Población completa\n"
     ]
    },
    {
     "data": {
      "image/png": "[encoded data removed]",
      "text/plain": [
       "<Figure size 432x288 with 2 Axes>"
      ]
     },
     "metadata": {
      "needs_background": "light"
     },
     "output_type": "display_data"
    }
   ],
   "source": [
    "import seaborn as sns\n",
    "\n",
    "def plot_confusion_matrix(data, result_var, predictions, title=None, ax=None):\n",
    "    conf_mat = confusion_matrix(data[result_var], predictions)\n",
    "    count_values = list(map(lambda x: sum(x), conf_mat))\n",
    "\n",
    "    unique, counts = np.unique(np.array(data[result_var]), return_counts=True)\n",
    "    count_labels = dict(zip(counts, unique))\n",
    "\n",
    "    labels = []\n",
    "    for value in count_values:\n",
    "        labels.append(count_labels[value])\n",
    "\n",
    "    if title is not None:\n",
    "        print(title)\n",
    "\n",
    "    if ax is None:\n",
    "        sns.heatmap(conf_mat, annot=True, cmap='Blues', fmt='g', xticklabels=labels, yticklabels=labels, vmin=0)\n",
    "    else:\n",
    "        sns.heatmap(conf_mat, ax=ax, annot=True, cmap='Blues', fmt='g', xticklabels=labels, yticklabels=labels, vmin=0)\n",
    "\n",
    "plot_confusion_matrix(test, result_column, predicted, title='Población completa')"
   ]
  },
  {
   "cell_type": "code",
   "execution_count": 9,
   "id": "front-orange",
   "metadata": {},
   "outputs": [
    {
     "name": "stdout",
     "output_type": "stream",
     "text": [
      "              precision    recall  f1-score   support\n",
      "\n",
      "           0       0.62      0.59      0.60       230\n",
      "           1       0.62      0.66      0.64       238\n",
      "\n",
      "    accuracy                           0.62       468\n",
      "   macro avg       0.62      0.62      0.62       468\n",
      "weighted avg       0.62      0.62      0.62       468\n",
      "\n"
     ]
    }
   ],
   "source": [
    "print(classification_report(test[result_column], predicted))"
   ]
  },
  {
   "cell_type": "markdown",
   "id": "collect-rugby",
   "metadata": {},
   "source": [
    "#### Repetición del experimento usando librería statsmodels"
   ]
  },
  {
   "cell_type": "code",
   "execution_count": 10,
   "id": "right-corrections",
   "metadata": {},
   "outputs": [
    {
     "name": "stdout",
     "output_type": "stream",
     "text": [
      "Optimization terminated successfully.\n",
      "         Current function value: 0.684935\n",
      "         Iterations 4\n",
      "                           Logit Regression Results                           \n",
      "==============================================================================\n",
      "Dep. Variable:                  sigdz   No. Observations:                 1872\n",
      "Model:                          Logit   Df Residuals:                     1869\n",
      "Method:                           MLE   Df Model:                            2\n",
      "Date:                Tue, 22 Jun 2021   Pseudo R-squ.:                 0.01183\n",
      "Time:                        15:07:21   Log-Likelihood:                -1282.2\n",
      "converged:                       True   LL-Null:                       -1297.6\n",
      "Covariance Type:            nonrobust   LLR p-value:                 2.142e-07\n",
      "==============================================================================\n",
      "                 coef    std err          z      P>|z|      [0.025      0.975]\n",
      "------------------------------------------------------------------------------\n",
      "age            0.0163      0.004      4.274      0.000       0.009       0.024\n",
      "cad.dur        0.0018      0.001      2.057      0.040    8.55e-05       0.004\n",
      "choleste      -0.0038      0.001     -4.473      0.000      -0.005      -0.002\n",
      "==============================================================================\n"
     ]
    }
   ],
   "source": [
    "import statsmodels.api as sm\n",
    "\n",
    "def train_statsmodels_model(data, fields, result_var, params=None):\n",
    "    model = sm.Logit(data[result_var], data[fields]).fit()\n",
    "    print(model.summary())\n",
    "    return model\n",
    "\n",
    "statsmodel = train_statsmodels_model(train, numeric_columns, result_column)"
   ]
  },
  {
   "cell_type": "code",
   "execution_count": 11,
   "id": "essential-picnic",
   "metadata": {},
   "outputs": [
    {
     "name": "stdout",
     "output_type": "stream",
     "text": [
      "Actual values [0, 0, 0, 1, 1, 1, 0, 1, 0, 1, 0, 1, 0, 1, 1, 0, 1, 1, 1, 0, 1, 0, 1, 0, 0, 1, 1, 0, 0, 1, 0, 1, 0, 0, 1, 0, 0, 1, 0, 0, 1, 0, 1, 1, 0, 0, 0, 0, 1, 0, 0, 1, 1, 1, 0, 1, 1, 1, 0, 0, 0, 1, 0, 1, 1, 1, 1, 1, 0, 1, 1, 0, 0, 0, 0, 1, 1, 1, 0, 1, 1, 0, 0, 0, 1, 0, 1, 1, 1, 0, 1, 1, 1, 0, 0, 1, 0, 0, 0, 0, 0, 0, 0, 1, 1, 1, 1, 0, 0, 0, 1, 1, 1, 1, 0, 1, 0, 1, 0, 0, 1, 1, 1, 1, 0, 0, 1, 1, 1, 1, 1, 0, 1, 0, 1, 1, 1, 0, 1, 0, 1, 1, 1, 1, 1, 1, 1, 0, 0, 0, 0, 1, 0, 1, 0, 1, 0, 1, 0, 0, 1, 1, 1, 0, 0, 0, 0, 0, 1, 1, 1, 1, 1, 1, 1, 0, 0, 0, 0, 0, 1, 0, 1, 0, 0, 1, 1, 1, 1, 0, 1, 0, 1, 0, 0, 1, 1, 1, 1, 0, 1, 0, 1, 0, 1, 0, 0, 1, 0, 1, 1, 1, 1, 0, 1, 1, 0, 0, 0, 1, 1, 1, 0, 0, 0, 0, 0, 1, 1, 1, 1, 0, 1, 0, 1, 0, 0, 0, 1, 0, 0, 0, 0, 0, 1, 0, 1, 1, 0, 1, 1, 0, 0, 0, 1, 1, 0, 0, 0, 0, 1, 1, 1, 0, 1, 1, 0, 1, 0, 1, 1, 1, 1, 0, 0, 0, 1, 0, 1, 1, 0, 0, 0, 0, 0, 0, 0, 1, 1, 1, 0, 1, 0, 1, 1, 0, 0, 1, 1, 0, 0, 1, 1, 0, 1, 0, 1, 1, 0, 1, 0, 0, 1, 0, 0, 0, 0, 0, 0, 0, 1, 1, 1, 0, 0, 0, 0, 0, 0, 1, 1, 0, 0, 1, 0, 1, 1, 0, 1, 1, 0, 1, 0, 1, 1, 0, 1, 0, 1, 0, 1, 0, 1, 1, 1, 0, 0, 1, 0, 1, 1, 0, 0, 0, 1, 1, 0, 1, 0, 1, 1, 0, 1, 1, 0, 1, 0, 1, 1, 1, 0, 1, 1, 1, 0, 0, 0, 1, 0, 1, 0, 1, 1, 0, 1, 1, 1, 0, 0, 0, 0, 0, 0, 0, 0, 0, 1, 1, 1, 0, 0, 1, 1, 0, 0, 0, 1, 1, 0, 1, 0, 0, 1, 1, 0, 1, 1, 1, 1, 1, 1, 0, 1, 1, 1, 1, 0, 1, 1, 0, 1, 0, 1, 0, 0, 0, 1, 1, 0, 1, 1, 0, 0, 1, 1, 0, 0, 1, 1, 0, 0, 0, 0, 0, 0, 1, 0, 0]\n",
      "statsmodels Predictions : [1, 1, 1, 0, 1, 1, 1, 1, 1, 1, 0, 0, 0, 1, 0, 0, 1, 1, 1, 1, 1, 0, 1, 0, 1, 1, 1, 1, 1, 0, 1, 0, 0, 1, 0, 1, 1, 0, 1, 0, 1, 0, 1, 1, 1, 0, 1, 1, 1, 1, 0, 0, 1, 1, 0, 1, 0, 0, 0, 1, 0, 0, 1, 1, 1, 1, 1, 1, 0, 1, 0, 1, 1, 0, 0, 0, 1, 0, 1, 1, 1, 1, 1, 1, 1, 0, 0, 1, 1, 1, 0, 0, 1, 0, 0, 1, 0, 1, 0, 1, 0, 1, 1, 1, 0, 1, 1, 0, 0, 1, 1, 1, 1, 0, 0, 1, 0, 1, 1, 0, 1, 0, 0, 0, 0, 0, 1, 1, 1, 1, 1, 0, 0, 0, 1, 1, 1, 0, 1, 0, 1, 1, 1, 0, 1, 1, 1, 1, 0, 1, 1, 1, 1, 1, 0, 1, 0, 1, 1, 0, 1, 0, 0, 1, 1, 0, 1, 0, 0, 1, 1, 1, 0, 0, 1, 1, 1, 0, 1, 1, 0, 1, 1, 0, 1, 0, 1, 1, 1, 1, 0, 0, 1, 0, 0, 0, 1, 1, 1, 1, 0, 0, 0, 1, 1, 0, 1, 1, 0, 0, 1, 1, 0, 0, 0, 0, 0, 0, 0, 1, 1, 0, 1, 1, 0, 1, 1, 0, 1, 1, 0, 0, 1, 1, 1, 0, 1, 0, 1, 1, 0, 1, 0, 1, 1, 0, 1, 1, 0, 1, 1, 1, 1, 1, 0, 1, 1, 0, 1, 1, 1, 1, 1, 1, 1, 1, 1, 0, 0, 1, 1, 0, 1, 1, 0, 0, 0, 0, 0, 0, 0, 0, 1, 0, 0, 1, 1, 0, 0, 1, 1, 1, 0, 0, 1, 1, 0, 1, 1, 0, 0, 1, 0, 0, 1, 1, 1, 1, 1, 1, 0, 1, 1, 0, 0, 0, 0, 1, 1, 1, 0, 0, 1, 1, 1, 0, 1, 1, 1, 1, 0, 0, 1, 1, 1, 0, 1, 0, 0, 0, 0, 0, 1, 0, 1, 0, 0, 1, 1, 0, 1, 0, 0, 1, 0, 0, 1, 0, 0, 0, 1, 1, 0, 1, 1, 1, 1, 0, 1, 0, 0, 0, 0, 1, 0, 0, 0, 0, 0, 0, 0, 1, 1, 1, 1, 1, 1, 1, 0, 1, 1, 1, 1, 0, 0, 0, 1, 1, 0, 1, 1, 1, 1, 1, 0, 0, 1, 1, 1, 1, 1, 0, 1, 0, 0, 0, 0, 0, 1, 1, 0, 0, 0, 1, 0, 0, 1, 1, 1, 1, 1, 1, 0, 0, 1, 0, 0, 1, 0, 0, 0, 1, 0, 0, 1, 1, 0, 0, 0, 0, 1, 1, 1, 1, 0, 0, 1, 1, 0, 1, 1, 0, 0, 1, 1, 1, 1, 0]\n"
     ]
    }
   ],
   "source": [
    "yhat = statsmodel.predict(test[numeric_columns])\n",
    "predicted_2 = list(map(round, yhat))\n",
    "print('Actual values', list(test[result_column].values))\n",
    "print('statsmodels Predictions :', predicted_2)"
   ]
  },
  {
   "cell_type": "code",
   "execution_count": 12,
   "id": "developed-grenada",
   "metadata": {},
   "outputs": [
    {
     "name": "stdout",
     "output_type": "stream",
     "text": [
      "statsmodels Población completa\n"
     ]
    },
    {
     "data": {
      "image/png": "[encoded data removed]",
      "text/plain": [
       "<Figure size 432x288 with 2 Axes>"
      ]
     },
     "metadata": {
      "needs_background": "light"
     },
     "output_type": "display_data"
    }
   ],
   "source": [
    "plot_confusion_matrix(test, result_column, predicted_2, title='statsmodels Población completa')"
   ]
  },
  {
   "cell_type": "markdown",
   "id": "medium-integrity",
   "metadata": {},
   "source": [
    "### Regresión Logística por género"
   ]
  },
  {
   "cell_type": "code",
   "execution_count": 13,
   "id": "boxed-yesterday",
   "metadata": {},
   "outputs": [
    {
     "name": "stdout",
     "output_type": "stream",
     "text": [
      "Hombres: 1495\n",
      "Mujeres: 845\n"
     ]
    }
   ],
   "source": [
    "men = df[df.sex == 0]\n",
    "women = df[df.sex == 1]\n",
    "\n",
    "train_men, test_men = train_test_split(men, test_size=0.2)\n",
    "train_women, test_women = train_test_split(women, test_size=0.2)\n",
    "\n",
    "print(f'Hombres: {len(men)}\\nMujeres: {len(women)}')"
   ]
  },
  {
   "cell_type": "code",
   "execution_count": 14,
   "id": "greek-teach",
   "metadata": {},
   "outputs": [
    {
     "data": {
      "image/png": "[encoded data removed]",
      "text/plain": [
       "<Figure size 1440x360 with 4 Axes>"
      ]
     },
     "metadata": {
      "needs_background": "light"
     },
     "output_type": "display_data"
    }
   ],
   "source": [
    "import matplotlib.pyplot as plt\n",
    "\n",
    "model_men = train_model(train_men, numeric_columns, result_column)\n",
    "model_women = train_model(train_women, numeric_columns, result_column)\n",
    "\n",
    "predicted_men = model.predict(test_men[numeric_columns])\n",
    "predicted_women = model.predict(test_women[numeric_columns])\n",
    "\n",
    "tests = [test_men, test_women]\n",
    "preds = [predicted_men, predicted_women]\n",
    "titles = ['Hombres', 'Mujeres']\n",
    "\n",
    "conf_mat_fig = plt.figure(figsize=(20,5))\n",
    "i = 1\n",
    "j = 2\n",
    "k = 1\n",
    "for test, pred, title in zip(tests, preds, titles):\n",
    "    mat_ax = conf_mat_fig.add_subplot(i, j, k)\n",
    "    mat_ax.set_title(title)\n",
    "    plot_confusion_matrix(test, result_column, pred, ax=mat_ax)\n",
    "    k += 1"
   ]
  },
  {
   "cell_type": "code",
   "execution_count": 15,
   "id": "broke-questionnaire",
   "metadata": {},
   "outputs": [
    {
     "name": "stdout",
     "output_type": "stream",
     "text": [
      "Hombres\n",
      "              precision    recall  f1-score   support\n",
      "\n",
      "           0       0.44      0.65      0.53        99\n",
      "           1       0.77      0.60      0.68       200\n",
      "\n",
      "    accuracy                           0.62       299\n",
      "   macro avg       0.61      0.62      0.60       299\n",
      "weighted avg       0.67      0.62      0.63       299\n",
      "\n",
      "Mujeres\n",
      "              precision    recall  f1-score   support\n",
      "\n",
      "           0       0.93      0.58      0.71       136\n",
      "           1       0.32      0.82      0.46        33\n",
      "\n",
      "    accuracy                           0.63       169\n",
      "   macro avg       0.63      0.70      0.59       169\n",
      "weighted avg       0.81      0.63      0.67       169\n",
      "\n"
     ]
    }
   ],
   "source": [
    "for test, pred, title in zip(tests, preds, titles):\n",
    "    print(title)\n",
    "    print(classification_report(test[result_column], pred))"
   ]
  },
  {
   "cell_type": "markdown",
   "id": "existing-glenn",
   "metadata": {},
   "source": [
    "#### Repetición del experimento con statsmodels"
   ]
  },
  {
   "cell_type": "code",
   "execution_count": 16,
   "id": "relative-scheme",
   "metadata": {},
   "outputs": [
    {
     "name": "stdout",
     "output_type": "stream",
     "text": [
      "Hombres: 1495\n",
      "Mujeres: 845\n"
     ]
    }
   ],
   "source": [
    "men = df[df.sex == 0]\n",
    "women = df[df.sex == 1]\n",
    "\n",
    "train_men, test_men = train_test_split(men, test_size=0.2)\n",
    "train_women, test_women = train_test_split(women, test_size=0.2)\n",
    "print(f'Hombres: {len(men)}\\nMujeres: {len(women)}')"
   ]
  },
  {
   "cell_type": "code",
   "execution_count": 17,
   "id": "brown-oklahoma",
   "metadata": {},
   "outputs": [
    {
     "name": "stdout",
     "output_type": "stream",
     "text": [
      "Optimization terminated successfully.\n",
      "         Current function value: 0.621235\n",
      "         Iterations 5\n",
      "                           Logit Regression Results                           \n",
      "==============================================================================\n",
      "Dep. Variable:                  sigdz   No. Observations:                 1196\n",
      "Model:                          Logit   Df Residuals:                     1193\n",
      "Method:                           MLE   Df Model:                            2\n",
      "Date:                Tue, 22 Jun 2021   Pseudo R-squ.:                 0.04528\n",
      "Time:                        15:07:27   Log-Likelihood:                -743.00\n",
      "converged:                       True   LL-Null:                       -778.23\n",
      "Covariance Type:            nonrobust   LLR p-value:                 4.980e-16\n",
      "==============================================================================\n",
      "                 coef    std err          z      P>|z|      [0.025      0.975]\n",
      "------------------------------------------------------------------------------\n",
      "age            0.0271      0.005      5.397      0.000       0.017       0.037\n",
      "cad.dur        0.0039      0.001      3.014      0.003       0.001       0.006\n",
      "choleste      -0.0037      0.001     -3.466      0.001      -0.006      -0.002\n",
      "==============================================================================\n",
      "Optimization terminated successfully.\n",
      "         Current function value: 0.578878\n",
      "         Iterations 5\n",
      "                           Logit Regression Results                           \n",
      "==============================================================================\n",
      "Dep. Variable:                  sigdz   No. Observations:                  676\n",
      "Model:                          Logit   Df Residuals:                      673\n",
      "Method:                           MLE   Df Model:                            2\n",
      "Date:                Tue, 22 Jun 2021   Pseudo R-squ.:                -0.02942\n",
      "Time:                        15:07:27   Log-Likelihood:                -391.32\n",
      "converged:                       True   LL-Null:                       -380.14\n",
      "Covariance Type:            nonrobust   LLR p-value:                     1.000\n",
      "==============================================================================\n",
      "                 coef    std err          z      P>|z|      [0.025      0.975]\n",
      "------------------------------------------------------------------------------\n",
      "age            0.0106      0.008      1.402      0.161      -0.004       0.025\n",
      "cad.dur       -0.0003      0.002     -0.225      0.822      -0.003       0.003\n",
      "choleste      -0.0067      0.002     -3.812      0.000      -0.010      -0.003\n",
      "==============================================================================\n"
     ]
    },
    {
     "data": {
      "image/png": "[encoded data removed]",
      "text/plain": [
       "<Figure size 1440x360 with 4 Axes>"
      ]
     },
     "metadata": {
      "needs_background": "light"
     },
     "output_type": "display_data"
    }
   ],
   "source": [
    "model_men_2 = train_statsmodels_model(train_men, numeric_columns, result_column)\n",
    "model_women_2 = train_statsmodels_model(train_women, numeric_columns, result_column)\n",
    "\n",
    "predicted_men = model.predict(test_men[numeric_columns])\n",
    "predicted_women = model.predict(test_women[numeric_columns])\n",
    "\n",
    "yhat_men = model_men_2.predict(test_men[numeric_columns])\n",
    "predicted_men_2 = list(map(round, yhat_men))\n",
    "yhat_women = model_women_2.predict(test_women[numeric_columns])\n",
    "predicted_women_2 = list(map(round, yhat_women))\n",
    "\n",
    "tests = [test_men, test_women]\n",
    "preds = [predicted_men_2, predicted_women_2]\n",
    "titles = ['Hombres', 'Mujeres']\n",
    "\n",
    "conf_mat_fig = plt.figure(figsize=(20,5))\n",
    "i = 1\n",
    "j = 2\n",
    "k = 1\n",
    "for test, pred, title in zip(tests, preds, titles):\n",
    "    mat_ax = conf_mat_fig.add_subplot(i, j, k)\n",
    "    mat_ax.set_title(title)\n",
    "    plot_confusion_matrix(test, result_column, pred, ax=mat_ax)\n",
    "    k += 1"
   ]
  },
  {
   "cell_type": "markdown",
   "id": "prescribed-japan",
   "metadata": {},
   "source": [
    "## Agrupamiento Jerárquico"
   ]
  },
  {
   "cell_type": "code",
   "execution_count": 18,
   "id": "associate-constraint",
   "metadata": {},
   "outputs": [],
   "source": [
    "train_hc, test_hc = train_test_split(df, test_size=0.05)"
   ]
  },
  {
   "cell_type": "code",
   "execution_count": 19,
   "id": "portuguese-baptist",
   "metadata": {},
   "outputs": [
    {
     "data": {
      "text/html": [
       "<div>\n",
       "<style scoped>\n",
       "    .dataframe tbody tr th:only-of-type {\n",
       "        vertical-align: middle;\n",
       "    }\n",
       "\n",
       "    .dataframe tbody tr th {\n",
       "        vertical-align: top;\n",
       "    }\n",
       "\n",
       "    .dataframe thead th {\n",
       "        text-align: right;\n",
       "    }\n",
       "</style>\n",
       "<table border=\"1\" class=\"dataframe\">\n",
       "  <thead>\n",
       "    <tr style=\"text-align: right;\">\n",
       "      <th></th>\n",
       "      <th>sex</th>\n",
       "      <th>age</th>\n",
       "      <th>cad.dur</th>\n",
       "      <th>choleste</th>\n",
       "      <th>sigdz</th>\n",
       "      <th>tvdlm</th>\n",
       "    </tr>\n",
       "  </thead>\n",
       "  <tbody>\n",
       "    <tr>\n",
       "      <th>1601</th>\n",
       "      <td>1</td>\n",
       "      <td>0.603175</td>\n",
       "      <td>0.352770</td>\n",
       "      <td>0.404494</td>\n",
       "      <td>1</td>\n",
       "      <td>0.0</td>\n",
       "    </tr>\n",
       "    <tr>\n",
       "      <th>2043</th>\n",
       "      <td>0</td>\n",
       "      <td>0.444444</td>\n",
       "      <td>0.075802</td>\n",
       "      <td>0.498127</td>\n",
       "      <td>1</td>\n",
       "      <td>1.0</td>\n",
       "    </tr>\n",
       "    <tr>\n",
       "      <th>1841</th>\n",
       "      <td>0</td>\n",
       "      <td>0.476190</td>\n",
       "      <td>0.055394</td>\n",
       "      <td>0.262172</td>\n",
       "      <td>0</td>\n",
       "      <td>0.0</td>\n",
       "    </tr>\n",
       "    <tr>\n",
       "      <th>234</th>\n",
       "      <td>1</td>\n",
       "      <td>0.777778</td>\n",
       "      <td>0.005831</td>\n",
       "      <td>0.445693</td>\n",
       "      <td>0</td>\n",
       "      <td>0.0</td>\n",
       "    </tr>\n",
       "    <tr>\n",
       "      <th>2712</th>\n",
       "      <td>0</td>\n",
       "      <td>0.634921</td>\n",
       "      <td>0.002915</td>\n",
       "      <td>0.445693</td>\n",
       "      <td>1</td>\n",
       "      <td>0.0</td>\n",
       "    </tr>\n",
       "  </tbody>\n",
       "</table>\n",
       "</div>"
      ],
      "text/plain": [
       "      sex       age   cad.dur  choleste  sigdz  tvdlm\n",
       "1601    1  0.603175  0.352770  0.404494      1    0.0\n",
       "2043    0  0.444444  0.075802  0.498127      1    1.0\n",
       "1841    0  0.476190  0.055394  0.262172      0    0.0\n",
       "234     1  0.777778  0.005831  0.445693      0    0.0\n",
       "2712    0  0.634921  0.002915  0.445693      1    0.0"
      ]
     },
     "execution_count": 19,
     "metadata": {},
     "output_type": "execute_result"
    }
   ],
   "source": [
    "normalized_df = test_hc.copy()\n",
    "for column in numeric_columns:\n",
    "    column_min = min(normalized_df[column])\n",
    "    column_max = max(normalized_df[column])\n",
    "    #print(f\"{column_min} {column_max}\")\n",
    "    normalized_df[column] = normalized_df[column].apply(lambda x: (x - column_min) / (column_max - column_min))\n",
    "\n",
    "normalized_df.head()"
   ]
  },
  {
   "cell_type": "code",
   "execution_count": 20,
   "id": "buried-korean",
   "metadata": {},
   "outputs": [
    {
     "name": "stdout",
     "output_type": "stream",
     "text": [
      "Processed 0 rows\n",
      "Processed 50 rows\n",
      "Processed 100 rows\n"
     ]
    }
   ],
   "source": [
    "distance_matrix = np.zeros((len(normalized_df), len(normalized_df)))\n",
    "num_norm_df = normalized_df[numeric_columns]\n",
    "for i in range(len(normalized_df)):\n",
    "    row_i = num_norm_df.iloc[i].to_numpy()\n",
    "    for j in range(len(normalized_df)):\n",
    "        if i >= j:\n",
    "            continue\n",
    "        row_j = num_norm_df.iloc[j].to_numpy()\n",
    "        dist = np.linalg.norm(row_i - row_j)\n",
    "        distance_matrix[i][j] = distance_matrix[j][i] = dist\n",
    "    \n",
    "    if i % 50 == 0:\n",
    "        print(f\"Processed {i} rows\")"
   ]
  },
  {
   "cell_type": "code",
   "execution_count": 21,
   "id": "floral-sandwich",
   "metadata": {},
   "outputs": [
    {
     "name": "stdout",
     "output_type": "stream",
     "text": [
      "[[0.         0.33267646 0.35328896 ... 0.57739571 0.8070317  0.17636006]\n",
      " [0.33267646 0.         0.23895416 ... 0.36266538 0.57874459 0.40585355]\n",
      " [0.35328896 0.23895416 0.         ... 0.59056543 0.8034157  0.33594344]\n",
      " ...\n",
      " [0.57739571 0.36266538 0.59056543 ... 0.         0.36712252 0.71288923]\n",
      " [0.8070317  0.57874459 0.8034157  ... 0.36712252 0.         0.90375733]\n",
      " [0.17636006 0.40585355 0.33594344 ... 0.71288923 0.90375733 0.        ]]\n"
     ]
    }
   ],
   "source": [
    "print(distance_matrix)"
   ]
  },
  {
   "cell_type": "code",
   "execution_count": 22,
   "id": "green-regular",
   "metadata": {},
   "outputs": [],
   "source": [
    "# [Nivel, Grupos]\n",
    "# Grupos = [[p1, p2, p13], [p4], [p5, p9], ...] # array de sets\n",
    "\n",
    "np.set_printoptions(linewidth=120)\n",
    "\n",
    "def get_basic_distance_between_groups(group_1, group_2, operation):\n",
    "    min_dist = None\n",
    "    for point_1_index in group_1:\n",
    "        for point_2_index in group_2:\n",
    "            dist = distance_matrix[point_1_index][point_2_index]\n",
    "            if min_dist is None or eval(f\"{dist} {operation} {min_dist}\"):\n",
    "                min_dist = dist\n",
    "    return min_dist\n",
    "\n",
    "def get_average_distance_between_groups(group_1, group_2):\n",
    "    suma = 0\n",
    "    for point_1_index in group_1:\n",
    "        for point_2_index in group_2:\n",
    "            suma += distance_matrix[point_1_index][point_2_index]\n",
    "    return suma / (len(group_1) * len(group_2))\n",
    "\n",
    "def get_centroid_distance_between_groups(group_1_index, group_2_index, centroids):\n",
    "    return np.linalg.norm(centroids[group_1_index][\"centroid\"] - centroids[group_2_index][\"centroid\"])\n",
    "    \n",
    "def get_distance_between_groups(groups, group_1_index, group_2_index, mode, centroids=None):\n",
    "    group_1 = groups[group_1_index]\n",
    "    group_2 = groups[group_2_index]\n",
    "    if mode == \"min\":\n",
    "        return get_basic_distance_between_groups(group_1, group_2, \"<\")\n",
    "    elif mode == \"max\":\n",
    "        return get_basic_distance_between_groups(group_1, group_2, \">\")\n",
    "    elif mode == \"avg\":\n",
    "        return get_average_distance_between_groups(group_1, group_2)\n",
    "    elif mode == \"ctr\":\n",
    "        return get_centroid_distance_between_groups(group_1_index, group_2_index, centroids)\n",
    "    \n",
    "    raise Exception(\"Invalid distance mode\")\n",
    "\n",
    "def hierarchical_clustering(mode, cluster_count):\n",
    "    levels = [[]]\n",
    "    for i in range(len(normalized_df)):\n",
    "        levels[0].append(set([i]))\n",
    "    \n",
    "    centroids = None # Array of centroid coordinates for each group\n",
    "    if mode == \"ctr\":\n",
    "        centroids = []\n",
    "        for i in range(len(num_norm_df)):\n",
    "            point = num_norm_df.iloc[i].to_numpy()\n",
    "            centroids.append({\"centroid\": point, \"points\": np.array([point])})\n",
    "    \n",
    "    current_level = 0\n",
    "    while len(levels[current_level]) > cluster_count:\n",
    "        current_groups = levels[current_level]\n",
    "        group_qty = len(levels[current_level])\n",
    "        \n",
    "        min_group_dist = None\n",
    "        groups_to_merge = (None, None) # Indices\n",
    "        \n",
    "        for i in range(group_qty):\n",
    "            for j in range(i + 1, group_qty):\n",
    "                group_dist = get_distance_between_groups(current_groups, i, j, mode, centroids)\n",
    "                if (min_group_dist is None) or (group_dist < min_group_dist):\n",
    "                    groups_to_merge = (i, j)\n",
    "                    min_group_dist = group_dist\n",
    "\n",
    "        group_to_merge_1 = current_groups[groups_to_merge[0]]\n",
    "        group_to_merge_2 = current_groups[groups_to_merge[1]]\n",
    "        \n",
    "        levels.append(current_groups.copy())\n",
    "        new_group = set()\n",
    "        new_group.update(group_to_merge_2)\n",
    "        new_group.update(group_to_merge_1)\n",
    "        levels[current_level + 1].append(new_group)\n",
    "        levels[current_level + 1].pop(max(groups_to_merge))\n",
    "        levels[current_level + 1].pop(min(groups_to_merge))\n",
    "        \n",
    "        if centroids is not None: # Push new group's centroid based on previous 2 centroids\n",
    "            centroid_dict_1 = centroids.pop(max(groups_to_merge))\n",
    "            centroid_dict_2 = centroids.pop(min(groups_to_merge))\n",
    "            merged_points = np.concatenate((centroid_dict_1[\"points\"], centroid_dict_2[\"points\"]), axis=0)\n",
    "            new_centroid_dict = {\"centroid\": merged_points.mean(axis=0), \"points\": merged_points}\n",
    "            centroids.append(new_centroid_dict)\n",
    "\n",
    "        current_level += 1\n",
    "        \n",
    "        if current_level % 25 == 0:\n",
    "            print(f\"Clusters merged: {current_level} - Distance between merged clusters was {min_group_dist}\")\n",
    "        \n",
    "    return levels"
   ]
  },
  {
   "cell_type": "code",
   "execution_count": 23,
   "id": "realistic-rochester",
   "metadata": {},
   "outputs": [],
   "source": [
    "from scipy import stats\n",
    "\n",
    "def classify_clusters(clusters):\n",
    "    if len(clusters) != 2:\n",
    "        raise Exception(\"Invalid argument\")\n",
    "        \n",
    "    cluster_1_rows = np.array(list(map(lambda x: test_hc[result_column].iloc[x], clusters[0])))\n",
    "    cluster_1_mode = stats.mode(cluster_1_rows)[0][0]\n",
    "    cluster_2_rows = np.array(list(map(lambda x: test_hc[result_column].iloc[x], clusters[1])))\n",
    "    cluster_2_mode = stats.mode(cluster_2_rows)[0][0]\n",
    "    \n",
    "    return (cluster_1_mode, cluster_2_mode)"
   ]
  },
  {
   "cell_type": "markdown",
   "id": "controversial-converter",
   "metadata": {},
   "source": [
    "### Utilizando la Mínima como medida de similitud entre grupos"
   ]
  },
  {
   "cell_type": "code",
   "execution_count": 24,
   "id": "protecting-pendant",
   "metadata": {},
   "outputs": [
    {
     "name": "stdout",
     "output_type": "stream",
     "text": [
      "Clusters merged: 25 - Distance between merged clusters was 0.03617661982998568\n",
      "Clusters merged: 50 - Distance between merged clusters was 0.05201083625718352\n",
      "Clusters merged: 75 - Distance between merged clusters was 0.07313831479041714\n",
      "Clusters merged: 100 - Distance between merged clusters was 0.1387786183520795\n"
     ]
    }
   ],
   "source": [
    "clusters_min_dist = hierarchical_clustering(\"min\", 2)"
   ]
  },
  {
   "cell_type": "code",
   "execution_count": 25,
   "id": "documented-watch",
   "metadata": {},
   "outputs": [
    {
     "name": "stdout",
     "output_type": "stream",
     "text": [
      "[{17}, {0, 1, 2, 3, 4, 5, 6, 7, 8, 9, 10, 11, 12, 13, 14, 15, 16, 18, 19, 20, 21, 22, 23, 24, 25, 26, 27, 28, 29, 30, 31, 32, 33, 34, 35, 36, 37, 38, 39, 40, 41, 42, 43, 44, 45, 46, 47, 48, 49, 50, 51, 52, 53, 54, 55, 56, 57, 58, 59, 60, 61, 62, 63, 64, 65, 66, 67, 68, 69, 70, 71, 72, 73, 74, 75, 76, 77, 78, 79, 80, 81, 82, 83, 84, 85, 86, 87, 88, 89, 90, 91, 92, 93, 94, 95, 96, 97, 98, 99, 100, 101, 102, 103, 104, 105, 106, 107, 108, 109, 110, 111, 112, 113, 114, 115, 116}]\n"
     ]
    }
   ],
   "source": [
    "print(clusters_min_dist[-1])"
   ]
  },
  {
   "cell_type": "code",
   "execution_count": 26,
   "id": "cardiac-courage",
   "metadata": {},
   "outputs": [],
   "source": [
    "min_cluster_classes = classify_clusters(clusters_min_dist[-1])"
   ]
  },
  {
   "cell_type": "code",
   "execution_count": 27,
   "id": "finnish-switzerland",
   "metadata": {},
   "outputs": [
    {
     "data": {
      "text/plain": [
       "<AxesSubplot:>"
      ]
     },
     "execution_count": 27,
     "metadata": {},
     "output_type": "execute_result"
    },
    {
     "data": {
      "image/png": "[encoded data removed]",
      "text/plain": [
       "<Figure size 432x288 with 2 Axes>"
      ]
     },
     "metadata": {
      "needs_background": "light"
     },
     "output_type": "display_data"
    }
   ],
   "source": [
    "# Armado de matriz de confusión (filas: valores reales; columnas: valores predictivos)\n",
    "confusion_matrix = { 0: {}, 1: {} }\n",
    "columns = []\n",
    "for key in confusion_matrix.keys():\n",
    "    columns.append(key)\n",
    "    confusion_matrix[key] = { 0: 0, 1: 0 }\n",
    "\n",
    "for clase, cluster in zip(min_cluster_classes, clusters_min_dist[-1]):\n",
    "    for index in cluster:\n",
    "        real_class = normalized_df[result_column].iloc[index]\n",
    "        confusion_matrix[real_class][clase] += 1\n",
    "\n",
    "confusion_df = { key : list(confusion_matrix[key].values()) for key in confusion_matrix.keys() }\n",
    "confusion_df = pd.DataFrame.from_dict(confusion_df, orient='index', columns=columns)\n",
    "\n",
    "sns.heatmap(confusion_df, annot=True, cmap='Blues', fmt='g', vmin=0)"
   ]
  },
  {
   "cell_type": "markdown",
   "id": "competent-result",
   "metadata": {},
   "source": [
    "### Utilizando la Máxima como medida de similitud entre grupos"
   ]
  },
  {
   "cell_type": "code",
   "execution_count": 28,
   "id": "exposed-boards",
   "metadata": {},
   "outputs": [
    {
     "name": "stdout",
     "output_type": "stream",
     "text": [
      "Clusters merged: 25 - Distance between merged clusters was 0.04512530954630738\n",
      "Clusters merged: 50 - Distance between merged clusters was 0.06861463915506993\n",
      "Clusters merged: 75 - Distance between merged clusters was 0.14230961344714055\n",
      "Clusters merged: 100 - Distance between merged clusters was 0.3204821461933109\n"
     ]
    }
   ],
   "source": [
    "clusters_max_dist = hierarchical_clustering(\"max\", 2)"
   ]
  },
  {
   "cell_type": "code",
   "execution_count": 29,
   "id": "spatial-dietary",
   "metadata": {},
   "outputs": [
    {
     "name": "stdout",
     "output_type": "stream",
     "text": [
      "[{97, 104, 43, 13, 17, 81, 49, 116, 55, 89, 59, 28, 94, 95}, {0, 1, 2, 3, 4, 5, 6, 7, 8, 9, 10, 11, 12, 14, 15, 16, 18, 19, 20, 21, 22, 23, 24, 25, 26, 27, 29, 30, 31, 32, 33, 34, 35, 36, 37, 38, 39, 40, 41, 42, 44, 45, 46, 47, 48, 50, 51, 52, 53, 54, 56, 57, 58, 60, 61, 62, 63, 64, 65, 66, 67, 68, 69, 70, 71, 72, 73, 74, 75, 76, 77, 78, 79, 80, 82, 83, 84, 85, 86, 87, 88, 90, 91, 92, 93, 96, 98, 99, 100, 101, 102, 103, 105, 106, 107, 108, 109, 110, 111, 112, 113, 114, 115}]\n"
     ]
    }
   ],
   "source": [
    "print(clusters_max_dist[-1])"
   ]
  },
  {
   "cell_type": "code",
   "execution_count": 30,
   "id": "increasing-death",
   "metadata": {},
   "outputs": [],
   "source": [
    "max_cluster_classes = classify_clusters(clusters_max_dist[-1])"
   ]
  },
  {
   "cell_type": "code",
   "execution_count": 31,
   "id": "mysterious-retail",
   "metadata": {},
   "outputs": [
    {
     "data": {
      "text/plain": [
       "<AxesSubplot:>"
      ]
     },
     "execution_count": 31,
     "metadata": {},
     "output_type": "execute_result"
    },
    {
     "data": {
      "image/png": "[encoded data removed]",
      "text/plain": [
       "<Figure size 432x288 with 2 Axes>"
      ]
     },
     "metadata": {
      "needs_background": "light"
     },
     "output_type": "display_data"
    }
   ],
   "source": [
    "# Armado de matriz de confusión (filas: valores reales; columnas: valores predictivos)\n",
    "confusion_matrix = { 0: {}, 1: {} }\n",
    "columns = []\n",
    "for key in confusion_matrix.keys():\n",
    "    columns.append(key)\n",
    "    confusion_matrix[key] = { 0: 0, 1: 0 }\n",
    "\n",
    "for clase, cluster in zip(max_cluster_classes, clusters_max_dist[-1]):\n",
    "    for index in cluster:\n",
    "        real_class = normalized_df[result_column].iloc[index]\n",
    "        confusion_matrix[real_class][clase] += 1\n",
    "\n",
    "confusion_df = { key : list(confusion_matrix[key].values()) for key in confusion_matrix.keys() }\n",
    "confusion_df = pd.DataFrame.from_dict(confusion_df, orient='index', columns=columns)\n",
    "\n",
    "sns.heatmap(confusion_df, annot=True, cmap='Blues', fmt='g', vmin=0)"
   ]
  },
  {
   "cell_type": "markdown",
   "id": "native-nickel",
   "metadata": {},
   "source": [
    "### Utilizando el Promedio como medida de similitud entre grupos"
   ]
  },
  {
   "cell_type": "code",
   "execution_count": 32,
   "id": "alleged-howard",
   "metadata": {},
   "outputs": [
    {
     "name": "stdout",
     "output_type": "stream",
     "text": [
      "Clusters merged: 25 - Distance between merged clusters was 0.03850775315810327\n",
      "Clusters merged: 50 - Distance between merged clusters was 0.06587290491686404\n",
      "Clusters merged: 75 - Distance between merged clusters was 0.11757936527529615\n",
      "Clusters merged: 100 - Distance between merged clusters was 0.24178124095603257\n"
     ]
    }
   ],
   "source": [
    "clusters_avg_dist = hierarchical_clustering(\"avg\", 2)"
   ]
  },
  {
   "cell_type": "code",
   "execution_count": 33,
   "id": "narrow-score",
   "metadata": {},
   "outputs": [
    {
     "name": "stdout",
     "output_type": "stream",
     "text": [
      "[{0, 1, 2, 3, 4, 5, 6, 7, 8, 9, 10, 11, 12, 13, 14, 15, 16, 18, 19, 20, 21, 22, 23, 24, 25, 26, 27, 28, 29, 30, 31, 32, 33, 34, 35, 36, 37, 38, 39, 40, 41, 42, 43, 44, 45, 46, 47, 48, 49, 50, 51, 52, 53, 54, 56, 57, 58, 59, 60, 61, 62, 63, 64, 65, 66, 67, 68, 69, 70, 71, 72, 73, 74, 75, 76, 77, 78, 79, 80, 81, 82, 83, 84, 85, 86, 87, 88, 89, 90, 91, 92, 93, 94, 95, 96, 97, 98, 99, 100, 101, 102, 103, 104, 105, 106, 107, 108, 109, 110, 111, 112, 113, 114, 115, 116}, {17, 55}]\n"
     ]
    }
   ],
   "source": [
    "print(clusters_avg_dist[-1])"
   ]
  },
  {
   "cell_type": "code",
   "execution_count": 34,
   "id": "pleased-cooper",
   "metadata": {},
   "outputs": [],
   "source": [
    "avg_cluster_classes = classify_clusters(clusters_avg_dist[-1])"
   ]
  },
  {
   "cell_type": "code",
   "execution_count": 35,
   "id": "valuable-attribute",
   "metadata": {
    "tags": []
   },
   "outputs": [
    {
     "data": {
      "text/plain": [
       "<AxesSubplot:>"
      ]
     },
     "execution_count": 35,
     "metadata": {},
     "output_type": "execute_result"
    },
    {
     "data": {
      "image/png": "[encoded data removed]",
      "text/plain": [
       "<Figure size 432x288 with 2 Axes>"
      ]
     },
     "metadata": {
      "needs_background": "light"
     },
     "output_type": "display_data"
    }
   ],
   "source": [
    "# Armado de matriz de confusión (filas: valores reales; columnas: valores predictivos)\n",
    "confusion_matrix = { 0: {}, 1: {} }\n",
    "columns = []\n",
    "for key in confusion_matrix.keys():\n",
    "    columns.append(key)\n",
    "    confusion_matrix[key] = { 0: 0, 1: 0 }\n",
    "\n",
    "for clase, cluster in zip(avg_cluster_classes, clusters_avg_dist[-1]):\n",
    "    for index in cluster:\n",
    "        real_class = normalized_df[result_column].iloc[index]\n",
    "        confusion_matrix[real_class][clase] += 1\n",
    "\n",
    "confusion_df = { key : list(confusion_matrix[key].values()) for key in confusion_matrix.keys() }\n",
    "confusion_df = pd.DataFrame.from_dict(confusion_df, orient='index', columns=columns)\n",
    "\n",
    "sns.heatmap(confusion_df, annot=True, cmap='Blues', fmt='g', vmin=0)"
   ]
  },
  {
   "cell_type": "markdown",
   "id": "documented-stone",
   "metadata": {},
   "source": [
    "### Utilizando el Centroide como medida de similitud entre grupos"
   ]
  },
  {
   "cell_type": "code",
   "execution_count": 36,
   "id": "prospective-covering",
   "metadata": {},
   "outputs": [
    {
     "name": "stdout",
     "output_type": "stream",
     "text": [
      "Clusters merged: 25 - Distance between merged clusters was 0.037970320460562645\n",
      "Clusters merged: 50 - Distance between merged clusters was 0.06549564961447368\n",
      "Clusters merged: 75 - Distance between merged clusters was 0.10227075081583427\n",
      "Clusters merged: 100 - Distance between merged clusters was 0.22188229089693556\n"
     ]
    }
   ],
   "source": [
    "clusters_ctr_dist = hierarchical_clustering(\"ctr\", 2)"
   ]
  },
  {
   "cell_type": "code",
   "execution_count": 37,
   "id": "criminal-crash",
   "metadata": {},
   "outputs": [
    {
     "name": "stdout",
     "output_type": "stream",
     "text": [
      "[{115}, {0, 1, 2, 3, 4, 5, 6, 7, 8, 9, 10, 11, 12, 13, 14, 15, 16, 17, 18, 19, 20, 21, 22, 23, 24, 25, 26, 27, 28, 29, 30, 31, 32, 33, 34, 35, 36, 37, 38, 39, 40, 41, 42, 43, 44, 45, 46, 47, 48, 49, 50, 51, 52, 53, 54, 55, 56, 57, 58, 59, 60, 61, 62, 63, 64, 65, 66, 67, 68, 69, 70, 71, 72, 73, 74, 75, 76, 77, 78, 79, 80, 81, 82, 83, 84, 85, 86, 87, 88, 89, 90, 91, 92, 93, 94, 95, 96, 97, 98, 99, 100, 101, 102, 103, 104, 105, 106, 107, 108, 109, 110, 111, 112, 113, 114, 116}]\n"
     ]
    }
   ],
   "source": [
    "print(clusters_ctr_dist[-1])"
   ]
  },
  {
   "cell_type": "code",
   "execution_count": 38,
   "id": "joint-investor",
   "metadata": {},
   "outputs": [],
   "source": [
    "ctr_cluster_classes = classify_clusters(clusters_ctr_dist[-1])"
   ]
  },
  {
   "cell_type": "code",
   "execution_count": 39,
   "id": "appropriate-award",
   "metadata": {},
   "outputs": [
    {
     "data": {
      "text/plain": [
       "<AxesSubplot:>"
      ]
     },
     "execution_count": 39,
     "metadata": {},
     "output_type": "execute_result"
    },
    {
     "data": {
      "image/png": "[encoded data removed]",
      "text/plain": [
       "<Figure size 432x288 with 2 Axes>"
      ]
     },
     "metadata": {
      "needs_background": "light"
     },
     "output_type": "display_data"
    }
   ],
   "source": [
    "# Armado de matriz de confusión (filas: valores reales; columnas: valores predictivos)\n",
    "confusion_matrix = { 0: {}, 1: {} }\n",
    "columns = []\n",
    "for key in confusion_matrix.keys():\n",
    "    columns.append(key)\n",
    "    confusion_matrix[key] = { 0: 0, 1: 0 }\n",
    "\n",
    "for clase, cluster in zip(ctr_cluster_classes, clusters_ctr_dist[-1]):\n",
    "    for index in cluster:\n",
    "        real_class = normalized_df[result_column].iloc[index]\n",
    "        confusion_matrix[real_class][clase] += 1\n",
    "\n",
    "confusion_df = { key : list(confusion_matrix[key].values()) for key in confusion_matrix.keys() }\n",
    "confusion_df = pd.DataFrame.from_dict(confusion_df, orient='index', columns=columns)\n",
    "\n",
    "sns.heatmap(confusion_df, annot=True, cmap='Blues', fmt='g', vmin=0)"
   ]
  },
  {
   "cell_type": "markdown",
   "id": "transsexual-profit",
   "metadata": {},
   "source": [
    "## K-medias"
   ]
  },
  {
   "cell_type": "code",
   "execution_count": 40,
   "id": "horizontal-anderson",
   "metadata": {},
   "outputs": [],
   "source": [
    "rng = np.random.default_rng()\n",
    "\n",
    "# Update centroids based on points in the cluster\n",
    "def update_centroids(data, classes):\n",
    "    for clase in classes.values():\n",
    "        if clase[\"changed\"]:\n",
    "            clase[\"centroid\"] = np.array(list(map(lambda x: data.iloc[x], clase[\"indices\"]))).mean(axis=0)\n",
    "            clase[\"changed\"] = False\n",
    "\n",
    "def K_means(data, K=2):\n",
    "    classes = {i: {\"indices\": set(), \"centroid\": np.zeros(len(numeric_columns)), \"changed\": True} for i in range(1, K+1)}\n",
    "    \n",
    "    # Set random clusters for every data point\n",
    "    random_classes = rng.integers(1, K+1, size=len(data))\n",
    "    for index, point_class in enumerate(random_classes):\n",
    "        classes[point_class][\"indices\"].add(index)\n",
    "    \n",
    "    # Iterate until no changes are made in cluster\n",
    "    while any(map(lambda x: x[\"changed\"], classes.values())):\n",
    "        update_centroids(data, classes)\n",
    "\n",
    "        changes = []\n",
    "        for clase, clase_value in classes.items():\n",
    "            for point_index in clase_value[\"indices\"]:\n",
    "                point = data.iloc[point_index]\n",
    "                \n",
    "                # Get closest cluster based on distance to cluster centroids\n",
    "                closest_class = (clase, np.linalg.norm(point - clase_value[\"centroid\"]))\n",
    "                for other_class, other_class_value in classes.items():\n",
    "                    if clase == other_class:\n",
    "                        continue\n",
    "\n",
    "                    other_centroid = other_class_value[\"centroid\"]\n",
    "                    other_centroid_dist = np.linalg.norm(point - other_centroid)\n",
    "\n",
    "                    if other_centroid_dist < closest_class[1]:\n",
    "                        closest_class = (other_class, other_centroid_dist)\n",
    "\n",
    "                if closest_class[0] != clase:\n",
    "                    # Record belongs to another cluster, save for later update\n",
    "                    changes.append({\"old_cluster\": clase, \"new_cluster\": closest_class[0], \"point_index\": point_index})\n",
    "\n",
    "        # Update clusters\n",
    "        for change in changes:\n",
    "            old_cluster = classes[change[\"old_cluster\"]]\n",
    "            new_cluster = classes[change[\"new_cluster\"]]\n",
    "            old_cluster[\"indices\"].remove(change[\"point_index\"])\n",
    "            new_cluster[\"indices\"].add(change[\"point_index\"])\n",
    "            old_cluster[\"changed\"] = new_cluster[\"changed\"] = True\n",
    "            \n",
    "        print(f\"Cluster changes processed: {len(changes)}\")\n",
    "\n",
    "    return classes\n",
    "\n",
    "def classify_K_means(data, clusters):\n",
    "    modes = []\n",
    "    for cluster in clusters.values():\n",
    "        cluster_rows = np.array(list(map(lambda x: data[result_column].iloc[x], cluster[\"indices\"])))\n",
    "        cluster_mode = stats.mode(cluster_rows)[0][0]\n",
    "        modes.append(cluster_mode)\n",
    "        \n",
    "    return modes\n",
    "\n",
    "def get_W(data, cluster):\n",
    "    W = 0\n",
    "    cluster_indices = list(cluster[\"indices\"])\n",
    "    for i in range(len(cluster_indices)):\n",
    "        point_1 = data.iloc[cluster_indices[i]]\n",
    "        for j in range(i+1, len(cluster_indices)):\n",
    "            point_2 = data.iloc[cluster_indices[j]]\n",
    "            W += sum(map(lambda x: (x[0] - x[1])**2, zip(point_1, point_2)))\n",
    "    return W / len(cluster_indices)\n",
    "\n",
    "def K_means_best(data, iterations=5, K=2):\n",
    "    min_W_sum = None\n",
    "    for i in range(iterations):\n",
    "        sample, _ = train_test_split(data, test_size=0.3)\n",
    "        K_means_clusters = K_means(sample, K)\n",
    "        W_sum = 0\n",
    "        \n",
    "        # Calculate the sum of W of each cluster\n",
    "        for current_K in range(1, K+1):\n",
    "            W_sum += get_W(sample, K_means_clusters[current_K])\n",
    "        \n",
    "        # Get the best clusters based on minimum W sum\n",
    "        if min_W_sum is None or W_sum < min_W_sum[1]:\n",
    "            min_W_sum = (K_means_clusters, W_sum, sample)\n",
    "            \n",
    "        print(f\"Finished iteration {i+1} - W sum: {W_sum}\")\n",
    "            \n",
    "    return min_W_sum\n",
    "\n",
    "def classify_K_means_best(data, sample, clusters):\n",
    "    modes = []\n",
    "    for cluster in clusters.values():\n",
    "        # sample:\n",
    "        # index | cad.dur   | age | ...\n",
    "        # 1774  | 0.6       | 0.6 | ...\n",
    "        # 3297  | 0.4       | 0.5 | ...\n",
    "        #\n",
    "        # data:\n",
    "        # index | sex | cad.dur | ... | sigdz\n",
    "        # 1774  | 1   | 0.6     | ... | 0\n",
    "        # 3297  | 0.4 | 0.5    | ...  | 1\n",
    "        #\n",
    "        # Based on index in sample (1774), look for result column (sigdz) in entire data set - subsample does not have column sigdz and has less rows\n",
    "        cluster_rows = np.array(list(map(lambda x: data[result_column].loc[sample.index[x]], cluster[\"indices\"])))\n",
    "        cluster_mode = stats.mode(cluster_rows)[0][0]\n",
    "        modes.append(cluster_mode)\n",
    "        \n",
    "    return modes"
   ]
  },
  {
   "cell_type": "code",
   "execution_count": 41,
   "id": "endangered-nigeria",
   "metadata": {},
   "outputs": [],
   "source": [
    "# Use balanced dataset, without dividing into training and testing\n",
    "complete_normalized_df = df.copy()\n",
    "for column in numeric_columns:\n",
    "    column_min = min(complete_normalized_df[column])\n",
    "    column_max = max(complete_normalized_df[column])\n",
    "    complete_normalized_df[column] = complete_normalized_df[column].apply(lambda x: (x - column_min) / (column_max - column_min))\n",
    "\n",
    "complete_numeric_norm_df = complete_normalized_df[numeric_columns]"
   ]
  },
  {
   "cell_type": "code",
   "execution_count": 42,
   "id": "departmental-headset",
   "metadata": {},
   "outputs": [
    {
     "data": {
      "text/html": [
       "<div>\n",
       "<style scoped>\n",
       "    .dataframe tbody tr th:only-of-type {\n",
       "        vertical-align: middle;\n",
       "    }\n",
       "\n",
       "    .dataframe tbody tr th {\n",
       "        vertical-align: top;\n",
       "    }\n",
       "\n",
       "    .dataframe thead th {\n",
       "        text-align: right;\n",
       "    }\n",
       "</style>\n",
       "<table border=\"1\" class=\"dataframe\">\n",
       "  <thead>\n",
       "    <tr style=\"text-align: right;\">\n",
       "      <th></th>\n",
       "      <th>sex</th>\n",
       "      <th>age</th>\n",
       "      <th>cad.dur</th>\n",
       "      <th>choleste</th>\n",
       "      <th>sigdz</th>\n",
       "      <th>tvdlm</th>\n",
       "    </tr>\n",
       "  </thead>\n",
       "  <tbody>\n",
       "    <tr>\n",
       "      <th>3</th>\n",
       "      <td>1</td>\n",
       "      <td>0.630769</td>\n",
       "      <td>0.231183</td>\n",
       "      <td>0.458599</td>\n",
       "      <td>0</td>\n",
       "      <td>0.0</td>\n",
       "    </tr>\n",
       "    <tr>\n",
       "      <th>4</th>\n",
       "      <td>1</td>\n",
       "      <td>0.600000</td>\n",
       "      <td>0.018817</td>\n",
       "      <td>0.509554</td>\n",
       "      <td>0</td>\n",
       "      <td>0.0</td>\n",
       "    </tr>\n",
       "    <tr>\n",
       "      <th>11</th>\n",
       "      <td>0</td>\n",
       "      <td>0.276923</td>\n",
       "      <td>0.118280</td>\n",
       "      <td>0.484076</td>\n",
       "      <td>0</td>\n",
       "      <td>0.0</td>\n",
       "    </tr>\n",
       "    <tr>\n",
       "      <th>12</th>\n",
       "      <td>1</td>\n",
       "      <td>0.800000</td>\n",
       "      <td>0.026882</td>\n",
       "      <td>0.420382</td>\n",
       "      <td>0</td>\n",
       "      <td>0.0</td>\n",
       "    </tr>\n",
       "    <tr>\n",
       "      <th>20</th>\n",
       "      <td>1</td>\n",
       "      <td>0.538462</td>\n",
       "      <td>0.080645</td>\n",
       "      <td>0.447983</td>\n",
       "      <td>0</td>\n",
       "      <td>0.0</td>\n",
       "    </tr>\n",
       "  </tbody>\n",
       "</table>\n",
       "</div>"
      ],
      "text/plain": [
       "    sex       age   cad.dur  choleste  sigdz  tvdlm\n",
       "3     1  0.630769  0.231183  0.458599      0    0.0\n",
       "4     1  0.600000  0.018817  0.509554      0    0.0\n",
       "11    0  0.276923  0.118280  0.484076      0    0.0\n",
       "12    1  0.800000  0.026882  0.420382      0    0.0\n",
       "20    1  0.538462  0.080645  0.447983      0    0.0"
      ]
     },
     "execution_count": 42,
     "metadata": {},
     "output_type": "execute_result"
    }
   ],
   "source": [
    "complete_normalized_df.head()"
   ]
  },
  {
   "cell_type": "code",
   "execution_count": 43,
   "id": "exempt-collector",
   "metadata": {},
   "outputs": [
    {
     "data": {
      "text/plain": [
       "sex         1.000000\n",
       "age         0.800000\n",
       "cad.dur     0.026882\n",
       "choleste    0.420382\n",
       "sigdz       0.000000\n",
       "tvdlm       0.000000\n",
       "Name: 12, dtype: float64"
      ]
     },
     "execution_count": 43,
     "metadata": {},
     "output_type": "execute_result"
    }
   ],
   "source": [
    "complete_normalized_df.iloc[3]"
   ]
  },
  {
   "cell_type": "code",
   "execution_count": 44,
   "id": "isolated-metropolitan",
   "metadata": {},
   "outputs": [
    {
     "name": "stdout",
     "output_type": "stream",
     "text": [
      "Cluster changes processed: 1146\n",
      "Cluster changes processed: 171\n",
      "Cluster changes processed: 63\n",
      "Cluster changes processed: 31\n",
      "Cluster changes processed: 24\n",
      "Cluster changes processed: 16\n",
      "Cluster changes processed: 14\n",
      "Cluster changes processed: 17\n",
      "Cluster changes processed: 11\n",
      "Cluster changes processed: 9\n",
      "Cluster changes processed: 2\n",
      "Cluster changes processed: 2\n",
      "Cluster changes processed: 1\n",
      "Cluster changes processed: 0\n"
     ]
    }
   ],
   "source": [
    "K_means_clusters = K_means(complete_numeric_norm_df, 2)"
   ]
  },
  {
   "cell_type": "code",
   "execution_count": 45,
   "id": "transsexual-classics",
   "metadata": {},
   "outputs": [
    {
     "data": {
      "text/plain": [
       "[0, 1]"
      ]
     },
     "execution_count": 45,
     "metadata": {},
     "output_type": "execute_result"
    }
   ],
   "source": [
    "classify_K_means(complete_normalized_df, K_means_clusters)"
   ]
  },
  {
   "cell_type": "code",
   "execution_count": 46,
   "id": "honey-edinburgh",
   "metadata": {},
   "outputs": [
    {
     "data": {
      "text/plain": [
       "32.539377603806074"
      ]
     },
     "execution_count": 46,
     "metadata": {},
     "output_type": "execute_result"
    }
   ],
   "source": [
    "get_W(complete_numeric_norm_df, K_means_clusters[1])"
   ]
  },
  {
   "cell_type": "code",
   "execution_count": 47,
   "id": "dimensional-weapon",
   "metadata": {},
   "outputs": [
    {
     "data": {
      "text/plain": [
       "51.81816465698864"
      ]
     },
     "execution_count": 47,
     "metadata": {},
     "output_type": "execute_result"
    }
   ],
   "source": [
    "get_W(complete_numeric_norm_df, K_means_clusters[2])"
   ]
  },
  {
   "cell_type": "markdown",
   "id": "posted-bargain",
   "metadata": {},
   "source": [
    "Run K-means algorithm multiple times and keep the data that gives the minimum W(C_k) sum"
   ]
  },
  {
   "cell_type": "code",
   "execution_count": null,
   "id": "formal-ebony",
   "metadata": {},
   "outputs": [],
   "source": [
    "K_means_best_clusters, min_W_sum, K_means_best_sample = K_means_best(complete_numeric_norm_df, 5, 2)"
   ]
  },
  {
   "cell_type": "code",
   "execution_count": null,
   "id": "moved-mineral",
   "metadata": {},
   "outputs": [],
   "source": [
    "K_means_best_classes = classify_K_means_best(complete_normalized_df, K_means_best_sample, K_means_best_clusters)"
   ]
  },
  {
   "cell_type": "code",
   "execution_count": null,
   "id": "thrown-return",
   "metadata": {},
   "outputs": [],
   "source": [
    "K_means_best_classes"
   ]
  },
  {
   "cell_type": "code",
   "execution_count": null,
   "id": "through-lincoln",
   "metadata": {},
   "outputs": [],
   "source": [
    "# Armado de matriz de confusión (filas: valores reales; columnas: valores predictivos)\n",
    "confusion_matrix = { 0: {}, 1: {} }\n",
    "columns = []\n",
    "for key in confusion_matrix.keys():\n",
    "    columns.append(key)\n",
    "    confusion_matrix[key] = { 0: 0, 1: 0 }\n",
    "\n",
    "for clase, cluster in zip(K_means_best_classes, K_means_best_clusters.values()):\n",
    "    for index in cluster[\"indices\"]:\n",
    "        real_class = complete_normalized_df[result_column].loc[K_means_best_sample.index[index]]\n",
    "        confusion_matrix[real_class][clase] += 1\n",
    "\n",
    "confusion_df = { key : list(confusion_matrix[key].values()) for key in confusion_matrix.keys() }\n",
    "confusion_df = pd.DataFrame.from_dict(confusion_df, orient='index', columns=columns)\n",
    "\n",
    "sns.heatmap(confusion_df, annot=True, cmap='Blues', fmt='g', vmin=0)"
   ]
  },
  {
   "cell_type": "markdown",
   "id": "decent-public",
   "metadata": {},
   "source": [
    "### Redes de Kohonen"
   ]
  },
  {
   "cell_type": "code",
   "execution_count": 61,
   "id": "falling-corrections",
   "metadata": {},
   "outputs": [],
   "source": [
    "import numpy as np\n",
    "import math\n",
    "\n",
    "## Algortimo\n",
    "\n",
    "# Inicializar los pesos\n",
    "# Inicializar el radio de vecindad\n",
    "# Inicializar el factor de aprendizaje \n",
    "# Inicializar epocas en 0\n",
    "#\n",
    "# \n",
    "### Mientras epocas < max ctd epocas\n",
    "######## Para cada ejemplo tomado al azar del conjunto de entrenamiento\n",
    "#         Presentar el ejemplo en la capa de entrada\n",
    "#         Obtener la neurona ganadora\n",
    "#         Actualizar los pesos de las conexiones de la neurona ganadora\n",
    "#         Actualizar los pesos de las conexiones de las neuronas vecinas\n",
    "#     Incrementar epocas\n",
    "#     Actualizar el radio de vecindad\n",
    "#     Actualizar el factor de aprendizaje\n",
    "# Fin\n",
    "\n",
    "# Valores Iniciales\n",
    "# Los pesos se inicializan con valores aleatorios con U(-1, 1)\n",
    "# R = k\n",
    "# n = 0,1\n",
    "\n",
    "# w es un vector con los pesos de cada neurona de salida\n",
    "# xp es un ejemplo del conjunto de entrenamiento\n",
    "# dim(xp) = dim(w)\n"
   ]
  },
  {
   "cell_type": "code",
   "execution_count": 81,
   "id": "breeding-pension",
   "metadata": {},
   "outputs": [],
   "source": [
    "def update_R(epoch, max_epochs, initial_R):\n",
    "    return (max_epochs - epoch) * initial_R / max_epochs\n",
    "\n",
    "# Usamos la distancia euclidea como medida de similitud para saber cual es la neurona ganadora\n",
    "def euclidean_distance(w, xp):\n",
    "    return np.linalg.norm(w - xp)\n",
    "\n",
    "# Actualizacion de los pesos para la neurona ganadora para el ejemplo de entrenamiento\n",
    "def update_w_winning_neuron(w, n, xp):\n",
    "    delta_w = n * (xp - w)\n",
    "    return w + delta_w\n",
    "\n",
    "# Actualizacion de pesos para una neurona que esta en el vecindario de la neurona ganadora\n",
    "def update_w_neighbour(w, n, xp, d, R):\n",
    "    V = math.exp(-2 * d / R)\n",
    "    delta_w = V * n * (xp - w)\n",
    "    return w + delta_w\n",
    "    \n",
    "def update_learning_factor(epoch, max_epochs):\n",
    "    return 0.1 * (1 - (epoch / max_epochs))\n",
    "\n",
    "def update_neighbours(matrix, coords, R, k, n, xp):\n",
    "    for i in range(k):\n",
    "        for j in range(k):\n",
    "            dist = np.linalg.norm(np.array([i, j]) - np.array([coords[0], coords[1]]))\n",
    "            if (dist <= R):\n",
    "                V = math.exp(-2 * dist / R)\n",
    "                delta_w = V * n * (xp - matrix[i][j])\n",
    "                matrix[i][j] += delta_w\n",
    "    \n",
    "            \n",
    "            \n",
    "def get_winning_neuron(matrix, xp, k):\n",
    "    min_dist = None\n",
    "    min_coords = None\n",
    "    for i in range(k):\n",
    "        for j in range(k):\n",
    "            dist = euclidean_distance(matrix[i][j], xp)\n",
    "            if min_dist is None or dist < min_dist:\n",
    "                min_dist = dist\n",
    "                min_coords = (i, j)\n",
    "    return min_coords"
   ]
  },
  {
   "cell_type": "code",
   "execution_count": 85,
   "id": "mobile-track",
   "metadata": {},
   "outputs": [],
   "source": [
    "# Crear una matriz de [K x K] para la capa de salida\n",
    "# en cada posicion i,j hay un vector w con n pesos (dim de la cantidad de atributos\n",
    "# de un ejemplo del dataset)\n",
    "\n",
    "def train_kohonen(data, k=20, max_epochs=500):\n",
    "    R = k\n",
    "    epoch = 0\n",
    "    n = 0.1\n",
    "    # Inicializar los pesos con ~ U(-1, 1)\n",
    "    matrix = [[rng.uniform(1, -1, len(numeric_columns)) for x in range(k)] for y in range(k)]\n",
    "    \n",
    "    while epoch < max_epochs:\n",
    "        \n",
    "        for index, row in data.iterrows():\n",
    "            xp = row.to_numpy()\n",
    "            coords = get_winning_neuron(matrix, xp, k)\n",
    "            winning_w = matrix[coords[0]][coords[1]]\n",
    "            matrix[coords[0]][coords[1]] = update_w_winning_neuron(winning_w, n, xp)\n",
    "            update_neighbours(matrix, coords, R, k, n, xp)\n",
    "        \n",
    "        epoch += 1\n",
    "        R = update_R(epoch, max_epochs, k)\n",
    "        n = update_learning_factor(epoch, max_epochs)\n",
    "        print(epoch)\n",
    "        \n",
    "    return matrix"
   ]
  },
  {
   "cell_type": "code",
   "execution_count": 86,
   "id": "seasonal-repeat",
   "metadata": {},
   "outputs": [],
   "source": [
    "def create_count_matrix(data, matrix):\n",
    "    k = len(matrix)\n",
    "    count_matrix = [[[0, 0] for x in range(k)] for y in range(k)]\n",
    "    for index, row in data.iterrows():\n",
    "        xp = row[numeric_columns].to_numpy()\n",
    "        coords = get_winning_neuron(matrix, xp, k)\n",
    "        count_matrix[coords[0]][coords[1]][int(row[result_column])] += 1\n",
    "        \n",
    "    return count_matrix\n",
    "    \n",
    "    \n",
    "def classify_kohonen(data, matrix):\n",
    "    k = len(matrix)\n",
    "    class_matrix = [[None for x in range(k)] for y in range(k)]\n",
    "    count_matrix = create_count_matrix(data, matrix)\n",
    "    for i in range(k):\n",
    "        for j in range(k):\n",
    "            if count_matrix[i][j][0] == 0 and count_matrix[i][j][1] == 0:\n",
    "                class_matrix[i][j] = None\n",
    "            elif count_matrix[i][j][0] >= count_matrix[i][j][1]:\n",
    "                class_matrix[i][j] = 0\n",
    "            else: \n",
    "                 class_matrix[i][j] = 1\n",
    "    \n",
    "    return class_matrix\n",
    "            "
   ]
  },
  {
   "cell_type": "code",
   "execution_count": null,
   "id": "supposed-jonathan",
   "metadata": {},
   "outputs": [
    {
     "name": "stdout",
     "output_type": "stream",
     "text": [
      "1\n",
      "2\n",
      "3\n",
      "4\n",
      "5\n",
      "6\n",
      "7\n",
      "8\n",
      "9\n",
      "10\n",
      "11\n",
      "12\n",
      "13\n",
      "14\n",
      "15\n",
      "16\n",
      "17\n",
      "18\n",
      "19\n",
      "20\n",
      "21\n",
      "22\n",
      "23\n",
      "24\n",
      "25\n",
      "26\n",
      "27\n",
      "28\n",
      "29\n",
      "30\n",
      "31\n",
      "32\n",
      "33\n",
      "34\n",
      "35\n",
      "36\n",
      "37\n",
      "38\n",
      "39\n",
      "40\n",
      "41\n",
      "42\n",
      "43\n",
      "44\n",
      "45\n",
      "46\n",
      "47\n",
      "48\n",
      "49\n",
      "50\n",
      "51\n",
      "52\n",
      "53\n",
      "54\n",
      "55\n",
      "56\n",
      "57\n",
      "58\n",
      "59\n",
      "60\n",
      "61\n",
      "62\n",
      "63\n",
      "64\n",
      "65\n",
      "66\n",
      "67\n",
      "68\n",
      "69\n",
      "70\n",
      "71\n",
      "72\n",
      "73\n",
      "74\n",
      "75\n",
      "76\n",
      "77\n",
      "78\n",
      "79\n",
      "80\n",
      "81\n",
      "82\n",
      "83\n",
      "84\n",
      "85\n",
      "86\n",
      "87\n",
      "88\n",
      "89\n",
      "90\n",
      "91\n",
      "92\n",
      "93\n",
      "94\n",
      "95\n",
      "96\n",
      "97\n",
      "98\n",
      "99\n",
      "100\n",
      "101\n",
      "102\n",
      "103\n",
      "104\n",
      "105\n",
      "106\n",
      "107\n",
      "108\n",
      "109\n",
      "110\n",
      "111\n",
      "112\n",
      "113\n",
      "114\n",
      "115\n",
      "116\n",
      "117\n",
      "118\n",
      "119\n",
      "120\n",
      "121\n",
      "122\n",
      "123\n",
      "124\n",
      "125\n",
      "126\n",
      "127\n",
      "128\n",
      "129\n",
      "130\n",
      "131\n",
      "132\n",
      "133\n",
      "134\n",
      "135\n",
      "136\n",
      "137\n",
      "138\n",
      "139\n",
      "140\n",
      "141\n",
      "142\n",
      "143\n",
      "144\n",
      "145\n",
      "146\n",
      "147\n",
      "148\n",
      "149\n",
      "150\n",
      "151\n",
      "152\n",
      "153\n",
      "154\n",
      "155\n",
      "156\n",
      "157\n",
      "158\n",
      "159\n",
      "160\n",
      "161\n",
      "162\n",
      "163\n",
      "164\n",
      "165\n",
      "166\n",
      "167\n",
      "168\n",
      "169\n",
      "170\n",
      "171\n",
      "172\n",
      "173\n",
      "174\n",
      "175\n",
      "176\n",
      "177\n",
      "178\n",
      "179\n",
      "180\n",
      "181\n",
      "182\n",
      "183\n",
      "184\n",
      "185\n",
      "186\n",
      "187\n",
      "188\n",
      "189\n",
      "190\n",
      "191\n",
      "192\n",
      "193\n",
      "194\n",
      "195\n",
      "196\n",
      "197\n",
      "198\n",
      "199\n",
      "200\n",
      "201\n",
      "202\n",
      "203\n",
      "204\n",
      "205\n",
      "206\n",
      "207\n",
      "208\n",
      "209\n",
      "210\n",
      "211\n",
      "212\n",
      "213\n",
      "214\n",
      "215\n",
      "216\n",
      "217\n",
      "218\n",
      "219\n",
      "220\n",
      "221\n",
      "222\n",
      "223\n",
      "224\n",
      "225\n",
      "226\n",
      "227\n",
      "228\n",
      "229\n",
      "230\n",
      "231\n",
      "232\n",
      "233\n",
      "234\n",
      "235\n",
      "236\n",
      "237\n",
      "238\n",
      "239\n",
      "240\n",
      "241\n",
      "242\n",
      "243\n",
      "244\n",
      "245\n",
      "246\n",
      "247\n",
      "248\n",
      "249\n",
      "250\n",
      "251\n",
      "252\n",
      "253\n",
      "254\n",
      "255\n",
      "256\n",
      "257\n",
      "258\n",
      "259\n",
      "260\n",
      "261\n",
      "262\n",
      "263\n",
      "264\n",
      "265\n",
      "266\n",
      "267\n",
      "268\n",
      "269\n",
      "270\n",
      "271\n",
      "272\n",
      "273\n",
      "274\n",
      "275\n",
      "276\n",
      "277\n",
      "278\n",
      "279\n",
      "280\n",
      "281\n",
      "282\n",
      "283\n",
      "284\n",
      "285\n",
      "286\n",
      "287\n",
      "288\n",
      "289\n",
      "290\n",
      "291\n",
      "292\n",
      "293\n",
      "294\n"
     ]
    }
   ],
   "source": [
    "ranged_df = df.copy()\n",
    "for column in numeric_columns:\n",
    "    mean = ranged_df[column].mean()\n",
    "    std = ranged_df[column].std()\n",
    "    ranged_df[column] = ranged_df[column].apply(lambda x: (x - mean) / std)\n",
    "\n",
    "train_kohonen_df, test_kohonen_df = train_test_split(ranged_df, test_size=0.2)\n",
    "\n",
    "kohonen_matrix = train_kohonen(train_kohonen_df[numeric_columns], k=4, max_epochs=500)\n",
    "\n",
    "tagged_neurons = classify_kohonen(train_kohonen_df, kohonen_matrix)\n",
    "\n",
    "print(tagged_neurons)"
   ]
  },
  {
   "cell_type": "code",
   "execution_count": 92,
   "id": "baking-function",
   "metadata": {},
   "outputs": [
    {
     "data": {
      "text/plain": [
       "<AxesSubplot:>"
      ]
     },
     "execution_count": 92,
     "metadata": {},
     "output_type": "execute_result"
    },
    {
     "data": {
      "image/png": "[encoded data removed]",
      "text/plain": [
       "<Figure size 432x288 with 2 Axes>"
      ]
     },
     "metadata": {
      "needs_background": "light"
     },
     "output_type": "display_data"
    }
   ],
   "source": [
    "# Armado de matriz de confusión (filas: valores reales; columnas: valores predictivos)\n",
    "confusion_matrix = { 0: {}, 1: {} }\n",
    "columns = []\n",
    "for key in confusion_matrix.keys():\n",
    "    columns.append(key)\n",
    "    confusion_matrix[key] = { 0: 0, 1: 0 }\n",
    "\n",
    "for index, row in test_kohonen_df.iterrows():\n",
    "    \n",
    "    real_class = row[result_column]\n",
    "    coords = get_winning_neuron(kohonen_matrix, row[numeric_columns].to_numpy(), len(kohonen_matrix))\n",
    "    predicted_class = tagged_neurons[coords[0]][coords[1]]\n",
    "    confusion_matrix[real_class][predicted_class] += 1\n",
    "\n",
    "confusion_df = { key : list(confusion_matrix[key].values()) for key in confusion_matrix.keys() }\n",
    "confusion_df = pd.DataFrame.from_dict(confusion_df, orient='index', columns=columns)\n",
    "\n",
    "sns.heatmap(confusion_df, annot=True, cmap='Blues', fmt='g', vmin=0)"
   ]
  },
  {
   "cell_type": "code",
   "execution_count": null,
   "id": "intense-kingston",
   "metadata": {},
   "outputs": [],
   "source": []
  }
 ],
 "metadata": {
  "kernelspec": {
   "display_name": "Python 3",
   "language": "python",
   "name": "python3"
  },
  "language_info": {
   "codemirror_mode": {
    "name": "ipython",
    "version": 3
   },
   "file_extension": ".py",
   "mimetype": "text/x-python",
   "name": "python",
   "nbconvert_exporter": "python",
   "pygments_lexer": "ipython3",
   "version": "3.7.2"
  }
 },
 "nbformat": 4,
 "nbformat_minor": 5
}
