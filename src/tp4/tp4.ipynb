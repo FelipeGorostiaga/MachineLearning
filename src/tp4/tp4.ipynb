{
 "cells": [
  {
   "cell_type": "markdown",
   "metadata": {},
   "source": [
    "# Métodos de Aprendizaje no supervisado"
   ]
  },
  {
   "cell_type": "code",
   "execution_count": 83,
   "metadata": {},
   "outputs": [
    {
     "data": {
      "text/html": [
       "<div>\n",
       "<style scoped>\n",
       "    .dataframe tbody tr th:only-of-type {\n",
       "        vertical-align: middle;\n",
       "    }\n",
       "\n",
       "    .dataframe tbody tr th {\n",
       "        vertical-align: top;\n",
       "    }\n",
       "\n",
       "    .dataframe thead th {\n",
       "        text-align: right;\n",
       "    }\n",
       "</style>\n",
       "<table border=\"1\" class=\"dataframe\">\n",
       "  <thead>\n",
       "    <tr style=\"text-align: right;\">\n",
       "      <th></th>\n",
       "      <th>sex</th>\n",
       "      <th>age</th>\n",
       "      <th>cad.dur</th>\n",
       "      <th>choleste</th>\n",
       "      <th>sigdz</th>\n",
       "      <th>tvdlm</th>\n",
       "    </tr>\n",
       "  </thead>\n",
       "  <tbody>\n",
       "    <tr>\n",
       "      <th>0</th>\n",
       "      <td>0</td>\n",
       "      <td>73</td>\n",
       "      <td>132</td>\n",
       "      <td>268.0</td>\n",
       "      <td>1</td>\n",
       "      <td>1.0</td>\n",
       "    </tr>\n",
       "    <tr>\n",
       "      <th>1</th>\n",
       "      <td>0</td>\n",
       "      <td>68</td>\n",
       "      <td>85</td>\n",
       "      <td>120.0</td>\n",
       "      <td>1</td>\n",
       "      <td>1.0</td>\n",
       "    </tr>\n",
       "    <tr>\n",
       "      <th>2</th>\n",
       "      <td>0</td>\n",
       "      <td>54</td>\n",
       "      <td>45</td>\n",
       "      <td>NaN</td>\n",
       "      <td>1</td>\n",
       "      <td>0.0</td>\n",
       "    </tr>\n",
       "    <tr>\n",
       "      <th>3</th>\n",
       "      <td>1</td>\n",
       "      <td>58</td>\n",
       "      <td>86</td>\n",
       "      <td>245.0</td>\n",
       "      <td>0</td>\n",
       "      <td>0.0</td>\n",
       "    </tr>\n",
       "    <tr>\n",
       "      <th>4</th>\n",
       "      <td>1</td>\n",
       "      <td>56</td>\n",
       "      <td>7</td>\n",
       "      <td>269.0</td>\n",
       "      <td>0</td>\n",
       "      <td>0.0</td>\n",
       "    </tr>\n",
       "  </tbody>\n",
       "</table>\n",
       "</div>"
      ],
      "text/plain": [
       "   sex  age  cad.dur  choleste  sigdz  tvdlm\n",
       "0    0   73      132     268.0      1    1.0\n",
       "1    0   68       85     120.0      1    1.0\n",
       "2    0   54       45       NaN      1    0.0\n",
       "3    1   58       86     245.0      0    0.0\n",
       "4    1   56        7     269.0      0    0.0"
      ]
     },
     "execution_count": 83,
     "metadata": {},
     "output_type": "execute_result"
    }
   ],
   "source": [
    "import pandas as pd\n",
    "\n",
    "df = pd.read_excel('../../res/tp4/acath.xlsx', sheet_name='acath')  # 3505 rows\n",
    "\n",
    "df.head()"
   ]
  },
  {
   "cell_type": "code",
   "execution_count": 84,
   "metadata": {},
   "outputs": [
    {
     "name": "stdout",
     "output_type": "stream",
     "text": [
      "Cantidad de filas negativas: 1170\n",
      "Cantidad de filas positivas: 2334\n"
     ]
    }
   ],
   "source": [
    "negative = df[df.sigdz == 0]\n",
    "positive = df[df.sigdz == 1]\n",
    "\n",
    "print(f\"Cantidad de filas negativas: {len(negative)}\")\n",
    "print(f\"Cantidad de filas positivas: {len(positive)}\")\n",
    "\n",
    "# Se elige un subset de filas para igualar la proporción\n",
    "positive = positive.sample(n=len(negative))\n",
    "\n",
    "total = [negative, positive]\n",
    "df = pd.concat(total)"
   ]
  },
  {
   "cell_type": "code",
   "execution_count": 85,
   "metadata": {},
   "outputs": [
    {
     "data": {
      "text/html": [
       "<div>\n",
       "<style scoped>\n",
       "    .dataframe tbody tr th:only-of-type {\n",
       "        vertical-align: middle;\n",
       "    }\n",
       "\n",
       "    .dataframe tbody tr th {\n",
       "        vertical-align: top;\n",
       "    }\n",
       "\n",
       "    .dataframe thead th {\n",
       "        text-align: right;\n",
       "    }\n",
       "</style>\n",
       "<table border=\"1\" class=\"dataframe\">\n",
       "  <thead>\n",
       "    <tr style=\"text-align: right;\">\n",
       "      <th></th>\n",
       "      <th>sex</th>\n",
       "      <th>age</th>\n",
       "      <th>cad.dur</th>\n",
       "      <th>choleste</th>\n",
       "      <th>sigdz</th>\n",
       "      <th>tvdlm</th>\n",
       "    </tr>\n",
       "  </thead>\n",
       "  <tbody>\n",
       "    <tr>\n",
       "      <th>3</th>\n",
       "      <td>1</td>\n",
       "      <td>58</td>\n",
       "      <td>86</td>\n",
       "      <td>245.0</td>\n",
       "      <td>0</td>\n",
       "      <td>0.0</td>\n",
       "    </tr>\n",
       "    <tr>\n",
       "      <th>4</th>\n",
       "      <td>1</td>\n",
       "      <td>56</td>\n",
       "      <td>7</td>\n",
       "      <td>269.0</td>\n",
       "      <td>0</td>\n",
       "      <td>0.0</td>\n",
       "    </tr>\n",
       "    <tr>\n",
       "      <th>11</th>\n",
       "      <td>0</td>\n",
       "      <td>35</td>\n",
       "      <td>44</td>\n",
       "      <td>257.0</td>\n",
       "      <td>0</td>\n",
       "      <td>0.0</td>\n",
       "    </tr>\n",
       "    <tr>\n",
       "      <th>12</th>\n",
       "      <td>1</td>\n",
       "      <td>69</td>\n",
       "      <td>10</td>\n",
       "      <td>NaN</td>\n",
       "      <td>0</td>\n",
       "      <td>0.0</td>\n",
       "    </tr>\n",
       "    <tr>\n",
       "      <th>20</th>\n",
       "      <td>1</td>\n",
       "      <td>52</td>\n",
       "      <td>30</td>\n",
       "      <td>240.0</td>\n",
       "      <td>0</td>\n",
       "      <td>0.0</td>\n",
       "    </tr>\n",
       "  </tbody>\n",
       "</table>\n",
       "</div>"
      ],
      "text/plain": [
       "    sex  age  cad.dur  choleste  sigdz  tvdlm\n",
       "3     1   58       86     245.0      0    0.0\n",
       "4     1   56        7     269.0      0    0.0\n",
       "11    0   35       44     257.0      0    0.0\n",
       "12    1   69       10       NaN      0    0.0\n",
       "20    1   52       30     240.0      0    0.0"
      ]
     },
     "execution_count": 85,
     "metadata": {},
     "output_type": "execute_result"
    }
   ],
   "source": [
    "df.head()"
   ]
  },
  {
   "cell_type": "code",
   "execution_count": 86,
   "metadata": {},
   "outputs": [
    {
     "data": {
      "text/html": [
       "<div>\n",
       "<style scoped>\n",
       "    .dataframe tbody tr th:only-of-type {\n",
       "        vertical-align: middle;\n",
       "    }\n",
       "\n",
       "    .dataframe tbody tr th {\n",
       "        vertical-align: top;\n",
       "    }\n",
       "\n",
       "    .dataframe thead th {\n",
       "        text-align: right;\n",
       "    }\n",
       "</style>\n",
       "<table border=\"1\" class=\"dataframe\">\n",
       "  <thead>\n",
       "    <tr style=\"text-align: right;\">\n",
       "      <th></th>\n",
       "      <th>sex</th>\n",
       "      <th>age</th>\n",
       "      <th>cad.dur</th>\n",
       "      <th>choleste</th>\n",
       "      <th>sigdz</th>\n",
       "      <th>tvdlm</th>\n",
       "    </tr>\n",
       "  </thead>\n",
       "  <tbody>\n",
       "    <tr>\n",
       "      <th>3</th>\n",
       "      <td>1</td>\n",
       "      <td>58</td>\n",
       "      <td>86</td>\n",
       "      <td>245.0</td>\n",
       "      <td>0</td>\n",
       "      <td>0.0</td>\n",
       "    </tr>\n",
       "    <tr>\n",
       "      <th>4</th>\n",
       "      <td>1</td>\n",
       "      <td>56</td>\n",
       "      <td>7</td>\n",
       "      <td>269.0</td>\n",
       "      <td>0</td>\n",
       "      <td>0.0</td>\n",
       "    </tr>\n",
       "    <tr>\n",
       "      <th>11</th>\n",
       "      <td>0</td>\n",
       "      <td>35</td>\n",
       "      <td>44</td>\n",
       "      <td>257.0</td>\n",
       "      <td>0</td>\n",
       "      <td>0.0</td>\n",
       "    </tr>\n",
       "    <tr>\n",
       "      <th>12</th>\n",
       "      <td>1</td>\n",
       "      <td>69</td>\n",
       "      <td>10</td>\n",
       "      <td>227.0</td>\n",
       "      <td>0</td>\n",
       "      <td>0.0</td>\n",
       "    </tr>\n",
       "    <tr>\n",
       "      <th>20</th>\n",
       "      <td>1</td>\n",
       "      <td>52</td>\n",
       "      <td>30</td>\n",
       "      <td>240.0</td>\n",
       "      <td>0</td>\n",
       "      <td>0.0</td>\n",
       "    </tr>\n",
       "  </tbody>\n",
       "</table>\n",
       "</div>"
      ],
      "text/plain": [
       "    sex  age  cad.dur  choleste  sigdz  tvdlm\n",
       "3     1   58       86     245.0      0    0.0\n",
       "4     1   56        7     269.0      0    0.0\n",
       "11    0   35       44     257.0      0    0.0\n",
       "12    1   69       10     227.0      0    0.0\n",
       "20    1   52       30     240.0      0    0.0"
      ]
     },
     "execution_count": 86,
     "metadata": {},
     "output_type": "execute_result"
    }
   ],
   "source": [
    "import numpy as np\n",
    "\n",
    "# Sanitize dataset\n",
    "result_column = 'sigdz'\n",
    "columns = ['sex', 'age', 'cad.dur', 'choleste', 'tvdlm']\n",
    "numeric_columns = ['age', 'cad.dur', 'choleste']\n",
    "\n",
    "# Replace numeric value for `sigdz` with logical value\n",
    "# df.replace({result_column: {1: 'T', 0: 'F'}}, inplace=True)\n",
    "# df.replace({'tvdlm': {1: 'T', 0: 'F'}}, inplace=True)\n",
    "# df.replace({'sex': {1: 'F', 0: 'M'}}, inplace=True)\n",
    "\n",
    "# Replace NaN occurrences with mean\n",
    "for column in numeric_columns:\n",
    "    df.replace({column: {np.nan: int(df[column].mean())}}, inplace=True)\n",
    "\n",
    "df.head()"
   ]
  },
  {
   "cell_type": "markdown",
   "metadata": {},
   "source": [
    "## Regresión Logística"
   ]
  },
  {
   "cell_type": "code",
   "execution_count": 87,
   "metadata": {},
   "outputs": [],
   "source": [
    "from sklearn.model_selection import train_test_split\n",
    "\n",
    "train, test = train_test_split(df, test_size=0.2)"
   ]
  },
  {
   "cell_type": "code",
   "execution_count": 88,
   "metadata": {},
   "outputs": [],
   "source": [
    "from sklearn.linear_model import LogisticRegression\n",
    "from sklearn.metrics import classification_report, confusion_matrix\n",
    "\n",
    "def train_model(data, fields, result_var, params=None):\n",
    "    model = LogisticRegression()\n",
    "    model.fit(data[fields], data[result_var])\n",
    "    return model\n",
    "\n",
    "\n",
    "model = train_model(train, numeric_columns, result_column)"
   ]
  },
  {
   "cell_type": "code",
   "execution_count": 89,
   "metadata": {},
   "outputs": [],
   "source": [
    "predicted = model.predict(test[numeric_columns])"
   ]
  },
  {
   "cell_type": "code",
   "execution_count": 90,
   "metadata": {},
   "outputs": [
    {
     "name": "stdout",
     "output_type": "stream",
     "text": [
      "Población completa\n"
     ]
    },
    {
     "data": {
      "image/png": "[encoded data removed]",
      "text/plain": [
       "<Figure size 432x288 with 2 Axes>"
      ]
     },
     "metadata": {
      "needs_background": "light"
     },
     "output_type": "display_data"
    }
   ],
   "source": [
    "import seaborn as sns\n",
    "\n",
    "def plot_confusion_matrix(data, result_var, predictions, title=None, ax=None):\n",
    "    conf_mat = confusion_matrix(data[result_var], predictions)\n",
    "    count_values = list(map(lambda x: sum(x), conf_mat))\n",
    "\n",
    "    unique, counts = np.unique(np.array(data[result_var]), return_counts=True)\n",
    "    count_labels = dict(zip(counts, unique))\n",
    "\n",
    "    labels = []\n",
    "    for value in count_values:\n",
    "        labels.append(count_labels[value])\n",
    "\n",
    "    if title is not None:\n",
    "        print(title)\n",
    "\n",
    "    if ax is None:\n",
    "        sns.heatmap(conf_mat, annot=True, cmap='Blues', fmt='g', xticklabels=labels, yticklabels=labels)\n",
    "    else:\n",
    "        sns.heatmap(conf_mat, ax=ax, annot=True, cmap='Blues', fmt='g', xticklabels=labels, yticklabels=labels)\n",
    "\n",
    "plot_confusion_matrix(test, result_column, predicted, title='Población completa')"
   ]
  },
  {
   "cell_type": "code",
   "execution_count": 91,
   "metadata": {},
   "outputs": [
    {
     "name": "stdout",
     "output_type": "stream",
     "text": [
      "              precision    recall  f1-score   support\n",
      "\n",
      "           0       0.62      0.57      0.60       235\n",
      "           1       0.60      0.64      0.62       233\n",
      "\n",
      "    accuracy                           0.61       468\n",
      "   macro avg       0.61      0.61      0.61       468\n",
      "weighted avg       0.61      0.61      0.61       468\n",
      "\n"
     ]
    }
   ],
   "source": [
    "print(classification_report(test[result_column], predicted))"
   ]
  },
  {
   "cell_type": "markdown",
   "metadata": {},
   "source": [
    "### Regresión Logística por género"
   ]
  },
  {
   "cell_type": "code",
   "execution_count": 93,
   "metadata": {},
   "outputs": [
    {
     "name": "stdout",
     "output_type": "stream",
     "text": [
      "Hombres: 1469\n",
      "Mujeres: 871\n"
     ]
    }
   ],
   "source": [
    "men = df[df.sex == 0]\n",
    "women = df[df.sex == 1]\n",
    "\n",
    "train_men, test_men = train_test_split(men, test_size=0.2)\n",
    "train_women, test_women = train_test_split(women, test_size=0.2)\n",
    "\n",
    "print(f'Hombres: {len(men)}\\nMujeres: {len(women)}')"
   ]
  },
  {
   "cell_type": "code",
   "execution_count": 94,
   "metadata": {},
   "outputs": [
    {
     "data": {
      "image/png": "[encoded data removed]",
      "text/plain": [
       "<Figure size 1440x360 with 4 Axes>"
      ]
     },
     "metadata": {
      "needs_background": "light"
     },
     "output_type": "display_data"
    }
   ],
   "source": [
    "import matplotlib.pyplot as plt\n",
    "\n",
    "model_men = train_model(train_men, numeric_columns, result_column)\n",
    "model_women = train_model(train_women, numeric_columns, result_column)\n",
    "\n",
    "predicted_men = model.predict(test_men[numeric_columns])\n",
    "predicted_women = model.predict(test_women[numeric_columns])\n",
    "\n",
    "tests = [test_men, test_women]\n",
    "preds = [predicted_men, predicted_women]\n",
    "titles = ['Hombres', 'Mujeres']\n",
    "\n",
    "conf_mat_fig = plt.figure(figsize=(20,5))\n",
    "i = 1\n",
    "j = 2\n",
    "k = 1\n",
    "for test, pred, title in zip(tests, preds, titles):\n",
    "    mat_ax = conf_mat_fig.add_subplot(i, j, k)\n",
    "    mat_ax.set_title(title)\n",
    "    plot_confusion_matrix(test, result_column, pred, ax=mat_ax)\n",
    "    k += 1"
   ]
  },
  {
   "cell_type": "code",
   "execution_count": 95,
   "metadata": {},
   "outputs": [
    {
     "name": "stdout",
     "output_type": "stream",
     "text": [
      "Hombres\n",
      "              precision    recall  f1-score   support\n",
      "\n",
      "           0       0.46      0.72      0.56        96\n",
      "           1       0.81      0.59      0.68       198\n",
      "\n",
      "    accuracy                           0.63       294\n",
      "   macro avg       0.64      0.65      0.62       294\n",
      "weighted avg       0.70      0.63      0.64       294\n",
      "\n",
      "Mujeres\n",
      "              precision    recall  f1-score   support\n",
      "\n",
      "           0       0.85      0.51      0.64       136\n",
      "           1       0.29      0.69      0.41        39\n",
      "\n",
      "    accuracy                           0.55       175\n",
      "   macro avg       0.57      0.60      0.53       175\n",
      "weighted avg       0.73      0.55      0.59       175\n",
      "\n"
     ]
    }
   ],
   "source": [
    "for test, pred, title in zip(tests, preds, titles):\n",
    "    print(title)\n",
    "    print(classification_report(test[result_column], pred))"
   ]
  },
  {
   "cell_type": "markdown",
   "metadata": {},
   "source": [
    "## Agrupamiento Jerárquico"
   ]
  },
  {
   "cell_type": "code",
   "execution_count": 96,
   "metadata": {},
   "outputs": [],
   "source": [
    "train_hc, test_hc = train_test_split(df, test_size=0.05)"
   ]
  },
  {
   "cell_type": "code",
   "execution_count": 99,
   "metadata": {},
   "outputs": [
    {
     "data": {
      "text/html": [
       "<div>\n",
       "<style scoped>\n",
       "    .dataframe tbody tr th:only-of-type {\n",
       "        vertical-align: middle;\n",
       "    }\n",
       "\n",
       "    .dataframe tbody tr th {\n",
       "        vertical-align: top;\n",
       "    }\n",
       "\n",
       "    .dataframe thead th {\n",
       "        text-align: right;\n",
       "    }\n",
       "</style>\n",
       "<table border=\"1\" class=\"dataframe\">\n",
       "  <thead>\n",
       "    <tr style=\"text-align: right;\">\n",
       "      <th></th>\n",
       "      <th>sex</th>\n",
       "      <th>age</th>\n",
       "      <th>cad.dur</th>\n",
       "      <th>choleste</th>\n",
       "      <th>sigdz</th>\n",
       "      <th>tvdlm</th>\n",
       "    </tr>\n",
       "  </thead>\n",
       "  <tbody>\n",
       "    <tr>\n",
       "      <th>757</th>\n",
       "      <td>0</td>\n",
       "      <td>0.304348</td>\n",
       "      <td>0.085294</td>\n",
       "      <td>0.491597</td>\n",
       "      <td>0</td>\n",
       "      <td>0.0</td>\n",
       "    </tr>\n",
       "    <tr>\n",
       "      <th>546</th>\n",
       "      <td>0</td>\n",
       "      <td>0.543478</td>\n",
       "      <td>0.011765</td>\n",
       "      <td>0.521008</td>\n",
       "      <td>1</td>\n",
       "      <td>1.0</td>\n",
       "    </tr>\n",
       "    <tr>\n",
       "      <th>692</th>\n",
       "      <td>0</td>\n",
       "      <td>0.413043</td>\n",
       "      <td>0.200000</td>\n",
       "      <td>0.609244</td>\n",
       "      <td>1</td>\n",
       "      <td>0.0</td>\n",
       "    </tr>\n",
       "    <tr>\n",
       "      <th>3023</th>\n",
       "      <td>0</td>\n",
       "      <td>0.586957</td>\n",
       "      <td>0.355882</td>\n",
       "      <td>0.512605</td>\n",
       "      <td>1</td>\n",
       "      <td>0.0</td>\n",
       "    </tr>\n",
       "    <tr>\n",
       "      <th>429</th>\n",
       "      <td>1</td>\n",
       "      <td>0.891304</td>\n",
       "      <td>0.073529</td>\n",
       "      <td>0.735294</td>\n",
       "      <td>1</td>\n",
       "      <td>0.0</td>\n",
       "    </tr>\n",
       "  </tbody>\n",
       "</table>\n",
       "</div>"
      ],
      "text/plain": [
       "      sex       age   cad.dur  choleste  sigdz  tvdlm\n",
       "757     0  0.304348  0.085294  0.491597      0    0.0\n",
       "546     0  0.543478  0.011765  0.521008      1    1.0\n",
       "692     0  0.413043  0.200000  0.609244      1    0.0\n",
       "3023    0  0.586957  0.355882  0.512605      1    0.0\n",
       "429     1  0.891304  0.073529  0.735294      1    0.0"
      ]
     },
     "execution_count": 99,
     "metadata": {},
     "output_type": "execute_result"
    }
   ],
   "source": [
    "normalized_df = test_hc.copy()\n",
    "for column in numeric_columns:\n",
    "    column_min = min(normalized_df[column])\n",
    "    column_max = max(normalized_df[column])\n",
    "    #print(f\"{column_min} {column_max}\")\n",
    "    normalized_df[column] = normalized_df[column].apply(lambda x: (x - column_min) / (column_max - column_min))\n",
    "\n",
    "normalized_df.head()"
   ]
  },
  {
   "cell_type": "code",
   "execution_count": 100,
   "metadata": {},
   "outputs": [
    {
     "name": "stdout",
     "output_type": "stream",
     "text": [
      "Processed 0 rows\n",
      "Processed 50 rows\n",
      "Processed 100 rows\n"
     ]
    }
   ],
   "source": [
    "distance_matrix = np.zeros((len(normalized_df), len(normalized_df)))\n",
    "num_norm_df = normalized_df[numeric_columns]\n",
    "for i in range(len(normalized_df)):\n",
    "    row_i = num_norm_df.iloc[i].to_numpy()\n",
    "    for j in range(len(normalized_df)):\n",
    "        if i >= j:\n",
    "            continue\n",
    "        row_j = num_norm_df.iloc[j].to_numpy()\n",
    "        dist = np.linalg.norm(row_i - row_j)\n",
    "        distance_matrix[i][j] = distance_matrix[j][i] = dist\n",
    "    \n",
    "    if i % 50 == 0:\n",
    "        print(f\"Processed {i} rows\")"
   ]
  },
  {
   "cell_type": "code",
   "execution_count": 101,
   "metadata": {},
   "outputs": [
    {
     "name": "stdout",
     "output_type": "stream",
     "text": [
      "[[0.         0.25190274 0.19701019 ... 0.49985434 0.191418   0.5421897 ]\n",
      " [0.25190274 0.         0.24542051 ... 0.28745667 0.22476822 0.35440335]\n",
      " [0.19701019 0.24542051 0.         ... 0.38896308 0.31230785 0.39233799]\n",
      " ...\n",
      " [0.49985434 0.28745667 0.38896308 ... 0.         0.50915563 0.14217071]\n",
      " [0.191418   0.22476822 0.31230785 ... 0.50915563 0.         0.55417667]\n",
      " [0.5421897  0.35440335 0.39233799 ... 0.14217071 0.55417667 0.        ]]\n"
     ]
    }
   ],
   "source": [
    "print(distance_matrix)"
   ]
  },
  {
   "cell_type": "code",
   "execution_count": 102,
   "metadata": {},
   "outputs": [],
   "source": [
    "# [Nivel, Grupos]\n",
    "# Grupos = [[p1, p2, p13], [p4], [p5, p9], ...] # array de sets\n",
    "\n",
    "np.set_printoptions(linewidth=120)\n",
    "\n",
    "def get_basic_distance_between_groups(group_1, group_2, operation):\n",
    "    min_dist = None\n",
    "    for point_1_index in group_1:\n",
    "        for point_2_index in group_2:\n",
    "            dist = distance_matrix[point_1_index][point_2_index]\n",
    "            if min_dist is None or eval(f\"{dist} {operation} {min_dist}\"):\n",
    "                min_dist = dist\n",
    "    return min_dist\n",
    "\n",
    "def get_average_distance_between_groups(group_1, group_2):\n",
    "    suma = 0\n",
    "    for point_1_index in group_1:\n",
    "        for point_2_index in group_2:\n",
    "            suma += distance_matrix[point_1_index][point_2_index]\n",
    "    return suma / (len(group_1) * len(group_2))\n",
    "\n",
    "def get_centroid_distance_between_groups(group_1_index, group_2_index, centroids):\n",
    "    return np.linalg.norm(centroids[group_1_index][\"centroid\"] - centroids[group_2_index][\"centroid\"])\n",
    "    \n",
    "def get_distance_between_groups(groups, group_1_index, group_2_index, mode, centroids=None):\n",
    "    group_1 = groups[group_1_index]\n",
    "    group_2 = groups[group_2_index]\n",
    "    if mode == \"min\":\n",
    "        return get_basic_distance_between_groups(group_1, group_2, \"<\")\n",
    "    elif mode == \"max\":\n",
    "        return get_basic_distance_between_groups(group_1, group_2, \">\")\n",
    "    elif mode == \"avg\":\n",
    "        return get_average_distance_between_groups(group_1, group_2)\n",
    "    elif mode == \"ctr\":\n",
    "        return get_centroid_distance_between_groups(group_1_index, group_2_index, centroids)\n",
    "    \n",
    "    raise Exception(\"Invalid distance mode\")\n",
    "\n",
    "def hierarchical_clustering(mode, cluster_count):\n",
    "    levels = [[]]\n",
    "    for i in range(len(normalized_df)):\n",
    "        levels[0].append(set([i]))\n",
    "    \n",
    "    centroids = None # Array of centroid coordinates for each group\n",
    "    if mode == \"ctr\":\n",
    "        centroids = []\n",
    "        for i in range(len(num_norm_df)):\n",
    "            point = num_norm_df.iloc[i].to_numpy()\n",
    "            centroids.append({\"centroid\": point, \"points\": np.array([point])})\n",
    "    \n",
    "    current_level = 0\n",
    "    while len(levels[current_level]) > cluster_count:\n",
    "        current_groups = levels[current_level]\n",
    "        group_qty = len(levels[current_level])\n",
    "        \n",
    "        min_group_dist = None\n",
    "        groups_to_merge = (None, None) # Indices\n",
    "        \n",
    "        for i in range(group_qty):\n",
    "            for j in range(i + 1, group_qty):\n",
    "                group_dist = get_distance_between_groups(current_groups, i, j, mode, centroids)\n",
    "                if (min_group_dist is None) or (group_dist < min_group_dist):\n",
    "                    groups_to_merge = (i, j)\n",
    "                    min_group_dist = group_dist\n",
    "\n",
    "        group_to_merge_1 = current_groups[groups_to_merge[0]]\n",
    "        group_to_merge_2 = current_groups[groups_to_merge[1]]\n",
    "        \n",
    "        levels.append(current_groups.copy())\n",
    "        new_group = set()\n",
    "        new_group.update(group_to_merge_2)\n",
    "        new_group.update(group_to_merge_1)\n",
    "        levels[current_level + 1].append(new_group)\n",
    "        levels[current_level + 1].pop(max(groups_to_merge))\n",
    "        levels[current_level + 1].pop(min(groups_to_merge))\n",
    "        \n",
    "        if centroids is not None: # Push new group's centroid based on previous 2 centroids\n",
    "            centroid_dict_1 = centroids.pop(max(groups_to_merge))\n",
    "            centroid_dict_2 = centroids.pop(min(groups_to_merge))\n",
    "            merged_points = np.concatenate((centroid_dict_1[\"points\"], centroid_dict_2[\"points\"]), axis=0)\n",
    "            new_centroid_dict = {\"centroid\": merged_points.mean(axis=0), \"points\": merged_points}\n",
    "            centroids.append(new_centroid_dict)\n",
    "\n",
    "        current_level += 1\n",
    "        \n",
    "        if current_level % 25 == 0:\n",
    "            print(f\"Clusters merged: {current_level} - Distance between merged clusters was {min_group_dist}\")\n",
    "        \n",
    "    return levels"
   ]
  },
  {
   "cell_type": "code",
   "execution_count": 115,
   "metadata": {},
   "outputs": [],
   "source": [
    "from scipy import stats\n",
    "\n",
    "def classify_clusters(clusters):\n",
    "    if len(clusters) != 2:\n",
    "        raise Exception(\"Invalid argument\")\n",
    "        \n",
    "    cluster_1_rows = np.array(list(map(lambda x: test_hc[result_column].iloc[x], clusters[0])))\n",
    "    cluster_1_mode = stats.mode(cluster_1_rows)[0][0]\n",
    "    cluster_2_rows = np.array(list(map(lambda x: test_hc[result_column].iloc[x], clusters[1])))\n",
    "    cluster_2_mode = stats.mode(cluster_2_rows)[0][0]\n",
    "    \n",
    "    return (cluster_1_mode, cluster_2_mode)"
   ]
  },
  {
   "cell_type": "markdown",
   "metadata": {},
   "source": [
    "### Utilizando la Mínima como medida de similitud entre grupos"
   ]
  },
  {
   "cell_type": "code",
   "execution_count": 112,
   "metadata": {},
   "outputs": [
    {
     "name": "stdout",
     "output_type": "stream",
     "text": [
      "Clusters merged: 25 - Distance between merged clusters was 0.03425320180045921\n",
      "Clusters merged: 50 - Distance between merged clusters was 0.054038477534618684\n",
      "Clusters merged: 75 - Distance between merged clusters was 0.08819126741773474\n",
      "Clusters merged: 100 - Distance between merged clusters was 0.13934412659971998\n"
     ]
    }
   ],
   "source": [
    "clusters_min_dist = hierarchical_clustering(\"min\", 2)"
   ]
  },
  {
   "cell_type": "code",
   "execution_count": 113,
   "metadata": {},
   "outputs": [
    {
     "name": "stdout",
     "output_type": "stream",
     "text": [
      "[{11}, {0, 1, 2, 3, 4, 5, 6, 7, 8, 9, 10, 12, 13, 14, 15, 16, 17, 18, 19, 20, 21, 22, 23, 24, 25, 26, 27, 28, 29, 30, 31, 32, 33, 34, 35, 36, 37, 38, 39, 40, 41, 42, 43, 44, 45, 46, 47, 48, 49, 50, 51, 52, 53, 54, 55, 56, 57, 58, 59, 60, 61, 62, 63, 64, 65, 66, 67, 68, 69, 70, 71, 72, 73, 74, 75, 76, 77, 78, 79, 80, 81, 82, 83, 84, 85, 86, 87, 88, 89, 90, 91, 92, 93, 94, 95, 96, 97, 98, 99, 100, 101, 102, 103, 104, 105, 106, 107, 108, 109, 110, 111, 112, 113, 114, 115, 116}]\n"
     ]
    }
   ],
   "source": [
    "print(clusters_min_dist[-1])"
   ]
  },
  {
   "cell_type": "code",
   "execution_count": 116,
   "metadata": {},
   "outputs": [
    {
     "name": "stdout",
     "output_type": "stream",
     "text": [
      "(1, 1)\n"
     ]
    }
   ],
   "source": [
    "classify_clusters(clusters_min_dist[-1])"
   ]
  },
  {
   "cell_type": "markdown",
   "metadata": {},
   "source": [
    "### Utilizando la Máxima como medida de similitud entre grupos"
   ]
  },
  {
   "cell_type": "code",
   "execution_count": 117,
   "metadata": {},
   "outputs": [
    {
     "name": "stdout",
     "output_type": "stream",
     "text": [
      "Clusters merged: 25 - Distance between merged clusters was 0.0438743802733045\n",
      "Clusters merged: 50 - Distance between merged clusters was 0.0848944879806963\n",
      "Clusters merged: 75 - Distance between merged clusters was 0.15379008981523132\n",
      "Clusters merged: 100 - Distance between merged clusters was 0.31389641378333144\n"
     ]
    }
   ],
   "source": [
    "clusters_max_dist = hierarchical_clustering(\"max\", 2)"
   ]
  },
  {
   "cell_type": "code",
   "execution_count": 118,
   "metadata": {},
   "outputs": [
    {
     "name": "stdout",
     "output_type": "stream",
     "text": [
      "[{0, 1, 2, 8, 10, 14, 15, 16, 17, 19, 20, 22, 24, 25, 27, 29, 30, 33, 34, 37, 40, 41, 43, 44, 46, 47, 48, 51, 53, 54, 55, 61, 62, 63, 66, 67, 69, 71, 72, 73, 77, 78, 80, 81, 82, 85, 86, 88, 90, 91, 92, 93, 96, 97, 98, 102, 107, 108, 109, 110, 111, 112, 115}, {3, 4, 5, 6, 7, 9, 11, 12, 13, 18, 21, 23, 26, 28, 31, 32, 35, 36, 38, 39, 42, 45, 49, 50, 52, 56, 57, 58, 59, 60, 64, 65, 68, 70, 74, 75, 76, 79, 83, 84, 87, 89, 94, 95, 99, 100, 101, 103, 104, 105, 106, 113, 114, 116}]\n"
     ]
    }
   ],
   "source": [
    "print(clusters_max_dist[-1])"
   ]
  },
  {
   "cell_type": "code",
   "execution_count": 119,
   "metadata": {},
   "outputs": [
    {
     "data": {
      "text/plain": [
       "(0, 1)"
      ]
     },
     "execution_count": 119,
     "metadata": {},
     "output_type": "execute_result"
    }
   ],
   "source": [
    "classify_clusters(clusters_max_dist[-1])"
   ]
  },
  {
   "cell_type": "markdown",
   "metadata": {},
   "source": [
    "### Utilizando el Promedio como medida de similitud entre grupos"
   ]
  },
  {
   "cell_type": "code",
   "execution_count": 120,
   "metadata": {},
   "outputs": [
    {
     "name": "stdout",
     "output_type": "stream",
     "text": [
      "Clusters merged: 25 - Distance between merged clusters was 0.042178130671802254\n",
      "Clusters merged: 50 - Distance between merged clusters was 0.0777556228188955\n",
      "Clusters merged: 75 - Distance between merged clusters was 0.1289830004001549\n",
      "Clusters merged: 100 - Distance between merged clusters was 0.2350605637776278\n"
     ]
    }
   ],
   "source": [
    "clusters_avg_dist = hierarchical_clustering(\"avg\", 2)"
   ]
  },
  {
   "cell_type": "code",
   "execution_count": 121,
   "metadata": {},
   "outputs": [
    {
     "name": "stdout",
     "output_type": "stream",
     "text": [
      "[{89, 100, 6, 87, 105, 11, 60, 95}, {0, 1, 2, 3, 4, 5, 7, 8, 9, 10, 12, 13, 14, 15, 16, 17, 18, 19, 20, 21, 22, 23, 24, 25, 26, 27, 28, 29, 30, 31, 32, 33, 34, 35, 36, 37, 38, 39, 40, 41, 42, 43, 44, 45, 46, 47, 48, 49, 50, 51, 52, 53, 54, 55, 56, 57, 58, 59, 61, 62, 63, 64, 65, 66, 67, 68, 69, 70, 71, 72, 73, 74, 75, 76, 77, 78, 79, 80, 81, 82, 83, 84, 85, 86, 88, 90, 91, 92, 93, 94, 96, 97, 98, 99, 101, 102, 103, 104, 106, 107, 108, 109, 110, 111, 112, 113, 114, 115, 116}]\n"
     ]
    }
   ],
   "source": [
    "print(clusters_avg_dist[-1])"
   ]
  },
  {
   "cell_type": "code",
   "execution_count": 122,
   "metadata": {},
   "outputs": [
    {
     "data": {
      "text/plain": [
       "(0, 1)"
      ]
     },
     "execution_count": 122,
     "metadata": {},
     "output_type": "execute_result"
    }
   ],
   "source": [
    "classify_clusters(clusters_avg_dist[-1])"
   ]
  },
  {
   "cell_type": "markdown",
   "metadata": {},
   "source": [
    "### Utilizando el Centroide como medida de similitud entre grupos"
   ]
  },
  {
   "cell_type": "code",
   "execution_count": 124,
   "metadata": {},
   "outputs": [
    {
     "name": "stdout",
     "output_type": "stream",
     "text": [
      "Clusters merged: 25 - Distance between merged clusters was 0.04043036446287498\n",
      "Clusters merged: 50 - Distance between merged clusters was 0.07337362266267401\n",
      "Clusters merged: 75 - Distance between merged clusters was 0.12445459061340196\n",
      "Clusters merged: 100 - Distance between merged clusters was 0.21145347138653714\n"
     ]
    }
   ],
   "source": [
    "clusters_ctr_dist = hierarchical_clustering(\"ctr\", 2)"
   ]
  },
  {
   "cell_type": "code",
   "execution_count": 125,
   "metadata": {},
   "outputs": [
    {
     "name": "stdout",
     "output_type": "stream",
     "text": [
      "[{81}, {0, 1, 2, 3, 4, 5, 6, 7, 8, 9, 10, 11, 12, 13, 14, 15, 16, 17, 18, 19, 20, 21, 22, 23, 24, 25, 26, 27, 28, 29, 30, 31, 32, 33, 34, 35, 36, 37, 38, 39, 40, 41, 42, 43, 44, 45, 46, 47, 48, 49, 50, 51, 52, 53, 54, 55, 56, 57, 58, 59, 60, 61, 62, 63, 64, 65, 66, 67, 68, 69, 70, 71, 72, 73, 74, 75, 76, 77, 78, 79, 80, 82, 83, 84, 85, 86, 87, 88, 89, 90, 91, 92, 93, 94, 95, 96, 97, 98, 99, 100, 101, 102, 103, 104, 105, 106, 107, 108, 109, 110, 111, 112, 113, 114, 115, 116}]\n"
     ]
    }
   ],
   "source": [
    "print(clusters_ctr_dist[-1])"
   ]
  },
  {
   "cell_type": "code",
   "execution_count": 126,
   "metadata": {},
   "outputs": [
    {
     "data": {
      "text/plain": [
       "(0, 1)"
      ]
     },
     "execution_count": 126,
     "metadata": {},
     "output_type": "execute_result"
    }
   ],
   "source": [
    "classify_clusters(clusters_ctr_dist[-1])"
   ]
  },
  {
   "cell_type": "markdown",
   "metadata": {},
   "source": [
    "## K-medias"
   ]
  },
  {
   "cell_type": "code",
   "execution_count": 201,
   "metadata": {},
   "outputs": [],
   "source": [
    "rng = np.random.default_rng()\n",
    "\n",
    "# Update centroids based on points in the cluster\n",
    "def update_centroids(data, classes):\n",
    "    for clase in classes.values():\n",
    "        if clase[\"changed\"]:\n",
    "            clase[\"centroid\"] = np.array(list(map(lambda x: data.iloc[x], clase[\"indices\"]))).mean(axis=0)\n",
    "            clase[\"changed\"] = False\n",
    "\n",
    "def K_means(data, K=2):\n",
    "    classes = {i: {\"indices\": set(), \"centroid\": np.zeros(len(numeric_columns)), \"changed\": True} for i in range(1, K+1)}\n",
    "    \n",
    "    # Set random clusters for every data point\n",
    "    random_classes = rng.integers(1, K+1, size=len(data))\n",
    "    for index, point_class in enumerate(random_classes):\n",
    "        classes[point_class][\"indices\"].add(index)\n",
    "    \n",
    "    # Iterate until no changes are made in cluster\n",
    "    while any(map(lambda x: x[\"changed\"], classes.values())):\n",
    "        update_centroids(data, classes)\n",
    "\n",
    "        changes = []\n",
    "        for clase, clase_value in classes.items():\n",
    "            for point_index in clase_value[\"indices\"]:\n",
    "                point = data.iloc[point_index]\n",
    "                \n",
    "                # Get closest cluster based on distance to cluster centroids\n",
    "                closest_class = (clase, np.linalg.norm(point - clase_value[\"centroid\"]))\n",
    "                for other_class, other_class_value in classes.items():\n",
    "                    if clase == other_class:\n",
    "                        continue\n",
    "\n",
    "                    other_centroid = other_class_value[\"centroid\"]\n",
    "                    other_centroid_dist = np.linalg.norm(point - other_centroid)\n",
    "\n",
    "                    if other_centroid_dist < closest_class[1]:\n",
    "                        closest_class = (other_class, other_centroid_dist)\n",
    "\n",
    "                if closest_class[0] != clase:\n",
    "                    # Record belongs to another cluster, save for later update\n",
    "                    changes.append({\"old_cluster\": clase, \"new_cluster\": closest_class[0], \"point_index\": point_index})\n",
    "\n",
    "        # Update clusters\n",
    "        for change in changes:\n",
    "            old_cluster = classes[change[\"old_cluster\"]]\n",
    "            new_cluster = classes[change[\"new_cluster\"]]\n",
    "            old_cluster[\"indices\"].remove(change[\"point_index\"])\n",
    "            new_cluster[\"indices\"].add(change[\"point_index\"])\n",
    "            old_cluster[\"changed\"] = new_cluster[\"changed\"] = True\n",
    "            \n",
    "        print(f\"Cluster changes processed: {len(changes)}\")\n",
    "\n",
    "    return classes\n",
    "\n",
    "def classify_K_means(data, clusters):\n",
    "    modes = []\n",
    "    for cluster in clusters.values():\n",
    "        cluster_rows = np.array(list(map(lambda x: data[result_column].iloc[x], cluster[\"indices\"])))\n",
    "        cluster_mode = stats.mode(cluster_rows)[0][0]\n",
    "        modes.append(cluster_mode)\n",
    "        \n",
    "    return modes\n",
    "\n",
    "def get_W(data, cluster):\n",
    "    W = 0\n",
    "    cluster_indices = list(cluster[\"indices\"])\n",
    "    for i in range(len(cluster_indices)):\n",
    "        point_1 = data.iloc[cluster_indices[i]]\n",
    "        for j in range(i+1, len(cluster_indices)):\n",
    "            point_2 = data.iloc[cluster_indices[j]]\n",
    "            W += sum(map(lambda x: (x[0] - x[1])**2, zip(point_1, point_2)))\n",
    "    return W / len(cluster_indices)\n",
    "\n",
    "def K_means_best(data, iterations=5, K=2):\n",
    "    min_W_sum = None\n",
    "    for i in range(iterations):\n",
    "        sample, _ = train_test_split(data, test_size=0.5)\n",
    "        K_means_clusters = K_means(sample, K)\n",
    "        W_sum = 0\n",
    "        \n",
    "        # Calculate the sum of W of each cluster\n",
    "        for current_K in range(1, K+1):\n",
    "            W_sum += get_W(sample, K_means_clusters[current_K])\n",
    "        \n",
    "        # Get the best clusters based on minimum W sum\n",
    "        if min_W_sum is None or W_sum < min_W_sum[1]:\n",
    "            min_W_sum = (K_means_clusters, W_sum, sample)\n",
    "            \n",
    "        print(f\"Finished iteration {i+1} - W sum: {W_sum}\")\n",
    "            \n",
    "    return min_W_sum\n",
    "\n",
    "def classify_K_means_best(data, sample, clusters):\n",
    "    modes = []\n",
    "    for cluster in clusters.values():\n",
    "        # sample:\n",
    "        # index | cad.dur   | age | ...\n",
    "        # 1774  | 0.6       | 0.6 | ...\n",
    "        # 3297  | 0.4       | 0.5 | ...\n",
    "        #\n",
    "        # data:\n",
    "        # index | sex | cad.dur | ... | sigdz\n",
    "        # 1774  | 1   | 0.6     | ... | 0\n",
    "        # 3297  | 0.4 | 0.5    | ...  | 1\n",
    "        #\n",
    "        # Based on index in sample (1774), look for result column (sigdz) in entire data set - subsample does not have column sigdz and has less rows\n",
    "        cluster_rows = np.array(list(map(lambda x: data[result_column].loc[sample.index[x]], cluster[\"indices\"])))\n",
    "        cluster_mode = stats.mode(cluster_rows)[0][0]\n",
    "        modes.append(cluster_mode)\n",
    "        \n",
    "    return modes"
   ]
  },
  {
   "cell_type": "code",
   "execution_count": 138,
   "metadata": {},
   "outputs": [],
   "source": [
    "# Use balanced dataset, without dividing into training and testing\n",
    "complete_normalized_df = df.copy()\n",
    "for column in numeric_columns:\n",
    "    column_min = min(complete_normalized_df[column])\n",
    "    column_max = max(complete_normalized_df[column])\n",
    "    complete_normalized_df[column] = complete_normalized_df[column].apply(lambda x: (x - column_min) / (column_max - column_min))\n",
    "\n",
    "complete_numeric_norm_df = complete_normalized_df[numeric_columns]"
   ]
  },
  {
   "cell_type": "code",
   "execution_count": 175,
   "metadata": {},
   "outputs": [
    {
     "data": {
      "text/html": [
       "<div>\n",
       "<style scoped>\n",
       "    .dataframe tbody tr th:only-of-type {\n",
       "        vertical-align: middle;\n",
       "    }\n",
       "\n",
       "    .dataframe tbody tr th {\n",
       "        vertical-align: top;\n",
       "    }\n",
       "\n",
       "    .dataframe thead th {\n",
       "        text-align: right;\n",
       "    }\n",
       "</style>\n",
       "<table border=\"1\" class=\"dataframe\">\n",
       "  <thead>\n",
       "    <tr style=\"text-align: right;\">\n",
       "      <th></th>\n",
       "      <th>sex</th>\n",
       "      <th>age</th>\n",
       "      <th>cad.dur</th>\n",
       "      <th>choleste</th>\n",
       "      <th>sigdz</th>\n",
       "      <th>tvdlm</th>\n",
       "    </tr>\n",
       "  </thead>\n",
       "  <tbody>\n",
       "    <tr>\n",
       "      <th>3</th>\n",
       "      <td>1</td>\n",
       "      <td>0.630769</td>\n",
       "      <td>0.212871</td>\n",
       "      <td>0.416476</td>\n",
       "      <td>0</td>\n",
       "      <td>0.0</td>\n",
       "    </tr>\n",
       "    <tr>\n",
       "      <th>4</th>\n",
       "      <td>1</td>\n",
       "      <td>0.600000</td>\n",
       "      <td>0.017327</td>\n",
       "      <td>0.471396</td>\n",
       "      <td>0</td>\n",
       "      <td>0.0</td>\n",
       "    </tr>\n",
       "    <tr>\n",
       "      <th>11</th>\n",
       "      <td>0</td>\n",
       "      <td>0.276923</td>\n",
       "      <td>0.108911</td>\n",
       "      <td>0.443936</td>\n",
       "      <td>0</td>\n",
       "      <td>0.0</td>\n",
       "    </tr>\n",
       "    <tr>\n",
       "      <th>12</th>\n",
       "      <td>1</td>\n",
       "      <td>0.800000</td>\n",
       "      <td>0.024752</td>\n",
       "      <td>0.375286</td>\n",
       "      <td>0</td>\n",
       "      <td>0.0</td>\n",
       "    </tr>\n",
       "    <tr>\n",
       "      <th>20</th>\n",
       "      <td>1</td>\n",
       "      <td>0.538462</td>\n",
       "      <td>0.074257</td>\n",
       "      <td>0.405034</td>\n",
       "      <td>0</td>\n",
       "      <td>0.0</td>\n",
       "    </tr>\n",
       "  </tbody>\n",
       "</table>\n",
       "</div>"
      ],
      "text/plain": [
       "    sex       age   cad.dur  choleste  sigdz  tvdlm\n",
       "3     1  0.630769  0.212871  0.416476      0    0.0\n",
       "4     1  0.600000  0.017327  0.471396      0    0.0\n",
       "11    0  0.276923  0.108911  0.443936      0    0.0\n",
       "12    1  0.800000  0.024752  0.375286      0    0.0\n",
       "20    1  0.538462  0.074257  0.405034      0    0.0"
      ]
     },
     "execution_count": 175,
     "metadata": {},
     "output_type": "execute_result"
    }
   ],
   "source": [
    "complete_normalized_df.head()"
   ]
  },
  {
   "cell_type": "code",
   "execution_count": 178,
   "metadata": {},
   "outputs": [
    {
     "data": {
      "text/plain": [
       "sex         1.000000\n",
       "age         0.800000\n",
       "cad.dur     0.024752\n",
       "choleste    0.375286\n",
       "sigdz       0.000000\n",
       "tvdlm       0.000000\n",
       "Name: 12, dtype: float64"
      ]
     },
     "execution_count": 178,
     "metadata": {},
     "output_type": "execute_result"
    }
   ],
   "source": [
    "complete_normalized_df.iloc[3]"
   ]
  },
  {
   "cell_type": "code",
   "execution_count": 140,
   "metadata": {},
   "outputs": [
    {
     "name": "stdout",
     "output_type": "stream",
     "text": [
      "Cluster changes processed: 1152\n",
      "Cluster changes processed: 178\n",
      "Cluster changes processed: 49\n",
      "Cluster changes processed: 16\n",
      "Cluster changes processed: 13\n",
      "Cluster changes processed: 7\n",
      "Cluster changes processed: 6\n",
      "Cluster changes processed: 11\n",
      "Cluster changes processed: 10\n",
      "Cluster changes processed: 7\n",
      "Cluster changes processed: 9\n",
      "Cluster changes processed: 3\n",
      "Cluster changes processed: 5\n",
      "Cluster changes processed: 1\n",
      "Cluster changes processed: 0\n"
     ]
    }
   ],
   "source": [
    "K_means_clusters = K_means(complete_numeric_norm_df, 2)"
   ]
  },
  {
   "cell_type": "code",
   "execution_count": 145,
   "metadata": {},
   "outputs": [
    {
     "data": {
      "text/plain": [
       "[0, 1]"
      ]
     },
     "execution_count": 145,
     "metadata": {},
     "output_type": "execute_result"
    }
   ],
   "source": [
    "classify_K_means(complete_normalized_df, K_means_clusters)"
   ]
  },
  {
   "cell_type": "code",
   "execution_count": 161,
   "metadata": {},
   "outputs": [
    {
     "data": {
      "text/plain": [
       "30.17524605867601"
      ]
     },
     "execution_count": 161,
     "metadata": {},
     "output_type": "execute_result"
    }
   ],
   "source": [
    "get_W(complete_numeric_norm_df, K_means_clusters[1])"
   ]
  },
  {
   "cell_type": "code",
   "execution_count": 162,
   "metadata": {},
   "outputs": [
    {
     "data": {
      "text/plain": [
       "51.80124827108703"
      ]
     },
     "execution_count": 162,
     "metadata": {},
     "output_type": "execute_result"
    }
   ],
   "source": [
    "get_W(complete_numeric_norm_df, K_means_clusters[2])"
   ]
  },
  {
   "cell_type": "markdown",
   "metadata": {},
   "source": [
    "Run K-means algorithm multiple times and keep the data that gives the minimum W(C_k) sum"
   ]
  },
  {
   "cell_type": "code",
   "execution_count": 202,
   "metadata": {},
   "outputs": [
    {
     "name": "stdout",
     "output_type": "stream",
     "text": [
      "Cluster changes processed: 559\n",
      "Cluster changes processed: 128\n",
      "Cluster changes processed: 54\n",
      "Cluster changes processed: 23\n",
      "Cluster changes processed: 17\n",
      "Cluster changes processed: 22\n",
      "Cluster changes processed: 16\n",
      "Cluster changes processed: 15\n",
      "Cluster changes processed: 16\n",
      "Cluster changes processed: 13\n",
      "Cluster changes processed: 12\n",
      "Cluster changes processed: 7\n",
      "Cluster changes processed: 4\n",
      "Cluster changes processed: 5\n",
      "Cluster changes processed: 3\n",
      "Cluster changes processed: 3\n",
      "Cluster changes processed: 3\n",
      "Cluster changes processed: 2\n",
      "Cluster changes processed: 4\n",
      "Cluster changes processed: 4\n",
      "Cluster changes processed: 1\n",
      "Cluster changes processed: 1\n",
      "Cluster changes processed: 0\n",
      "Finished iteration 1 - W sum: 41.0933197768756\n",
      "Cluster changes processed: 545\n",
      "Cluster changes processed: 107\n",
      "Cluster changes processed: 33\n",
      "Cluster changes processed: 20\n",
      "Cluster changes processed: 12\n",
      "Cluster changes processed: 16\n",
      "Cluster changes processed: 28\n",
      "Cluster changes processed: 25\n",
      "Cluster changes processed: 30\n",
      "Cluster changes processed: 31\n",
      "Cluster changes processed: 26\n",
      "Cluster changes processed: 22\n",
      "Cluster changes processed: 24\n",
      "Cluster changes processed: 18\n",
      "Cluster changes processed: 12\n",
      "Cluster changes processed: 14\n",
      "Cluster changes processed: 8\n",
      "Cluster changes processed: 6\n",
      "Cluster changes processed: 4\n",
      "Cluster changes processed: 3\n",
      "Cluster changes processed: 2\n",
      "Cluster changes processed: 0\n",
      "Finished iteration 2 - W sum: 39.955466034960615\n",
      "Cluster changes processed: 546\n",
      "Cluster changes processed: 34\n",
      "Cluster changes processed: 24\n",
      "Cluster changes processed: 9\n",
      "Cluster changes processed: 4\n",
      "Cluster changes processed: 4\n",
      "Cluster changes processed: 4\n",
      "Cluster changes processed: 6\n",
      "Cluster changes processed: 4\n",
      "Cluster changes processed: 1\n",
      "Cluster changes processed: 0\n",
      "Finished iteration 3 - W sum: 40.14829400195289\n",
      "Cluster changes processed: 556\n",
      "Cluster changes processed: 42\n",
      "Cluster changes processed: 16\n",
      "Cluster changes processed: 3\n",
      "Cluster changes processed: 1\n",
      "Cluster changes processed: 1\n",
      "Cluster changes processed: 2\n",
      "Cluster changes processed: 3\n",
      "Cluster changes processed: 1\n",
      "Cluster changes processed: 0\n",
      "Finished iteration 4 - W sum: 38.48851478110923\n",
      "Cluster changes processed: 551\n",
      "Cluster changes processed: 12\n",
      "Cluster changes processed: 3\n",
      "Cluster changes processed: 1\n",
      "Cluster changes processed: 3\n",
      "Cluster changes processed: 3\n",
      "Cluster changes processed: 2\n",
      "Cluster changes processed: 2\n",
      "Cluster changes processed: 1\n",
      "Cluster changes processed: 0\n",
      "Finished iteration 5 - W sum: 38.766836018974644\n"
     ]
    }
   ],
   "source": [
    "K_means_best_clusters, min_W_sum, K_means_best_sample = K_means_best(complete_numeric_norm_df, 5, 2)"
   ]
  },
  {
   "cell_type": "code",
   "execution_count": 208,
   "metadata": {},
   "outputs": [],
   "source": [
    "K_means_best_classes = classify_K_means_best(complete_normalized_df, K_means_best_sample, K_means_best_clusters)"
   ]
  },
  {
   "cell_type": "code",
   "execution_count": 210,
   "metadata": {},
   "outputs": [
    {
     "data": {
      "text/plain": [
       "[1, 0]"
      ]
     },
     "execution_count": 210,
     "metadata": {},
     "output_type": "execute_result"
    }
   ],
   "source": [
    "K_means_best_classes"
   ]
  },
  {
   "cell_type": "code",
   "execution_count": 219,
   "metadata": {},
   "outputs": [
    {
     "data": {
      "text/plain": [
       "<AxesSubplot:>"
      ]
     },
     "execution_count": 219,
     "metadata": {},
     "output_type": "execute_result"
    },
    {
     "data": {
      "image/png": "[encoded data removed]",
      "text/plain": [
       "<Figure size 432x288 with 2 Axes>"
      ]
     },
     "metadata": {
      "needs_background": "light"
     },
     "output_type": "display_data"
    }
   ],
   "source": [
    "# Armado de matriz de confusión (filas: valores reales; columnas: valores predictivos)\n",
    "confusion_matrix = { 0: {}, 1: {} }\n",
    "columns = []\n",
    "for key in confusion_matrix.keys():\n",
    "    columns.append(key)\n",
    "    confusion_matrix[key] = { 0: 0, 1: 0 }\n",
    "\n",
    "for clase, cluster in zip(K_means_best_classes, K_means_best_clusters.values()):\n",
    "    for index in cluster[\"indices\"]:\n",
    "        real_class = complete_normalized_df[result_column].loc[K_means_best_sample.index[index]]\n",
    "        confusion_matrix[real_class][clase] += 1\n",
    "\n",
    "confusion_df = { key : list(confusion_matrix[key].values()) for key in confusion_matrix.keys() }\n",
    "confusion_df = pd.DataFrame.from_dict(confusion_df, orient='index', columns=columns)\n",
    "\n",
    "sns.heatmap(confusion_df, annot=True, cmap='Blues', fmt='g', vmin=0)"
   ]
  },
  {
   "cell_type": "code",
   "execution_count": null,
   "metadata": {},
   "outputs": [],
   "source": []
  }
 ],
 "metadata": {
  "kernelspec": {
   "display_name": "Python 3",
   "language": "python",
   "name": "python3"
  },
  "language_info": {
   "codemirror_mode": {
    "name": "ipython",
    "version": 3
   },
   "file_extension": ".py",
   "mimetype": "text/x-python",
   "name": "python",
   "nbconvert_exporter": "python",
   "pygments_lexer": "ipython3",
   "version": "3.8.3"
  }
 },
 "nbformat": 4,
 "nbformat_minor": 5
}
