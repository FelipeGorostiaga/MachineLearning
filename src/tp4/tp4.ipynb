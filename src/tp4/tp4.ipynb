{
 "cells": [
  {
   "cell_type": "markdown",
   "metadata": {},
   "source": [
    "# Métodos de Aprendizaje no supervisado"
   ]
  },
  {
   "cell_type": "code",
   "execution_count": 83,
   "metadata": {},
   "outputs": [
    {
     "data": {
      "text/html": [
       "<div>\n",
       "<style scoped>\n",
       "    .dataframe tbody tr th:only-of-type {\n",
       "        vertical-align: middle;\n",
       "    }\n",
       "\n",
       "    .dataframe tbody tr th {\n",
       "        vertical-align: top;\n",
       "    }\n",
       "\n",
       "    .dataframe thead th {\n",
       "        text-align: right;\n",
       "    }\n",
       "</style>\n",
       "<table border=\"1\" class=\"dataframe\">\n",
       "  <thead>\n",
       "    <tr style=\"text-align: right;\">\n",
       "      <th></th>\n",
       "      <th>sex</th>\n",
       "      <th>age</th>\n",
       "      <th>cad.dur</th>\n",
       "      <th>choleste</th>\n",
       "      <th>sigdz</th>\n",
       "      <th>tvdlm</th>\n",
       "    </tr>\n",
       "  </thead>\n",
       "  <tbody>\n",
       "    <tr>\n",
       "      <th>0</th>\n",
       "      <td>0</td>\n",
       "      <td>73</td>\n",
       "      <td>132</td>\n",
       "      <td>268.0</td>\n",
       "      <td>1</td>\n",
       "      <td>1.0</td>\n",
       "    </tr>\n",
       "    <tr>\n",
       "      <th>1</th>\n",
       "      <td>0</td>\n",
       "      <td>68</td>\n",
       "      <td>85</td>\n",
       "      <td>120.0</td>\n",
       "      <td>1</td>\n",
       "      <td>1.0</td>\n",
       "    </tr>\n",
       "    <tr>\n",
       "      <th>2</th>\n",
       "      <td>0</td>\n",
       "      <td>54</td>\n",
       "      <td>45</td>\n",
       "      <td>NaN</td>\n",
       "      <td>1</td>\n",
       "      <td>0.0</td>\n",
       "    </tr>\n",
       "    <tr>\n",
       "      <th>3</th>\n",
       "      <td>1</td>\n",
       "      <td>58</td>\n",
       "      <td>86</td>\n",
       "      <td>245.0</td>\n",
       "      <td>0</td>\n",
       "      <td>0.0</td>\n",
       "    </tr>\n",
       "    <tr>\n",
       "      <th>4</th>\n",
       "      <td>1</td>\n",
       "      <td>56</td>\n",
       "      <td>7</td>\n",
       "      <td>269.0</td>\n",
       "      <td>0</td>\n",
       "      <td>0.0</td>\n",
       "    </tr>\n",
       "  </tbody>\n",
       "</table>\n",
       "</div>"
      ],
      "text/plain": [
       "   sex  age  cad.dur  choleste  sigdz  tvdlm\n",
       "0    0   73      132     268.0      1    1.0\n",
       "1    0   68       85     120.0      1    1.0\n",
       "2    0   54       45       NaN      1    0.0\n",
       "3    1   58       86     245.0      0    0.0\n",
       "4    1   56        7     269.0      0    0.0"
      ]
     },
     "execution_count": 83,
     "metadata": {},
     "output_type": "execute_result"
    }
   ],
   "source": [
    "import pandas as pd\n",
    "\n",
    "df = pd.read_excel('../../res/tp4/acath.xlsx', sheet_name='acath')  # 3505 rows\n",
    "\n",
    "df.head()"
   ]
  },
  {
   "cell_type": "code",
   "execution_count": 84,
   "metadata": {},
   "outputs": [
    {
     "name": "stdout",
     "output_type": "stream",
     "text": [
      "Cantidad de filas negativas: 1170\n",
      "Cantidad de filas positivas: 2334\n"
     ]
    }
   ],
   "source": [
    "negative = df[df.sigdz == 0]\n",
    "positive = df[df.sigdz == 1]\n",
    "\n",
    "print(f\"Cantidad de filas negativas: {len(negative)}\")\n",
    "print(f\"Cantidad de filas positivas: {len(positive)}\")\n",
    "\n",
    "# Se elige un subset de filas para igualar la proporción\n",
    "positive = positive.sample(n=len(negative))\n",
    "\n",
    "total = [negative, positive]\n",
    "df = pd.concat(total)"
   ]
  },
  {
   "cell_type": "code",
   "execution_count": 85,
   "metadata": {},
   "outputs": [
    {
     "data": {
      "text/html": [
       "<div>\n",
       "<style scoped>\n",
       "    .dataframe tbody tr th:only-of-type {\n",
       "        vertical-align: middle;\n",
       "    }\n",
       "\n",
       "    .dataframe tbody tr th {\n",
       "        vertical-align: top;\n",
       "    }\n",
       "\n",
       "    .dataframe thead th {\n",
       "        text-align: right;\n",
       "    }\n",
       "</style>\n",
       "<table border=\"1\" class=\"dataframe\">\n",
       "  <thead>\n",
       "    <tr style=\"text-align: right;\">\n",
       "      <th></th>\n",
       "      <th>sex</th>\n",
       "      <th>age</th>\n",
       "      <th>cad.dur</th>\n",
       "      <th>choleste</th>\n",
       "      <th>sigdz</th>\n",
       "      <th>tvdlm</th>\n",
       "    </tr>\n",
       "  </thead>\n",
       "  <tbody>\n",
       "    <tr>\n",
       "      <th>3</th>\n",
       "      <td>1</td>\n",
       "      <td>58</td>\n",
       "      <td>86</td>\n",
       "      <td>245.0</td>\n",
       "      <td>0</td>\n",
       "      <td>0.0</td>\n",
       "    </tr>\n",
       "    <tr>\n",
       "      <th>4</th>\n",
       "      <td>1</td>\n",
       "      <td>56</td>\n",
       "      <td>7</td>\n",
       "      <td>269.0</td>\n",
       "      <td>0</td>\n",
       "      <td>0.0</td>\n",
       "    </tr>\n",
       "    <tr>\n",
       "      <th>11</th>\n",
       "      <td>0</td>\n",
       "      <td>35</td>\n",
       "      <td>44</td>\n",
       "      <td>257.0</td>\n",
       "      <td>0</td>\n",
       "      <td>0.0</td>\n",
       "    </tr>\n",
       "    <tr>\n",
       "      <th>12</th>\n",
       "      <td>1</td>\n",
       "      <td>69</td>\n",
       "      <td>10</td>\n",
       "      <td>NaN</td>\n",
       "      <td>0</td>\n",
       "      <td>0.0</td>\n",
       "    </tr>\n",
       "    <tr>\n",
       "      <th>20</th>\n",
       "      <td>1</td>\n",
       "      <td>52</td>\n",
       "      <td>30</td>\n",
       "      <td>240.0</td>\n",
       "      <td>0</td>\n",
       "      <td>0.0</td>\n",
       "    </tr>\n",
       "  </tbody>\n",
       "</table>\n",
       "</div>"
      ],
      "text/plain": [
       "    sex  age  cad.dur  choleste  sigdz  tvdlm\n",
       "3     1   58       86     245.0      0    0.0\n",
       "4     1   56        7     269.0      0    0.0\n",
       "11    0   35       44     257.0      0    0.0\n",
       "12    1   69       10       NaN      0    0.0\n",
       "20    1   52       30     240.0      0    0.0"
      ]
     },
     "execution_count": 85,
     "metadata": {},
     "output_type": "execute_result"
    }
   ],
   "source": [
    "df.head()"
   ]
  },
  {
   "cell_type": "code",
   "execution_count": 86,
   "metadata": {},
   "outputs": [
    {
     "data": {
      "text/html": [
       "<div>\n",
       "<style scoped>\n",
       "    .dataframe tbody tr th:only-of-type {\n",
       "        vertical-align: middle;\n",
       "    }\n",
       "\n",
       "    .dataframe tbody tr th {\n",
       "        vertical-align: top;\n",
       "    }\n",
       "\n",
       "    .dataframe thead th {\n",
       "        text-align: right;\n",
       "    }\n",
       "</style>\n",
       "<table border=\"1\" class=\"dataframe\">\n",
       "  <thead>\n",
       "    <tr style=\"text-align: right;\">\n",
       "      <th></th>\n",
       "      <th>sex</th>\n",
       "      <th>age</th>\n",
       "      <th>cad.dur</th>\n",
       "      <th>choleste</th>\n",
       "      <th>sigdz</th>\n",
       "      <th>tvdlm</th>\n",
       "    </tr>\n",
       "  </thead>\n",
       "  <tbody>\n",
       "    <tr>\n",
       "      <th>3</th>\n",
       "      <td>1</td>\n",
       "      <td>58</td>\n",
       "      <td>86</td>\n",
       "      <td>245.0</td>\n",
       "      <td>0</td>\n",
       "      <td>0.0</td>\n",
       "    </tr>\n",
       "    <tr>\n",
       "      <th>4</th>\n",
       "      <td>1</td>\n",
       "      <td>56</td>\n",
       "      <td>7</td>\n",
       "      <td>269.0</td>\n",
       "      <td>0</td>\n",
       "      <td>0.0</td>\n",
       "    </tr>\n",
       "    <tr>\n",
       "      <th>11</th>\n",
       "      <td>0</td>\n",
       "      <td>35</td>\n",
       "      <td>44</td>\n",
       "      <td>257.0</td>\n",
       "      <td>0</td>\n",
       "      <td>0.0</td>\n",
       "    </tr>\n",
       "    <tr>\n",
       "      <th>12</th>\n",
       "      <td>1</td>\n",
       "      <td>69</td>\n",
       "      <td>10</td>\n",
       "      <td>227.0</td>\n",
       "      <td>0</td>\n",
       "      <td>0.0</td>\n",
       "    </tr>\n",
       "    <tr>\n",
       "      <th>20</th>\n",
       "      <td>1</td>\n",
       "      <td>52</td>\n",
       "      <td>30</td>\n",
       "      <td>240.0</td>\n",
       "      <td>0</td>\n",
       "      <td>0.0</td>\n",
       "    </tr>\n",
       "  </tbody>\n",
       "</table>\n",
       "</div>"
      ],
      "text/plain": [
       "    sex  age  cad.dur  choleste  sigdz  tvdlm\n",
       "3     1   58       86     245.0      0    0.0\n",
       "4     1   56        7     269.0      0    0.0\n",
       "11    0   35       44     257.0      0    0.0\n",
       "12    1   69       10     227.0      0    0.0\n",
       "20    1   52       30     240.0      0    0.0"
      ]
     },
     "execution_count": 86,
     "metadata": {},
     "output_type": "execute_result"
    }
   ],
   "source": [
    "import numpy as np\n",
    "\n",
    "# Sanitize dataset\n",
    "result_column = 'sigdz'\n",
    "columns = ['sex', 'age', 'cad.dur', 'choleste', 'tvdlm']\n",
    "numeric_columns = ['age', 'cad.dur', 'choleste']\n",
    "\n",
    "# Replace numeric value for `sigdz` with logical value\n",
    "# df.replace({result_column: {1: 'T', 0: 'F'}}, inplace=True)\n",
    "# df.replace({'tvdlm': {1: 'T', 0: 'F'}}, inplace=True)\n",
    "# df.replace({'sex': {1: 'F', 0: 'M'}}, inplace=True)\n",
    "\n",
    "# Replace NaN occurrences with mean\n",
    "for column in numeric_columns:\n",
    "    df.replace({column: {np.nan: int(df[column].mean())}}, inplace=True)\n",
    "\n",
    "df.head()"
   ]
  },
  {
   "cell_type": "markdown",
   "metadata": {},
   "source": [
    "## Regresión Logística"
   ]
  },
  {
   "cell_type": "code",
   "execution_count": 87,
   "metadata": {},
   "outputs": [],
   "source": [
    "from sklearn.model_selection import train_test_split\n",
    "\n",
    "train, test = train_test_split(df, test_size=0.2)"
   ]
  },
  {
   "cell_type": "code",
   "execution_count": 88,
   "metadata": {},
   "outputs": [],
   "source": [
    "from sklearn.linear_model import LogisticRegression\n",
    "from sklearn.metrics import classification_report, confusion_matrix\n",
    "\n",
    "def train_model(data, fields, result_var, params=None):\n",
    "    model = LogisticRegression()\n",
    "    model.fit(data[fields], data[result_var])\n",
    "    return model\n",
    "\n",
    "\n",
    "model = train_model(train, numeric_columns, result_column)"
   ]
  },
  {
   "cell_type": "code",
   "execution_count": 89,
   "metadata": {},
   "outputs": [],
   "source": [
    "predicted = model.predict(test[numeric_columns])"
   ]
  },
  {
   "cell_type": "code",
   "execution_count": 90,
   "metadata": {},
   "outputs": [
    {
     "name": "stdout",
     "output_type": "stream",
     "text": [
      "Población completa\n"
     ]
    },
    {
     "data": {
      "image/png": "[encoded data removed]",
      "text/plain": [
       "<Figure size 432x288 with 2 Axes>"
      ]
     },
     "metadata": {
      "needs_background": "light"
     },
     "output_type": "display_data"
    }
   ],
   "source": [
    "import seaborn as sns\n",
    "\n",
    "def plot_confusion_matrix(data, result_var, predictions, title=None, ax=None):\n",
    "    conf_mat = confusion_matrix(data[result_var], predictions)\n",
    "    count_values = list(map(lambda x: sum(x), conf_mat))\n",
    "\n",
    "    unique, counts = np.unique(np.array(data[result_var]), return_counts=True)\n",
    "    count_labels = dict(zip(counts, unique))\n",
    "\n",
    "    labels = []\n",
    "    for value in count_values:\n",
    "        labels.append(count_labels[value])\n",
    "\n",
    "    if title is not None:\n",
    "        print(title)\n",
    "\n",
    "    if ax is None:\n",
    "        sns.heatmap(conf_mat, annot=True, cmap='Blues', fmt='g', xticklabels=labels, yticklabels=labels)\n",
    "    else:\n",
    "        sns.heatmap(conf_mat, ax=ax, annot=True, cmap='Blues', fmt='g', xticklabels=labels, yticklabels=labels)\n",
    "\n",
    "plot_confusion_matrix(test, result_column, predicted, title='Población completa')"
   ]
  },
  {
   "cell_type": "code",
   "execution_count": 91,
   "metadata": {},
   "outputs": [
    {
     "name": "stdout",
     "output_type": "stream",
     "text": [
      "              precision    recall  f1-score   support\n",
      "\n",
      "           0       0.62      0.57      0.60       235\n",
      "           1       0.60      0.64      0.62       233\n",
      "\n",
      "    accuracy                           0.61       468\n",
      "   macro avg       0.61      0.61      0.61       468\n",
      "weighted avg       0.61      0.61      0.61       468\n",
      "\n"
     ]
    }
   ],
   "source": [
    "print(classification_report(test[result_column], predicted))"
   ]
  },
  {
   "cell_type": "markdown",
   "metadata": {},
   "source": [
    "### Regresión Logística por género"
   ]
  },
  {
   "cell_type": "code",
   "execution_count": 93,
   "metadata": {},
   "outputs": [
    {
     "name": "stdout",
     "output_type": "stream",
     "text": [
      "Hombres: 1469\n",
      "Mujeres: 871\n"
     ]
    }
   ],
   "source": [
    "men = df[df.sex == 0]\n",
    "women = df[df.sex == 1]\n",
    "\n",
    "train_men, test_men = train_test_split(men, test_size=0.2)\n",
    "train_women, test_women = train_test_split(women, test_size=0.2)\n",
    "\n",
    "print(f'Hombres: {len(men)}\\nMujeres: {len(women)}')"
   ]
  },
  {
   "cell_type": "code",
   "execution_count": 94,
   "metadata": {},
   "outputs": [
    {
     "data": {
      "image/png": "[encoded data removed]",
      "text/plain": [
       "<Figure size 1440x360 with 4 Axes>"
      ]
     },
     "metadata": {
      "needs_background": "light"
     },
     "output_type": "display_data"
    }
   ],
   "source": [
    "import matplotlib.pyplot as plt\n",
    "\n",
    "model_men = train_model(train_men, numeric_columns, result_column)\n",
    "model_women = train_model(train_women, numeric_columns, result_column)\n",
    "\n",
    "predicted_men = model.predict(test_men[numeric_columns])\n",
    "predicted_women = model.predict(test_women[numeric_columns])\n",
    "\n",
    "tests = [test_men, test_women]\n",
    "preds = [predicted_men, predicted_women]\n",
    "titles = ['Hombres', 'Mujeres']\n",
    "\n",
    "conf_mat_fig = plt.figure(figsize=(20,5))\n",
    "i = 1\n",
    "j = 2\n",
    "k = 1\n",
    "for test, pred, title in zip(tests, preds, titles):\n",
    "    mat_ax = conf_mat_fig.add_subplot(i, j, k)\n",
    "    mat_ax.set_title(title)\n",
    "    plot_confusion_matrix(test, result_column, pred, ax=mat_ax)\n",
    "    k += 1"
   ]
  },
  {
   "cell_type": "code",
   "execution_count": 95,
   "metadata": {},
   "outputs": [
    {
     "name": "stdout",
     "output_type": "stream",
     "text": [
      "Hombres\n",
      "              precision    recall  f1-score   support\n",
      "\n",
      "           0       0.46      0.72      0.56        96\n",
      "           1       0.81      0.59      0.68       198\n",
      "\n",
      "    accuracy                           0.63       294\n",
      "   macro avg       0.64      0.65      0.62       294\n",
      "weighted avg       0.70      0.63      0.64       294\n",
      "\n",
      "Mujeres\n",
      "              precision    recall  f1-score   support\n",
      "\n",
      "           0       0.85      0.51      0.64       136\n",
      "           1       0.29      0.69      0.41        39\n",
      "\n",
      "    accuracy                           0.55       175\n",
      "   macro avg       0.57      0.60      0.53       175\n",
      "weighted avg       0.73      0.55      0.59       175\n",
      "\n"
     ]
    }
   ],
   "source": [
    "for test, pred, title in zip(tests, preds, titles):\n",
    "    print(title)\n",
    "    print(classification_report(test[result_column], pred))"
   ]
  },
  {
   "cell_type": "markdown",
   "metadata": {},
   "source": [
    "## Agrupamiento Jerárquico"
   ]
  },
  {
   "cell_type": "code",
   "execution_count": 96,
   "metadata": {},
   "outputs": [],
   "source": [
    "train_hc, test_hc = train_test_split(df, test_size=0.05)"
   ]
  },
  {
   "cell_type": "code",
   "execution_count": 99,
   "metadata": {},
   "outputs": [
    {
     "data": {
      "text/html": [
       "<div>\n",
       "<style scoped>\n",
       "    .dataframe tbody tr th:only-of-type {\n",
       "        vertical-align: middle;\n",
       "    }\n",
       "\n",
       "    .dataframe tbody tr th {\n",
       "        vertical-align: top;\n",
       "    }\n",
       "\n",
       "    .dataframe thead th {\n",
       "        text-align: right;\n",
       "    }\n",
       "</style>\n",
       "<table border=\"1\" class=\"dataframe\">\n",
       "  <thead>\n",
       "    <tr style=\"text-align: right;\">\n",
       "      <th></th>\n",
       "      <th>sex</th>\n",
       "      <th>age</th>\n",
       "      <th>cad.dur</th>\n",
       "      <th>choleste</th>\n",
       "      <th>sigdz</th>\n",
       "      <th>tvdlm</th>\n",
       "    </tr>\n",
       "  </thead>\n",
       "  <tbody>\n",
       "    <tr>\n",
       "      <th>757</th>\n",
       "      <td>0</td>\n",
       "      <td>0.304348</td>\n",
       "      <td>0.085294</td>\n",
       "      <td>0.491597</td>\n",
       "      <td>0</td>\n",
       "      <td>0.0</td>\n",
       "    </tr>\n",
       "    <tr>\n",
       "      <th>546</th>\n",
       "      <td>0</td>\n",
       "      <td>0.543478</td>\n",
       "      <td>0.011765</td>\n",
       "      <td>0.521008</td>\n",
       "      <td>1</td>\n",
       "      <td>1.0</td>\n",
       "    </tr>\n",
       "    <tr>\n",
       "      <th>692</th>\n",
       "      <td>0</td>\n",
       "      <td>0.413043</td>\n",
       "      <td>0.200000</td>\n",
       "      <td>0.609244</td>\n",
       "      <td>1</td>\n",
       "      <td>0.0</td>\n",
       "    </tr>\n",
       "    <tr>\n",
       "      <th>3023</th>\n",
       "      <td>0</td>\n",
       "      <td>0.586957</td>\n",
       "      <td>0.355882</td>\n",
       "      <td>0.512605</td>\n",
       "      <td>1</td>\n",
       "      <td>0.0</td>\n",
       "    </tr>\n",
       "    <tr>\n",
       "      <th>429</th>\n",
       "      <td>1</td>\n",
       "      <td>0.891304</td>\n",
       "      <td>0.073529</td>\n",
       "      <td>0.735294</td>\n",
       "      <td>1</td>\n",
       "      <td>0.0</td>\n",
       "    </tr>\n",
       "  </tbody>\n",
       "</table>\n",
       "</div>"
      ],
      "text/plain": [
       "      sex       age   cad.dur  choleste  sigdz  tvdlm\n",
       "757     0  0.304348  0.085294  0.491597      0    0.0\n",
       "546     0  0.543478  0.011765  0.521008      1    1.0\n",
       "692     0  0.413043  0.200000  0.609244      1    0.0\n",
       "3023    0  0.586957  0.355882  0.512605      1    0.0\n",
       "429     1  0.891304  0.073529  0.735294      1    0.0"
      ]
     },
     "execution_count": 99,
     "metadata": {},
     "output_type": "execute_result"
    }
   ],
   "source": [
    "normalized_df = test_hc.copy()\n",
    "for column in numeric_columns:\n",
    "    column_min = min(normalized_df[column])\n",
    "    column_max = max(normalized_df[column])\n",
    "    #print(f\"{column_min} {column_max}\")\n",
    "    normalized_df[column] = normalized_df[column].apply(lambda x: (x - column_min) / (column_max - column_min))\n",
    "\n",
    "normalized_df.head()"
   ]
  },
  {
   "cell_type": "code",
   "execution_count": 100,
   "metadata": {},
   "outputs": [
    {
     "name": "stdout",
     "output_type": "stream",
     "text": [
      "Processed 0 rows\n",
      "Processed 50 rows\n",
      "Processed 100 rows\n"
     ]
    }
   ],
   "source": [
    "distance_matrix = np.zeros((len(normalized_df), len(normalized_df)))\n",
    "num_norm_df = normalized_df[numeric_columns]\n",
    "for i in range(len(normalized_df)):\n",
    "    row_i = num_norm_df.iloc[i].to_numpy()\n",
    "    for j in range(len(normalized_df)):\n",
    "        if i >= j:\n",
    "            continue\n",
    "        row_j = num_norm_df.iloc[j].to_numpy()\n",
    "        dist = np.linalg.norm(row_i - row_j)\n",
    "        distance_matrix[i][j] = distance_matrix[j][i] = dist\n",
    "    \n",
    "    if i % 50 == 0:\n",
    "        print(f\"Processed {i} rows\")"
   ]
  },
  {
   "cell_type": "code",
   "execution_count": 101,
   "metadata": {},
   "outputs": [
    {
     "name": "stdout",
     "output_type": "stream",
     "text": [
      "[[0.         0.25190274 0.19701019 ... 0.49985434 0.191418   0.5421897 ]\n",
      " [0.25190274 0.         0.24542051 ... 0.28745667 0.22476822 0.35440335]\n",
      " [0.19701019 0.24542051 0.         ... 0.38896308 0.31230785 0.39233799]\n",
      " ...\n",
      " [0.49985434 0.28745667 0.38896308 ... 0.         0.50915563 0.14217071]\n",
      " [0.191418   0.22476822 0.31230785 ... 0.50915563 0.         0.55417667]\n",
      " [0.5421897  0.35440335 0.39233799 ... 0.14217071 0.55417667 0.        ]]\n"
     ]
    }
   ],
   "source": [
    "print(distance_matrix)"
   ]
  },
  {
   "cell_type": "code",
   "execution_count": 102,
   "metadata": {},
   "outputs": [],
   "source": [
    "# [Nivel, Grupos]\n",
    "# Grupos = [[p1, p2, p13], [p4], [p5, p9], ...] # array de sets\n",
    "\n",
    "np.set_printoptions(linewidth=120)\n",
    "\n",
    "def get_basic_distance_between_groups(group_1, group_2, operation):\n",
    "    min_dist = None\n",
    "    for point_1_index in group_1:\n",
    "        for point_2_index in group_2:\n",
    "            dist = distance_matrix[point_1_index][point_2_index]\n",
    "            if min_dist is None or eval(f\"{dist} {operation} {min_dist}\"):\n",
    "                min_dist = dist\n",
    "    return min_dist\n",
    "\n",
    "def get_average_distance_between_groups(group_1, group_2):\n",
    "    suma = 0\n",
    "    for point_1_index in group_1:\n",
    "        for point_2_index in group_2:\n",
    "            suma += distance_matrix[point_1_index][point_2_index]\n",
    "    return suma / (len(group_1) * len(group_2))\n",
    "\n",
    "def get_centroid_distance_between_groups(group_1_index, group_2_index, centroids):\n",
    "    return np.linalg.norm(centroids[group_1_index][\"centroid\"] - centroids[group_2_index][\"centroid\"])\n",
    "    \n",
    "def get_distance_between_groups(groups, group_1_index, group_2_index, mode, centroids=None):\n",
    "    group_1 = groups[group_1_index]\n",
    "    group_2 = groups[group_2_index]\n",
    "    if mode == \"min\":\n",
    "        return get_basic_distance_between_groups(group_1, group_2, \"<\")\n",
    "    elif mode == \"max\":\n",
    "        return get_basic_distance_between_groups(group_1, group_2, \">\")\n",
    "    elif mode == \"avg\":\n",
    "        return get_average_distance_between_groups(group_1, group_2)\n",
    "    elif mode == \"ctr\":\n",
    "        return get_centroid_distance_between_groups(group_1_index, group_2_index, centroids)\n",
    "    \n",
    "    raise Exception(\"Invalid distance mode\")\n",
    "\n",
    "def hierarchical_clustering(mode, cluster_count):\n",
    "    levels = [[]]\n",
    "    for i in range(len(normalized_df)):\n",
    "        levels[0].append(set([i]))\n",
    "    \n",
    "    centroids = None # Array of centroid coordinates for each group\n",
    "    if mode == \"ctr\":\n",
    "        centroids = []\n",
    "        for i in range(len(num_norm_df)):\n",
    "            point = num_norm_df.iloc[i].to_numpy()\n",
    "            centroids.append({\"centroid\": point, \"points\": np.array([point])})\n",
    "    \n",
    "    current_level = 0\n",
    "    while len(levels[current_level]) > cluster_count:\n",
    "        current_groups = levels[current_level]\n",
    "        group_qty = len(levels[current_level])\n",
    "        \n",
    "        min_group_dist = None\n",
    "        groups_to_merge = (None, None) # Indices\n",
    "        \n",
    "        for i in range(group_qty):\n",
    "            for j in range(i + 1, group_qty):\n",
    "                group_dist = get_distance_between_groups(current_groups, i, j, mode, centroids)\n",
    "                if (min_group_dist is None) or (group_dist < min_group_dist):\n",
    "                    groups_to_merge = (i, j)\n",
    "                    min_group_dist = group_dist\n",
    "\n",
    "        group_to_merge_1 = current_groups[groups_to_merge[0]]\n",
    "        group_to_merge_2 = current_groups[groups_to_merge[1]]\n",
    "        \n",
    "        levels.append(current_groups.copy())\n",
    "        new_group = set()\n",
    "        new_group.update(group_to_merge_2)\n",
    "        new_group.update(group_to_merge_1)\n",
    "        levels[current_level + 1].append(new_group)\n",
    "        levels[current_level + 1].pop(max(groups_to_merge))\n",
    "        levels[current_level + 1].pop(min(groups_to_merge))\n",
    "        \n",
    "        if centroids is not None: # Push new group's centroid based on previous 2 centroids\n",
    "            centroid_dict_1 = centroids.pop(max(groups_to_merge))\n",
    "            centroid_dict_2 = centroids.pop(min(groups_to_merge))\n",
    "            merged_points = np.concatenate((centroid_dict_1[\"points\"], centroid_dict_2[\"points\"]), axis=0)\n",
    "            new_centroid_dict = {\"centroid\": merged_points.mean(axis=0), \"points\": merged_points}\n",
    "            centroids.append(new_centroid_dict)\n",
    "\n",
    "        current_level += 1\n",
    "        \n",
    "        if current_level % 25 == 0:\n",
    "            print(f\"Clusters merged: {current_level} - Distance between merged clusters was {min_group_dist}\")\n",
    "        \n",
    "    return levels"
   ]
  },
  {
   "cell_type": "code",
   "execution_count": 115,
   "metadata": {},
   "outputs": [],
   "source": [
    "from scipy import stats\n",
    "\n",
    "def classify_clusters(clusters):\n",
    "    if len(clusters) != 2:\n",
    "        raise Exception(\"Invalid argument\")\n",
    "        \n",
    "    cluster_1_rows = np.array(list(map(lambda x: test_hc[result_column].iloc[x], clusters[0])))\n",
    "    cluster_1_mode = stats.mode(cluster_1_rows)[0][0]\n",
    "    cluster_2_rows = np.array(list(map(lambda x: test_hc[result_column].iloc[x], clusters[1])))\n",
    "    cluster_2_mode = stats.mode(cluster_2_rows)[0][0]\n",
    "    \n",
    "    return (cluster_1_mode, cluster_2_mode)"
   ]
  },
  {
   "cell_type": "markdown",
   "metadata": {},
   "source": [
    "### Utilizando la Mínima como medida de similitud entre grupos"
   ]
  },
  {
   "cell_type": "code",
   "execution_count": 112,
   "metadata": {},
   "outputs": [
    {
     "name": "stdout",
     "output_type": "stream",
     "text": [
      "Clusters merged: 25 - Distance between merged clusters was 0.03425320180045921\n",
      "Clusters merged: 50 - Distance between merged clusters was 0.054038477534618684\n",
      "Clusters merged: 75 - Distance between merged clusters was 0.08819126741773474\n",
      "Clusters merged: 100 - Distance between merged clusters was 0.13934412659971998\n"
     ]
    }
   ],
   "source": [
    "clusters_min_dist = hierarchical_clustering(\"min\", 2)"
   ]
  },
  {
   "cell_type": "code",
   "execution_count": 113,
   "metadata": {},
   "outputs": [
    {
     "name": "stdout",
     "output_type": "stream",
     "text": [
      "[{11}, {0, 1, 2, 3, 4, 5, 6, 7, 8, 9, 10, 12, 13, 14, 15, 16, 17, 18, 19, 20, 21, 22, 23, 24, 25, 26, 27, 28, 29, 30, 31, 32, 33, 34, 35, 36, 37, 38, 39, 40, 41, 42, 43, 44, 45, 46, 47, 48, 49, 50, 51, 52, 53, 54, 55, 56, 57, 58, 59, 60, 61, 62, 63, 64, 65, 66, 67, 68, 69, 70, 71, 72, 73, 74, 75, 76, 77, 78, 79, 80, 81, 82, 83, 84, 85, 86, 87, 88, 89, 90, 91, 92, 93, 94, 95, 96, 97, 98, 99, 100, 101, 102, 103, 104, 105, 106, 107, 108, 109, 110, 111, 112, 113, 114, 115, 116}]\n"
     ]
    }
   ],
   "source": [
    "print(clusters_min_dist[-1])"
   ]
  },
  {
   "cell_type": "code",
   "execution_count": 116,
   "metadata": {},
   "outputs": [
    {
     "name": "stdout",
     "output_type": "stream",
     "text": [
      "(1, 1)\n"
     ]
    }
   ],
   "source": [
    "classify_clusters(clusters_min_dist[-1])"
   ]
  },
  {
   "cell_type": "markdown",
   "metadata": {},
   "source": [
    "### Utilizando la Máxima como medida de similitud entre grupos"
   ]
  },
  {
   "cell_type": "code",
   "execution_count": 117,
   "metadata": {},
   "outputs": [
    {
     "name": "stdout",
     "output_type": "stream",
     "text": [
      "Clusters merged: 25 - Distance between merged clusters was 0.0438743802733045\n",
      "Clusters merged: 50 - Distance between merged clusters was 0.0848944879806963\n",
      "Clusters merged: 75 - Distance between merged clusters was 0.15379008981523132\n",
      "Clusters merged: 100 - Distance between merged clusters was 0.31389641378333144\n"
     ]
    }
   ],
   "source": [
    "clusters_max_dist = hierarchical_clustering(\"max\", 2)"
   ]
  },
  {
   "cell_type": "code",
   "execution_count": 118,
   "metadata": {},
   "outputs": [
    {
     "name": "stdout",
     "output_type": "stream",
     "text": [
      "[{0, 1, 2, 8, 10, 14, 15, 16, 17, 19, 20, 22, 24, 25, 27, 29, 30, 33, 34, 37, 40, 41, 43, 44, 46, 47, 48, 51, 53, 54, 55, 61, 62, 63, 66, 67, 69, 71, 72, 73, 77, 78, 80, 81, 82, 85, 86, 88, 90, 91, 92, 93, 96, 97, 98, 102, 107, 108, 109, 110, 111, 112, 115}, {3, 4, 5, 6, 7, 9, 11, 12, 13, 18, 21, 23, 26, 28, 31, 32, 35, 36, 38, 39, 42, 45, 49, 50, 52, 56, 57, 58, 59, 60, 64, 65, 68, 70, 74, 75, 76, 79, 83, 84, 87, 89, 94, 95, 99, 100, 101, 103, 104, 105, 106, 113, 114, 116}]\n"
     ]
    }
   ],
   "source": [
    "print(clusters_max_dist[-1])"
   ]
  },
  {
   "cell_type": "code",
   "execution_count": 119,
   "metadata": {},
   "outputs": [
    {
     "data": {
      "text/plain": [
       "(0, 1)"
      ]
     },
     "execution_count": 119,
     "metadata": {},
     "output_type": "execute_result"
    }
   ],
   "source": [
    "classify_clusters(clusters_max_dist[-1])"
   ]
  },
  {
   "cell_type": "markdown",
   "metadata": {},
   "source": [
    "### Utilizando el Promedio como medida de similitud entre grupos"
   ]
  },
  {
   "cell_type": "code",
   "execution_count": 120,
   "metadata": {},
   "outputs": [
    {
     "name": "stdout",
     "output_type": "stream",
     "text": [
      "Clusters merged: 25 - Distance between merged clusters was 0.042178130671802254\n",
      "Clusters merged: 50 - Distance between merged clusters was 0.0777556228188955\n",
      "Clusters merged: 75 - Distance between merged clusters was 0.1289830004001549\n",
      "Clusters merged: 100 - Distance between merged clusters was 0.2350605637776278\n"
     ]
    }
   ],
   "source": [
    "clusters_avg_dist = hierarchical_clustering(\"avg\", 2)"
   ]
  },
  {
   "cell_type": "code",
   "execution_count": 121,
   "metadata": {},
   "outputs": [
    {
     "name": "stdout",
     "output_type": "stream",
     "text": [
      "[{89, 100, 6, 87, 105, 11, 60, 95}, {0, 1, 2, 3, 4, 5, 7, 8, 9, 10, 12, 13, 14, 15, 16, 17, 18, 19, 20, 21, 22, 23, 24, 25, 26, 27, 28, 29, 30, 31, 32, 33, 34, 35, 36, 37, 38, 39, 40, 41, 42, 43, 44, 45, 46, 47, 48, 49, 50, 51, 52, 53, 54, 55, 56, 57, 58, 59, 61, 62, 63, 64, 65, 66, 67, 68, 69, 70, 71, 72, 73, 74, 75, 76, 77, 78, 79, 80, 81, 82, 83, 84, 85, 86, 88, 90, 91, 92, 93, 94, 96, 97, 98, 99, 101, 102, 103, 104, 106, 107, 108, 109, 110, 111, 112, 113, 114, 115, 116}]\n"
     ]
    }
   ],
   "source": [
    "print(clusters_avg_dist[-1])"
   ]
  },
  {
   "cell_type": "code",
   "execution_count": 122,
   "metadata": {},
   "outputs": [
    {
     "data": {
      "text/plain": [
       "(0, 1)"
      ]
     },
     "execution_count": 122,
     "metadata": {},
     "output_type": "execute_result"
    }
   ],
   "source": [
    "classify_clusters(clusters_avg_dist[-1])"
   ]
  },
  {
   "cell_type": "markdown",
   "metadata": {},
   "source": [
    "### Utilizando el Centroide como medida de similitud entre grupos"
   ]
  },
  {
   "cell_type": "code",
   "execution_count": 124,
   "metadata": {},
   "outputs": [
    {
     "name": "stdout",
     "output_type": "stream",
     "text": [
      "Clusters merged: 25 - Distance between merged clusters was 0.04043036446287498\n",
      "Clusters merged: 50 - Distance between merged clusters was 0.07337362266267401\n",
      "Clusters merged: 75 - Distance between merged clusters was 0.12445459061340196\n",
      "Clusters merged: 100 - Distance between merged clusters was 0.21145347138653714\n"
     ]
    }
   ],
   "source": [
    "clusters_ctr_dist = hierarchical_clustering(\"ctr\", 2)"
   ]
  },
  {
   "cell_type": "code",
   "execution_count": 125,
   "metadata": {},
   "outputs": [
    {
     "name": "stdout",
     "output_type": "stream",
     "text": [
      "[{81}, {0, 1, 2, 3, 4, 5, 6, 7, 8, 9, 10, 11, 12, 13, 14, 15, 16, 17, 18, 19, 20, 21, 22, 23, 24, 25, 26, 27, 28, 29, 30, 31, 32, 33, 34, 35, 36, 37, 38, 39, 40, 41, 42, 43, 44, 45, 46, 47, 48, 49, 50, 51, 52, 53, 54, 55, 56, 57, 58, 59, 60, 61, 62, 63, 64, 65, 66, 67, 68, 69, 70, 71, 72, 73, 74, 75, 76, 77, 78, 79, 80, 82, 83, 84, 85, 86, 87, 88, 89, 90, 91, 92, 93, 94, 95, 96, 97, 98, 99, 100, 101, 102, 103, 104, 105, 106, 107, 108, 109, 110, 111, 112, 113, 114, 115, 116}]\n"
     ]
    }
   ],
   "source": [
    "print(clusters_ctr_dist[-1])"
   ]
  },
  {
   "cell_type": "code",
   "execution_count": 126,
   "metadata": {},
   "outputs": [
    {
     "data": {
      "text/plain": [
       "(0, 1)"
      ]
     },
     "execution_count": 126,
     "metadata": {},
     "output_type": "execute_result"
    }
   ],
   "source": [
    "classify_clusters(clusters_ctr_dist[-1])"
   ]
  },
  {
   "cell_type": "markdown",
   "metadata": {},
   "source": [
    "## K-medias"
   ]
  },
  {
   "cell_type": "code",
   "execution_count": 74,
   "metadata": {},
   "outputs": [
    {
     "name": "stdout",
     "output_type": "stream",
     "text": [
      "2786\n",
      "667\n",
      "288\n",
      "334\n",
      "377\n",
      "316\n",
      "213\n",
      "127\n",
      "128\n",
      "43\n",
      "36\n",
      "27\n",
      "18\n",
      "17\n",
      "20\n",
      "32\n",
      "38\n",
      "25\n",
      "18\n",
      "8\n",
      "5\n",
      "2\n",
      "1\n",
      "0\n"
     ]
    }
   ],
   "source": [
    "def update_centroids(classes):\n",
    "    for clase in classes.values():\n",
    "        if clase[\"changed\"]:\n",
    "            clase[\"centroid\"] = np.array(list(map(lambda x: num_norm_df.iloc[x], clase[\"indices\"]))).mean(axis=0)\n",
    "            clase[\"changed\"] = False\n",
    "\n",
    "K = 5\n",
    "rng = np.random.default_rng()\n",
    "\n",
    "classes = {i: {\"indices\": set(), \"centroid\": np.zeros(len(numeric_columns)), \"changed\": True} for i in range(1, K+1)}\n",
    "\n",
    "random_classes = rng.integers(1, K+1, size=len(df))\n",
    "for index, point_class in enumerate(random_classes):\n",
    "    classes[point_class][\"indices\"].add(index)\n",
    "\n",
    "while any(map(lambda x: x[\"changed\"], classes.values())):\n",
    "    update_centroids(classes)\n",
    "    \n",
    "    changes = []\n",
    "    for clase, clase_value in classes.items():\n",
    "        for point_index in clase_value[\"indices\"]:\n",
    "            point = num_norm_df.iloc[point_index]\n",
    "            \n",
    "            closest_class = (clase, np.linalg.norm(point - clase_value[\"centroid\"]))\n",
    "            \n",
    "            # Find the closest cluster centroid\n",
    "            for other_class, other_class_value in classes.items():\n",
    "                if clase == other_class:\n",
    "                    continue\n",
    "                    \n",
    "                other_centroid = other_class_value[\"centroid\"]\n",
    "                other_centroid_dist = np.linalg.norm(point - other_centroid)\n",
    "                \n",
    "                if other_centroid_dist < closest_class[1]:\n",
    "                    closest_class = (other_class, other_centroid_dist)\n",
    "            \n",
    "            if closest_class[0] != clase:\n",
    "                # Record belongs to another cluster, save for later update\n",
    "                changes.append({\"old_cluster\": clase, \"new_cluster\": closest_class[0], \"point_index\": point_index})\n",
    "                \n",
    "    # Update clusters\n",
    "    for change in changes:\n",
    "        old_cluster = classes[change[\"old_cluster\"]]\n",
    "        new_cluster = classes[change[\"new_cluster\"]]\n",
    "        old_cluster[\"indices\"].remove(change[\"point_index\"])\n",
    "        new_cluster[\"indices\"].add(change[\"point_index\"])\n",
    "        old_cluster[\"changed\"] = new_cluster[\"changed\"] = True\n",
    "        \n",
    "    print(len(changes))\n",
    "    \n"
   ]
  },
  {
   "cell_type": "code",
   "execution_count": 75,
   "metadata": {},
   "outputs": [
    {
     "name": "stdout",
     "output_type": "stream",
     "text": [
      "{1: {'indices': {1, 5, 6, 8, 12, 13, 14, 16, 18, 21, 25, 26, 22, 28, 31, 34, 38, 39, 49, 50, 52, 53, 55, 56, 57, 64, 66, 67, 68, 71, 72, 79, 80, 86, 88, 90, 91, 94, 95, 96, 97, 99, 106, 108, 111, 114, 115, 116, 119, 120, 121, 125, 128, 130, 131, 132, 140, 141, 149, 150, 153, 163, 166, 171, 176, 180, 183, 189, 190, 191, 192, 205, 209, 212, 215, 219, 220, 223, 226, 228, 231, 234, 238, 243, 249, 252, 254, 256, 259, 260, 269, 270, 272, 276, 277, 279, 283, 284, 293, 301, 306, 307, 312, 320, 332, 334, 335, 342, 343, 345, 353, 355, 363, 368, 373, 375, 376, 378, 383, 395, 402, 404, 419, 429, 434, 438, 441, 446, 452, 463, 465, 467, 469, 473, 488, 496, 497, 499, 502, 509, 513, 515, 519, 522, 528, 540, 543, 558, 562, 565, 568, 580, 589, 592, 593, 594, 596, 597, 602, 605, 606, 608, 615, 617, 627, 638, 643, 645, 654, 669, 686, 690, 698, 719, 726, 731, 735, 742, 752, 754, 773, 784, 786, 797, 803, 810, 814, 822, 827, 833, 847, 861, 878, 882, 888, 907, 971, 973, 980, 981, 991, 996, 998, 1015, 1021, 1026, 1029, 1045, 1050, 1077, 1086, 1090, 1094, 1098, 1107, 1108, 1119, 1131, 1173, 1178, 1181, 1200, 1212, 1234, 1246, 1266, 1268, 1269, 1273, 1275, 1281, 1285, 1287, 1292, 1326, 1332, 1334, 1348, 1355, 1357, 1361, 1363, 1366, 1381, 1393, 1402, 1409, 1410, 1419, 1422, 1447, 1457, 1466, 1501, 1509, 1515, 1519, 1527, 1530, 1532, 1533, 1550, 1553, 1564, 1584, 1588, 1595, 1598, 1631, 1634, 1644, 1648, 1651, 1658, 1670, 1671, 1685, 1689, 1701, 1705, 1715, 1718, 1723, 1739, 1745, 1750, 1773, 1775, 1779, 1781, 1785, 1790, 1791, 1792, 1797, 1800, 1829, 1840, 1845, 1846, 1847, 1851, 1852, 1860, 1861, 1865, 1867, 1892, 1899, 1904, 1907, 1919, 1932, 1934, 1947, 1953, 1957, 1961, 1966, 1970, 1986, 1992, 2000, 2005, 2006, 2008, 2017, 2019, 2021, 2023, 2025, 2042, 2051, 2065, 2071, 2083, 2090, 2099, 2101, 2128, 2134, 2144, 2146, 2151, 2155, 2156, 2157, 2160, 2163, 2166, 2168, 2171, 2173, 2177, 2178, 2179, 2181, 2193, 2195, 2206, 2218, 2219, 2233, 2238, 2240, 2244, 2246, 2254, 2259, 2261, 2265, 2274, 2280, 2283, 2288, 2301, 2305, 2306, 2310, 2311, 2317, 2326, 2330, 2334, 2339, 2348, 2353, 2357, 2363, 2371, 2376, 2385, 2386, 2394, 2403, 2407, 2417, 2419, 2422, 2423, 2424, 2428, 2435, 2439, 2443, 2444, 2448, 2458, 2462, 2463, 2473, 2474, 2483, 2493, 2502, 2515, 2516, 2522, 2524, 2525, 2526, 2538, 2539, 2555, 2556, 2560, 2561, 2562, 2572, 2574, 2579, 2583, 2589, 2592, 2595, 2598, 2599, 2603, 2605, 2607, 2608, 2609, 2627, 2628, 2629, 2631, 2635, 2639, 2641, 2647, 2650, 2663, 2667, 2669, 2671, 2674, 2676, 2677, 2679, 2683, 2689, 2696, 2699, 2705, 2708, 2711, 2722, 2727, 2728, 2734, 2740, 2745, 2746, 2748, 2750, 2751, 2754, 2757, 2758, 2760, 2762, 2764, 2766, 2767, 2773, 2774, 2776, 2780, 2785, 2788, 2795, 2800, 2803, 2806, 2807, 2808, 2810, 2811, 2817, 2822, 2824, 2825, 2827, 2829, 2830, 2835, 2844, 2853, 2854, 2859, 2863, 2872, 2873, 2876, 2880, 2884, 2889, 2890, 2893, 2906, 2912, 2913, 2914, 2915, 2916, 2923, 2926, 2933, 2935, 2936, 2937, 2940, 2941, 2942, 2943, 2947, 2951, 2952, 2953, 2957, 2959, 2960, 2962, 2963, 2967, 2968, 2972, 2982, 2986, 2987, 2988, 2989, 2993, 2994, 3007, 3012, 3017, 3020, 3028, 3030, 3046, 3047, 3051, 3055, 3058, 3063, 3067, 3069, 3076, 3078, 3081, 3082, 3092, 3096, 3098, 3100, 3102, 3103, 3105, 3106, 3117, 3118, 3120, 3121, 3129, 3134, 3137, 3138, 3139, 3140, 3141, 3142, 3143, 3146, 3147, 3151, 3153, 3154, 3159, 3161, 3172, 3173, 3174, 3175, 3177, 3180, 3181, 3186, 3190, 3191, 3193, 3199, 3201, 3202, 3208, 3214, 3215, 3221, 3227, 3238, 3247, 3249, 3250, 3253, 3256, 3258, 3269, 3271, 3272, 3274, 3276, 3280, 3282, 3286, 3289, 3290, 3291, 3298, 3300, 3305, 3306, 3308, 3311, 3312, 3313, 3331, 3334, 3337, 3345, 3346, 3348, 3349, 3356, 3358, 3360, 3365, 3373, 3379, 3381, 3383, 3384, 3388, 3394, 3395, 3398, 3399, 3401, 3402, 3403, 3404, 3405, 3413, 3420, 3421, 3426, 3437, 3441, 3443, 3452, 3457, 3459, 3464, 3468, 3471, 3475, 3480, 3481, 3482, 3484, 3486, 3491, 3492, 3494, 3495, 3500, 3501}, 'centroid': array([0.72875774, 0.06371228, 0.35465128]), 'changed': False}, 2: {'indices': {7, 11, 45, 47, 51, 82, 83, 87, 100, 105, 107, 110, 135, 136, 148, 164, 174, 177, 178, 188, 197, 200, 198, 221, 239, 241, 242, 247, 250, 253, 263, 282, 292, 304, 311, 316, 329, 331, 336, 339, 341, 346, 348, 366, 374, 382, 392, 399, 411, 413, 414, 415, 416, 422, 427, 435, 439, 442, 443, 447, 456, 459, 460, 477, 478, 482, 484, 489, 494, 508, 510, 514, 516, 523, 526, 531, 533, 538, 539, 550, 563, 566, 570, 575, 577, 578, 579, 582, 588, 591, 601, 607, 612, 613, 621, 622, 635, 636, 637, 657, 661, 662, 663, 667, 683, 682, 688, 689, 693, 699, 700, 706, 709, 711, 712, 716, 717, 718, 721, 724, 727, 730, 732, 736, 737, 740, 743, 751, 757, 760, 762, 763, 767, 768, 770, 772, 777, 779, 781, 782, 785, 792, 795, 798, 800, 804, 811, 817, 819, 823, 824, 829, 832, 834, 837, 839, 841, 845, 851, 852, 853, 856, 858, 859, 862, 863, 864, 865, 869, 881, 885, 886, 890, 891, 895, 900, 905, 913, 916, 917, 918, 921, 924, 933, 934, 935, 936, 939, 942, 943, 948, 951, 954, 956, 958, 959, 960, 961, 964, 967, 968, 972, 978, 984, 985, 987, 992, 993, 1000, 1001, 1003, 1006, 1009, 1010, 1011, 1012, 1013, 1016, 1019, 1020, 1022, 1023, 1024, 1030, 1033, 1034, 1035, 1036, 1041, 1042, 1043, 1049, 1051, 1053, 1059, 1066, 1067, 1070, 1072, 1074, 1075, 1078, 1079, 1083, 1084, 1085, 1087, 1088, 1093, 1095, 1097, 1099, 1103, 1112, 1114, 1122, 1123, 1124, 1129, 1135, 1136, 1138, 1140, 1141, 1142, 1143, 1144, 1151, 1152, 1153, 1156, 1162, 1167, 1168, 1169, 1172, 1177, 1179, 1180, 1183, 1188, 1195, 1198, 1197, 1202, 1204, 1205, 1206, 1209, 1211, 1213, 1214, 1216, 1218, 1220, 1221, 1224, 1225, 1231, 1237, 1245, 1247, 1249, 1251, 1252, 1255, 1278, 1282, 1284, 1288, 1290, 1294, 1301, 1302, 1304, 1305, 1306, 1310, 1314, 1317, 1318, 1328, 1331, 1333, 1335, 1339, 1342, 1349, 1351, 1356, 1359, 1362, 1364, 1369, 1370, 1373, 1374, 1375, 1377, 1379, 1388, 1390, 1394, 1395, 1397, 1404, 1407, 1411, 1412, 1413, 1415, 1417, 1418, 1420, 1421, 1423, 1426, 1427, 1429, 1431, 1432, 1439, 1440, 1442, 1444, 1446, 1450, 1452, 1455, 1458, 1468, 1469, 1470, 1474, 1475, 1476, 1477, 1478, 1480, 1481, 1482, 1487, 1494, 1508, 1514, 1517, 1518, 1522, 1524, 1525, 1531, 1536, 1537, 1538, 1539, 1542, 1543, 1544, 1554, 1557, 1562, 1567, 1568, 1569, 1573, 1576, 1579, 1587, 1589, 1592, 1605, 1607, 1611, 1613, 1618, 1621, 1624, 1635, 1642, 1646, 1647, 1652, 1654, 1655, 1659, 1662, 1666, 1668, 1672, 1673, 1676, 1678, 1683, 1688, 1690, 1693, 1695, 1696, 1702, 1703, 1706, 1712, 1713, 1714, 1722, 1726, 1727, 1728, 1734, 1735, 1740, 1741, 1744, 1752, 1768, 1780, 1788, 1794, 1798, 1802, 1805, 1806, 1810, 1811, 1820, 1821, 1823, 1826, 1830, 1836, 1837, 1838, 1853, 1855, 1863, 1864, 1866, 1868, 1871, 1875, 1879, 1883, 1885, 1887, 1888, 1896, 1897, 1901, 1902, 1909, 1911, 1920, 1926, 1927, 1928, 1935, 1936, 1940, 1941, 1944, 1946, 1960, 1962, 1968, 1969, 1971, 1972, 1973, 1976, 1983, 1984, 1985, 1999, 2001, 2004, 2011, 2013, 2018, 2024, 2026, 2028, 2029, 2031, 2032, 2035, 2037, 2056, 2059, 2066, 2072, 2073, 2078, 2080, 2086, 2093, 2095, 2102, 2103, 2109, 2121, 2122, 2127, 2129, 2133, 2137, 2139, 2140, 2145, 2147, 2153, 2162, 2167, 2169, 2180, 2182, 2187, 2191, 2198, 2199, 2201, 2214, 2223, 2224, 2227, 2230, 2236, 2241, 2242, 2245, 2247, 2253, 2255, 2258, 2263, 2268, 2269, 2270, 2273, 2281, 2287, 2289, 2291, 2295, 2296, 2303, 2307, 2308, 2312, 2314, 2316, 2318, 2320, 2329, 2332, 2338, 2342, 2344, 2346, 2368, 2372, 2373, 2375, 2378, 2382, 2383, 2390, 2400, 2402, 2405, 2406, 2418, 2421, 2425, 2430, 2431, 2433, 2436, 2442, 2452, 2453, 2454, 2466, 2468, 2484, 2487, 2490, 2492, 2494, 2501, 2509, 2511, 2528, 2533, 2534, 2536, 2544, 2551, 2557, 2563, 2568, 2569, 2571, 2576, 2577, 2593, 2594, 2596, 2597, 2600, 2611, 2617, 2620, 2621, 2630, 2640, 2644, 2645, 2649, 2651, 2658, 2670, 2680, 2686, 2688, 2703, 2707, 2709, 2710, 2720, 2721, 2725, 2744, 2747, 2749, 2752, 2772, 2778, 2781, 2783, 2786, 2790, 2792, 2794, 2797, 2799, 2804, 2812, 2814, 2823, 2828, 2839, 2841, 2843, 2846, 2847, 2852, 2855, 2875, 2878, 2879, 2881, 2882, 2898, 2901, 2904, 2905, 2908, 2910, 2911, 2917, 2921, 2924, 2925, 2927, 2929, 2938, 2944, 2945, 2949, 2958, 2961, 2969, 2974, 2977, 2981, 2992, 2997, 2998, 2999, 3001, 3002, 3008, 3019, 3022, 3026, 3032, 3037, 3040, 3049, 3060, 3073, 3074, 3075, 3080, 3086, 3088, 3089, 3090, 3091, 3097, 3101, 3110, 3112, 3116, 3125, 3133, 3149, 3152, 3155, 3157, 3167, 3165, 3179, 3187, 3192, 3195, 3198, 3207, 3216, 3219, 3223, 3226, 3251, 3257, 3260, 3262, 3266, 3267, 3288, 3292, 3310, 3314, 3317, 3325, 3329, 3330, 3339, 3341, 3342, 3350, 3352, 3355, 3361, 3364, 3367, 3368, 3372, 3377, 3382, 3385, 3387, 3391, 3407, 3408, 3425, 3429, 3430, 3436, 3439, 3440, 3445, 3483, 3496}, 'centroid': array([0.34169742, 0.04070276, 0.36099624]), 'changed': False}, 3: {'indices': {2, 4, 9, 10, 17, 20, 23, 24, 29, 30, 33, 40, 42, 43, 60, 61, 65, 69, 70, 73, 77, 78, 84, 89, 93, 103, 109, 113, 124, 126, 127, 129, 133, 134, 144, 146, 147, 152, 157, 158, 159, 161, 162, 169, 172, 173, 181, 182, 186, 187, 193, 196, 199, 201, 202, 203, 206, 207, 211, 214, 217, 222, 224, 227, 230, 232, 235, 236, 244, 245, 251, 255, 258, 264, 265, 267, 268, 271, 273, 275, 278, 280, 288, 290, 291, 295, 297, 300, 302, 303, 308, 310, 315, 319, 321, 323, 324, 325, 344, 350, 351, 352, 354, 357, 359, 360, 361, 365, 369, 371, 372, 377, 380, 381, 385, 386, 388, 389, 390, 391, 393, 394, 396, 398, 403, 406, 408, 409, 410, 417, 424, 426, 428, 430, 431, 433, 437, 440, 450, 451, 454, 462, 464, 466, 468, 470, 471, 474, 476, 479, 481, 483, 491, 492, 493, 495, 498, 500, 501, 504, 511, 518, 520, 521, 525, 529, 530, 535, 542, 546, 548, 551, 557, 559, 561, 564, 571, 572, 573, 576, 585, 586, 595, 598, 599, 600, 604, 609, 614, 616, 619, 620, 623, 624, 625, 626, 629, 631, 633, 634, 641, 646, 651, 652, 653, 658, 660, 665, 668, 670, 671, 672, 673, 676, 678, 680, 681, 684, 685, 691, 694, 697, 702, 705, 708, 714, 715, 720, 722, 725, 728, 734, 738, 739, 741, 745, 747, 750, 753, 755, 758, 759, 761, 764, 765, 766, 769, 771, 775, 783, 787, 788, 789, 794, 796, 801, 805, 806, 807, 808, 809, 813, 815, 816, 818, 821, 825, 826, 828, 830, 831, 835, 836, 843, 848, 849, 850, 854, 857, 860, 866, 867, 868, 870, 876, 877, 879, 880, 883, 884, 892, 893, 894, 898, 899, 902, 903, 904, 906, 910, 912, 920, 925, 928, 930, 937, 938, 940, 945, 946, 947, 949, 955, 957, 962, 963, 965, 966, 969, 970, 974, 975, 977, 979, 982, 988, 989, 994, 995, 997, 999, 1002, 1004, 1005, 1007, 1008, 1014, 1017, 1018, 1031, 1039, 1040, 1044, 1046, 1047, 1048, 1052, 1055, 1056, 1058, 1060, 1061, 1062, 1063, 1064, 1065, 1071, 1081, 1082, 1091, 1100, 1101, 1104, 1105, 1113, 1115, 1116, 1117, 1118, 1120, 1121, 1125, 1126, 1128, 1132, 1134, 1137, 1145, 1147, 1149, 1150, 1154, 1157, 1159, 1160, 1163, 1164, 1166, 1170, 1171, 1174, 1175, 1176, 1182, 1184, 1187, 1189, 1190, 1191, 1193, 1194, 1199, 1203, 1207, 1215, 1217, 1223, 1226, 1228, 1229, 1232, 1235, 1236, 1239, 1241, 1242, 1244, 1248, 1253, 1256, 1258, 1259, 1260, 1261, 1262, 1263, 1264, 1265, 1270, 1272, 1274, 1279, 1280, 1286, 1289, 1291, 1293, 1296, 1297, 1298, 1299, 1303, 1307, 1315, 1316, 1320, 1321, 1322, 1324, 1325, 1327, 1329, 1330, 1337, 1340, 1341, 1343, 1344, 1345, 1346, 1350, 1353, 1354, 1358, 1360, 1365, 1367, 1368, 1372, 1380, 1382, 1386, 1387, 1389, 1392, 1396, 1398, 1399, 1400, 1401, 1403, 1406, 1408, 1416, 1425, 1430, 1433, 1434, 1435, 1437, 1441, 1445, 1449, 1451, 1453, 1456, 1459, 1461, 1462, 1463, 1464, 1471, 1472, 1479, 1483, 1484, 1486, 1490, 1491, 1492, 1496, 1497, 1498, 1500, 1502, 1503, 1504, 1505, 1506, 1507, 1510, 1513, 1516, 1526, 1534, 1535, 1540, 1548, 1551, 1552, 1555, 1556, 1558, 1559, 1560, 1561, 1563, 1566, 1570, 1572, 1574, 1575, 1577, 1581, 1582, 1583, 1585, 1586, 1591, 1593, 1596, 1597, 1599, 1600, 1602, 1606, 1608, 1609, 1610, 1614, 1615, 1617, 1619, 1622, 1623, 1625, 1626, 1629, 1630, 1633, 1636, 1637, 1640, 1641, 1643, 1645, 1661, 1663, 1664, 1674, 1675, 1677, 1679, 1681, 1682, 1684, 1686, 1687, 1692, 1694, 1697, 1698, 1699, 1700, 1707, 1708, 1710, 1711, 1716, 1717, 1719, 1720, 1721, 1724, 1725, 1729, 1730, 1731, 1733, 1736, 1737, 1738, 1746, 1748, 1749, 1751, 1754, 1757, 1758, 1759, 1760, 1761, 1762, 1763, 1764, 1767, 1771, 1774, 1776, 1777, 1778, 1782, 1783, 1787, 1801, 1803, 1804, 1807, 1808, 1809, 1812, 1813, 1814, 1815, 1816, 1817, 1818, 1819, 1822, 1827, 1828, 1831, 1832, 1833, 1834, 1835, 1839, 1841, 1842, 1843, 1844, 1848, 1849, 1850, 1854, 1856, 1857, 1858, 1859, 1869, 1870, 1872, 1873, 1874, 1877, 1880, 1882, 1890, 1894, 1898, 1905, 1906, 1910, 1912, 1913, 1914, 1915, 1916, 1918, 1921, 1922, 1923, 1925, 1929, 1930, 1931, 1933, 1937, 1939, 1942, 1943, 1945, 1949, 1950, 1952, 1954, 1955, 1958, 1959, 1964, 1965, 1967, 1974, 1977, 1978, 1979, 1980, 1981, 1982, 1989, 1990, 1991, 1993, 1994, 1995, 1996, 2002, 2003, 2009, 2010, 2014, 2016, 2020, 2022, 2033, 2036, 2038, 2039, 2043, 2047, 2050, 2052, 2053, 2054, 2057, 2058, 2062, 2063, 2064, 2067, 2068, 2069, 2070, 2074, 2081, 2082, 2084, 2087, 2088, 2089, 2096, 2100, 2104, 2105, 2106, 2108, 2110, 2114, 2115, 2118, 2119, 2120, 2124, 2125, 2126, 2130, 2131, 2132, 2136, 2138, 2141, 2143, 2149, 2150, 2152, 2154, 2158, 2159, 2161, 2164, 2165, 2174, 2176, 2183, 2184, 2186, 2190, 2192, 2194, 2196, 2197, 2202, 2203, 2204, 2205, 2209, 2210, 2211, 2212, 2213, 2215, 2216, 2217, 2220, 2221, 2222, 2225, 2228, 2229, 2231, 2232, 2237, 2243, 2248, 2249, 2250, 2251, 2256, 2257, 2260, 2262, 2264, 2266, 2271, 2275, 2276, 2279, 2282, 2284, 2292, 2298, 2299, 2302, 2309, 2313, 2319, 2322, 2323, 2325, 2327, 2328, 2331, 2333, 2335, 2336, 2337, 2340, 2341, 2345, 2350, 2352, 2354, 2356, 2358, 2359, 2360, 2362, 2364, 2365, 2369, 2370, 2374, 2380, 2381, 2387, 2388, 2389, 2391, 2395, 2397, 2399, 2401, 2404, 2408, 2409, 2410, 2411, 2412, 2415, 2420, 2426, 2429, 2432, 2434, 2437, 2438, 2440, 2441, 2445, 2446, 2447, 2450, 2455, 2460, 2464, 2467, 2469, 2472, 2476, 2479, 2481, 2482, 2485, 2488, 2489, 2491, 2495, 2496, 2497, 2498, 2500, 2503, 2505, 2506, 2507, 2508, 2510, 2513, 2514, 2518, 2519, 2520, 2521, 2523, 2527, 2531, 2537, 2540, 2541, 2542, 2543, 2545, 2546, 2547, 2549, 2550, 2552, 2553, 2554, 2559, 2564, 2565, 2566, 2567, 2570, 2575, 2580, 2584, 2585, 2586, 2587, 2588, 2591, 2601, 2606, 2610, 2612, 2614, 2615, 2618, 2619, 2622, 2623, 2624, 2632, 2634, 2643, 2646, 2648, 2652, 2653, 2654, 2656, 2657, 2659, 2661, 2662, 2665, 2666, 2668, 2675, 2682, 2684, 2685, 2694, 2695, 2697, 2698, 2700, 2701, 2702, 2704, 2706, 2712, 2713, 2714, 2715, 2716, 2723, 2726, 2729, 2730, 2731, 2733, 2735, 2736, 2738, 2741, 2742, 2753, 2755, 2756, 2761, 2763, 2765, 2768, 2769, 2771, 2775, 2777, 2782, 2784, 2787, 2789, 2791, 2793, 2796, 2802, 2809, 2813, 2815, 2816, 2819, 2820, 2821, 2826, 2831, 2832, 2833, 2834, 2836, 2837, 2838, 2840, 2842, 2849, 2850, 2856, 2857, 2858, 2861, 2864, 2865, 2867, 2868, 2870, 2871, 2877, 2885, 2886, 2888, 2892, 2894, 2895, 2896, 2897, 2899, 2902, 2903, 2909, 2919, 2922, 2928, 2931, 2932, 2939, 2946, 2948, 2950, 2955, 2956, 2964, 2966, 2970, 2973, 2975, 2976, 2980, 2984, 2985, 2990, 2991, 3000, 3003, 3005, 3006, 3009, 3011, 3014, 3015, 3016, 3021, 3024, 3027, 3029, 3031, 3033, 3035, 3036, 3039, 3041, 3042, 3044, 3050, 3053, 3054, 3056, 3057, 3059, 3061, 3062, 3064, 3065, 3066, 3068, 3070, 3072, 3077, 3079, 3083, 3094, 3095, 3099, 3109, 3111, 3115, 3119, 3123, 3124, 3127, 3130, 3131, 3132, 3135, 3136, 3144, 3145, 3148, 3150, 3156, 3160, 3166, 3168, 3169, 3170, 3171, 3178, 3182, 3184, 3185, 3188, 3189, 3194, 3196, 3197, 3203, 3205, 3206, 3209, 3212, 3213, 3218, 3220, 3224, 3228, 3232, 3234, 3236, 3242, 3243, 3244, 3245, 3246, 3248, 3252, 3259, 3261, 3263, 3264, 3265, 3270, 3278, 3279, 3285, 3294, 3295, 3296, 3299, 3301, 3309, 3316, 3319, 3321, 3322, 3324, 3326, 3328, 3333, 3336, 3338, 3340, 3343, 3344, 3347, 3351, 3353, 3357, 3359, 3362, 3363, 3366, 3371, 3374, 3375, 3376, 3389, 3393, 3396, 3397, 3409, 3412, 3414, 3417, 3419, 3422, 3427, 3428, 3431, 3433, 3435, 3444, 3446, 3447, 3448, 3449, 3451, 3453, 3454, 3460, 3462, 3465, 3477, 3485, 3488, 3489, 3493, 3497, 3498, 3499}, 'centroid': array([0.53260593, 0.03929313, 0.37146813]), 'changed': False}, 4: {'indices': {2048, 3, 2055, 2060, 2061, 15, 19, 27, 2076, 2075, 2077, 35, 2085, 37, 41, 2091, 44, 2094, 2092, 2097, 54, 58, 2107, 62, 2111, 2112, 2123, 76, 2135, 92, 2142, 98, 2148, 118, 2170, 123, 2172, 2175, 2188, 142, 2189, 145, 151, 2200, 155, 156, 2207, 2208, 165, 167, 2226, 185, 2234, 184, 2235, 2239, 195, 194, 2252, 204, 208, 210, 216, 218, 2267, 225, 2277, 229, 233, 2286, 237, 2293, 248, 2300, 2294, 2304, 257, 262, 266, 2315, 2324, 286, 287, 289, 294, 2343, 2351, 305, 2355, 309, 314, 317, 318, 2367, 327, 2377, 2379, 333, 2384, 337, 338, 340, 2392, 347, 2396, 349, 2398, 356, 358, 364, 367, 2416, 384, 397, 400, 405, 407, 81, 2457, 2459, 412, 2461, 2465, 2470, 2471, 423, 425, 2477, 2478, 2480, 436, 2486, 444, 445, 448, 449, 453, 455, 2504, 458, 461, 2517, 472, 475, 2529, 2532, 486, 2535, 487, 485, 503, 505, 507, 512, 517, 2573, 527, 532, 2581, 534, 2582, 536, 537, 2590, 545, 547, 549, 552, 553, 2602, 556, 560, 2613, 567, 2616, 569, 574, 2625, 2626, 583, 584, 2633, 2637, 2638, 590, 2642, 2655, 610, 611, 2660, 2664, 2672, 628, 2678, 632, 2681, 639, 640, 2687, 642, 2691, 644, 2692, 2693, 647, 648, 650, 649, 656, 659, 664, 666, 2717, 2718, 675, 674, 677, 2732, 687, 2737, 2739, 692, 2743, 695, 703, 704, 707, 2759, 713, 2770, 723, 2779, 733, 744, 749, 2798, 2801, 756, 778, 780, 790, 791, 793, 2845, 799, 2851, 802, 2848, 2862, 2866, 820, 2874, 2883, 838, 840, 2891, 844, 846, 2900, 855, 2907, 871, 873, 874, 875, 2934, 887, 889, 896, 897, 901, 908, 909, 914, 911, 915, 2965, 919, 922, 923, 2971, 926, 929, 932, 931, 2983, 941, 2995, 944, 2996, 952, 953, 3010, 3018, 3023, 976, 3025, 983, 986, 3038, 3043, 3045, 3052, 3071, 1025, 1027, 1028, 1032, 3084, 1037, 1038, 3093, 1054, 3104, 1057, 3114, 3108, 1069, 1073, 3122, 1076, 3126, 3128, 1089, 1092, 1096, 1106, 1109, 1111, 3158, 3162, 3164, 3163, 1127, 1130, 1133, 1148, 3204, 3200, 1158, 1155, 1161, 3211, 1165, 3217, 3222, 3225, 1185, 1186, 3230, 3229, 3235, 3237, 1192, 3239, 1196, 3240, 3255, 1210, 1219, 3268, 3273, 1227, 3275, 3277, 3283, 1233, 3284, 246, 1243, 3297, 3303, 3307, 1267, 3315, 3318, 3323, 1277, 3332, 1300, 3354, 1308, 1309, 1311, 1312, 1313, 1319, 1323, 3378, 3380, 1338, 3392, 1347, 3390, 1352, 3411, 3416, 3423, 1376, 1378, 1383, 1384, 1385, 3438, 1391, 3450, 1405, 3456, 3458, 1414, 3467, 3469, 3470, 1424, 3476, 1428, 1436, 3487, 3490, 1448, 3503, 1460, 1465, 1467, 1473, 1488, 1489, 1493, 1495, 1499, 1511, 1520, 1521, 1523, 1528, 1529, 1541, 1545, 1546, 1547, 1549, 1565, 1571, 1578, 1580, 1590, 1594, 1601, 1604, 1612, 1616, 1628, 1638, 1649, 1657, 330, 1665, 1669, 1680, 1691, 1732, 1743, 1753, 1755, 1756, 1765, 1766, 1769, 1770, 1772, 1786, 1789, 1793, 1795, 1796, 1799, 1824, 1862, 1876, 1878, 1881, 1884, 1886, 1889, 1891, 1895, 1903, 1908, 1917, 1924, 1948, 1975, 1988, 1997, 1998, 2012, 2015, 2027, 2030, 2034, 2040, 2041, 2044, 2045, 2046}, 'centroid': array([0.56319878, 0.24610149, 0.37628469]), 'changed': False}, 5: {'indices': {0, 32, 36, 46, 48, 59, 63, 74, 75, 85, 101, 102, 104, 112, 117, 122, 137, 138, 139, 143, 154, 160, 168, 170, 175, 179, 213, 240, 261, 274, 281, 285, 296, 298, 299, 313, 322, 326, 328, 362, 370, 379, 387, 401, 418, 420, 421, 432, 457, 480, 490, 506, 524, 541, 544, 554, 555, 581, 587, 603, 618, 630, 655, 679, 696, 701, 710, 729, 746, 748, 774, 776, 812, 842, 872, 927, 950, 990, 1068, 1080, 1102, 1110, 1139, 1146, 1201, 1208, 1222, 1230, 1238, 1240, 1250, 1254, 1257, 1271, 1276, 1283, 1295, 1336, 1371, 1438, 1443, 1454, 1485, 1512, 1603, 1620, 1627, 1632, 1639, 1650, 1653, 1656, 1660, 1667, 1704, 1709, 1742, 1747, 1784, 1825, 1893, 1900, 1938, 1951, 1956, 1963, 1987, 2007, 2049, 2079, 2098, 2113, 2116, 2117, 2185, 2272, 2278, 2285, 2290, 2297, 2321, 2347, 2349, 2361, 2366, 2393, 2413, 2414, 2427, 2449, 2451, 2456, 2475, 2499, 2512, 2530, 2548, 2558, 2578, 2604, 2636, 2673, 2690, 2719, 2724, 2805, 2818, 2860, 2869, 2887, 2918, 2920, 2930, 2954, 2978, 2979, 3004, 3013, 3034, 3048, 3085, 3087, 3107, 3113, 3176, 3183, 3210, 3231, 3233, 3241, 3254, 3281, 3287, 3293, 3302, 3304, 3320, 3327, 3335, 3369, 3370, 3386, 3400, 3406, 3410, 3415, 3418, 3424, 3432, 3434, 3442, 3455, 3461, 3463, 3466, 3472, 3473, 3474, 3478, 3479, 3502}, 'centroid': array([0.70734424, 0.50044596, 0.37673199]), 'changed': False}}\n"
     ]
    }
   ],
   "source": [
    "print(classes)"
   ]
  },
  {
   "cell_type": "code",
   "execution_count": 77,
   "metadata": {},
   "outputs": [
    {
     "data": {
      "text/html": [
       "<div>\n",
       "<style scoped>\n",
       "    .dataframe tbody tr th:only-of-type {\n",
       "        vertical-align: middle;\n",
       "    }\n",
       "\n",
       "    .dataframe tbody tr th {\n",
       "        vertical-align: top;\n",
       "    }\n",
       "\n",
       "    .dataframe thead th {\n",
       "        text-align: right;\n",
       "    }\n",
       "</style>\n",
       "<table border=\"1\" class=\"dataframe\">\n",
       "  <thead>\n",
       "    <tr style=\"text-align: right;\">\n",
       "      <th></th>\n",
       "      <th>age</th>\n",
       "      <th>cad.dur</th>\n",
       "      <th>choleste</th>\n",
       "    </tr>\n",
       "  </thead>\n",
       "  <tbody>\n",
       "    <tr>\n",
       "      <th>0</th>\n",
       "      <td>0.861538</td>\n",
       "      <td>0.317308</td>\n",
       "      <td>0.436929</td>\n",
       "    </tr>\n",
       "    <tr>\n",
       "      <th>1</th>\n",
       "      <td>0.784615</td>\n",
       "      <td>0.204327</td>\n",
       "      <td>0.166362</td>\n",
       "    </tr>\n",
       "    <tr>\n",
       "      <th>2</th>\n",
       "      <td>0.569231</td>\n",
       "      <td>0.108173</td>\n",
       "      <td>0.365631</td>\n",
       "    </tr>\n",
       "    <tr>\n",
       "      <th>3</th>\n",
       "      <td>0.630769</td>\n",
       "      <td>0.206731</td>\n",
       "      <td>0.394881</td>\n",
       "    </tr>\n",
       "    <tr>\n",
       "      <th>4</th>\n",
       "      <td>0.600000</td>\n",
       "      <td>0.016827</td>\n",
       "      <td>0.438757</td>\n",
       "    </tr>\n",
       "    <tr>\n",
       "      <th>5</th>\n",
       "      <td>0.723077</td>\n",
       "      <td>0.000000</td>\n",
       "      <td>0.365631</td>\n",
       "    </tr>\n",
       "    <tr>\n",
       "      <th>6</th>\n",
       "      <td>0.738462</td>\n",
       "      <td>0.182692</td>\n",
       "      <td>0.365631</td>\n",
       "    </tr>\n",
       "    <tr>\n",
       "      <th>7</th>\n",
       "      <td>0.369231</td>\n",
       "      <td>0.036058</td>\n",
       "      <td>0.398537</td>\n",
       "    </tr>\n",
       "    <tr>\n",
       "      <th>8</th>\n",
       "      <td>0.784615</td>\n",
       "      <td>0.072115</td>\n",
       "      <td>0.365631</td>\n",
       "    </tr>\n",
       "    <tr>\n",
       "      <th>9</th>\n",
       "      <td>0.538462</td>\n",
       "      <td>0.002404</td>\n",
       "      <td>0.365631</td>\n",
       "    </tr>\n",
       "  </tbody>\n",
       "</table>\n",
       "</div>"
      ],
      "text/plain": [
       "        age   cad.dur  choleste\n",
       "0  0.861538  0.317308  0.436929\n",
       "1  0.784615  0.204327  0.166362\n",
       "2  0.569231  0.108173  0.365631\n",
       "3  0.630769  0.206731  0.394881\n",
       "4  0.600000  0.016827  0.438757\n",
       "5  0.723077  0.000000  0.365631\n",
       "6  0.738462  0.182692  0.365631\n",
       "7  0.369231  0.036058  0.398537\n",
       "8  0.784615  0.072115  0.365631\n",
       "9  0.538462  0.002404  0.365631"
      ]
     },
     "execution_count": 77,
     "metadata": {},
     "output_type": "execute_result"
    }
   ],
   "source": [
    "num_norm_df.head(10)"
   ]
  },
  {
   "cell_type": "code",
   "execution_count": null,
   "metadata": {},
   "outputs": [],
   "source": []
  }
 ],
 "metadata": {
  "kernelspec": {
   "display_name": "Python 3",
   "language": "python",
   "name": "python3"
  },
  "language_info": {
   "codemirror_mode": {
    "name": "ipython",
    "version": 3
   },
   "file_extension": ".py",
   "mimetype": "text/x-python",
   "name": "python",
   "nbconvert_exporter": "python",
   "pygments_lexer": "ipython3",
   "version": "3.8.3"
  }
 },
 "nbformat": 4,
 "nbformat_minor": 5
}
