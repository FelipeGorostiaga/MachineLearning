{
 "cells": [
  {
   "cell_type": "markdown",
   "id": "elect-kuwait",
   "metadata": {},
   "source": [
    "## Ejercicio obligatorio\n",
    "### Advertising"
   ]
  },
  {
   "cell_type": "code",
   "execution_count": 55,
   "id": "hearing-appraisal",
   "metadata": {},
   "outputs": [
    {
     "data": {
      "text/html": [
       "<div>\n",
       "<style scoped>\n",
       "    .dataframe tbody tr th:only-of-type {\n",
       "        vertical-align: middle;\n",
       "    }\n",
       "\n",
       "    .dataframe tbody tr th {\n",
       "        vertical-align: top;\n",
       "    }\n",
       "\n",
       "    .dataframe thead th {\n",
       "        text-align: right;\n",
       "    }\n",
       "</style>\n",
       "<table border=\"1\" class=\"dataframe\">\n",
       "  <thead>\n",
       "    <tr style=\"text-align: right;\">\n",
       "      <th></th>\n",
       "      <th>TV</th>\n",
       "      <th>Radio</th>\n",
       "      <th>Newspaper</th>\n",
       "      <th>Sales</th>\n",
       "    </tr>\n",
       "  </thead>\n",
       "  <tbody>\n",
       "    <tr>\n",
       "      <th>0</th>\n",
       "      <td>230.1</td>\n",
       "      <td>37.8</td>\n",
       "      <td>69.2</td>\n",
       "      <td>22.1</td>\n",
       "    </tr>\n",
       "    <tr>\n",
       "      <th>1</th>\n",
       "      <td>44.5</td>\n",
       "      <td>39.3</td>\n",
       "      <td>45.1</td>\n",
       "      <td>10.4</td>\n",
       "    </tr>\n",
       "    <tr>\n",
       "      <th>2</th>\n",
       "      <td>17.2</td>\n",
       "      <td>45.9</td>\n",
       "      <td>69.3</td>\n",
       "      <td>9.3</td>\n",
       "    </tr>\n",
       "    <tr>\n",
       "      <th>3</th>\n",
       "      <td>151.5</td>\n",
       "      <td>41.3</td>\n",
       "      <td>58.5</td>\n",
       "      <td>18.5</td>\n",
       "    </tr>\n",
       "    <tr>\n",
       "      <th>4</th>\n",
       "      <td>180.8</td>\n",
       "      <td>10.8</td>\n",
       "      <td>58.4</td>\n",
       "      <td>12.9</td>\n",
       "    </tr>\n",
       "  </tbody>\n",
       "</table>\n",
       "</div>"
      ],
      "text/plain": [
       "      TV  Radio  Newspaper  Sales\n",
       "0  230.1   37.8       69.2   22.1\n",
       "1   44.5   39.3       45.1   10.4\n",
       "2   17.2   45.9       69.3    9.3\n",
       "3  151.5   41.3       58.5   18.5\n",
       "4  180.8   10.8       58.4   12.9"
      ]
     },
     "execution_count": 55,
     "metadata": {},
     "output_type": "execute_result"
    }
   ],
   "source": [
    "import pandas as pd\n",
    "import numpy as np\n",
    "\n",
    "# import file\n",
    "df = pd.read_csv('../../res/tp4/Advertising.csv', sep=',')  # 200 rows\n",
    "df = df[['TV', 'Radio', 'Newspaper', 'Sales']]\n",
    "column_count = len(list(df))\n",
    "\n",
    "df.head()"
   ]
  },
  {
   "cell_type": "code",
   "execution_count": 56,
   "id": "figured-boring",
   "metadata": {},
   "outputs": [
    {
     "name": "stdout",
     "output_type": "stream",
     "text": [
      "[[366704.7571875   3475.659       5269.49275    17431.9121875]\n",
      " [  3475.659      10966.2802      5696.2247      2220.6255   ]\n",
      " [  5269.49275     5696.2247     23596.8392      1290.58425  ]\n",
      " [ 17431.9121875   2220.6255      1290.58425     1354.2871875]]\n"
     ]
    }
   ],
   "source": [
    "means = df.mean()\n",
    "covariance = np.zeros((column_count, column_count))\n",
    "\n",
    "def calc_sum(col1, col2):\n",
    "    return sum(map(lambda tupl: (tupl[1][col1] - means[col1]) * (tupl[1][col2] - means[col2]), df.iterrows()))\n",
    "\n",
    "for i, col1 in enumerate(list(df)):\n",
    "    for k, col2 in enumerate(list(df)):\n",
    "        if i > k:\n",
    "            continue\n",
    "        s_ik = 1 / column_count * calc_sum(col1, col2)\n",
    "        covariance[i][k] = covariance[k][i] = s_ik\n",
    "\n",
    "print(covariance)"
   ]
  },
  {
   "cell_type": "code",
   "execution_count": 57,
   "id": "smooth-induction",
   "metadata": {},
   "outputs": [
    {
     "data": {
      "text/plain": [
       "<AxesSubplot:>"
      ]
     },
     "execution_count": 57,
     "metadata": {},
     "output_type": "execute_result"
    },
    {
     "data": {
      "image/png": "[encoded data removed]",
      "text/plain": [
       "<Figure size 432x288 with 2 Axes>"
      ]
     },
     "metadata": {
      "needs_background": "light"
     },
     "output_type": "display_data"
    }
   ],
   "source": [
    "import math\n",
    "import seaborn as sns\n",
    "\n",
    "correlation = np.zeros((column_count, column_count))\n",
    "\n",
    "for i, col1 in enumerate(list(df)):\n",
    "    for k, col2 in enumerate(list(df)):\n",
    "        if i > k:\n",
    "            continue\n",
    "        s_ik = covariance[i][k]\n",
    "        s_ii = covariance[i][i]\n",
    "        s_kk = covariance[k][k]\n",
    "        correlation[i][k] = correlation[k][i] = s_ik / (math.sqrt(s_ii) * math.sqrt(s_kk))\n",
    "\n",
    "labels = list(df)\n",
    "sns.heatmap(correlation, annot=True, cmap='Blues', xticklabels=labels, yticklabels=labels)"
   ]
  },
  {
   "cell_type": "code",
   "execution_count": 58,
   "id": "compressed-exercise",
   "metadata": {},
   "outputs": [
    {
     "name": "stdout",
     "output_type": "stream",
     "text": [
      "{'TV': (7.032593549127704, 0.04753664043301969), 'Radio': (9.311638095158287, 0.20249578339243954), 'Newspaper': (12.351407069278162, 0.05469309847227332)}\n"
     ]
    }
   ],
   "source": [
    "def simple_regression(col_of_interest, other_col):\n",
    "    \"\"\"Params:\n",
    "    col_of_interest: Y\n",
    "    other_col: X\n",
    "    \"\"\"\n",
    "    num = calc_sum(col_of_interest, other_col)\n",
    "    denom = calc_sum(other_col, other_col)\n",
    "    beta_1 = num / denom\n",
    "    beta_0 = means[col_of_interest] - beta_1 * means[other_col]\n",
    "    return beta_0, beta_1\n",
    "\n",
    "Y = 'Sales'\n",
    "simple_regressions = {}\n",
    "for col in list(df):\n",
    "    if col == Y:\n",
    "        continue\n",
    "    simple_regressions[col] = simple_regression(Y, col)\n",
    "\n",
    "print(simple_regressions)"
   ]
  },
  {
   "cell_type": "code",
   "execution_count": 63,
   "id": "dying-hacker",
   "metadata": {},
   "outputs": [
    {
     "name": "stdout",
     "output_type": "stream",
     "text": [
      "Error para regresión lineal simple de (TV, Sales): 2102.5305831313517\n",
      "Valor del estadistico t de student: 17.667625600875528\n",
      "\n",
      "\n",
      "Error para regresión lineal simple de (Radio, Sales): 3618.4795490250863\n",
      "Valor del estadistico t de student: 9.920765472824955\n",
      "\n",
      "\n",
      "Error para regresión lineal simple de (Newspaper, Sales): 5134.804544111939\n",
      "Valor del estadistico t de student: 3.2995907436334173\n",
      "\n",
      "\n",
      "Para TV: el p-value es <.00001, mucho menor a 0.05. Se rechaza H0\n",
      "Para Radio: el p-value es <.00001, mucho menor a 0.05. Se rechaza H0\n",
      "Para Newspaper: el p-value es .000574., menor a 0.05. Se rechaza H0\n"
     ]
    }
   ],
   "source": [
    "\n",
    "for col, betas in simple_regressions.items():\n",
    "    error = 0\n",
    "    x_mean = df[col].mean()\n",
    "    se_denom = 0\n",
    "    for index in range(len(df)):\n",
    "        x = df.iloc[index][col] \n",
    "        y = df.iloc[index]['Sales']\n",
    "        y_est = betas[0] + betas[1] * x\n",
    "        error += (y - y_est) ** 2\n",
    "        se_denom += (x - x_mean) ** 2\n",
    "    sigma_est = math.sqrt(error / (len(df) - 2))\n",
    "    SE = sigma_est / math.sqrt(se_denom)\n",
    "    t_stat = betas[1] / SE\n",
    "    print(f'Error para regresión lineal simple de ({col}, {Y}): {error}')\n",
    "    print(f'Valor del estadistico t de student: {t_stat}')\n",
    "    print('\\n')\n",
    "    \n",
    "print(f'Para TV: el p-value es <.00001, mucho menor a 0.05. Se rechaza H0')\n",
    "print(f'Para Radio: el p-value es <.00001, mucho menor a 0.05. Se rechaza H0')\n",
    "print(f'Para Newspaper: el p-value es .000574., menor a 0.05. Se rechaza H0')"
   ]
  },
  {
   "cell_type": "code",
   "execution_count": 60,
   "id": "executive-conditions",
   "metadata": {},
   "outputs": [
    {
     "data": {
      "image/png": "[encoded data removed]",
      "text/plain": [
       "<Figure size 432x288 with 1 Axes>"
      ]
     },
     "metadata": {
      "needs_background": "light"
     },
     "output_type": "display_data"
    },
    {
     "data": {
      "image/png": "[encoded data removed]",
      "text/plain": [
       "<Figure size 432x288 with 1 Axes>"
      ]
     },
     "metadata": {
      "needs_background": "light"
     },
     "output_type": "display_data"
    },
    {
     "data": {
      "image/png": "[encoded data removed]",
      "text/plain": [
       "<Figure size 432x288 with 1 Axes>"
      ]
     },
     "metadata": {
      "needs_background": "light"
     },
     "output_type": "display_data"
    }
   ],
   "source": [
    "import matplotlib.pyplot as plt\n",
    "\n",
    "for col, betas in simple_regressions.items():\n",
    "    fig, ax = plt.subplots()\n",
    "    ax.scatter(list(df[col]), list(df[Y]))\n",
    "    yi = betas[0]\n",
    "    yf = betas[0] + betas[1] * ax.get_xlim()[1]\n",
    "    plt.axline((0,yi), (ax.get_xlim()[1], yf), color='Black', alpha=0.5)\n",
    "    plt.title(f'Regresión lineal simple ({col}, {Y})')\n"
   ]
  },
  {
   "cell_type": "code",
   "execution_count": 7,
   "id": "popular-snake",
   "metadata": {},
   "outputs": [
    {
     "data": {
      "text/html": [
       "<div>\n",
       "<style scoped>\n",
       "    .dataframe tbody tr th:only-of-type {\n",
       "        vertical-align: middle;\n",
       "    }\n",
       "\n",
       "    .dataframe tbody tr th {\n",
       "        vertical-align: top;\n",
       "    }\n",
       "\n",
       "    .dataframe thead th {\n",
       "        text-align: right;\n",
       "    }\n",
       "</style>\n",
       "<table border=\"1\" class=\"dataframe\">\n",
       "  <thead>\n",
       "    <tr style=\"text-align: right;\">\n",
       "      <th></th>\n",
       "      <th>X0</th>\n",
       "      <th>TV</th>\n",
       "      <th>Radio</th>\n",
       "      <th>Newspaper</th>\n",
       "    </tr>\n",
       "  </thead>\n",
       "  <tbody>\n",
       "    <tr>\n",
       "      <th>0</th>\n",
       "      <td>1</td>\n",
       "      <td>230.1</td>\n",
       "      <td>37.8</td>\n",
       "      <td>69.2</td>\n",
       "    </tr>\n",
       "    <tr>\n",
       "      <th>1</th>\n",
       "      <td>1</td>\n",
       "      <td>44.5</td>\n",
       "      <td>39.3</td>\n",
       "      <td>45.1</td>\n",
       "    </tr>\n",
       "    <tr>\n",
       "      <th>2</th>\n",
       "      <td>1</td>\n",
       "      <td>17.2</td>\n",
       "      <td>45.9</td>\n",
       "      <td>69.3</td>\n",
       "    </tr>\n",
       "    <tr>\n",
       "      <th>3</th>\n",
       "      <td>1</td>\n",
       "      <td>151.5</td>\n",
       "      <td>41.3</td>\n",
       "      <td>58.5</td>\n",
       "    </tr>\n",
       "    <tr>\n",
       "      <th>4</th>\n",
       "      <td>1</td>\n",
       "      <td>180.8</td>\n",
       "      <td>10.8</td>\n",
       "      <td>58.4</td>\n",
       "    </tr>\n",
       "  </tbody>\n",
       "</table>\n",
       "</div>"
      ],
      "text/plain": [
       "   X0     TV  Radio  Newspaper\n",
       "0   1  230.1   37.8       69.2\n",
       "1   1   44.5   39.3       45.1\n",
       "2   1   17.2   45.9       69.3\n",
       "3   1  151.5   41.3       58.5\n",
       "4   1  180.8   10.8       58.4"
      ]
     },
     "execution_count": 7,
     "metadata": {},
     "output_type": "execute_result"
    }
   ],
   "source": [
    "X = df[['TV', 'Radio', 'Newspaper']]\n",
    "X.insert(0, 'X0', 1)\n",
    "X.head()"
   ]
  },
  {
   "cell_type": "code",
   "execution_count": 8,
   "id": "concerned-vinyl",
   "metadata": {},
   "outputs": [
    {
     "data": {
      "text/plain": [
       "0    22.1\n",
       "1    10.4\n",
       "2     9.3\n",
       "3    18.5\n",
       "4    12.9\n",
       "Name: Sales, dtype: float64"
      ]
     },
     "execution_count": 8,
     "metadata": {},
     "output_type": "execute_result"
    }
   ],
   "source": [
    "Y = df['Sales']\n",
    "Y.head()"
   ]
  },
  {
   "cell_type": "code",
   "execution_count": 47,
   "id": "endless-jerusalem",
   "metadata": {},
   "outputs": [
    {
     "name": "stdout",
     "output_type": "stream",
     "text": [
      "X0           2.938889\n",
      "TV           0.045765\n",
      "Radio        0.188530\n",
      "Newspaper   -0.001037\n",
      "dtype: float64\n"
     ]
    }
   ],
   "source": [
    "XtX = X.transpose().dot(X)\n",
    "XtXinv = pd.DataFrame(np.linalg.pinv(XtX.values), columns=XtX.columns, index=XtX.index)\n",
    "betas = XtXinv.dot(X.transpose()).dot(Y)\n",
    "\n",
    "print(betas)"
   ]
  },
  {
   "cell_type": "code",
   "execution_count": 52,
   "id": "controlled-ebony",
   "metadata": {},
   "outputs": [
    {
     "name": "stdout",
     "output_type": "stream",
     "text": [
      "TSS para regresion lineal multiple: 5417.148749999997\n",
      "RSS para regresión lineal múltiple: 556.8252629021873\n",
      "Valor del estadistico F: 570.2707036590938\n"
     ]
    }
   ],
   "source": [
    "# Realizar el diagnostico del modelo\n",
    "RSS = 0\n",
    "TSS = 0\n",
    "residuals = []\n",
    "y_mean = df['Sales'].mean()\n",
    "for index in range(len(df)):\n",
    "    y = df.iloc[index]['Sales']\n",
    "    y_est = X.iloc[index].dot(betas)\n",
    "    RSS += (y - y_est) ** 2\n",
    "    TSS += (y - y_mean) ** 2\n",
    "    residuals.append(y - y_est)\n",
    "    \n",
    "F = ((TSS - RSS) / (column_count - 1)) / (RSS / (len(df) - (column_count - 1) - 1))\n",
    "print(f'TSS para regresion lineal multiple: {TSS}')\n",
    "print(f'RSS para regresión lineal múltiple: {RSS}')\n",
    "print(f'Valor del estadistico F: {F}')"
   ]
  },
  {
   "cell_type": "code",
   "execution_count": 49,
   "id": "secondary-stanley",
   "metadata": {},
   "outputs": [
    {
     "data": {
      "image/png": "[encoded data removed]",
      "text/plain": [
       "<Figure size 432x288 with 1 Axes>"
      ]
     },
     "metadata": {
      "needs_background": "light"
     },
     "output_type": "display_data"
    }
   ],
   "source": [
    "import scipy.stats as stats\n",
    "\n",
    "sigma_est = math.sqrt(1 / (len(df) - (column_count - 1) - 1 ) * RSS)\n",
    "\n",
    "plt.hist(residuals, bins='auto', rwidth=0.85, density=True)\n",
    "plt.grid(axis='y', alpha=0.75)\n",
    "\n",
    "mu = 0\n",
    "x = np.linspace(mu - 3 * sigma_est, mu + 3 * sigma_est, 100)\n",
    "plt.plot(x, stats.norm.pdf(x, mu, sigma_est))\n",
    "plt.xlabel('residuals')\n",
    "plt.ylabel('density')\n",
    "# ver si se acota el eje x\n",
    "plt.title('Distribución Empírica y Teórica')\n",
    "plt.show()"
   ]
  },
  {
   "cell_type": "code",
   "execution_count": 40,
   "id": "decreased-control",
   "metadata": {},
   "outputs": [],
   "source": [
    "# Dividir el conjunto en train y test y calcular las metricas de confusion, accuracy, precision y recall\n",
    "from sklearn.model_selection import train_test_split\n",
    "\n",
    "train, test = train_test_split(df, test_size=0.2)\n"
   ]
  },
  {
   "cell_type": "code",
   "execution_count": null,
   "id": "scenic-infrared",
   "metadata": {},
   "outputs": [],
   "source": []
  }
 ],
 "metadata": {
  "kernelspec": {
   "display_name": "Python 3",
   "language": "python",
   "name": "python3"
  },
  "language_info": {
   "codemirror_mode": {
    "name": "ipython",
    "version": 3
   },
   "file_extension": ".py",
   "mimetype": "text/x-python",
   "name": "python",
   "nbconvert_exporter": "python",
   "pygments_lexer": "ipython3",
   "version": "3.7.2"
  }
 },
 "nbformat": 4,
 "nbformat_minor": 5
}
