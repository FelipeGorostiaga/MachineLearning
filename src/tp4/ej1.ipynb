{
 "cells": [
  {
   "cell_type": "markdown",
   "id": "e12a5f2a-81e4-45cb-b11f-e0061eddedeb",
   "metadata": {},
   "source": [
    "## Ejercicio obligatorio\n",
    "### Advertising"
   ]
  },
  {
   "cell_type": "code",
   "execution_count": 7,
   "id": "b7186a4f-9283-47c6-b126-804f6559d383",
   "metadata": {},
   "outputs": [
    {
     "data": {
      "text/html": [
       "<div>\n",
       "<style scoped>\n",
       "    .dataframe tbody tr th:only-of-type {\n",
       "        vertical-align: middle;\n",
       "    }\n",
       "\n",
       "    .dataframe tbody tr th {\n",
       "        vertical-align: top;\n",
       "    }\n",
       "\n",
       "    .dataframe thead th {\n",
       "        text-align: right;\n",
       "    }\n",
       "</style>\n",
       "<table border=\"1\" class=\"dataframe\">\n",
       "  <thead>\n",
       "    <tr style=\"text-align: right;\">\n",
       "      <th></th>\n",
       "      <th>TV</th>\n",
       "      <th>Radio</th>\n",
       "      <th>Newspaper</th>\n",
       "      <th>Sales</th>\n",
       "    </tr>\n",
       "  </thead>\n",
       "  <tbody>\n",
       "    <tr>\n",
       "      <th>0</th>\n",
       "      <td>230.1</td>\n",
       "      <td>37.8</td>\n",
       "      <td>69.2</td>\n",
       "      <td>22.1</td>\n",
       "    </tr>\n",
       "    <tr>\n",
       "      <th>1</th>\n",
       "      <td>44.5</td>\n",
       "      <td>39.3</td>\n",
       "      <td>45.1</td>\n",
       "      <td>10.4</td>\n",
       "    </tr>\n",
       "    <tr>\n",
       "      <th>2</th>\n",
       "      <td>17.2</td>\n",
       "      <td>45.9</td>\n",
       "      <td>69.3</td>\n",
       "      <td>9.3</td>\n",
       "    </tr>\n",
       "    <tr>\n",
       "      <th>3</th>\n",
       "      <td>151.5</td>\n",
       "      <td>41.3</td>\n",
       "      <td>58.5</td>\n",
       "      <td>18.5</td>\n",
       "    </tr>\n",
       "    <tr>\n",
       "      <th>4</th>\n",
       "      <td>180.8</td>\n",
       "      <td>10.8</td>\n",
       "      <td>58.4</td>\n",
       "      <td>12.9</td>\n",
       "    </tr>\n",
       "  </tbody>\n",
       "</table>\n",
       "</div>"
      ],
      "text/plain": [
       "      TV  Radio  Newspaper  Sales\n",
       "0  230.1   37.8       69.2   22.1\n",
       "1   44.5   39.3       45.1   10.4\n",
       "2   17.2   45.9       69.3    9.3\n",
       "3  151.5   41.3       58.5   18.5\n",
       "4  180.8   10.8       58.4   12.9"
      ]
     },
     "execution_count": 7,
     "metadata": {},
     "output_type": "execute_result"
    }
   ],
   "source": [
    "import pandas as pd\n",
    "import numpy as np\n",
    "\n",
    "# import file\n",
    "df = pd.read_csv('../../res/tp4/Advertising.csv', sep=',')  # 200 rows\n",
    "df = df[['TV', 'Radio', 'Newspaper', 'Sales']]\n",
    "column_count = len(list(df))\n",
    "\n",
    "df.head()"
   ]
  },
  {
   "cell_type": "code",
   "execution_count": 13,
   "id": "b7c5f962-70d2-4f62-9a41-2effe72f31bc",
   "metadata": {},
   "outputs": [
    {
     "name": "stdout",
     "output_type": "stream",
     "text": [
      "[[366704.7571875   3475.659       5269.49275    17431.9121875]\n",
      " [  3475.659      10966.2802      5696.2247      2220.6255   ]\n",
      " [  5269.49275     5696.2247     23596.8392      1290.58425  ]\n",
      " [ 17431.9121875   2220.6255      1290.58425     1354.2871875]]\n"
     ]
    }
   ],
   "source": [
    "means = df.mean()\n",
    "covariance = np.zeros((column_count, column_count))\n",
    "\n",
    "def calc_sum(col1, col2):\n",
    "    return sum(map(lambda tupl: (tupl[1][col1] - means[col1]) * (tupl[1][col2] - means[col2]), df.iterrows()))\n",
    "\n",
    "for i, col1 in enumerate(list(df)):\n",
    "    for k, col2 in enumerate(list(df)):\n",
    "        if i > k:\n",
    "            continue\n",
    "        s_ik = 1 / column_count * calc_sum(col1, col2)\n",
    "        covariance[i][k] = covariance[k][i] = s_ik\n",
    "\n",
    "print(covariance)"
   ]
  },
  {
   "cell_type": "code",
   "execution_count": 14,
   "id": "54951ee9-33d0-4310-a685-ec7cf33e188b",
   "metadata": {},
   "outputs": [
    {
     "name": "stdout",
     "output_type": "stream",
     "text": [
      "[[1.         0.05480866 0.05664787 0.78222442]\n",
      " [0.05480866 1.         0.35410375 0.57622257]\n",
      " [0.05664787 0.35410375 1.         0.22829903]\n",
      " [0.78222442 0.57622257 0.22829903 1.        ]]\n"
     ]
    }
   ],
   "source": [
    "import math\n",
    "\n",
    "correlation = np.zeros((column_count, column_count))\n",
    "\n",
    "for i, col1 in enumerate(list(df)):\n",
    "    for k, col2 in enumerate(list(df)):\n",
    "        if i > k:\n",
    "            continue\n",
    "        s_ik = covariance[i][k]\n",
    "        s_ii = covariance[i][i]\n",
    "        s_kk = covariance[k][k]\n",
    "        correlation[i][k] = correlation[k][i] = s_ik / (math.sqrt(s_ii) * math.sqrt(s_kk))\n",
    "\n",
    "print(correlation)"
   ]
  },
  {
   "cell_type": "code",
   "execution_count": null,
   "id": "bdc89b77-419b-4d11-abbe-53063de1efa4",
   "metadata": {},
   "outputs": [],
   "source": []
  }
 ],
 "metadata": {
  "kernelspec": {
   "display_name": "Python 3",
   "language": "python",
   "name": "python3"
  },
  "language_info": {
   "codemirror_mode": {
    "name": "ipython",
    "version": 3
   },
   "file_extension": ".py",
   "mimetype": "text/x-python",
   "name": "python",
   "nbconvert_exporter": "python",
   "pygments_lexer": "ipython3",
   "version": "3.8.9"
  }
 },
 "nbformat": 4,
 "nbformat_minor": 5
}
